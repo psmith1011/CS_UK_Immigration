{
 "cells": [
  {
   "cell_type": "markdown",
   "id": "c323c9f5-73a0-484f-8e34-7b7c3828fcd2",
   "metadata": {},
   "source": [
    "# Capstone Project: UK Immigration/Asylum Analysis (2001-2023)"
   ]
  },
  {
   "cell_type": "markdown",
   "id": "aea8a247-e69e-48bc-91af-26b75d3c2395",
   "metadata": {},
   "source": [
    "## Book 4: Advanced Modelling"
   ]
  },
  {
   "cell_type": "markdown",
   "id": "b1f1b97f-943a-40ff-b957-0acaedea8784",
   "metadata": {},
   "source": [
    "Author: Patrick Smith\n",
    "\n",
    "Date: 09/04/2024\n",
    "\n",
    "Contact: patrick.b.smith@gmail.com"
   ]
  },
  {
   "cell_type": "markdown",
   "id": "c08363fb-d781-4117-a32b-a55a9d24f615",
   "metadata": {},
   "source": [
    "## Description of Variables "
   ]
  },
  {
   "cell_type": "markdown",
   "id": "87973646-6129-4acb-b0e5-f17bbc77ea24",
   "metadata": {},
   "source": [
    "| Column                         | Descriptor                                                                 | Datatype |\n",
    "|--------------------------------|----------------------------------------------------------------------------|----------|\n",
    "| Year                           | The period in which the event occurred.                                    | int32    |\n",
    "| Quarter                        | Quarter of the year (Q1=1, Q2=2, Q3=3, Q4=4).                              | object   |\n",
    "| Nationality                    | Nationality of the individual.                                             | object   |\n",
    "| Age                            | Age of the individual at the time of the event.                             | object   |\n",
    "| Sex                            | Gender of the individual (male, female, other/unknown).                     | int32    |\n",
    "| Return destination group       | Grouped destination country for return (Home country, EU, Other country).   | object   |\n",
    "| Return destination             | Specific destination country for return.                                    | object   |\n",
    "| Applicant type                 | Type of applicant (main applicant, dependant).                             | object   |\n",
    "| Case outcome                   | Outcome of the case (granted, refused, withdrawn, resettlement).             | object   |\n",
    "| Decisions                      | Number of decisions made.                                                   | float64  |\n",
    "| Occupation                     | Occupation of the individual.                                              | object   |\n",
    "| Industry                       | Industry sector for which the application to work was made.                 | object   |\n",
    "| Occ. major group               | Major group classification of the occupation.                              | object   |\n",
    "| Occ. sub-major group           | Sub-major group classification of the occupation.                          | object   |\n",
    "| Occ. minor group               | Minor group classification of the occupation.                              | object   |\n",
    "| Occ. unit group                | Unit group classification of the occupation.                               | object   |\n",
    "| Sex_Male                       | Dummy variable for male (1 if male, 0 otherwise).                          | object   |\n",
    "| Sex_Female                     | Dummy variable for female (1 if female, 0 otherwise).                      | object   |\n",
    "| Sex_Other                      | Dummy variable for other or NA (1 if other/unknown, 0 otherwise).          | object   |\n",
    "| General Region                 | Consolidated Region                                                        | object   |"
   ]
  },
  {
   "cell_type": "markdown",
   "id": "73005cf7-d80f-47c3-8eba-91e21454a2a9",
   "metadata": {},
   "source": [
    "## Table of Contents - Book 3\n",
    "\n",
    "[Preprocessing: Case Outcome](#Case_Outcome) \n",
    "\n",
    "[Preprocessing: Visa Outcome](#Visa_Outcomes) \n",
    "\n",
    "[Preprocessing: Age](#Age) \n",
    "\n",
    "[Baseline Modelling](#B_Model)\n"
   ]
  },
  {
   "cell_type": "markdown",
   "id": "3e59fdd4-e419-4ca9-878d-5fdaeba7e040",
   "metadata": {},
   "source": [
    "## Data Loading\n",
    "\n",
    "<div id='Load'></div>"
   ]
  },
  {
   "cell_type": "code",
   "execution_count": 10,
   "id": "12275949-363a-442b-9ca2-4eac19a03504",
   "metadata": {},
   "outputs": [],
   "source": [
    "import pandas as pd\n",
    "import os\n",
    "import numpy as np\n",
    "import matplotlib.pyplot as plt\n",
    "from sklearn.linear_model import LogisticRegression\n",
    "from sklearn.feature_extraction.text import CountVectorizer\n",
    "import warnings\n",
    "import seaborn as sns\n",
    "warnings.filterwarnings('ignore')"
   ]
  },
  {
   "cell_type": "code",
   "execution_count": 2,
   "id": "6fd520bd-c2e2-4fdb-8779-67b6ba51c38b",
   "metadata": {},
   "outputs": [],
   "source": [
    "#see max columns\n",
    "pd.options.display.max_columns = None"
   ]
  },
  {
   "cell_type": "code",
   "execution_count": 11,
   "id": "b5b6d81f-dbc0-4da7-adc7-7b43020cf0d5",
   "metadata": {},
   "outputs": [],
   "source": [
    "file_path = r'C:\\Users\\kamik\\Downloads\\df_model.csv'\n",
    "\n",
    "df_model = pd.read_csv(file_path, low_memory=False)"
   ]
  },
  {
   "cell_type": "markdown",
   "id": "edb84996-e4be-4dc7-9286-258108d8c065",
   "metadata": {},
   "source": [
    "## Next Objective\n",
    "\n",
    "1) Pre-Processing\n",
    "2) Focus on dependent variable, case outcome\n",
    "3) Further improve data quality by imputation\n",
    "4) Begin baseline modelling\n",
    "5) Split the data into train and test sets\n",
    "6) Try several different simplier models to get started\n",
    "7) Plots and univariate and bivariate distribution\n",
    "8) Initial insights and conclusions to shareholders"
   ]
  },
  {
   "cell_type": "code",
   "execution_count": 4,
   "id": "1fd0e7df-d81c-4270-a404-dff75b1fdd31",
   "metadata": {},
   "outputs": [],
   "source": [
    "#Decision trees - finding question points towards impurities\n",
    "#metrics eval - check agianst other models\n",
    "#random forest after decision trees - ensamble learning\n"
   ]
  },
  {
   "cell_type": "code",
   "execution_count": 5,
   "id": "1e47dbed-c735-4990-949d-28c6be73748d",
   "metadata": {},
   "outputs": [
    {
     "data": {
      "text/html": [
       "<div>\n",
       "<style scoped>\n",
       "    .dataframe tbody tr th:only-of-type {\n",
       "        vertical-align: middle;\n",
       "    }\n",
       "\n",
       "    .dataframe tbody tr th {\n",
       "        vertical-align: top;\n",
       "    }\n",
       "\n",
       "    .dataframe thead th {\n",
       "        text-align: right;\n",
       "    }\n",
       "</style>\n",
       "<table border=\"1\" class=\"dataframe\">\n",
       "  <thead>\n",
       "    <tr style=\"text-align: right;\">\n",
       "      <th></th>\n",
       "      <th>Year</th>\n",
       "      <th>Quarter</th>\n",
       "      <th>Nationality</th>\n",
       "      <th>Region</th>\n",
       "      <th>Age</th>\n",
       "      <th>Sex</th>\n",
       "      <th>Case outcome</th>\n",
       "      <th>Decisions</th>\n",
       "      <th>Occupation</th>\n",
       "      <th>Industry</th>\n",
       "      <th>General_Region</th>\n",
       "    </tr>\n",
       "  </thead>\n",
       "  <tbody>\n",
       "    <tr>\n",
       "      <th>0</th>\n",
       "      <td>2001</td>\n",
       "      <td>1</td>\n",
       "      <td>Afghanistan</td>\n",
       "      <td>Asia Central</td>\n",
       "      <td>Unknown</td>\n",
       "      <td>3</td>\n",
       "      <td>Asylum Case</td>\n",
       "      <td>2652.0</td>\n",
       "      <td>Non-Work Visa Related Case Outcome</td>\n",
       "      <td>Non-Work Visa Related Case Outcome</td>\n",
       "      <td>Asia</td>\n",
       "    </tr>\n",
       "    <tr>\n",
       "      <th>1</th>\n",
       "      <td>2001</td>\n",
       "      <td>1</td>\n",
       "      <td>Afghanistan</td>\n",
       "      <td>Asia Central</td>\n",
       "      <td>Unknown</td>\n",
       "      <td>3</td>\n",
       "      <td>Asylum Case</td>\n",
       "      <td>809.0</td>\n",
       "      <td>Non-Work Visa Related Case Outcome</td>\n",
       "      <td>Non-Work Visa Related Case Outcome</td>\n",
       "      <td>Asia</td>\n",
       "    </tr>\n",
       "    <tr>\n",
       "      <th>2</th>\n",
       "      <td>2001</td>\n",
       "      <td>1</td>\n",
       "      <td>Afghanistan</td>\n",
       "      <td>Asia Central</td>\n",
       "      <td>Unknown</td>\n",
       "      <td>3</td>\n",
       "      <td>Asylum Case</td>\n",
       "      <td>15.0</td>\n",
       "      <td>Non-Work Visa Related Case Outcome</td>\n",
       "      <td>Non-Work Visa Related Case Outcome</td>\n",
       "      <td>Asia</td>\n",
       "    </tr>\n",
       "    <tr>\n",
       "      <th>3</th>\n",
       "      <td>2001</td>\n",
       "      <td>1</td>\n",
       "      <td>Afghanistan</td>\n",
       "      <td>Asia Central</td>\n",
       "      <td>Unknown</td>\n",
       "      <td>3</td>\n",
       "      <td>Asylum Case</td>\n",
       "      <td>88.0</td>\n",
       "      <td>Non-Work Visa Related Case Outcome</td>\n",
       "      <td>Non-Work Visa Related Case Outcome</td>\n",
       "      <td>Asia</td>\n",
       "    </tr>\n",
       "    <tr>\n",
       "      <th>4</th>\n",
       "      <td>2001</td>\n",
       "      <td>1</td>\n",
       "      <td>Afghanistan</td>\n",
       "      <td>Asia Central</td>\n",
       "      <td>Unknown</td>\n",
       "      <td>3</td>\n",
       "      <td>Asylum Case</td>\n",
       "      <td>609.0</td>\n",
       "      <td>Non-Work Visa Related Case Outcome</td>\n",
       "      <td>Non-Work Visa Related Case Outcome</td>\n",
       "      <td>Asia</td>\n",
       "    </tr>\n",
       "  </tbody>\n",
       "</table>\n",
       "</div>"
      ],
      "text/plain": [
       "   Year  Quarter  Nationality        Region      Age  Sex Case outcome  \\\n",
       "0  2001        1  Afghanistan  Asia Central  Unknown    3  Asylum Case   \n",
       "1  2001        1  Afghanistan  Asia Central  Unknown    3  Asylum Case   \n",
       "2  2001        1  Afghanistan  Asia Central  Unknown    3  Asylum Case   \n",
       "3  2001        1  Afghanistan  Asia Central  Unknown    3  Asylum Case   \n",
       "4  2001        1  Afghanistan  Asia Central  Unknown    3  Asylum Case   \n",
       "\n",
       "   Decisions                          Occupation  \\\n",
       "0     2652.0  Non-Work Visa Related Case Outcome   \n",
       "1      809.0  Non-Work Visa Related Case Outcome   \n",
       "2       15.0  Non-Work Visa Related Case Outcome   \n",
       "3       88.0  Non-Work Visa Related Case Outcome   \n",
       "4      609.0  Non-Work Visa Related Case Outcome   \n",
       "\n",
       "                             Industry General_Region  \n",
       "0  Non-Work Visa Related Case Outcome           Asia  \n",
       "1  Non-Work Visa Related Case Outcome           Asia  \n",
       "2  Non-Work Visa Related Case Outcome           Asia  \n",
       "3  Non-Work Visa Related Case Outcome           Asia  \n",
       "4  Non-Work Visa Related Case Outcome           Asia  "
      ]
     },
     "execution_count": 5,
     "metadata": {},
     "output_type": "execute_result"
    }
   ],
   "source": [
    "df_model.head()"
   ]
  },
  {
   "cell_type": "code",
   "execution_count": 12,
   "id": "008b44ee-187d-4eb9-ab8d-c3b7834fb3bf",
   "metadata": {},
   "outputs": [
    {
     "data": {
      "text/plain": [
       "384995"
      ]
     },
     "execution_count": 12,
     "metadata": {},
     "output_type": "execute_result"
    }
   ],
   "source": [
    "df_model.duplicated().sum()"
   ]
  },
  {
   "cell_type": "code",
   "execution_count": 14,
   "id": "66bfb820-333e-4cff-a011-68235e036150",
   "metadata": {},
   "outputs": [
    {
     "name": "stdout",
     "output_type": "stream",
     "text": [
      "We have 916384 rows and 11 columns with string, floats and integers in our clean data.\n"
     ]
    }
   ],
   "source": [
    "df_model = df_model.drop_duplicates()\n",
    "\n",
    "print(f\"We have {df_model.shape[0]} rows and {df_model.shape[1]} columns with string, floats and integers in our clean data.\")"
   ]
  },
  {
   "cell_type": "code",
   "execution_count": 15,
   "id": "f9480af5-d79e-43e1-a0eb-17025972d989",
   "metadata": {},
   "outputs": [
    {
     "name": "stdout",
     "output_type": "stream",
     "text": [
      "<class 'pandas.core.frame.DataFrame'>\n",
      "Index: 916384 entries, 0 to 1301378\n",
      "Data columns (total 11 columns):\n",
      " #   Column          Non-Null Count   Dtype  \n",
      "---  ------          --------------   -----  \n",
      " 0   Year            916384 non-null  int64  \n",
      " 1   Quarter         916384 non-null  int64  \n",
      " 2   Nationality     916384 non-null  object \n",
      " 3   Region          916384 non-null  object \n",
      " 4   Age             916384 non-null  object \n",
      " 5   Sex             916384 non-null  int64  \n",
      " 6   Case outcome    916384 non-null  object \n",
      " 7   Decisions       916384 non-null  float64\n",
      " 8   Occupation      916384 non-null  object \n",
      " 9   Industry        916384 non-null  object \n",
      " 10  General_Region  916384 non-null  object \n",
      "dtypes: float64(1), int64(3), object(7)\n",
      "memory usage: 83.9+ MB\n"
     ]
    }
   ],
   "source": [
    "df_model.info()"
   ]
  },
  {
   "cell_type": "markdown",
   "id": "6b3ed426-5546-4363-b11c-1c9a618e56af",
   "metadata": {},
   "source": [
    "Making a df without nationality and occupation in case we need to. Unnecesary clutter. "
   ]
  },
  {
   "cell_type": "code",
   "execution_count": 17,
   "id": "b290e3ff-fae0-4407-bc6f-f3fefe76951e",
   "metadata": {},
   "outputs": [],
   "source": [
    "df_reduced = df_model.drop(['Nationality', 'Occupation'], axis=1)"
   ]
  },
  {
   "cell_type": "code",
   "execution_count": 18,
   "id": "1db4ecf6-fcaf-4e2d-94a0-193f4efd78f1",
   "metadata": {},
   "outputs": [
    {
     "data": {
      "text/plain": [
       "566351"
      ]
     },
     "execution_count": 18,
     "metadata": {},
     "output_type": "execute_result"
    }
   ],
   "source": [
    "df_reduced.duplicated().sum()"
   ]
  },
  {
   "cell_type": "code",
   "execution_count": 19,
   "id": "9e3434b2-228d-43ab-9465-f130acac8ae3",
   "metadata": {},
   "outputs": [
    {
     "name": "stdout",
     "output_type": "stream",
     "text": [
      "We have 350033 rows and 9 columns with string, floats and integers in our clean data for our df_reduced.\n"
     ]
    }
   ],
   "source": [
    "df_reduced = df_reduced.drop_duplicates()\n",
    "\n",
    "print(f\"We have {df_reduced.shape[0]} rows and {df_reduced.shape[1]} columns with string, floats and integers in our clean data for our df_reduced.\")"
   ]
  },
  {
   "cell_type": "code",
   "execution_count": null,
   "id": "6d78067a-a2a0-4a51-9206-a48e1bc06c0e",
   "metadata": {},
   "outputs": [],
   "source": []
  },
  {
   "cell_type": "markdown",
   "id": "61113737-15d2-4b37-a906-1f97113cf452",
   "metadata": {},
   "source": [
    "df_reduced is 38% of df_model. good to know for encoding purposes"
   ]
  },
  {
   "cell_type": "markdown",
   "id": "d854ab81-0dbb-4f92-ac55-685275703862",
   "metadata": {},
   "source": [
    "Let's also make a numeric_df to extract all the integers and floats\n",
    "\n",
    "This is because many other rows are categorical and objects"
   ]
  },
  {
   "cell_type": "markdown",
   "id": "62e13648-8b1b-4f48-b263-20da0571e538",
   "metadata": {},
   "source": [
    "Now we're focused on Advanced modelling\n",
    "\n",
    "We will:\n",
    "\n",
    "1) Prepare the data\n",
    "2) Spilt the data to training and testing sets\n",
    "3) Initialize the model \n",
    "4) Fit the model\n",
    "5) Evaluate"
   ]
  },
  {
   "cell_type": "code",
   "execution_count": null,
   "id": "d78dd108-2127-4fdb-9bd7-2b1ada2f523e",
   "metadata": {},
   "outputs": [],
   "source": [
    "#Decision trees - finding question points towards impurities\n",
    "#metrics eval - check agianst other models\n",
    "#random forest after decision trees - ensamble learning\n"
   ]
  },
  {
   "cell_type": "code",
   "execution_count": 23,
   "id": "f5f9f7e2-deae-4ca5-a47f-33a46f7a13f3",
   "metadata": {},
   "outputs": [],
   "source": [
    "from sklearn.preprocessing import OneHotEncoder, StandardScaler\n",
    "from sklearn.model_selection import train_test_split\n",
    "from sklearn.tree import DecisionTreeClassifier\n",
    "from sklearn.metrics import accuracy_score, classification_report\n",
    "import pandas as pd\n",
    "import numpy as np\n",
    "import matplotlib.pyplot as plt\n",
    "%matplotlib inline\n",
    "\n",
    "# Assuming model_df is defined and contains your data\n",
    "\n",
    "# Adjusted feature selection\n",
    "features = ['Year', 'Quarter', 'General_Region', 'Decisions', 'Age', 'Sex']\n",
    "target = 'Case outcome'"
   ]
  },
  {
   "cell_type": "code",
   "execution_count": 27,
   "id": "3cc6b28f-ea38-4e89-96f0-322a48807c4b",
   "metadata": {},
   "outputs": [
    {
     "data": {
      "image/png": "[encoded data removed]",
      "text/plain": [
       "<Figure size 1500x1000 with 2 Axes>"
      ]
     },
     "metadata": {},
     "output_type": "display_data"
    }
   ],
   "source": [
    "from sklearn.preprocessing import StandardScaler\n",
    "import numpy as np\n",
    "\n",
    "# Assuming X_train and X_test are already defined and contain both numerical and categorical data\n",
    "\n",
    "# Initialize the StandardScaler\n",
    "scaler = StandardScaler()\n",
    "\n",
    "# Fit on training set and transform both training and testing set for numerical features\n",
    "X_train_scaled_numerical = scaler.fit_transform(X_train[numerical_features])\n",
    "X_test_scaled_numerical = scaler.transform(X_test[numerical_features])\n",
    "\n",
    "# Since we cannot directly replace the scaled numerical data back into X_train and X_test (which may contain categorical data as well),\n",
    "# let's reconstruct X_train_scaled and X_test_scaled with both scaled numerical data and original categorical data\n",
    "\n",
    "# For simplicity, and to match your initial code, we'll only use scaled numerical data assuming that's your intent for the model training\n",
    "X_train_scaled = X_train_scaled_numerical\n",
    "X_test_scaled = X_test_scaled_numerical\n",
    "\n",
    "# Now, let's proceed with the rest of your code for training and evaluating Decision Tree classifiers\n",
    "# with both the unscaled and scaled datasets\n",
    "\n",
    "# Initialize lists to store accuracies for unscaled data\n",
    "train_accs = []\n",
    "test_accs = []\n",
    "\n",
    "# Initialize lists to store accuracies for scaled data\n",
    "train_accs_s = []\n",
    "test_accs_s = []\n",
    "\n",
    "depth_values = list(range(1, 15))\n",
    "\n",
    "# Loop over different max_depths for unscaled data\n",
    "for d in depth_values:\n",
    "    dt_unscaled = DecisionTreeClassifier(max_depth=d)\n",
    "    dt_unscaled.fit(X_train, y_train)\n",
    "\n",
    "    # Evaluate on train & test data (unscaled)\n",
    "    train_accs.append(dt_unscaled.score(X_train, y_train))\n",
    "    test_accs.append(dt_unscaled.score(X_test, y_test))\n",
    "\n",
    "# Loop over different max_depths for scaled data\n",
    "for d in depth_values:\n",
    "    dt_scaled = DecisionTreeClassifier(max_depth=d)\n",
    "    dt_scaled.fit(X_train_scaled, y_train)  # Using scaled data here\n",
    "\n",
    "    # Evaluate on train & test data (scaled)\n",
    "    train_accs_s.append(dt_scaled.score(X_train_scaled, y_train))\n",
    "    test_accs_s.append(dt_scaled.score(X_test_scaled, y_test))\n",
    "\n",
    "# Plotting\n",
    "plt.figure(figsize=(15, 10))\n",
    "\n",
    "# Plot for unscaled classifier results\n",
    "plt.subplot(211)\n",
    "plt.plot(depth_values, train_accs, label='Train (Unscaled)')\n",
    "plt.plot(depth_values, test_accs, label='Test (Unscaled)')\n",
    "plt.legend()\n",
    "plt.xlabel('Max Depth')\n",
    "plt.ylabel('Accuracy')\n",
    "plt.title('Decision Tree Accuracy with Unscaled Data')\n",
    "\n",
    "# Plot for scaled classifier results\n",
    "plt.subplot(212)\n",
    "plt.plot(depth_values, train_accs_s, label='Train (Scaled)')\n",
    "plt.plot(depth_values, test_accs_s, label='Test (Scaled)')\n",
    "plt.legend()\n",
    "plt.xlabel('Max Depth')\n",
    "plt.ylabel('Accuracy')\n",
    "plt.title('Decision Tree Accuracy with Scaled Data')\n",
    "\n",
    "plt.tight_layout()\n",
    "plt.show()\n"
   ]
  },
  {
   "cell_type": "markdown",
   "id": "2f29257b-7b5b-47d0-8011-8bb9465c0b40",
   "metadata": {},
   "source": [
    "In this case, the transformation could even obscure patterns in the case of poorly scaled features.\n",
    "\n",
    "scaling might be unnecessary and might even slightly hinder the model"
   ]
  },
  {
   "cell_type": "markdown",
   "id": "8139cbe1-12b1-4e00-b7fa-d9d11e65891b",
   "metadata": {},
   "source": [
    "Let's try a regression model"
   ]
  },
  {
   "cell_type": "code",
   "execution_count": 29,
   "id": "32f4595f-6ec3-4db4-8795-1e4fb267e6d0",
   "metadata": {},
   "outputs": [
    {
     "name": "stdout",
     "output_type": "stream",
     "text": [
      "Accuracy: 0.679768874435963\n",
      "                        precision    recall  f1-score   support\n",
      "\n",
      "           Asylum Case       0.52      0.40      0.45     12063\n",
      "    Family Visa Issued       0.27      0.40      0.32     17164\n",
      "                Issued       0.87      0.68      0.76      3978\n",
      "               Refused       0.72      0.87      0.79      9509\n",
      "Settlement Visa Issued       0.07      0.02      0.03      4792\n",
      "   Sponsored Work Visa       0.71      0.79      0.74     54016\n",
      "     Study Visa Issued       0.98      1.00      0.99     15018\n",
      " Temporary Visa Issued       0.79      0.73      0.76     58084\n",
      "   Visitor Visa Issued       0.48      0.25      0.33      8653\n",
      "\n",
      "              accuracy                           0.68    183277\n",
      "             macro avg       0.60      0.57      0.57    183277\n",
      "          weighted avg       0.68      0.68      0.67    183277\n",
      "\n"
     ]
    }
   ],
   "source": [
    "from sklearn.compose import ColumnTransformer\n",
    "from sklearn.preprocessing import StandardScaler, OneHotEncoder\n",
    "from sklearn.pipeline import Pipeline\n",
    "from sklearn.tree import DecisionTreeClassifier\n",
    "from sklearn.model_selection import train_test_split\n",
    "from sklearn.metrics import accuracy_score, classification_report\n",
    "import pandas as pd\n",
    "\n",
    "# Assuming df_model is your DataFrame\n",
    "features = ['Year', 'Quarter', 'General_Region', 'Decisions', 'Age', 'Sex']\n",
    "target = 'Case outcome'\n",
    "\n",
    "X = df_model[features]\n",
    "y = df_model[target]\n",
    "\n",
    "# Define the preprocessing for numerical and categorical features\n",
    "preprocessor = ColumnTransformer(\n",
    "    transformers=[\n",
    "        ('num', StandardScaler(), ['Year', 'Quarter', 'Decisions']),  # Numerical features\n",
    "        ('cat', OneHotEncoder(handle_unknown='ignore'), ['General_Region', 'Age', 'Sex'])  # Categorical features\n",
    "    ])\n",
    "\n",
    "# Split the data into training and testing sets\n",
    "X_train, X_test, y_train, y_test = train_test_split(X, y, test_size=0.2, random_state=42)\n",
    "\n",
    "# Create a pipeline that includes the preprocessor and the DecisionTreeClassifier\n",
    "pipeline = Pipeline(steps=[\n",
    "    ('preprocessor', preprocessor),\n",
    "    ('classifier', DecisionTreeClassifier(random_state=42))\n",
    "])\n",
    "\n",
    "# Train the pipeline on the training data\n",
    "pipeline.fit(X_train, y_train)\n",
    "\n",
    "# Make predictions on the test data\n",
    "y_pred = pipeline.predict(X_test)\n",
    "\n",
    "# Evaluate the model\n",
    "accuracy = accuracy_score(y_test, y_pred)\n",
    "print(\"Accuracy:\", accuracy)\n",
    "print(classification_report(y_test, y_pred))\n"
   ]
  },
  {
   "cell_type": "code",
   "execution_count": null,
   "id": "ad6bead4-a2fc-4e8c-bb7f-d4d919d2141c",
   "metadata": {},
   "outputs": [],
   "source": []
  },
  {
   "cell_type": "markdown",
   "id": "d9261ebc-ee23-41da-ac69-9a8838f8a8a3",
   "metadata": {},
   "source": [
    "DecisionTreeClassifier is a great way to fine-tune your model by searching through a predefined grid of hyperparameters. This approach will help you identify the best combination of parameters for your model based on the specified scoring metric, which in this case is f1_weighted. This scoring metric is particularly useful for imbalanced classes because it weights the F1 score of each class by the number of true instances, then takes the average."
   ]
  },
  {
   "cell_type": "code",
   "execution_count": 31,
   "id": "15a4308f-e7e0-4f07-947a-f7ca514aecde",
   "metadata": {},
   "outputs": [
    {
     "name": "stdout",
     "output_type": "stream",
     "text": [
      "Best parameters found: {'classifier__class_weight': None, 'classifier__max_depth': 20, 'classifier__min_samples_split': 10}\n",
      "Best F1 weighted score found: 0.6914662757384709\n"
     ]
    }
   ],
   "source": [
    "from sklearn.model_selection import GridSearchCV\n",
    "\n",
    "# Assuming 'pipeline' is already defined as shown in your previous snippets\n",
    "# and it includes a DecisionTreeClassifier named 'classifier' in its steps\n",
    "\n",
    "param_grid = {\n",
    "    'classifier__max_depth': [10, 20, 30, None],  # Max depth of the tree\n",
    "    'classifier__min_samples_split': [2, 5, 10],  # Minimum number of samples required to split an internal node\n",
    "    'classifier__class_weight': [None, 'balanced']  # Weights associated with classes. 'Balanced' mode uses the values of y to automatically adjust weights inversely proportional to class frequencies\n",
    "}\n",
    "\n",
    "# Create a GridSearchCV object. Note: Depending on the version of scikit-learn, 'f1_weighted' might need to be changed to 'f1_weighted_average'\n",
    "grid_search = GridSearchCV(pipeline, param_grid, cv=5, scoring='f1_weighted')\n",
    "\n",
    "# Fit the grid search to the data\n",
    "grid_search.fit(X_train, y_train)\n",
    "\n",
    "# Print the best parameters and the best score\n",
    "print(\"Best parameters found:\", grid_search.best_params_)\n",
    "print(\"Best F1 weighted score found:\", grid_search.best_score_)\n"
   ]
  },
  {
   "cell_type": "code",
   "execution_count": 32,
   "id": "bac17cbc-55e5-422d-b196-726384f15348",
   "metadata": {},
   "outputs": [
    {
     "name": "stdout",
     "output_type": "stream",
     "text": [
      "Fitting 5 folds for each of 10 candidates, totalling 50 fits\n"
     ]
    },
    {
     "ename": "ValueError",
     "evalue": "\nAll the 50 fits failed.\nIt is very likely that your model is misconfigured.\nYou can try to debug the error by setting error_score='raise'.\n\nBelow are more details about the failures:\n--------------------------------------------------------------------------------\n50 fits failed with the following error:\nTraceback (most recent call last):\n  File \"C:\\Users\\kamik\\anaconda3\\Lib\\site-packages\\sklearn\\model_selection\\_validation.py\", line 686, in _fit_and_score\n    estimator.fit(X_train, y_train, **fit_params)\n  File \"C:\\Users\\kamik\\anaconda3\\Lib\\site-packages\\sklearn\\pipeline.py\", line 401, in fit\n    Xt = self._fit(X, y, **fit_params_steps)\n         ^^^^^^^^^^^^^^^^^^^^^^^^^^^^^^^^^^^\n  File \"C:\\Users\\kamik\\anaconda3\\Lib\\site-packages\\sklearn\\pipeline.py\", line 359, in _fit\n    X, fitted_transformer = fit_transform_one_cached(\n                            ^^^^^^^^^^^^^^^^^^^^^^^^^\n  File \"C:\\Users\\kamik\\anaconda3\\Lib\\site-packages\\joblib\\memory.py\", line 594, in __call__\n    return self._cached_call(args, kwargs)[0]\n           ^^^^^^^^^^^^^^^^^^^^^^^^^^^^^^^\n  File \"C:\\Users\\kamik\\anaconda3\\Lib\\site-packages\\joblib\\memory.py\", line 537, in _cached_call\n    out, metadata = self.call(*args, **kwargs)\n                    ^^^^^^^^^^^^^^^^^^^^^^^^^^\n  File \"C:\\Users\\kamik\\anaconda3\\Lib\\site-packages\\joblib\\memory.py\", line 779, in call\n    output = self.func(*args, **kwargs)\n             ^^^^^^^^^^^^^^^^^^^^^^^^^^\n  File \"C:\\Users\\kamik\\anaconda3\\Lib\\site-packages\\sklearn\\pipeline.py\", line 893, in _fit_transform_one\n    res = transformer.fit_transform(X, y, **fit_params)\n          ^^^^^^^^^^^^^^^^^^^^^^^^^^^^^^^^^^^^^^^^^^^^^\n  File \"C:\\Users\\kamik\\anaconda3\\Lib\\site-packages\\sklearn\\utils\\_set_output.py\", line 140, in wrapped\n    data_to_wrap = f(self, X, *args, **kwargs)\n                   ^^^^^^^^^^^^^^^^^^^^^^^^^^^\n  File \"C:\\Users\\kamik\\anaconda3\\Lib\\site-packages\\sklearn\\base.py\", line 881, in fit_transform\n    return self.fit(X, y, **fit_params).transform(X)\n           ^^^^^^^^^^^^^^^^^^^^^^^^^^^^\n  File \"C:\\Users\\kamik\\anaconda3\\Lib\\site-packages\\sklearn\\preprocessing\\_data.py\", line 824, in fit\n    return self.partial_fit(X, y, sample_weight)\n           ^^^^^^^^^^^^^^^^^^^^^^^^^^^^^^^^^^^^^\n  File \"C:\\Users\\kamik\\anaconda3\\Lib\\site-packages\\sklearn\\preprocessing\\_data.py\", line 861, in partial_fit\n    X = self._validate_data(\n        ^^^^^^^^^^^^^^^^^^^^\n  File \"C:\\Users\\kamik\\anaconda3\\Lib\\site-packages\\sklearn\\base.py\", line 565, in _validate_data\n    X = check_array(X, input_name=\"X\", **check_params)\n        ^^^^^^^^^^^^^^^^^^^^^^^^^^^^^^^^^^^^^^^^^^^^^^\n  File \"C:\\Users\\kamik\\anaconda3\\Lib\\site-packages\\sklearn\\utils\\validation.py\", line 879, in check_array\n    array = _asarray_with_order(array, order=order, dtype=dtype, xp=xp)\n            ^^^^^^^^^^^^^^^^^^^^^^^^^^^^^^^^^^^^^^^^^^^^^^^^^^^^^^^^^^^\n  File \"C:\\Users\\kamik\\anaconda3\\Lib\\site-packages\\sklearn\\utils\\_array_api.py\", line 185, in _asarray_with_order\n    array = numpy.asarray(array, order=order, dtype=dtype)\n            ^^^^^^^^^^^^^^^^^^^^^^^^^^^^^^^^^^^^^^^^^^^^^^\n  File \"C:\\Users\\kamik\\anaconda3\\Lib\\site-packages\\pandas\\core\\generic.py\", line 2084, in __array__\n    arr = np.asarray(values, dtype=dtype)\n          ^^^^^^^^^^^^^^^^^^^^^^^^^^^^^^^\nValueError: could not convert string to float: 'Africa'\n",
     "output_type": "error",
     "traceback": [
      "\u001b[1;31m---------------------------------------------------------------------------\u001b[0m",
      "\u001b[1;31mValueError\u001b[0m                                Traceback (most recent call last)",
      "Cell \u001b[1;32mIn[32], line 46\u001b[0m\n\u001b[0;32m     30\u001b[0m param_distributions \u001b[38;5;241m=\u001b[39m {\n\u001b[0;32m     31\u001b[0m     \u001b[38;5;124m'\u001b[39m\u001b[38;5;124mdt__max_depth\u001b[39m\u001b[38;5;124m'\u001b[39m: [\u001b[38;5;28;01mNone\u001b[39;00m, \u001b[38;5;241m10\u001b[39m, \u001b[38;5;241m20\u001b[39m],\n\u001b[0;32m     32\u001b[0m     \u001b[38;5;124m'\u001b[39m\u001b[38;5;124mdt__min_samples_leaf\u001b[39m\u001b[38;5;124m'\u001b[39m: [\u001b[38;5;241m1\u001b[39m, \u001b[38;5;241m5\u001b[39m, \u001b[38;5;241m10\u001b[39m],\n\u001b[0;32m     33\u001b[0m     \u001b[38;5;124m'\u001b[39m\u001b[38;5;124mdt__min_samples_split\u001b[39m\u001b[38;5;124m'\u001b[39m: [\u001b[38;5;241m2\u001b[39m, \u001b[38;5;241m10\u001b[39m, \u001b[38;5;241m20\u001b[39m]\n\u001b[0;32m     34\u001b[0m }\n\u001b[0;32m     36\u001b[0m random_search \u001b[38;5;241m=\u001b[39m RandomizedSearchCV(\n\u001b[0;32m     37\u001b[0m     estimator\u001b[38;5;241m=\u001b[39mpipeline,\n\u001b[0;32m     38\u001b[0m     param_distributions\u001b[38;5;241m=\u001b[39mparam_distributions,\n\u001b[1;32m   (...)\u001b[0m\n\u001b[0;32m     43\u001b[0m     verbose\u001b[38;5;241m=\u001b[39m\u001b[38;5;241m3\u001b[39m\n\u001b[0;32m     44\u001b[0m )\n\u001b[1;32m---> 46\u001b[0m random_search\u001b[38;5;241m.\u001b[39mfit(X_train, y_train)\n\u001b[0;32m     48\u001b[0m \u001b[38;5;28mprint\u001b[39m(\u001b[38;5;124m\"\u001b[39m\u001b[38;5;124mBest Parameters:\u001b[39m\u001b[38;5;124m\"\u001b[39m, random_search\u001b[38;5;241m.\u001b[39mbest_params_)\n\u001b[0;32m     49\u001b[0m \u001b[38;5;28mprint\u001b[39m(\u001b[38;5;124m\"\u001b[39m\u001b[38;5;124mBest CV Score:\u001b[39m\u001b[38;5;124m\"\u001b[39m, random_search\u001b[38;5;241m.\u001b[39mbest_score_)\n",
      "File \u001b[1;32m~\\anaconda3\\Lib\\site-packages\\sklearn\\model_selection\\_search.py:874\u001b[0m, in \u001b[0;36mBaseSearchCV.fit\u001b[1;34m(self, X, y, groups, **fit_params)\u001b[0m\n\u001b[0;32m    868\u001b[0m     results \u001b[38;5;241m=\u001b[39m \u001b[38;5;28mself\u001b[39m\u001b[38;5;241m.\u001b[39m_format_results(\n\u001b[0;32m    869\u001b[0m         all_candidate_params, n_splits, all_out, all_more_results\n\u001b[0;32m    870\u001b[0m     )\n\u001b[0;32m    872\u001b[0m     \u001b[38;5;28;01mreturn\u001b[39;00m results\n\u001b[1;32m--> 874\u001b[0m \u001b[38;5;28mself\u001b[39m\u001b[38;5;241m.\u001b[39m_run_search(evaluate_candidates)\n\u001b[0;32m    876\u001b[0m \u001b[38;5;66;03m# multimetric is determined here because in the case of a callable\u001b[39;00m\n\u001b[0;32m    877\u001b[0m \u001b[38;5;66;03m# self.scoring the return type is only known after calling\u001b[39;00m\n\u001b[0;32m    878\u001b[0m first_test_score \u001b[38;5;241m=\u001b[39m all_out[\u001b[38;5;241m0\u001b[39m][\u001b[38;5;124m\"\u001b[39m\u001b[38;5;124mtest_scores\u001b[39m\u001b[38;5;124m\"\u001b[39m]\n",
      "File \u001b[1;32m~\\anaconda3\\Lib\\site-packages\\sklearn\\model_selection\\_search.py:1768\u001b[0m, in \u001b[0;36mRandomizedSearchCV._run_search\u001b[1;34m(self, evaluate_candidates)\u001b[0m\n\u001b[0;32m   1766\u001b[0m \u001b[38;5;28;01mdef\u001b[39;00m \u001b[38;5;21m_run_search\u001b[39m(\u001b[38;5;28mself\u001b[39m, evaluate_candidates):\n\u001b[0;32m   1767\u001b[0m \u001b[38;5;250m    \u001b[39m\u001b[38;5;124;03m\"\"\"Search n_iter candidates from param_distributions\"\"\"\u001b[39;00m\n\u001b[1;32m-> 1768\u001b[0m     evaluate_candidates(\n\u001b[0;32m   1769\u001b[0m         ParameterSampler(\n\u001b[0;32m   1770\u001b[0m             \u001b[38;5;28mself\u001b[39m\u001b[38;5;241m.\u001b[39mparam_distributions, \u001b[38;5;28mself\u001b[39m\u001b[38;5;241m.\u001b[39mn_iter, random_state\u001b[38;5;241m=\u001b[39m\u001b[38;5;28mself\u001b[39m\u001b[38;5;241m.\u001b[39mrandom_state\n\u001b[0;32m   1771\u001b[0m         )\n\u001b[0;32m   1772\u001b[0m     )\n",
      "File \u001b[1;32m~\\anaconda3\\Lib\\site-packages\\sklearn\\model_selection\\_search.py:851\u001b[0m, in \u001b[0;36mBaseSearchCV.fit.<locals>.evaluate_candidates\u001b[1;34m(candidate_params, cv, more_results)\u001b[0m\n\u001b[0;32m    844\u001b[0m \u001b[38;5;28;01melif\u001b[39;00m \u001b[38;5;28mlen\u001b[39m(out) \u001b[38;5;241m!=\u001b[39m n_candidates \u001b[38;5;241m*\u001b[39m n_splits:\n\u001b[0;32m    845\u001b[0m     \u001b[38;5;28;01mraise\u001b[39;00m \u001b[38;5;167;01mValueError\u001b[39;00m(\n\u001b[0;32m    846\u001b[0m         \u001b[38;5;124m\"\u001b[39m\u001b[38;5;124mcv.split and cv.get_n_splits returned \u001b[39m\u001b[38;5;124m\"\u001b[39m\n\u001b[0;32m    847\u001b[0m         \u001b[38;5;124m\"\u001b[39m\u001b[38;5;124minconsistent results. Expected \u001b[39m\u001b[38;5;132;01m{}\u001b[39;00m\u001b[38;5;124m \u001b[39m\u001b[38;5;124m\"\u001b[39m\n\u001b[0;32m    848\u001b[0m         \u001b[38;5;124m\"\u001b[39m\u001b[38;5;124msplits, got \u001b[39m\u001b[38;5;132;01m{}\u001b[39;00m\u001b[38;5;124m\"\u001b[39m\u001b[38;5;241m.\u001b[39mformat(n_splits, \u001b[38;5;28mlen\u001b[39m(out) \u001b[38;5;241m/\u001b[39m\u001b[38;5;241m/\u001b[39m n_candidates)\n\u001b[0;32m    849\u001b[0m     )\n\u001b[1;32m--> 851\u001b[0m _warn_or_raise_about_fit_failures(out, \u001b[38;5;28mself\u001b[39m\u001b[38;5;241m.\u001b[39merror_score)\n\u001b[0;32m    853\u001b[0m \u001b[38;5;66;03m# For callable self.scoring, the return type is only know after\u001b[39;00m\n\u001b[0;32m    854\u001b[0m \u001b[38;5;66;03m# calling. If the return type is a dictionary, the error scores\u001b[39;00m\n\u001b[0;32m    855\u001b[0m \u001b[38;5;66;03m# can now be inserted with the correct key. The type checking\u001b[39;00m\n\u001b[0;32m    856\u001b[0m \u001b[38;5;66;03m# of out will be done in `_insert_error_scores`.\u001b[39;00m\n\u001b[0;32m    857\u001b[0m \u001b[38;5;28;01mif\u001b[39;00m \u001b[38;5;28mcallable\u001b[39m(\u001b[38;5;28mself\u001b[39m\u001b[38;5;241m.\u001b[39mscoring):\n",
      "File \u001b[1;32m~\\anaconda3\\Lib\\site-packages\\sklearn\\model_selection\\_validation.py:367\u001b[0m, in \u001b[0;36m_warn_or_raise_about_fit_failures\u001b[1;34m(results, error_score)\u001b[0m\n\u001b[0;32m    360\u001b[0m \u001b[38;5;28;01mif\u001b[39;00m num_failed_fits \u001b[38;5;241m==\u001b[39m num_fits:\n\u001b[0;32m    361\u001b[0m     all_fits_failed_message \u001b[38;5;241m=\u001b[39m (\n\u001b[0;32m    362\u001b[0m         \u001b[38;5;124mf\u001b[39m\u001b[38;5;124m\"\u001b[39m\u001b[38;5;130;01m\\n\u001b[39;00m\u001b[38;5;124mAll the \u001b[39m\u001b[38;5;132;01m{\u001b[39;00mnum_fits\u001b[38;5;132;01m}\u001b[39;00m\u001b[38;5;124m fits failed.\u001b[39m\u001b[38;5;130;01m\\n\u001b[39;00m\u001b[38;5;124m\"\u001b[39m\n\u001b[0;32m    363\u001b[0m         \u001b[38;5;124m\"\u001b[39m\u001b[38;5;124mIt is very likely that your model is misconfigured.\u001b[39m\u001b[38;5;130;01m\\n\u001b[39;00m\u001b[38;5;124m\"\u001b[39m\n\u001b[0;32m    364\u001b[0m         \u001b[38;5;124m\"\u001b[39m\u001b[38;5;124mYou can try to debug the error by setting error_score=\u001b[39m\u001b[38;5;124m'\u001b[39m\u001b[38;5;124mraise\u001b[39m\u001b[38;5;124m'\u001b[39m\u001b[38;5;124m.\u001b[39m\u001b[38;5;130;01m\\n\u001b[39;00m\u001b[38;5;130;01m\\n\u001b[39;00m\u001b[38;5;124m\"\u001b[39m\n\u001b[0;32m    365\u001b[0m         \u001b[38;5;124mf\u001b[39m\u001b[38;5;124m\"\u001b[39m\u001b[38;5;124mBelow are more details about the failures:\u001b[39m\u001b[38;5;130;01m\\n\u001b[39;00m\u001b[38;5;132;01m{\u001b[39;00mfit_errors_summary\u001b[38;5;132;01m}\u001b[39;00m\u001b[38;5;124m\"\u001b[39m\n\u001b[0;32m    366\u001b[0m     )\n\u001b[1;32m--> 367\u001b[0m     \u001b[38;5;28;01mraise\u001b[39;00m \u001b[38;5;167;01mValueError\u001b[39;00m(all_fits_failed_message)\n\u001b[0;32m    369\u001b[0m \u001b[38;5;28;01melse\u001b[39;00m:\n\u001b[0;32m    370\u001b[0m     some_fits_failed_message \u001b[38;5;241m=\u001b[39m (\n\u001b[0;32m    371\u001b[0m         \u001b[38;5;124mf\u001b[39m\u001b[38;5;124m\"\u001b[39m\u001b[38;5;130;01m\\n\u001b[39;00m\u001b[38;5;132;01m{\u001b[39;00mnum_failed_fits\u001b[38;5;132;01m}\u001b[39;00m\u001b[38;5;124m fits failed out of a total of \u001b[39m\u001b[38;5;132;01m{\u001b[39;00mnum_fits\u001b[38;5;132;01m}\u001b[39;00m\u001b[38;5;124m.\u001b[39m\u001b[38;5;130;01m\\n\u001b[39;00m\u001b[38;5;124m\"\u001b[39m\n\u001b[0;32m    372\u001b[0m         \u001b[38;5;124m\"\u001b[39m\u001b[38;5;124mThe score on these train-test partitions for these parameters\u001b[39m\u001b[38;5;124m\"\u001b[39m\n\u001b[1;32m   (...)\u001b[0m\n\u001b[0;32m    376\u001b[0m         \u001b[38;5;124mf\u001b[39m\u001b[38;5;124m\"\u001b[39m\u001b[38;5;124mBelow are more details about the failures:\u001b[39m\u001b[38;5;130;01m\\n\u001b[39;00m\u001b[38;5;132;01m{\u001b[39;00mfit_errors_summary\u001b[38;5;132;01m}\u001b[39;00m\u001b[38;5;124m\"\u001b[39m\n\u001b[0;32m    377\u001b[0m     )\n",
      "\u001b[1;31mValueError\u001b[0m: \nAll the 50 fits failed.\nIt is very likely that your model is misconfigured.\nYou can try to debug the error by setting error_score='raise'.\n\nBelow are more details about the failures:\n--------------------------------------------------------------------------------\n50 fits failed with the following error:\nTraceback (most recent call last):\n  File \"C:\\Users\\kamik\\anaconda3\\Lib\\site-packages\\sklearn\\model_selection\\_validation.py\", line 686, in _fit_and_score\n    estimator.fit(X_train, y_train, **fit_params)\n  File \"C:\\Users\\kamik\\anaconda3\\Lib\\site-packages\\sklearn\\pipeline.py\", line 401, in fit\n    Xt = self._fit(X, y, **fit_params_steps)\n         ^^^^^^^^^^^^^^^^^^^^^^^^^^^^^^^^^^^\n  File \"C:\\Users\\kamik\\anaconda3\\Lib\\site-packages\\sklearn\\pipeline.py\", line 359, in _fit\n    X, fitted_transformer = fit_transform_one_cached(\n                            ^^^^^^^^^^^^^^^^^^^^^^^^^\n  File \"C:\\Users\\kamik\\anaconda3\\Lib\\site-packages\\joblib\\memory.py\", line 594, in __call__\n    return self._cached_call(args, kwargs)[0]\n           ^^^^^^^^^^^^^^^^^^^^^^^^^^^^^^^\n  File \"C:\\Users\\kamik\\anaconda3\\Lib\\site-packages\\joblib\\memory.py\", line 537, in _cached_call\n    out, metadata = self.call(*args, **kwargs)\n                    ^^^^^^^^^^^^^^^^^^^^^^^^^^\n  File \"C:\\Users\\kamik\\anaconda3\\Lib\\site-packages\\joblib\\memory.py\", line 779, in call\n    output = self.func(*args, **kwargs)\n             ^^^^^^^^^^^^^^^^^^^^^^^^^^\n  File \"C:\\Users\\kamik\\anaconda3\\Lib\\site-packages\\sklearn\\pipeline.py\", line 893, in _fit_transform_one\n    res = transformer.fit_transform(X, y, **fit_params)\n          ^^^^^^^^^^^^^^^^^^^^^^^^^^^^^^^^^^^^^^^^^^^^^\n  File \"C:\\Users\\kamik\\anaconda3\\Lib\\site-packages\\sklearn\\utils\\_set_output.py\", line 140, in wrapped\n    data_to_wrap = f(self, X, *args, **kwargs)\n                   ^^^^^^^^^^^^^^^^^^^^^^^^^^^\n  File \"C:\\Users\\kamik\\anaconda3\\Lib\\site-packages\\sklearn\\base.py\", line 881, in fit_transform\n    return self.fit(X, y, **fit_params).transform(X)\n           ^^^^^^^^^^^^^^^^^^^^^^^^^^^^\n  File \"C:\\Users\\kamik\\anaconda3\\Lib\\site-packages\\sklearn\\preprocessing\\_data.py\", line 824, in fit\n    return self.partial_fit(X, y, sample_weight)\n           ^^^^^^^^^^^^^^^^^^^^^^^^^^^^^^^^^^^^^\n  File \"C:\\Users\\kamik\\anaconda3\\Lib\\site-packages\\sklearn\\preprocessing\\_data.py\", line 861, in partial_fit\n    X = self._validate_data(\n        ^^^^^^^^^^^^^^^^^^^^\n  File \"C:\\Users\\kamik\\anaconda3\\Lib\\site-packages\\sklearn\\base.py\", line 565, in _validate_data\n    X = check_array(X, input_name=\"X\", **check_params)\n        ^^^^^^^^^^^^^^^^^^^^^^^^^^^^^^^^^^^^^^^^^^^^^^\n  File \"C:\\Users\\kamik\\anaconda3\\Lib\\site-packages\\sklearn\\utils\\validation.py\", line 879, in check_array\n    array = _asarray_with_order(array, order=order, dtype=dtype, xp=xp)\n            ^^^^^^^^^^^^^^^^^^^^^^^^^^^^^^^^^^^^^^^^^^^^^^^^^^^^^^^^^^^\n  File \"C:\\Users\\kamik\\anaconda3\\Lib\\site-packages\\sklearn\\utils\\_array_api.py\", line 185, in _asarray_with_order\n    array = numpy.asarray(array, order=order, dtype=dtype)\n            ^^^^^^^^^^^^^^^^^^^^^^^^^^^^^^^^^^^^^^^^^^^^^^\n  File \"C:\\Users\\kamik\\anaconda3\\Lib\\site-packages\\pandas\\core\\generic.py\", line 2084, in __array__\n    arr = np.asarray(values, dtype=dtype)\n          ^^^^^^^^^^^^^^^^^^^^^^^^^^^^^^^\nValueError: could not convert string to float: 'Africa'\n"
     ]
    }
   ],
   "source": [
    "from sklearn.compose import ColumnTransformer\n",
    "from sklearn.preprocessing import StandardScaler, OneHotEncoder\n",
    "from sklearn.decomposition import PCA\n",
    "from sklearn.tree import DecisionTreeClassifier\n",
    "from sklearn.model_selection import train_test_split, RandomizedSearchCV\n",
    "from sklearn.pipeline import Pipeline\n",
    "from tempfile import mkdtemp\n",
    "from shutil import rmtree\n",
    "import pandas as pd\n",
    "\n",
    "# Assuming df_model and features are already defined\n",
    "features = ['Year', 'Quarter', 'General_Region', 'Decisions', 'Age', 'Sex']\n",
    "target = 'Case outcome'\n",
    "\n",
    "X = df_model[features]\n",
    "y = df_model[target]\n",
    "\n",
    "# Splitting the dataset into training and testing sets\n",
    "X_train, X_test, y_train, y_test = train_test_split(X, y, test_size=0.2, random_state=42)\n",
    "\n",
    "# Define the preprocessing for numerical and categorical features\n",
    "categorical_features = ['General_Region', 'Age', 'Sex']\n",
    "numerical_features = ['Year', 'Quarter', 'Decisions']\n",
    "\n",
    "preprocessor = ColumnTransformer(\n",
    "    transformers=[\n",
    "        ('num', StandardScaler(), numerical_features),\n",
    "        ('cat', OneHotEncoder(handle_unknown='ignore'), categorical_features)\n",
    "    ])\n",
    "\n",
    "# Create a caching directory for pipeline memory\n",
    "cachedir = mkdtemp()\n",
    "\n",
    "# Define the pipeline\n",
    "pipeline = Pipeline(steps=[\n",
    "    ('preprocessor', preprocessor),\n",
    "    ('pca', PCA(n_components=2)),  # Adjust or remove PCA based on your specific needs\n",
    "    ('classifier', DecisionTreeClassifier(random_state=0))\n",
    "], memory=cachedir)\n",
    "\n",
    "# Parameter grid for RandomizedSearchCV\n",
    "param_distributions = {\n",
    "    'classifier__max_depth': [None, 10, 20],\n",
    "    'classifier__min_samples_leaf': [1, 5, 10],\n",
    "    'classifier__min_samples_split': [2, 10, 20]\n",
    "}\n",
    "\n",
    "# Initialize RandomizedSearchCV\n",
    "random_search = RandomizedSearchCV(\n",
    "    estimator=pipeline,\n",
    "    param_distributions=param_distributions,\n",
    "    n_iter=10,\n",
    "    cv=5,\n",
    "    random_state=0,\n",
    "    n_jobs=-1,\n",
    "    verbose=3\n",
    ")\n",
    "\n",
    "# Fit RandomizedSearchCV\n",
    "random_search.fit(X_train, y_train)\n",
    "\n",
    "# Print best parameters and scores\n",
    "print(\"Best Parameters:\", random_search.best_params_)\n",
    "print(\"Best CV Score:\", random_search.best_score_)\n",
    "\n",
    "# Clean up the temporary cache directory\n",
    "rmtree(cachedir)\n"
   ]
  },
  {
   "cell_type": "code",
   "execution_count": null,
   "id": "37f2ef8e-7c2b-46c3-bbcf-2b97a4582539",
   "metadata": {},
   "outputs": [],
   "source": [
    "from sklearn.ensemble import RandomForestClassifier\n",
    "\n",
    "pipeline.set_params(classifier=RandomForestClassifier(random_state=42))\n"
   ]
  },
  {
   "cell_type": "code",
   "execution_count": null,
   "id": "b4bcca05-27cd-4fdf-87f9-6cea2f0ff33e",
   "metadata": {},
   "outputs": [],
   "source": []
  }
 ],
 "metadata": {
  "kernelspec": {
   "display_name": "Python 3 (ipykernel)",
   "language": "python",
   "name": "python3"
  },
  "language_info": {
   "codemirror_mode": {
    "name": "ipython",
    "version": 3
   },
   "file_extension": ".py",
   "mimetype": "text/x-python",
   "name": "python",
   "nbconvert_exporter": "python",
   "pygments_lexer": "ipython3",
   "version": "3.11.8"
  }
 },
 "nbformat": 4,
 "nbformat_minor": 5
}
