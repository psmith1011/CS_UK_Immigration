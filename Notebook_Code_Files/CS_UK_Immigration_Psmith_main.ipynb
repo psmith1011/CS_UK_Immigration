{
 "cells": [
  {
   "cell_type": "markdown",
   "id": "6d233feb-0264-42b3-9727-0c45e3e80835",
   "metadata": {},
   "source": [
    "# Capstone Project: UK Immigration/Asylum Analysis (2001-2023)"
   ]
  },
  {
   "cell_type": "markdown",
   "id": "b39e81eb-baa0-47bd-994b-8ee62e3322d6",
   "metadata": {},
   "source": [
    "## Book 2: Continued EDA, Pre-Processing"
   ]
  },
  {
   "cell_type": "markdown",
   "id": "e3dc0185-0774-4774-9964-1c81fa172fa4",
   "metadata": {},
   "source": [
    "Author: Patrick Smith\n",
    "\n",
    "Date: 24/03/2024\n",
    "\n",
    "Contact: patrick.b.smith@gmail.com"
   ]
  },
  {
   "cell_type": "markdown",
   "id": "cc7a7d47-1d68-4e80-aa40-f2ed759e6db1",
   "metadata": {},
   "source": [
    "         *                 *                  *              *\n",
    "                                                      *             *\n",
    "                        *            *                             ___\n",
    "  *               *                                          |     | |\n",
    "        *              _________##                 *        / \\    | |\n",
    "                      @\\\\\\\\\\\\\\\\\\##    *     |              |--o|===|-|\n",
    "  *                  @@@\\\\\\\\\\\\\\\\##\\       \\|/|/            |---|   |p|\n",
    "                    @@ @@\\\\\\\\\\\\\\\\\\\\\\    \\|\\\\|//|/     *   /     \\  |b|\n",
    "             *     @@@@@@@\\\\\\\\\\\\\\\\\\\\\\    \\|\\|/|/         |  U    | |s|\n",
    "                  @@@@@@@@@----------|    \\\\|//          |  K    |=| |                                                                                                                       "
   ]
  },
  {
   "cell_type": "markdown",
   "id": "bdeb8209-e536-44b9-b699-a801dda68dfc",
   "metadata": {},
   "source": [
    "## Description of Variables "
   ]
  },
  {
   "attachments": {},
   "cell_type": "markdown",
   "id": "3214aea6-18d4-4af6-a8fe-d34046f11c83",
   "metadata": {},
   "source": [
    "| Column                         | Descriptor                                                                 | Datatype |\n",
    "|--------------------------------|----------------------------------------------------------------------------|----------|\n",
    "| Year                           | The period in which the event occurred.                                    | int32    |\n",
    "| Quarter                        | Quarter of the year (Q1=1, Q2=2, Q3=3, Q4=4).                              | object   |\n",
    "| Nationality                    | Nationality of the individual.                                             | object   |\n",
    "| Region                         | World region of the country of nationality for the individual.              | object   |\n",
    "| Return type group              | Grouped type of return (enforced, voluntary, refused entry at port).         | object   |\n",
    "| Return type                    | Specific type of return (enforced, voluntary, refused entry).               | object   |\n",
    "| Age                            | Age of the individual at the time of the event.                             | object   |\n",
    "| Sex                            | Gender of the individual (male, female, other/unknown).                     | int32    |\n",
    "| Return destination group       | Grouped destination country for return (Home country, EU, Other country).   | object   |\n",
    "| Return destination             | Specific destination country for return.                                    | object   |\n",
    "| Number of returns              | Count of returns.                                                           | float64  |\n",
    "| Visa type group                | Grouped type of sponsored work visa applied for.                            | object   |\n",
    "| Visa type subgroup             | Detailed type of sponsored work visa applied for.                           | object   |\n",
    "| Applicant type                 | Type of applicant (main applicant, dependant).                             | object   |\n",
    "| Case outcome                   | Outcome of the case (granted, refused, withdrawn, resettlement).             | object   |\n",
    "| Decisions                      | Number of decisions made.                                                   | float64  |\n",
    "| Case type                      | Type of case (asylum, resettlement).                                       | object   |\n",
    "| Case outcome group             | Grouped outcome of the case (granted protection, grant of other leave, refused, withdrawn). | object   |\n",
    "| UASC                           | Indicates if the applicant is an Unaccompanied Asylum-Seeking Child.       | object   |\n",
    "| Host Country                   | Country where the individual first sought asylum for resettlement cases.    | object   |\n",
    "| Location of application        | Location where the application was submitted.                               | object   |\n",
    "| Applications                   | Number of applications made.                                               | float64  |\n",
    "| Occupation                     | Occupation of the individual.                                              | object   |\n",
    "| Industry                       | Industry sector for which the application to work was made.                 | object   |\n",
    "| Occ. major group               | Major group classification of the occupation.                              | object   |\n",
    "| Occ. sub-major group           | Sub-major group classification of the occupation.                          | object   |\n",
    "| Occ. minor group               | Minor group classification of the occupation.                              | object   |\n",
    "| Occ. unit group                | Unit group classification of the occupation.                               | object   |\n",
    "| Category of leave group        | Grouped category of extension applied for (work, study, family, other).     | object   |\n",
    "| Category of leave              | Category of extension applied for.                                         | object   |\n",
    "| Category of leave subgroup     | Detailed category of extension applied for.                                | object   |\n",
    "| Current category of leave group| Grouped current category of leave (work, study, family, other).            | object   |\n",
    "| Current category of leave      | Current category of leave.                                                 | object   |\n",
    "| Previous category of leave group | Grouped previous category of leave (work, study, family, other).         | object   |\n",
    "| Previous category of leave     | Previous category of leave.                                                | object   |\n",
    "| Sex_Male                       | Dummy variable for male (1 if male, 0 otherwise).                          | object   |\n",
    "| Sex_Female                     | Dummy variable for female (1 if female, 0 otherwise).                      | object   |\n",
    "| Sex_Other                      | Dummy variable for other or NA (1 if other/unknown, 0 otherwise).          | object   |\n",
    "| UK Region                      | The UK region in which the citizenship ceremony took place.                | object   |"
   ]
  },
  {
   "cell_type": "markdown",
   "id": "39d6580f-ac3a-44a9-bd27-39114ddc8a56",
   "metadata": {},
   "source": [
    "## Table of Contents - Book 2\n",
    "\n",
    "[Data Loading, Objectives, and Initial Clean ](#Load) \n",
    "\n",
    "[Dataset Summary](#Dataset_summary)\n",
    "\n",
    "[Initial Preprocessing and Cleaning](#Initial_Preprocessing) \n",
    "\n",
    "[Initial Dataset Summary](#Dataset_summary)\n",
    "\n",
    "[Preprocessing: Applications, Decisions, and Grants](#ADG) \n",
    "\n",
    "[Preprocessing: Case Outcome](#Case_Outcome) \n",
    "\n",
    "[Preprocessing: Visa Outcome](#Visa_Outcomes) \n",
    "\n",
    "[Preprocessing: Age](#Age) "
   ]
  },
  {
   "cell_type": "markdown",
   "id": "9fc6c25e-74b3-45ba-9134-58e768cf2141",
   "metadata": {},
   "source": [
    "## Data Loading\n",
    "\n",
    "<div id='Load'></div>"
   ]
  },
  {
   "cell_type": "code",
   "execution_count": 1,
   "id": "e58964f2-9a26-470d-bb3a-a030e8b09042",
   "metadata": {},
   "outputs": [],
   "source": [
    "import pandas as pd\n",
    "import os\n",
    "import numpy as np\n",
    "import matplotlib.pyplot as plt\n",
    "from sklearn.linear_model import LogisticRegression\n",
    "from sklearn.feature_extraction.text import CountVectorizer\n",
    "import warnings"
   ]
  },
  {
   "cell_type": "markdown",
   "id": "3d2622e9-1523-4809-b061-dfd92a2091b7",
   "metadata": {},
   "source": [
    "## Next Objective\n",
    "\n",
    "1) Finish our EDA and do some pre-processing, to get ready for baseline modelling\n",
    "2) Focus on dependent variable, case outcome, and its related case columns (two more)\n",
    "3) Other columns of importance; Age, Sex, \n",
    "4) Improve the dataset's quality by reducing the number of 'unknown', as well as nulls\n",
    "\n",
    "After, we will move on to data preprocessing and modelling on the other notebook."
   ]
  },
  {
   "cell_type": "markdown",
   "id": "a693f1dd-16db-4204-9f49-46aacd039096",
   "metadata": {},
   "source": [
    "Displaying max columns"
   ]
  },
  {
   "cell_type": "code",
   "execution_count": 2,
   "id": "ae4fc192-2eea-4d69-b2bb-ffb8c50fa9cf",
   "metadata": {},
   "outputs": [],
   "source": [
    "pd.options.display.max_columns = None"
   ]
  },
  {
   "cell_type": "markdown",
   "id": "5e66d183-9745-4b85-bbe0-d334dac645c9",
   "metadata": {},
   "source": [
    "Reading the CSV file exported from the EDA file (book 1) and setting as df (dataframe)"
   ]
  },
  {
   "cell_type": "code",
   "execution_count": 3,
   "id": "ddfb37b4-9950-4898-a744-12347b143aeb",
   "metadata": {},
   "outputs": [],
   "source": [
    "df_combined = pd.read_csv(r'C:\\Users\\patri\\Downloads\\df_combined_EDA1.csv', low_memory=False)"
   ]
  },
  {
   "cell_type": "markdown",
   "id": "83935426-aa0e-4dab-a201-5ceae760cf69",
   "metadata": {},
   "source": [
    "Displaying a sample to see what the columns are like"
   ]
  },
  {
   "cell_type": "code",
   "execution_count": 4,
   "id": "21243efa-ea31-4aef-989f-8e30b17e1401",
   "metadata": {},
   "outputs": [
    {
     "data": {
      "text/html": [
       "<div>\n",
       "<style scoped>\n",
       "    .dataframe tbody tr th:only-of-type {\n",
       "        vertical-align: middle;\n",
       "    }\n",
       "\n",
       "    .dataframe tbody tr th {\n",
       "        vertical-align: top;\n",
       "    }\n",
       "\n",
       "    .dataframe thead th {\n",
       "        text-align: right;\n",
       "    }\n",
       "</style>\n",
       "<table border=\"1\" class=\"dataframe\">\n",
       "  <thead>\n",
       "    <tr style=\"text-align: right;\">\n",
       "      <th></th>\n",
       "      <th>Year</th>\n",
       "      <th>Quarter</th>\n",
       "      <th>Nationality</th>\n",
       "      <th>Region</th>\n",
       "      <th>Return type group</th>\n",
       "      <th>Return type</th>\n",
       "      <th>Age</th>\n",
       "      <th>Sex</th>\n",
       "      <th>Return destination group</th>\n",
       "      <th>Number of returns</th>\n",
       "      <th>Visa type group</th>\n",
       "      <th>Applicant type</th>\n",
       "      <th>Case outcome</th>\n",
       "      <th>Decisions</th>\n",
       "      <th>Case type</th>\n",
       "      <th>Case outcome group</th>\n",
       "      <th>UASC</th>\n",
       "      <th>Application type</th>\n",
       "      <th>Grants</th>\n",
       "      <th>Applications</th>\n",
       "      <th>Occupation</th>\n",
       "      <th>Industry</th>\n",
       "      <th>Occ. major group</th>\n",
       "      <th>Occ. sub-major group</th>\n",
       "      <th>Occ. minor group</th>\n",
       "      <th>Occ. unit group</th>\n",
       "      <th>General_Region</th>\n",
       "    </tr>\n",
       "  </thead>\n",
       "  <tbody>\n",
       "    <tr>\n",
       "      <th>778240</th>\n",
       "      <td>2021</td>\n",
       "      <td>3</td>\n",
       "      <td>France</td>\n",
       "      <td>EU 14</td>\n",
       "      <td>NaN</td>\n",
       "      <td>NaN</td>\n",
       "      <td>Unknown</td>\n",
       "      <td>3</td>\n",
       "      <td>NaN</td>\n",
       "      <td>NaN</td>\n",
       "      <td>Family</td>\n",
       "      <td>All</td>\n",
       "      <td>Refused</td>\n",
       "      <td>1.0</td>\n",
       "      <td>NaN</td>\n",
       "      <td>NaN</td>\n",
       "      <td>NaN</td>\n",
       "      <td>NaN</td>\n",
       "      <td>0.0</td>\n",
       "      <td>0.0</td>\n",
       "      <td>NaN</td>\n",
       "      <td>NaN</td>\n",
       "      <td>NaN</td>\n",
       "      <td>NaN</td>\n",
       "      <td>NaN</td>\n",
       "      <td>NaN</td>\n",
       "      <td>Europe</td>\n",
       "    </tr>\n",
       "    <tr>\n",
       "      <th>263321</th>\n",
       "      <td>2010</td>\n",
       "      <td>3</td>\n",
       "      <td>Former Yugoslavia</td>\n",
       "      <td>Europe Other</td>\n",
       "      <td>NaN</td>\n",
       "      <td>NaN</td>\n",
       "      <td>Unknown</td>\n",
       "      <td>3</td>\n",
       "      <td>NaN</td>\n",
       "      <td>NaN</td>\n",
       "      <td>Study</td>\n",
       "      <td>Main Applicant</td>\n",
       "      <td>Withdrawn</td>\n",
       "      <td>1.0</td>\n",
       "      <td>NaN</td>\n",
       "      <td>NaN</td>\n",
       "      <td>NaN</td>\n",
       "      <td>NaN</td>\n",
       "      <td>0.0</td>\n",
       "      <td>0.0</td>\n",
       "      <td>NaN</td>\n",
       "      <td>NaN</td>\n",
       "      <td>NaN</td>\n",
       "      <td>NaN</td>\n",
       "      <td>NaN</td>\n",
       "      <td>NaN</td>\n",
       "      <td>Europe</td>\n",
       "    </tr>\n",
       "    <tr>\n",
       "      <th>10494</th>\n",
       "      <td>2003</td>\n",
       "      <td>3</td>\n",
       "      <td>Serbia and Montenegro</td>\n",
       "      <td>Europe Other</td>\n",
       "      <td>NaN</td>\n",
       "      <td>NaN</td>\n",
       "      <td>Unknown</td>\n",
       "      <td>3</td>\n",
       "      <td>NaN</td>\n",
       "      <td>NaN</td>\n",
       "      <td>NaN</td>\n",
       "      <td>Main Applicant</td>\n",
       "      <td>Issued</td>\n",
       "      <td>39.0</td>\n",
       "      <td>Asylum Case</td>\n",
       "      <td>Withdrawn</td>\n",
       "      <td>Total (pre-2006)</td>\n",
       "      <td>NaN</td>\n",
       "      <td>0.0</td>\n",
       "      <td>0.0</td>\n",
       "      <td>NaN</td>\n",
       "      <td>NaN</td>\n",
       "      <td>NaN</td>\n",
       "      <td>NaN</td>\n",
       "      <td>NaN</td>\n",
       "      <td>NaN</td>\n",
       "      <td>Europe</td>\n",
       "    </tr>\n",
       "    <tr>\n",
       "      <th>986353</th>\n",
       "      <td>2023</td>\n",
       "      <td>2</td>\n",
       "      <td>France</td>\n",
       "      <td>EU 14</td>\n",
       "      <td>NaN</td>\n",
       "      <td>NaN</td>\n",
       "      <td>Unknown</td>\n",
       "      <td>3</td>\n",
       "      <td>NaN</td>\n",
       "      <td>NaN</td>\n",
       "      <td>NaN</td>\n",
       "      <td>NaN</td>\n",
       "      <td>NaN</td>\n",
       "      <td>0.0</td>\n",
       "      <td>NaN</td>\n",
       "      <td>NaN</td>\n",
       "      <td>NaN</td>\n",
       "      <td>NaN</td>\n",
       "      <td>0.0</td>\n",
       "      <td>2.0</td>\n",
       "      <td>3567 - health and safety officers</td>\n",
       "      <td>education</td>\n",
       "      <td>associate professional and technical occupations</td>\n",
       "      <td>business and public service associate professi...</td>\n",
       "      <td>public services and other associate professionals</td>\n",
       "      <td>health and safety officers</td>\n",
       "      <td>Europe</td>\n",
       "    </tr>\n",
       "    <tr>\n",
       "      <th>787307</th>\n",
       "      <td>2021</td>\n",
       "      <td>3</td>\n",
       "      <td>Mauritius</td>\n",
       "      <td>Africa Sub-Saharan</td>\n",
       "      <td>NaN</td>\n",
       "      <td>NaN</td>\n",
       "      <td>Unknown</td>\n",
       "      <td>3</td>\n",
       "      <td>NaN</td>\n",
       "      <td>NaN</td>\n",
       "      <td>NaN</td>\n",
       "      <td>NaN</td>\n",
       "      <td>NaN</td>\n",
       "      <td>0.0</td>\n",
       "      <td>NaN</td>\n",
       "      <td>NaN</td>\n",
       "      <td>NaN</td>\n",
       "      <td>NaN</td>\n",
       "      <td>1.0</td>\n",
       "      <td>0.0</td>\n",
       "      <td>2129 - engineering professionals n.e.c.</td>\n",
       "      <td>construction</td>\n",
       "      <td>professional occupations</td>\n",
       "      <td>science, research, engineering and technology ...</td>\n",
       "      <td>engineering professionals</td>\n",
       "      <td>engineering professionals n.e.c.</td>\n",
       "      <td>Africa</td>\n",
       "    </tr>\n",
       "  </tbody>\n",
       "</table>\n",
       "</div>"
      ],
      "text/plain": [
       "        Year  Quarter            Nationality              Region  \\\n",
       "778240  2021        3                 France               EU 14   \n",
       "263321  2010        3      Former Yugoslavia        Europe Other   \n",
       "10494   2003        3  Serbia and Montenegro        Europe Other   \n",
       "986353  2023        2                 France               EU 14   \n",
       "787307  2021        3              Mauritius  Africa Sub-Saharan   \n",
       "\n",
       "       Return type group Return type      Age  Sex Return destination group  \\\n",
       "778240               NaN         NaN  Unknown    3                      NaN   \n",
       "263321               NaN         NaN  Unknown    3                      NaN   \n",
       "10494                NaN         NaN  Unknown    3                      NaN   \n",
       "986353               NaN         NaN  Unknown    3                      NaN   \n",
       "787307               NaN         NaN  Unknown    3                      NaN   \n",
       "\n",
       "        Number of returns Visa type group  Applicant type Case outcome  \\\n",
       "778240                NaN          Family             All      Refused   \n",
       "263321                NaN           Study  Main Applicant    Withdrawn   \n",
       "10494                 NaN             NaN  Main Applicant       Issued   \n",
       "986353                NaN             NaN             NaN          NaN   \n",
       "787307                NaN             NaN             NaN          NaN   \n",
       "\n",
       "        Decisions    Case type Case outcome group              UASC  \\\n",
       "778240        1.0          NaN                NaN               NaN   \n",
       "263321        1.0          NaN                NaN               NaN   \n",
       "10494        39.0  Asylum Case          Withdrawn  Total (pre-2006)   \n",
       "986353        0.0          NaN                NaN               NaN   \n",
       "787307        0.0          NaN                NaN               NaN   \n",
       "\n",
       "       Application type  Grants  Applications  \\\n",
       "778240              NaN     0.0           0.0   \n",
       "263321              NaN     0.0           0.0   \n",
       "10494               NaN     0.0           0.0   \n",
       "986353              NaN     0.0           2.0   \n",
       "787307              NaN     1.0           0.0   \n",
       "\n",
       "                                     Occupation      Industry  \\\n",
       "778240                                      NaN           NaN   \n",
       "263321                                      NaN           NaN   \n",
       "10494                                       NaN           NaN   \n",
       "986353        3567 - health and safety officers     education   \n",
       "787307  2129 - engineering professionals n.e.c.  construction   \n",
       "\n",
       "                                        Occ. major group  \\\n",
       "778240                                               NaN   \n",
       "263321                                               NaN   \n",
       "10494                                                NaN   \n",
       "986353  associate professional and technical occupations   \n",
       "787307                          professional occupations   \n",
       "\n",
       "                                     Occ. sub-major group  \\\n",
       "778240                                                NaN   \n",
       "263321                                                NaN   \n",
       "10494                                                 NaN   \n",
       "986353  business and public service associate professi...   \n",
       "787307  science, research, engineering and technology ...   \n",
       "\n",
       "                                         Occ. minor group  \\\n",
       "778240                                                NaN   \n",
       "263321                                                NaN   \n",
       "10494                                                 NaN   \n",
       "986353  public services and other associate professionals   \n",
       "787307                          engineering professionals   \n",
       "\n",
       "                         Occ. unit group General_Region  \n",
       "778240                               NaN         Europe  \n",
       "263321                               NaN         Europe  \n",
       "10494                                NaN         Europe  \n",
       "986353        health and safety officers         Europe  \n",
       "787307  engineering professionals n.e.c.         Africa  "
      ]
     },
     "execution_count": 4,
     "metadata": {},
     "output_type": "execute_result"
    }
   ],
   "source": [
    "df_combined.sample(5)"
   ]
  },
  {
   "cell_type": "markdown",
   "id": "37b1f22c-8faa-4133-a263-addd52cd553a",
   "metadata": {},
   "source": [
    "Ok we have a lot of unknowns and 0s. We need to look into this. Otherwise our models and predictions won't be accurate."
   ]
  },
  {
   "cell_type": "markdown",
   "id": "71ed79ea-880f-44f7-959e-96326d24c0b6",
   "metadata": {},
   "source": [
    "Checking if there are any nulls"
   ]
  },
  {
   "cell_type": "code",
   "execution_count": 5,
   "id": "dfae9e03-221b-4c59-b500-e939fc616b9c",
   "metadata": {},
   "outputs": [
    {
     "data": {
      "text/plain": [
       "Year                         0.000000\n",
       "Quarter                      0.000000\n",
       "Nationality                  0.000000\n",
       "Region                       0.000000\n",
       "Return type group           76.895043\n",
       "Return type                 76.895043\n",
       "Age                          0.000000\n",
       "Sex                          0.000000\n",
       "Return destination group    76.895043\n",
       "Number of returns           76.895043\n",
       "Visa type group             70.034898\n",
       "Applicant type              52.157214\n",
       "Case outcome                58.921874\n",
       "Decisions                    0.000000\n",
       "Case type                   88.886977\n",
       "Case outcome group          88.886977\n",
       "UASC                        82.122316\n",
       "Application type            87.884675\n",
       "Grants                       0.000000\n",
       "Applications                 0.000000\n",
       "Occupation                  83.824712\n",
       "Industry                    83.824712\n",
       "Occ. major group            83.824712\n",
       "Occ. sub-major group        83.824712\n",
       "Occ. minor group            83.824712\n",
       "Occ. unit group             83.824712\n",
       "General_Region               0.000097\n",
       "dtype: float64"
      ]
     },
     "execution_count": 5,
     "metadata": {},
     "output_type": "execute_result"
    }
   ],
   "source": [
    "df_combined.isna().sum()/df_combined.shape[0]*100"
   ]
  },
  {
   "cell_type": "markdown",
   "id": "a73230ce-0f3b-4358-9fe8-487f80b44c0b",
   "metadata": {},
   "source": [
    "Still a lot of nulls. Lets check the shape, percentage of nulls."
   ]
  },
  {
   "cell_type": "code",
   "execution_count": 6,
   "id": "b42c8f26-1568-4721-8998-f08f4951ad4d",
   "metadata": {},
   "outputs": [
    {
     "data": {
      "text/plain": [
       "Year                         0.000000\n",
       "Quarter                      0.000000\n",
       "Nationality                  0.000000\n",
       "Region                       0.000000\n",
       "Return type group           76.895043\n",
       "Return type                 76.895043\n",
       "Age                          0.000000\n",
       "Sex                          0.000000\n",
       "Return destination group    76.895043\n",
       "Number of returns           76.895043\n",
       "Visa type group             70.034898\n",
       "Applicant type              52.157214\n",
       "Case outcome                58.921874\n",
       "Decisions                    0.000000\n",
       "Case type                   88.886977\n",
       "Case outcome group          88.886977\n",
       "UASC                        82.122316\n",
       "Application type            87.884675\n",
       "Grants                       0.000000\n",
       "Applications                 0.000000\n",
       "Occupation                  83.824712\n",
       "Industry                    83.824712\n",
       "Occ. major group            83.824712\n",
       "Occ. sub-major group        83.824712\n",
       "Occ. minor group            83.824712\n",
       "Occ. unit group             83.824712\n",
       "General_Region               0.000097\n",
       "dtype: float64"
      ]
     },
     "execution_count": 6,
     "metadata": {},
     "output_type": "execute_result"
    }
   ],
   "source": [
    "df_combined.isna().sum()/df_combined.shape[0]*100"
   ]
  },
  {
   "cell_type": "markdown",
   "id": "0f3e523c-01fc-418c-8968-2d2cfc992fda",
   "metadata": {},
   "source": [
    "OK let's make case outcome a priority then we'll move on to filling the others as much as we can"
   ]
  },
  {
   "cell_type": "markdown",
   "id": "2a5dbbd3-c8b5-4b87-9a61-8d9526236646",
   "metadata": {},
   "source": [
    "These are all the catagorical columns, the 0s are numerical. \n",
    "\n",
    "To build a useful model, we will build a refined dataframe. \n",
    "\n",
    "Before hand, we will try to reduce the high percentages of unknowns to improve the quality of the data\n",
    "\n",
    "For categorical columns, we can:\n",
    "\n",
    "- Focus on Age, Applicant type, Case Type, and Case outcome group \n",
    "- Later priority are the occupation"
   ]
  },
  {
   "cell_type": "markdown",
   "id": "ac72535e-dd0e-4a7a-87b8-760e04d32f53",
   "metadata": {},
   "source": [
    "Now let's look at percentages of 0s"
   ]
  },
  {
   "cell_type": "code",
   "execution_count": 7,
   "id": "55a7f9ad-cd3d-4291-aa7a-ff2096752612",
   "metadata": {},
   "outputs": [
    {
     "name": "stdout",
     "output_type": "stream",
     "text": [
      "Year                         0.000000\n",
      "Quarter                      0.000000\n",
      "Nationality                  0.000000\n",
      "Region                       0.000000\n",
      "Return type group            0.000000\n",
      "Return type                  0.000000\n",
      "Age                          0.000000\n",
      "Sex                          0.000000\n",
      "Return destination group     0.000000\n",
      "Number of returns            0.000000\n",
      "Visa type group              0.000000\n",
      "Applicant type               0.000000\n",
      "Case outcome                 0.000000\n",
      "Decisions                   58.921874\n",
      "Case type                    0.000000\n",
      "Case outcome group           0.000000\n",
      "UASC                         0.000000\n",
      "Application type             0.000000\n",
      "Grants                      79.172100\n",
      "Applications                85.010983\n",
      "Occupation                   0.000000\n",
      "Industry                     0.000000\n",
      "Occ. major group             0.000000\n",
      "Occ. sub-major group         0.000000\n",
      "Occ. minor group             0.000000\n",
      "Occ. unit group              0.000000\n",
      "General_Region               0.000000\n",
      "dtype: float64\n"
     ]
    }
   ],
   "source": [
    "zero_percentage_numeric = (df_combined == 0).sum() / df_combined.shape[0] * 100\n",
    "print(zero_percentage_numeric)"
   ]
  },
  {
   "cell_type": "markdown",
   "id": "032863de-75cc-4ffd-b540-19a2c8c21932",
   "metadata": {},
   "source": [
    "OK we have a fair amount of 0s in Decisions, Grants and Applications. We will work on this"
   ]
  },
  {
   "cell_type": "markdown",
   "id": "ff9f8dd0-ed4f-4e63-9a68-4a6a0f2fd3bf",
   "metadata": {},
   "source": [
    "Checking for duplicates"
   ]
  },
  {
   "cell_type": "code",
   "execution_count": 8,
   "id": "9e169324-3f2f-4011-8a86-0feaf9c6c2ba",
   "metadata": {},
   "outputs": [
    {
     "data": {
      "text/plain": [
       "15708"
      ]
     },
     "execution_count": 8,
     "metadata": {},
     "output_type": "execute_result"
    }
   ],
   "source": [
    "df_combined.duplicated().sum()"
   ]
  },
  {
   "cell_type": "markdown",
   "id": "cd1a60cc-4572-4dfc-b814-379fa90f1d35",
   "metadata": {},
   "source": [
    "OK we can delete these, setting new df as clean_df"
   ]
  },
  {
   "cell_type": "code",
   "execution_count": 9,
   "id": "d4ac7add-4528-41b9-86e5-d02e550b580e",
   "metadata": {},
   "outputs": [],
   "source": [
    "clean_df = df_combined.drop_duplicates()"
   ]
  },
  {
   "cell_type": "code",
   "execution_count": 10,
   "id": "d71ce5da-48b6-45a2-beed-d6a8cc5e6c74",
   "metadata": {},
   "outputs": [
    {
     "name": "stdout",
     "output_type": "stream",
     "text": [
      "We have 1012725 rows and 27 columns with string, floats and integers in our clean data.\n"
     ]
    }
   ],
   "source": [
    "print(f\"We have {clean_df.shape[0]} rows and {clean_df.shape[1]} columns with string, floats and integers in our clean data.\")"
   ]
  },
  {
   "cell_type": "markdown",
   "id": "892cb770-f071-4fc4-b528-f1421714437c",
   "metadata": {},
   "source": [
    "Let's look at uniques:"
   ]
  },
  {
   "cell_type": "code",
   "execution_count": 11,
   "id": "97be1f88-2a12-4e6a-8cb0-8489e90c021e",
   "metadata": {},
   "outputs": [
    {
     "data": {
      "text/plain": [
       "Year                          23\n",
       "Quarter                        4\n",
       "Nationality                  239\n",
       "Region                        17\n",
       "Return type group              3\n",
       "Return type                    6\n",
       "Age                            6\n",
       "Sex                            3\n",
       "Return destination group       4\n",
       "Number of returns            326\n",
       "Visa type group                6\n",
       "Applicant type                 5\n",
       "Case outcome                   6\n",
       "Decisions                   4843\n",
       "Case type                      2\n",
       "Case outcome group             4\n",
       "UASC                           4\n",
       "Application type               4\n",
       "Grants                      1040\n",
       "Applications                 756\n",
       "Occupation                   324\n",
       "Industry                      22\n",
       "Occ. major group              11\n",
       "Occ. sub-major group          28\n",
       "Occ. minor group              97\n",
       "Occ. unit group              320\n",
       "General_Region                 7\n",
       "dtype: int64"
      ]
     },
     "execution_count": 11,
     "metadata": {},
     "output_type": "execute_result"
    }
   ],
   "source": [
    "clean_df.nunique()"
   ]
  },
  {
   "cell_type": "markdown",
   "id": "2c6386f9-450b-491c-a63d-6b2fa3612bc6",
   "metadata": {},
   "source": [
    "### Dataset Summary & Insights\n",
    "\n",
    "<div id='Dataset_summary'></div>\n",
    "\n",
    "With the insight of uniques, we can see that the dataset, comprising 28 columns, is categorized into several key areas, showcasing its diversity and suitability for analysis on migration, asylum, and labor trends in the UK. Below are summarized insights:\n",
    "\n",
    "Time:\n",
    "- Year covers 23 years, so its a long-term collection of data where we can figure out trends. We can use this with quarter to see if there's any seasonal trends\n",
    "\n",
    "Geographic and demographics: \n",
    "- Nationalities has a wide diversity of 239. Regions of 16 could help in geographical categorizations and could help with regional trends.  General Region (7) was created to provide a broader regional classification for high-level geographic analysis.\n",
    "- For demographics, there is also Age (6) and Sex (3) , which will be helpful in our modelling because we have a high percentage of non-unknowns\n",
    "  \n",
    "Case characteristics, application and decision: \n",
    "- Decisions (4844), Grants (1040), Applications (756): A wide range of outcomes - this could provide interesting insights into the UK immigration system's capacity\n",
    "- Case Case outcome (6), Case outcome group (5) and Case type (3) are our target categories - our plan is to improve the quality of data in these columns by imputations\n",
    "- We are going to refine it so Case outcome is the main category\n",
    "\n",
    "Migration specifics: \n",
    "- Visa type group (7), Application type group (3), Application type (5), and UASC (Unaccompanied Asylum-Seeking Child) (2)\n",
    "\n",
    "Job data: \n",
    "- High uniqueness in Occupation (325) Occ. minor group (98), and Occ. unit group (321)\n",
    "- Also there is Occ. major group (12), Occ. sub-major group (29).\n",
    "- These columns all have the same amount of missing data, they are all from the same spreadsheet. This info has a lot of unknown but it could be valuable later for labor or economic analysis"
   ]
  },
  {
   "cell_type": "markdown",
   "id": "5e14260e-afb1-4b93-aaa3-21282a6b0b90",
   "metadata": {},
   "source": [
    "Now let's move on to Applications, Decisions, and Grants (numerical columns), then look at their relationship to Case outcome and Case outcome's related categories"
   ]
  },
  {
   "cell_type": "markdown",
   "id": "9aa96f44-2954-413b-8848-7f237ab25622",
   "metadata": {},
   "source": [
    "### Preprocessing: Applications, Decisions, and Grants\n",
    "\n",
    "<div id='ADG'></div>"
   ]
  },
  {
   "cell_type": "markdown",
   "id": "9f793410-d1a7-447c-865f-9b478d03187e",
   "metadata": {},
   "source": [
    "Let's take a look at Applications and Decisions and see how it is distributed by value_counts"
   ]
  },
  {
   "cell_type": "code",
   "execution_count": 12,
   "id": "8f6bd9db-71be-4751-8f66-5ba93444a334",
   "metadata": {},
   "outputs": [
    {
     "data": {
      "text/plain": [
       "Applications\n",
       "0.0       860577\n",
       "1.0        78810\n",
       "2.0        22373\n",
       "3.0        10673\n",
       "4.0         6636\n",
       "           ...  \n",
       "1435.0         1\n",
       "605.0          1\n",
       "2319.0         1\n",
       "355.0          1\n",
       "562.0          1\n",
       "Name: count, Length: 756, dtype: int64"
      ]
     },
     "execution_count": 12,
     "metadata": {},
     "output_type": "execute_result"
    }
   ],
   "source": [
    "clean_df['Applications'].value_counts()"
   ]
  },
  {
   "cell_type": "code",
   "execution_count": 13,
   "id": "48ab27fa-e791-4253-87ad-22e1fbd54f91",
   "metadata": {},
   "outputs": [
    {
     "data": {
      "text/plain": [
       "Decisions\n",
       "0.0       595881\n",
       "1.0       126717\n",
       "2.0        54783\n",
       "3.0        32760\n",
       "4.0        22494\n",
       "           ...  \n",
       "2045.0         1\n",
       "4420.0         1\n",
       "2509.0         1\n",
       "1421.0         1\n",
       "4915.0         1\n",
       "Name: count, Length: 4843, dtype: int64"
      ]
     },
     "execution_count": 13,
     "metadata": {},
     "output_type": "execute_result"
    }
   ],
   "source": [
    "clean_df['Decisions'].value_counts()"
   ]
  },
  {
   "cell_type": "markdown",
   "id": "1ba6842c-000e-4202-98b1-20cddea3d536",
   "metadata": {},
   "source": [
    "OK we have a lot of 0s and a lot of earlier numbers which suggests a right skew. Let's add 'Applications', and 'Decisions' columns together in a new column"
   ]
  },
  {
   "cell_type": "code",
   "execution_count": 14,
   "id": "45369aa8-a023-4210-8245-bbd38c41f722",
   "metadata": {},
   "outputs": [
    {
     "name": "stderr",
     "output_type": "stream",
     "text": [
      "C:\\Users\\patri\\AppData\\Local\\Temp\\ipykernel_1780\\2247701504.py:1: SettingWithCopyWarning: \n",
      "A value is trying to be set on a copy of a slice from a DataFrame.\n",
      "Try using .loc[row_indexer,col_indexer] = value instead\n",
      "\n",
      "See the caveats in the documentation: https://pandas.pydata.org/pandas-docs/stable/user_guide/indexing.html#returning-a-view-versus-a-copy\n",
      "  clean_df['Total Application and Decisions'] = clean_df['Applications'] + clean_df['Decisions']\n"
     ]
    }
   ],
   "source": [
    "clean_df['Total Application and Decisions'] = clean_df['Applications'] + clean_df['Decisions']"
   ]
  },
  {
   "cell_type": "markdown",
   "id": "bd6c6669-9e5a-43fe-8d13-57e0875afd49",
   "metadata": {},
   "source": [
    "See how the column looks. Far right"
   ]
  },
  {
   "cell_type": "code",
   "execution_count": 33,
   "id": "010a0506-f6a2-4b7a-88c5-2d212d575298",
   "metadata": {},
   "outputs": [
    {
     "data": {
      "text/html": [
       "<div>\n",
       "<style scoped>\n",
       "    .dataframe tbody tr th:only-of-type {\n",
       "        vertical-align: middle;\n",
       "    }\n",
       "\n",
       "    .dataframe tbody tr th {\n",
       "        vertical-align: top;\n",
       "    }\n",
       "\n",
       "    .dataframe thead th {\n",
       "        text-align: right;\n",
       "    }\n",
       "</style>\n",
       "<table border=\"1\" class=\"dataframe\">\n",
       "  <thead>\n",
       "    <tr style=\"text-align: right;\">\n",
       "      <th></th>\n",
       "      <th>Year</th>\n",
       "      <th>Quarter</th>\n",
       "      <th>Nationality</th>\n",
       "      <th>Region</th>\n",
       "      <th>Return type group</th>\n",
       "      <th>Return type</th>\n",
       "      <th>Age</th>\n",
       "      <th>Sex</th>\n",
       "      <th>Return destination group</th>\n",
       "      <th>Number of returns</th>\n",
       "      <th>Visa type group</th>\n",
       "      <th>Applicant type</th>\n",
       "      <th>Case outcome</th>\n",
       "      <th>Decisions</th>\n",
       "      <th>Case type</th>\n",
       "      <th>Case outcome group</th>\n",
       "      <th>UASC</th>\n",
       "      <th>Application type</th>\n",
       "      <th>Grants</th>\n",
       "      <th>Applications</th>\n",
       "      <th>Occupation</th>\n",
       "      <th>Industry</th>\n",
       "      <th>Occ. major group</th>\n",
       "      <th>Occ. sub-major group</th>\n",
       "      <th>Occ. minor group</th>\n",
       "      <th>Occ. unit group</th>\n",
       "      <th>General_Region</th>\n",
       "      <th>Total Application and Decisions</th>\n",
       "      <th>Case outcome lower</th>\n",
       "      <th>Case outcome group lower</th>\n",
       "    </tr>\n",
       "  </thead>\n",
       "  <tbody>\n",
       "    <tr>\n",
       "      <th>0</th>\n",
       "      <td>2001</td>\n",
       "      <td>1</td>\n",
       "      <td>Afghanistan</td>\n",
       "      <td>Asia Central</td>\n",
       "      <td>NaN</td>\n",
       "      <td>NaN</td>\n",
       "      <td>Unknown</td>\n",
       "      <td>3</td>\n",
       "      <td>NaN</td>\n",
       "      <td>NaN</td>\n",
       "      <td>NaN</td>\n",
       "      <td>Main Applicant</td>\n",
       "      <td>Issued</td>\n",
       "      <td>2652.0</td>\n",
       "      <td>Asylum Case</td>\n",
       "      <td>Grant of Other Leave</td>\n",
       "      <td>Total (pre-2006)</td>\n",
       "      <td>NaN</td>\n",
       "      <td>0.0</td>\n",
       "      <td>0.0</td>\n",
       "      <td>NaN</td>\n",
       "      <td>NaN</td>\n",
       "      <td>NaN</td>\n",
       "      <td>NaN</td>\n",
       "      <td>NaN</td>\n",
       "      <td>NaN</td>\n",
       "      <td>Asia</td>\n",
       "      <td>2652.0</td>\n",
       "      <td>Issued</td>\n",
       "      <td>Grant of Other Leave</td>\n",
       "    </tr>\n",
       "    <tr>\n",
       "      <th>1</th>\n",
       "      <td>2001</td>\n",
       "      <td>1</td>\n",
       "      <td>Afghanistan</td>\n",
       "      <td>Asia Central</td>\n",
       "      <td>NaN</td>\n",
       "      <td>NaN</td>\n",
       "      <td>Unknown</td>\n",
       "      <td>3</td>\n",
       "      <td>NaN</td>\n",
       "      <td>NaN</td>\n",
       "      <td>NaN</td>\n",
       "      <td>Main Applicant</td>\n",
       "      <td>Temporary Protection</td>\n",
       "      <td>809.0</td>\n",
       "      <td>Asylum Case</td>\n",
       "      <td>Grant of Protection</td>\n",
       "      <td>Total (pre-2006)</td>\n",
       "      <td>NaN</td>\n",
       "      <td>0.0</td>\n",
       "      <td>0.0</td>\n",
       "      <td>NaN</td>\n",
       "      <td>NaN</td>\n",
       "      <td>NaN</td>\n",
       "      <td>NaN</td>\n",
       "      <td>NaN</td>\n",
       "      <td>NaN</td>\n",
       "      <td>Asia</td>\n",
       "      <td>809.0</td>\n",
       "      <td>Temporary Protection</td>\n",
       "      <td>Grant of Protection</td>\n",
       "    </tr>\n",
       "    <tr>\n",
       "      <th>2</th>\n",
       "      <td>2001</td>\n",
       "      <td>1</td>\n",
       "      <td>Afghanistan</td>\n",
       "      <td>Asia Central</td>\n",
       "      <td>NaN</td>\n",
       "      <td>NaN</td>\n",
       "      <td>Unknown</td>\n",
       "      <td>3</td>\n",
       "      <td>NaN</td>\n",
       "      <td>NaN</td>\n",
       "      <td>NaN</td>\n",
       "      <td>Main Applicant</td>\n",
       "      <td>Refused</td>\n",
       "      <td>15.0</td>\n",
       "      <td>Asylum Case</td>\n",
       "      <td>Refused</td>\n",
       "      <td>Total (pre-2006)</td>\n",
       "      <td>NaN</td>\n",
       "      <td>0.0</td>\n",
       "      <td>0.0</td>\n",
       "      <td>NaN</td>\n",
       "      <td>NaN</td>\n",
       "      <td>NaN</td>\n",
       "      <td>NaN</td>\n",
       "      <td>NaN</td>\n",
       "      <td>NaN</td>\n",
       "      <td>Asia</td>\n",
       "      <td>15.0</td>\n",
       "      <td>Refused</td>\n",
       "      <td>Refused</td>\n",
       "    </tr>\n",
       "    <tr>\n",
       "      <th>3</th>\n",
       "      <td>2001</td>\n",
       "      <td>1</td>\n",
       "      <td>Afghanistan</td>\n",
       "      <td>Asia Central</td>\n",
       "      <td>NaN</td>\n",
       "      <td>NaN</td>\n",
       "      <td>Unknown</td>\n",
       "      <td>3</td>\n",
       "      <td>NaN</td>\n",
       "      <td>NaN</td>\n",
       "      <td>NaN</td>\n",
       "      <td>Main Applicant</td>\n",
       "      <td>Refused</td>\n",
       "      <td>88.0</td>\n",
       "      <td>Asylum Case</td>\n",
       "      <td>Refused</td>\n",
       "      <td>Total (pre-2006)</td>\n",
       "      <td>NaN</td>\n",
       "      <td>0.0</td>\n",
       "      <td>0.0</td>\n",
       "      <td>NaN</td>\n",
       "      <td>NaN</td>\n",
       "      <td>NaN</td>\n",
       "      <td>NaN</td>\n",
       "      <td>NaN</td>\n",
       "      <td>NaN</td>\n",
       "      <td>Asia</td>\n",
       "      <td>88.0</td>\n",
       "      <td>Refused</td>\n",
       "      <td>Refused</td>\n",
       "    </tr>\n",
       "    <tr>\n",
       "      <th>4</th>\n",
       "      <td>2001</td>\n",
       "      <td>1</td>\n",
       "      <td>Afghanistan</td>\n",
       "      <td>Asia Central</td>\n",
       "      <td>NaN</td>\n",
       "      <td>NaN</td>\n",
       "      <td>Unknown</td>\n",
       "      <td>3</td>\n",
       "      <td>NaN</td>\n",
       "      <td>NaN</td>\n",
       "      <td>NaN</td>\n",
       "      <td>Main Applicant</td>\n",
       "      <td>Refused</td>\n",
       "      <td>609.0</td>\n",
       "      <td>Asylum Case</td>\n",
       "      <td>Refused</td>\n",
       "      <td>Total (pre-2006)</td>\n",
       "      <td>NaN</td>\n",
       "      <td>0.0</td>\n",
       "      <td>0.0</td>\n",
       "      <td>NaN</td>\n",
       "      <td>NaN</td>\n",
       "      <td>NaN</td>\n",
       "      <td>NaN</td>\n",
       "      <td>NaN</td>\n",
       "      <td>NaN</td>\n",
       "      <td>Asia</td>\n",
       "      <td>609.0</td>\n",
       "      <td>Refused</td>\n",
       "      <td>Refused</td>\n",
       "    </tr>\n",
       "  </tbody>\n",
       "</table>\n",
       "</div>"
      ],
      "text/plain": [
       "   Year  Quarter  Nationality        Region Return type group Return type  \\\n",
       "0  2001        1  Afghanistan  Asia Central               NaN         NaN   \n",
       "1  2001        1  Afghanistan  Asia Central               NaN         NaN   \n",
       "2  2001        1  Afghanistan  Asia Central               NaN         NaN   \n",
       "3  2001        1  Afghanistan  Asia Central               NaN         NaN   \n",
       "4  2001        1  Afghanistan  Asia Central               NaN         NaN   \n",
       "\n",
       "       Age  Sex Return destination group  Number of returns Visa type group  \\\n",
       "0  Unknown    3                      NaN                NaN             NaN   \n",
       "1  Unknown    3                      NaN                NaN             NaN   \n",
       "2  Unknown    3                      NaN                NaN             NaN   \n",
       "3  Unknown    3                      NaN                NaN             NaN   \n",
       "4  Unknown    3                      NaN                NaN             NaN   \n",
       "\n",
       "   Applicant type          Case outcome  Decisions    Case type  \\\n",
       "0  Main Applicant                Issued     2652.0  Asylum Case   \n",
       "1  Main Applicant  Temporary Protection      809.0  Asylum Case   \n",
       "2  Main Applicant               Refused       15.0  Asylum Case   \n",
       "3  Main Applicant               Refused       88.0  Asylum Case   \n",
       "4  Main Applicant               Refused      609.0  Asylum Case   \n",
       "\n",
       "     Case outcome group              UASC Application type  Grants  \\\n",
       "0  Grant of Other Leave  Total (pre-2006)              NaN     0.0   \n",
       "1   Grant of Protection  Total (pre-2006)              NaN     0.0   \n",
       "2               Refused  Total (pre-2006)              NaN     0.0   \n",
       "3               Refused  Total (pre-2006)              NaN     0.0   \n",
       "4               Refused  Total (pre-2006)              NaN     0.0   \n",
       "\n",
       "   Applications Occupation Industry Occ. major group Occ. sub-major group  \\\n",
       "0           0.0        NaN      NaN              NaN                  NaN   \n",
       "1           0.0        NaN      NaN              NaN                  NaN   \n",
       "2           0.0        NaN      NaN              NaN                  NaN   \n",
       "3           0.0        NaN      NaN              NaN                  NaN   \n",
       "4           0.0        NaN      NaN              NaN                  NaN   \n",
       "\n",
       "  Occ. minor group Occ. unit group General_Region  \\\n",
       "0              NaN             NaN           Asia   \n",
       "1              NaN             NaN           Asia   \n",
       "2              NaN             NaN           Asia   \n",
       "3              NaN             NaN           Asia   \n",
       "4              NaN             NaN           Asia   \n",
       "\n",
       "   Total Application and Decisions    Case outcome lower  \\\n",
       "0                           2652.0                Issued   \n",
       "1                            809.0  Temporary Protection   \n",
       "2                             15.0               Refused   \n",
       "3                             88.0               Refused   \n",
       "4                            609.0               Refused   \n",
       "\n",
       "  Case outcome group lower  \n",
       "0     Grant of Other Leave  \n",
       "1      Grant of Protection  \n",
       "2                  Refused  \n",
       "3                  Refused  \n",
       "4                  Refused  "
      ]
     },
     "execution_count": 33,
     "metadata": {},
     "output_type": "execute_result"
    }
   ],
   "source": [
    "clean_df.head()"
   ]
  },
  {
   "cell_type": "markdown",
   "id": "6e79ce3a-e5c8-45ce-b05f-45963617f235",
   "metadata": {},
   "source": [
    "Now have the most populated column in terms of application counts. We can compare this against case outcome and other columns to improve the quality of the data.\n",
    "\n",
    "Let's look at Case outcome now and its related columns, such as case type"
   ]
  },
  {
   "cell_type": "markdown",
   "id": "a0f8d121-33c6-4768-af17-e9b3c4238231",
   "metadata": {},
   "source": [
    "### Preprocessing: Case Outcome & Type\n",
    "\n",
    "<div id='Case_Outcome'></div>"
   ]
  },
  {
   "cell_type": "markdown",
   "id": "e7a84abb-1d8b-4e6e-bf4f-b77c332daeb4",
   "metadata": {},
   "source": [
    "Seeing what the columns look like"
   ]
  },
  {
   "cell_type": "code",
   "execution_count": 16,
   "id": "a08a72d0-9d38-4665-8a41-067172069704",
   "metadata": {},
   "outputs": [
    {
     "data": {
      "text/plain": [
       "Case outcome\n",
       "Issued                  188307\n",
       "Refused                 142119\n",
       "Withdrawn                57215\n",
       "Temporary Protection     22768\n",
       "Resettlements             3514\n",
       "Other Grants              2921\n",
       "Name: count, dtype: int64"
      ]
     },
     "execution_count": 16,
     "metadata": {},
     "output_type": "execute_result"
    }
   ],
   "source": [
    "clean_df['Case outcome'].value_counts()"
   ]
  },
  {
   "cell_type": "code",
   "execution_count": 17,
   "id": "85fad48c-7fa5-4831-89d9-7372be961a4b",
   "metadata": {},
   "outputs": [
    {
     "data": {
      "text/plain": [
       "Case type\n",
       "Asylum Case          106847\n",
       "Resettlement Case      3514\n",
       "Name: count, dtype: int64"
      ]
     },
     "execution_count": 17,
     "metadata": {},
     "output_type": "execute_result"
    }
   ],
   "source": [
    "clean_df['Case type'].value_counts()"
   ]
  },
  {
   "cell_type": "code",
   "execution_count": 31,
   "id": "f82f80c8-8574-4862-8ded-b768c8532f59",
   "metadata": {},
   "outputs": [
    {
     "data": {
      "text/plain": [
       "Case outcome group\n",
       "Refused                 51105\n",
       "Grant of Protection     29237\n",
       "Withdrawn               20596\n",
       "Grant of Other Leave     9423\n",
       "Name: count, dtype: int64"
      ]
     },
     "execution_count": 31,
     "metadata": {},
     "output_type": "execute_result"
    }
   ],
   "source": [
    "clean_df['Case outcome group'].value_counts()"
   ]
  },
  {
   "cell_type": "markdown",
   "id": "79b3f90c-5137-4937-b86f-b9edea655412",
   "metadata": {},
   "source": [
    "Again, there is a high number of nulls, so we have to search for improvements in data classifcation     \n",
    "\n",
    "- Checking for min, max, and mean for the values within 'case type'\n",
    "- The groupby groups the data in the dataframe by the values by the values in the 'Case type' column\n",
    "- After grouping, we are specifying that we want to perform aggregation (mathematical computation involving a range of values) for sum, mean, min, and median using pandas\n",
    "- We are doing the aggregations the new column we made, 'Total Application and Decisions', for each group in 'Case type'\n",
    "- For the computations, we are are using agg to compute min, max, average, and median - it's useful for group data to make several aggregations at the same time\n",
    "- The output is stored in 'agg_casetype'\n",
    "- After, we will do the same to 'Case outcome', 'Case type', and 'Case outcome group'\n",
    "\n",
    "\n",
    "\n",
    "\n",
    "REF: https://pandas.pydata.org/pandas-docs/stable/reference/api/pandas.DataFrame.agg.html"
   ]
  },
  {
   "cell_type": "code",
   "execution_count": 18,
   "id": "bc34759d-7080-4204-b4e4-63d7d4e62766",
   "metadata": {},
   "outputs": [
    {
     "name": "stdout",
     "output_type": "stream",
     "text": [
      "                   Min     Max    Average  Median\n",
      "Case type                                        \n",
      "Asylum Case        1.0  2940.0   9.479817     2.0\n",
      "Resettlement Case  1.0  1551.0  16.292544     2.0\n"
     ]
    }
   ],
   "source": [
    "agg_casetype = clean_df.groupby('Case type')['Total Application and Decisions'].agg(\n",
    "    Min='min',\n",
    "    Max='max',\n",
    "    Average='mean',\n",
    "    Median='median'\n",
    ")\n",
    "\n",
    "print(agg_casetype)"
   ]
  },
  {
   "cell_type": "markdown",
   "id": "3531428c-7242-4162-89b5-9980f48ce72c",
   "metadata": {},
   "source": [
    "Now checking for Case outcome. We saved the last as 'agg_casetype'. This will be 'agg_caseoutcome'"
   ]
  },
  {
   "cell_type": "code",
   "execution_count": 19,
   "id": "777ee172-faeb-401a-ae37-f63ab6514641",
   "metadata": {},
   "outputs": [
    {
     "name": "stdout",
     "output_type": "stream",
     "text": [
      "                      Min       Max     Average  Median\n",
      "Case outcome                                           \n",
      "Issued                1.0  234827.0  231.028443     6.0\n",
      "Other Grants          1.0      26.0    1.777816     1.0\n",
      "Refused               1.0   33430.0   55.019012     3.0\n",
      "Resettlements         1.0    1551.0   16.292544     2.0\n",
      "Temporary Protection  1.0    2122.0    9.872628     2.0\n",
      "Withdrawn             1.0    9062.0    6.890169     2.0\n"
     ]
    }
   ],
   "source": [
    "agg_caseoutcome = clean_df.groupby('Case outcome')['Total Application and Decisions'].agg(\n",
    "    Min='min',\n",
    "    Max='max',\n",
    "    Average='mean',\n",
    "    Median='median'\n",
    ")\n",
    "\n",
    "print(agg_caseoutcome)"
   ]
  },
  {
   "cell_type": "markdown",
   "id": "7a65cf75-2566-4642-828b-2d32d6832515",
   "metadata": {},
   "source": [
    "This will be 'agg_caseoutcomegroup'"
   ]
  },
  {
   "cell_type": "code",
   "execution_count": 20,
   "id": "45c67561-7f72-4e15-b35e-6e6a8bbce983",
   "metadata": {},
   "outputs": [
    {
     "name": "stdout",
     "output_type": "stream",
     "text": [
      "                      Min     Max    Average  Median\n",
      "Case outcome group                                  \n",
      "Grant of Other Leave  1.0  2689.0   8.679720     1.0\n",
      "Grant of Protection   1.0  2122.0  10.031980     2.0\n",
      "Refused               1.0  2940.0  11.866843     2.0\n",
      "Withdrawn             1.0  2270.0   4.301466     1.0\n"
     ]
    }
   ],
   "source": [
    "agg_caseoutcomegroup = clean_df.groupby('Case outcome group')['Total Application and Decisions'].agg(\n",
    "    Min='min',\n",
    "    Max='max',\n",
    "    Average='mean',\n",
    "    Median='median'\n",
    ")\n",
    "\n",
    "print(agg_caseoutcomegroup)"
   ]
  },
  {
   "cell_type": "markdown",
   "id": "34d05dcc-5854-4619-ab6a-5baea4da95ac",
   "metadata": {},
   "source": [
    "OK, we can do a few things to improve the data. The goal is to merge all into one main column, case outcome, and use it as are main dependent variable in an updated df that we will use for modelling"
   ]
  },
  {
   "cell_type": "markdown",
   "id": "0aaff442-1722-4ce6-ba63-6dc8110496d4",
   "metadata": {},
   "source": [
    "Let's check the distribution. Looks like a right skew (median is quite lower than the average)\n",
    "\n",
    "Counting the the occurrences of each category in 'Case outcome'\n",
    "\n",
    "Bar chart"
   ]
  },
  {
   "cell_type": "code",
   "execution_count": 21,
   "id": "18fe3cc4-155e-4ba3-990d-32bcf57dd1b2",
   "metadata": {},
   "outputs": [
    {
     "data": {
      "image/png": "[encoded data removed]",
      "text/plain": [
       "<Figure size 600x400 with 1 Axes>"
      ]
     },
     "metadata": {},
     "output_type": "display_data"
    }
   ],
   "source": [
    "import matplotlib.pyplot as plt\n",
    "case_outcome_counts = clean_df['Case outcome'].value_counts()\n",
    "plt.figure(figsize=(6, 4)) \n",
    "\n",
    "case_outcome_counts.plot(kind='bar')\n",
    "plt.title(\"Distribution of Case Outcome\")\n",
    "plt.xlabel(\"Case Outcome\")\n",
    "plt.ylabel(\"Counts\")\n",
    "plt.xticks(rotation=15)  \n",
    "plt.show()"
   ]
  },
  {
   "cell_type": "code",
   "execution_count": 22,
   "id": "ba848df8-755d-43b2-8e8a-7b02b6b8cfc6",
   "metadata": {},
   "outputs": [
    {
     "data": {
      "image/png": "[encoded data removed]",
      "text/plain": [
       "<Figure size 600x400 with 1 Axes>"
      ]
     },
     "metadata": {},
     "output_type": "display_data"
    }
   ],
   "source": [
    "case_type_counts = clean_df['Case type'].value_counts()\n",
    "plt.figure(figsize=(6, 4)) \n",
    "\n",
    "case_outcome_counts.plot(kind='bar')\n",
    "plt.title(\"Distribution of Case Outcome\")\n",
    "plt.xlabel(\"Case type\")\n",
    "plt.ylabel(\"Counts\")\n",
    "plt.xticks(rotation=15)\n",
    "plt.show()"
   ]
  },
  {
   "cell_type": "code",
   "execution_count": 23,
   "id": "3204e96e-19aa-496d-ad6f-66e906bdc841",
   "metadata": {},
   "outputs": [
    {
     "data": {
      "image/png": "[encoded data removed]",
      "text/plain": [
       "<Figure size 600x400 with 1 Axes>"
      ]
     },
     "metadata": {},
     "output_type": "display_data"
    }
   ],
   "source": [
    "case_outcome_group_counts = clean_df['Case outcome group'].value_counts()\n",
    "plt.figure(figsize=(6, 4)) \n",
    "\n",
    "case_outcome_counts.plot(kind='bar')\n",
    "plt.title(\"Distribution of Case Outcome\")\n",
    "plt.xlabel(\"Case type\")\n",
    "plt.ylabel(\"Counts\")\n",
    "plt.xticks(rotation=15)\n",
    "plt.show()"
   ]
  },
  {
   "cell_type": "markdown",
   "id": "947a4617-089f-43df-b70e-16f4ef6bcb61",
   "metadata": {},
   "source": [
    "Checkout the shape of how many cells don't match from 'Case outcome group' and 'Case outcome'. The objective is to remove the group because it seems redundant."
   ]
  },
  {
   "cell_type": "code",
   "execution_count": 24,
   "id": "910aa997-1ba8-4c3d-b14d-0d1e22350eb1",
   "metadata": {},
   "outputs": [
    {
     "data": {
      "text/plain": [
       "(944952, 28)"
      ]
     },
     "execution_count": 24,
     "metadata": {},
     "output_type": "execute_result"
    }
   ],
   "source": [
    "clean_df[clean_df[\"Case outcome group\"] != clean_df['Case outcome']].shape"
   ]
  },
  {
   "cell_type": "markdown",
   "id": "e9cf84c5-29b1-40bf-ae66-93e4d3b5f2f1",
   "metadata": {},
   "source": [
    "checking rows where the values in the \"Case outcome group\" column do not match the values in the \"Case outcome\" column"
   ]
  },
  {
   "cell_type": "code",
   "execution_count": 25,
   "id": "ceb91f3c-77cc-439a-b16e-3c3e75ca9cc0",
   "metadata": {},
   "outputs": [
    {
     "data": {
      "text/plain": [
       "(944952, 28)"
      ]
     },
     "execution_count": 25,
     "metadata": {},
     "output_type": "execute_result"
    }
   ],
   "source": [
    "clean_df[clean_df[\"Case outcome group\"] != clean_df['Case outcome']].shape"
   ]
  },
  {
   "cell_type": "markdown",
   "id": "9f535b6a-6e2f-467b-aeff-4c9100d25609",
   "metadata": {},
   "source": [
    "There is a lot of nulls still regards. Since the mismatches are the same number of rows, the case columns look ok, we can keep them instead of dropping\n",
    "But generally we need reduce the nulls through imputations"
   ]
  },
  {
   "cell_type": "markdown",
   "id": "630f58b4-c250-4e34-88ca-56971c683576",
   "metadata": {},
   "source": [
    "Let's display 'Case outcome', our main variable"
   ]
  },
  {
   "cell_type": "code",
   "execution_count": 26,
   "id": "ca6e1cce-9412-43d6-adfe-947ed9e1ce1a",
   "metadata": {},
   "outputs": [
    {
     "data": {
      "text/plain": [
       "Case outcome\n",
       "Issued                  188307\n",
       "Refused                 142119\n",
       "Withdrawn                57215\n",
       "Temporary Protection     22768\n",
       "Resettlements             3514\n",
       "Other Grants              2921\n",
       "Name: count, dtype: int64"
      ]
     },
     "execution_count": 26,
     "metadata": {},
     "output_type": "execute_result"
    }
   ],
   "source": [
    "clean_df['Case outcome'].value_counts()"
   ]
  },
  {
   "cell_type": "markdown",
   "id": "94700050-2371-417b-8592-e522c5b7c95d",
   "metadata": {},
   "source": [
    "Making a copy of the Case outcome so we can see how many matches or mismatches there are\n",
    "\n",
    "This way we don't have to modify the df we're working on\n",
    "\n",
    "Using the len function to count the number of matches and mismatches"
   ]
  },
  {
   "cell_type": "code",
   "execution_count": 32,
   "id": "668a3faf-aa05-4f48-afa4-c4f35a509dc4",
   "metadata": {},
   "outputs": [
    {
     "name": "stdout",
     "output_type": "stream",
     "text": [
      "Total matches: 67773\n",
      "Total mismatches: 944952\n"
     ]
    }
   ],
   "source": [
    "temp_case_outcome = clean_df['Case outcome'].copy()\n",
    "temp_case_outcome_group = clean_df['Case outcome group'].copy()\n",
    "\n",
    "matches = clean_df[temp_case_outcome == temp_case_outcome_group]\n",
    "mismatches = clean_df[temp_case_outcome != temp_case_outcome_group]\n",
    "\n",
    "print(f\"Total matches: {len(matches)}\")\n",
    "print(f\"Total mismatches: {len(mismatches)}\")\n"
   ]
  },
  {
   "cell_type": "markdown",
   "id": "d99e73b7-7c23-425d-86d7-62d827f3ed6a",
   "metadata": {},
   "source": [
    "OK there is a fair amont of matches, and a lot of mismatches\n",
    "\n",
    "Let's review some mismatched rows to understand the discrepancy"
   ]
  },
  {
   "cell_type": "code",
   "execution_count": 34,
   "id": "e1cb3288-317d-40ae-9cee-37d65804353a",
   "metadata": {},
   "outputs": [
    {
     "name": "stdout",
     "output_type": "stream",
     "text": [
      "       Case outcome Case outcome group\n",
      "825801       Issued                NaN\n",
      "815860          NaN                NaN\n",
      "989247          NaN                NaN\n",
      "893032          NaN                NaN\n",
      "571193       Issued                NaN\n",
      "333385          NaN                NaN\n",
      "516570          NaN                NaN\n",
      "902088          NaN                NaN\n",
      "175531          NaN                NaN\n",
      "165664          NaN                NaN\n"
     ]
    }
   ],
   "source": [
    "print(mismatches[['Case outcome', 'Case outcome group']].sample(10))"
   ]
  },
  {
   "cell_type": "markdown",
   "id": "4d0f6bcd-3d6b-4a2c-86e2-ddadd7d5b12d",
   "metadata": {},
   "source": [
    "Now we will synchronize the 'Case outcome' and 'Case outcome group' columns by filling missing values (NaNs) \n",
    "\n",
    "Then we will replace the empty strings\n",
    "\n",
    "Specifically to replace empty strings in 'Case outcome' with the corresponding value from 'Case outcome group'. This way they can match, and vice versa\n",
    "\n",
    "- For these rows, the value in \"Case outcome\" is replaced with the corresponding value from \"Case outcome group\". \n",
    "- Updated using .loc \"Case outcome\" to match \"Case outcome group\".\n",
    "- Replacing empty strings with the value from the other column if one is empty and the other is not\n",
    "\n",
    "Though there are a lot more populated rows in 'Case outcome' than Case outcome group"
   ]
  },
  {
   "cell_type": "code",
   "execution_count": 35,
   "id": "8ee93bfb-79de-41c3-997f-2823ac9ff2dd",
   "metadata": {},
   "outputs": [
    {
     "name": "stderr",
     "output_type": "stream",
     "text": [
      "C:\\Users\\patri\\AppData\\Local\\Temp\\ipykernel_1780\\2920096918.py:1: FutureWarning: A value is trying to be set on a copy of a DataFrame or Series through chained assignment using an inplace method.\n",
      "The behavior will change in pandas 3.0. This inplace method will never work because the intermediate object on which we are setting values always behaves as a copy.\n",
      "\n",
      "For example, when doing 'df[col].method(value, inplace=True)', try using 'df.method({col: value}, inplace=True)' or df[col] = df[col].method(value) instead, to perform the operation inplace on the original object.\n",
      "\n",
      "\n",
      "  clean_df['Case outcome'].fillna(clean_df['Case outcome group'], inplace=True)\n",
      "C:\\Users\\patri\\AppData\\Local\\Temp\\ipykernel_1780\\2920096918.py:1: SettingWithCopyWarning: \n",
      "A value is trying to be set on a copy of a slice from a DataFrame\n",
      "\n",
      "See the caveats in the documentation: https://pandas.pydata.org/pandas-docs/stable/user_guide/indexing.html#returning-a-view-versus-a-copy\n",
      "  clean_df['Case outcome'].fillna(clean_df['Case outcome group'], inplace=True)\n",
      "C:\\Users\\patri\\AppData\\Local\\Temp\\ipykernel_1780\\2920096918.py:2: FutureWarning: A value is trying to be set on a copy of a DataFrame or Series through chained assignment using an inplace method.\n",
      "The behavior will change in pandas 3.0. This inplace method will never work because the intermediate object on which we are setting values always behaves as a copy.\n",
      "\n",
      "For example, when doing 'df[col].method(value, inplace=True)', try using 'df.method({col: value}, inplace=True)' or df[col] = df[col].method(value) instead, to perform the operation inplace on the original object.\n",
      "\n",
      "\n",
      "  clean_df['Case outcome group'].fillna(clean_df['Case outcome'], inplace=True)\n",
      "C:\\Users\\patri\\AppData\\Local\\Temp\\ipykernel_1780\\2920096918.py:2: SettingWithCopyWarning: \n",
      "A value is trying to be set on a copy of a slice from a DataFrame\n",
      "\n",
      "See the caveats in the documentation: https://pandas.pydata.org/pandas-docs/stable/user_guide/indexing.html#returning-a-view-versus-a-copy\n",
      "  clean_df['Case outcome group'].fillna(clean_df['Case outcome'], inplace=True)\n"
     ]
    },
    {
     "name": "stdout",
     "output_type": "stream",
     "text": [
      "After update, total matches: 374256\n",
      "After update, total mismatches: 638469\n"
     ]
    }
   ],
   "source": [
    "clean_df['Case outcome'] = clean_df['Case outcome'].fillna(clean_df['Case outcome group'])\n",
    "clean_df['Case outcome group'] = clean_df['Case outcome group'].fillna(clean_df['Case outcome'])\n",
    "\n",
    "clean_df.loc[clean_df['Case outcome'] == '', 'Case outcome'] = clean_df.loc[clean_df['Case outcome'] == '', 'Case outcome group']\n",
    "clean_df.loc[clean_df['Case outcome group'] == '', 'Case outcome group'] = clean_df.loc[clean_df['Case outcome group'] == '', 'Case outcome']\n",
    "\n",
    "matches = clean_df[clean_df['Case outcome'] == clean_df['Case outcome group']]\n",
    "mismatches = clean_df[clean_df['Case outcome'] != clean_df['Case outcome group']]\n",
    "\n",
    "print(f\"After update, total matches: {len(matches)}\")\n",
    "print(f\"After update, total mismatches: {len(mismatches)}\")\n",
    "\n",
    "\n",
    "#REF: https://stackoverflow.com/questions/42449169/overwriting-nan-values-with-loc-in-pandas, ChatGPT"
   ]
  },
  {
   "cell_type": "markdown",
   "id": "847d8e74-fdea-4511-994b-e335869bb82d",
   "metadata": {},
   "source": [
    "Checking again for after update "
   ]
  },
  {
   "cell_type": "markdown",
   "id": "fceee2e1-7609-40b2-b985-d323b4cb5adb",
   "metadata": {},
   "source": [
    "Let's check how many nulls there are now"
   ]
  },
  {
   "cell_type": "code",
   "execution_count": 36,
   "id": "a5a08af3-c3e5-4914-b9fb-c9e61377494e",
   "metadata": {},
   "outputs": [
    {
     "data": {
      "text/plain": [
       "Year                         0.000000\n",
       "Quarter                      0.000000\n",
       "Nationality                  0.000000\n",
       "Region                       0.000000\n",
       "Return type group           76.895043\n",
       "Return type                 76.895043\n",
       "Age                          0.000000\n",
       "Sex                          0.000000\n",
       "Return destination group    76.895043\n",
       "Number of returns           76.895043\n",
       "Visa type group             70.034898\n",
       "Applicant type              52.157214\n",
       "Case outcome                58.921874\n",
       "Decisions                    0.000000\n",
       "Case type                   88.886977\n",
       "Case outcome group          88.886977\n",
       "UASC                        82.122316\n",
       "Application type            87.884675\n",
       "Grants                       0.000000\n",
       "Applications                 0.000000\n",
       "Occupation                  83.824712\n",
       "Industry                    83.824712\n",
       "Occ. major group            83.824712\n",
       "Occ. sub-major group        83.824712\n",
       "Occ. minor group            83.824712\n",
       "Occ. unit group             83.824712\n",
       "General_Region               0.000097\n",
       "dtype: float64"
      ]
     },
     "execution_count": 36,
     "metadata": {},
     "output_type": "execute_result"
    }
   ],
   "source": [
    "df_combined.isna().sum()/df_combined.shape[0]*100"
   ]
  },
  {
   "cell_type": "markdown",
   "id": "9c3fbd31-f6c6-4b25-9850-417b3799974c",
   "metadata": {},
   "source": [
    "OK now we can look at Case outcome, Case outcome group, and Case type"
   ]
  },
  {
   "cell_type": "code",
   "execution_count": 37,
   "id": "5540fce2-3580-4bc9-ba9f-4341ca9654c5",
   "metadata": {},
   "outputs": [
    {
     "data": {
      "text/plain": [
       "Case outcome\n",
       "Issued                  188307\n",
       "Refused                 142119\n",
       "Withdrawn                57215\n",
       "Temporary Protection     22768\n",
       "Resettlements             3514\n",
       "Other Grants              2921\n",
       "Name: count, dtype: int64"
      ]
     },
     "execution_count": 37,
     "metadata": {},
     "output_type": "execute_result"
    }
   ],
   "source": [
    "clean_df['Case outcome'].value_counts()"
   ]
  },
  {
   "cell_type": "code",
   "execution_count": 38,
   "id": "daf625c1-c32d-4183-9c7c-b31352029aa1",
   "metadata": {},
   "outputs": [
    {
     "data": {
      "text/plain": [
       "Case outcome group\n",
       "Issued                  174922\n",
       "Refused                 142119\n",
       "Withdrawn                61143\n",
       "Grant of Protection      29237\n",
       "Grant of Other Leave      9423\n",
       "Name: count, dtype: int64"
      ]
     },
     "execution_count": 38,
     "metadata": {},
     "output_type": "execute_result"
    }
   ],
   "source": [
    "clean_df['Case outcome group'].value_counts()"
   ]
  },
  {
   "cell_type": "code",
   "execution_count": 39,
   "id": "958a0f7c-d13d-4441-a3ad-5014777f46b7",
   "metadata": {},
   "outputs": [
    {
     "data": {
      "text/plain": [
       "Case type\n",
       "Asylum Case          106847\n",
       "Resettlement Case      3514\n",
       "Name: count, dtype: int64"
      ]
     },
     "execution_count": 39,
     "metadata": {},
     "output_type": "execute_result"
    }
   ],
   "source": [
    "clean_df['Case type'].value_counts()"
   ]
  },
  {
   "cell_type": "markdown",
   "id": "de8eb478-b48a-494e-97cf-78a9bda92fdb",
   "metadata": {},
   "source": [
    "s a group-by operation on the clean_df DataFrame, aggregates statistics for the 'Total Application and Decisions' column based on the 'Case outcome' groups, and then prints the resulting summary statistics.\n",
    "\n",
    "groups the DataFrame by unique values in the 'Case outcome' column\n",
    "\n",
    "(agg) function is applied specifically to the 'Total Application and Decisions' column of each group. The agg function allows multiple aggregation operations to be specified simultaneously.\n",
    "\n",
    "stored in a new DataFrame called aggregated.\n",
    "\n",
    "\n",
    "    "
   ]
  },
  {
   "cell_type": "code",
   "execution_count": 40,
   "id": "bbd8c06d-cde7-4a9d-9208-762fe1b69e20",
   "metadata": {},
   "outputs": [
    {
     "name": "stdout",
     "output_type": "stream",
     "text": [
      "                      Min       Max     Average  Median   Count\n",
      "Case outcome                                                   \n",
      "Issued                1.0  234827.0  231.028443     6.0  188307\n",
      "Other Grants          1.0      26.0    1.777816     1.0    2921\n",
      "Refused               1.0   33430.0   55.019012     3.0  142119\n",
      "Resettlements         1.0    1551.0   16.292544     2.0    3514\n",
      "Temporary Protection  1.0    2122.0    9.872628     2.0   22768\n",
      "Withdrawn             1.0    9062.0    6.890169     2.0   57215\n"
     ]
    }
   ],
   "source": [
    "aggregated = clean_df.groupby('Case outcome')['Total Application and Decisions'].agg(\n",
    "    Min='min',\n",
    "    Max='max',\n",
    "    Average='mean',\n",
    "    Median='median',\n",
    "    Count='count'\n",
    ")\n",
    "\n",
    "print(aggregated)"
   ]
  },
  {
   "cell_type": "code",
   "execution_count": 41,
   "id": "778282eb-cb59-4692-9322-33e229791619",
   "metadata": {},
   "outputs": [
    {
     "name": "stdout",
     "output_type": "stream",
     "text": [
      "                   Min     Max    Average  Median   Count\n",
      "Case type                                                \n",
      "Asylum Case        1.0  2940.0   9.479817     2.0  106847\n",
      "Resettlement Case  1.0  1551.0  16.292544     2.0    3514\n"
     ]
    }
   ],
   "source": [
    "aggregated2 = clean_df.groupby('Case type')['Total Application and Decisions'].agg(\n",
    "    Min='min',\n",
    "    Max='max',\n",
    "    Average='mean',\n",
    "    Median='median',\n",
    "    Count='count'\n",
    ")\n",
    "\n",
    "print(aggregated2)\n"
   ]
  },
  {
   "cell_type": "code",
   "execution_count": 42,
   "id": "d904c978-f8ae-4f0e-a98d-70f754f3f173",
   "metadata": {},
   "outputs": [
    {
     "name": "stdout",
     "output_type": "stream",
     "text": [
      "                      Min       Max     Average  Median   Count\n",
      "Case outcome group                                             \n",
      "Grant of Other Leave  1.0    2689.0    8.679720     1.0    9423\n",
      "Grant of Protection   1.0    2122.0   10.031980     2.0   29237\n",
      "Issued                1.0  234827.0  248.074553     7.0  174922\n",
      "Refused               1.0   33430.0   55.019012     3.0  142119\n",
      "Withdrawn             1.0    9062.0    6.818900     2.0   61143\n"
     ]
    }
   ],
   "source": [
    "aggregated3 = clean_df.groupby('Case outcome group')['Total Application and Decisions'].agg(\n",
    "    Min='min',\n",
    "    Max='max',\n",
    "    Average='mean',\n",
    "    Median='median',\n",
    "    Count='count'\n",
    ")\n",
    "\n",
    "print(aggregated3)\n"
   ]
  },
  {
   "cell_type": "markdown",
   "id": "207fd63c-390d-4b2e-969f-d6fa6c3fa9d3",
   "metadata": {},
   "source": [
    "Now let's plot all 3 cases so we can examine the destributions"
   ]
  },
  {
   "cell_type": "code",
   "execution_count": null,
   "id": "744ba2d5-677b-4ffc-9389-7c9b3f7a5d3a",
   "metadata": {},
   "outputs": [],
   "source": [
    "case_type_counts = clean_df['Case type'].value_counts().sort_values(ascending=False)\n",
    "\n",
    "# Plot\n",
    "plt.figure(figsize=(6, 4))\n",
    "sns.barplot(x=case_type_counts.index, y=case_type_counts.values)\n",
    "plt.title('Distribution of Case Types')\n",
    "plt.xticks(rotation=15)\n",
    "plt.show()\n"
   ]
  },
  {
   "cell_type": "code",
   "execution_count": null,
   "id": "77dc9b84-5d14-4c03-8bff-7996a0e1cf8e",
   "metadata": {},
   "outputs": [],
   "source": [
    "case_outcome_counts = clean_df['Case outcome'].value_counts().sort_values(ascending=False)\n",
    "\n",
    "plt.figure(figsize=(6, 4))\n",
    "sns.barplot(x=case_outcome_counts.index, y=case_outcome_counts.values)\n",
    "plt.title('Distribution of Case Outcomes')\n",
    "plt.xticks(rotation=15)\n",
    "plt.show()\n"
   ]
  },
  {
   "cell_type": "code",
   "execution_count": null,
   "id": "7c3755c4-d936-4e7f-b105-8492017db012",
   "metadata": {},
   "outputs": [],
   "source": [
    "case_outcome_group_counts = clean_df['Case outcome group'].value_counts().sort_values(ascending=False)\n",
    "\n",
    "plt.figure(figsize=(6, 4))\n",
    "sns.barplot(x=case_outcome_group_counts.index, y=case_outcome_group_counts.values)\n",
    "plt.title('Distribution of Case Outcome Groups')\n",
    "plt.xticks(rotation=15)\n",
    "plt.show()"
   ]
  },
  {
   "cell_type": "markdown",
   "id": "891dcfa2-68f7-40b6-9a34-1c5e142a67fb",
   "metadata": {},
   "source": [
    "OK we will use Visa Outcomes, Age, and so on, to further fill out the data\n",
    "Moving on to visa outcomes and age"
   ]
  },
  {
   "cell_type": "markdown",
   "id": "cf5ab6c7-cfbb-4bda-823d-5a1f430c36a8",
   "metadata": {},
   "source": [
    "<div id='Visa_Outcomes'></div>\n",
    "\n",
    "### Observation x: Visa Outcomes"
   ]
  },
  {
   "cell_type": "code",
   "execution_count": 43,
   "id": "cf98365d-4521-4208-a630-254145560e1b",
   "metadata": {},
   "outputs": [
    {
     "data": {
      "text/plain": [
       "Visa type group\n",
       "Work                            93704\n",
       "Study                           59550\n",
       "Other                           59218\n",
       "Family                          44233\n",
       "Visitor                         32570\n",
       "Dep. joining or accompanying    17208\n",
       "Name: count, dtype: int64"
      ]
     },
     "execution_count": 43,
     "metadata": {},
     "output_type": "execute_result"
    }
   ],
   "source": [
    "clean_df['Visa type group'].value_counts()"
   ]
  },
  {
   "cell_type": "markdown",
   "id": "0d5e9819-a757-41ad-be8b-1fafa5198c21",
   "metadata": {},
   "source": [
    "## Age\n",
    "\n",
    "<div id='Age'></div>"
   ]
  },
  {
   "cell_type": "markdown",
   "id": "4fd96499-6096-4011-8a67-dcbe50b5b044",
   "metadata": {},
   "source": [
    "Let's look at 'Age', which has 0 nulls but quite a number of Unknowns. Let's try to get the # of unknowns down\n",
    "\n",
    "Looking at the column"
   ]
  },
  {
   "cell_type": "code",
   "execution_count": null,
   "id": "0c95d3c1-b1cb-4ff6-bce2-12ab665fdde0",
   "metadata": {},
   "outputs": [],
   "source": [
    "clean_df['Age'].value_counts()"
   ]
  },
  {
   "cell_type": "markdown",
   "id": "b685e802-2a5a-46a1-9749-1ee4d2722e8d",
   "metadata": {},
   "source": [
    "We have a lot of unknowns, so making a filter to show rows where 'Age' is 'Unknown' and 'Visa type group' is 'Study'\n",
    "\n",
    "This way we can correct it for the range of 18-29 old in 'Age'"
   ]
  },
  {
   "cell_type": "code",
   "execution_count": null,
   "id": "44583d2d-118d-49ea-a014-78b04554859b",
   "metadata": {},
   "outputs": [],
   "source": [
    "filter_age_unknown = clean_df[(clean_df['Visa type group'] == 'Study') & (clean_df['Age'] == 'Unknown')]\n",
    "age_study = filter_age_unknown[['Visa type group', 'Age']]\n",
    "\n",
    "print(age_study)"
   ]
  },
  {
   "cell_type": "markdown",
   "id": "78e74a57-8831-4ed0-b7d8-2f0c256677d5",
   "metadata": {},
   "source": [
    "OK there are 59,550 rows we can fill out\n",
    "\n",
    "The first line updates for specific rows, where 'Age' = Unknown, and 'Visa type group' is 'Study'.\n",
    "\n",
    "For these specific rows, we are setting 'Age' to '18 to 29' becuase we're assuming people in study visas are likely in this range \n",
    "\n",
    "After that, to vertify the results, we are filtering clean_df to only include 'Visa type group' rows that have 'Study' and the updated 'Age' range of '18 to 29'"
   ]
  },
  {
   "cell_type": "code",
   "execution_count": null,
   "id": "73cd9717-9919-4984-9bcc-3b4b5d31bcd0",
   "metadata": {},
   "outputs": [],
   "source": [
    "clean_df.loc[(clean_df['Age'] == 'Unknown') & (clean_df['Visa type group'] == 'Study'), 'Age'] = '18 to 29'\n",
    "updated_rows = clean_df[(clean_df['Visa type group'] == 'Study') & (clean_df['Age'] == '18 to 29')]\n",
    "\n",
    "print(updated_rows[['Visa type group', 'Age']])"
   ]
  },
  {
   "cell_type": "markdown",
   "id": "321aa7b2-5e82-4da0-b833-0041f74a750b",
   "metadata": {},
   "source": [
    "We can use this to improve the 3 case columns\n",
    "\n",
    "We are defining a condition where 'Age' = to the same range as above, and where case outcome, case type, and case outcome group are na\n",
    "\n",
    "Then we apply the condion using .loc to set these values to be Issued, instead of na"
   ]
  },
  {
   "cell_type": "code",
   "execution_count": null,
   "id": "ae2ff020-a54f-44fb-b97f-b0ed5dda3f9b",
   "metadata": {},
   "outputs": [],
   "source": [
    "condition = (clean_df['Age'] == '18 to 29') & (clean_df['Case outcome'].isna()) & (clean_df['Case type'].isna()) & (clean_df['Case outcome group'].isna())\n",
    "clean_df.loc[condition, ['Case outcome', 'Case type', 'Case outcome group']] = 'Issued'\n",
    "\n",
    "print(clean_df.loc[condition, ['Age', 'Case outcome', 'Case type', 'Case outcome group']])"
   ]
  },
  {
   "cell_type": "code",
   "execution_count": null,
   "id": "0a8698ba-d399-49fe-9377-6c452f17ab7b",
   "metadata": {},
   "outputs": [],
   "source": []
  },
  {
   "cell_type": "markdown",
   "id": "e903b44e-0f59-4273-949f-c7ae41cb360d",
   "metadata": {},
   "source": [
    "On this subject, let's look at the column UASC, which is an abbreviation for Unaccompanied Asylum Seeking Children"
   ]
  },
  {
   "cell_type": "code",
   "execution_count": 44,
   "id": "f5553ad7-8111-4636-917f-0972b5eb0af9",
   "metadata": {},
   "outputs": [
    {
     "data": {
      "text/plain": [
       "UASC\n",
       "Non-UASC              142359\n",
       "Total (pre-2006)       18944\n",
       "UASC                   13110\n",
       "Resettlement - N/A      3514\n",
       "Name: count, dtype: int64"
      ]
     },
     "execution_count": 44,
     "metadata": {},
     "output_type": "execute_result"
    }
   ],
   "source": [
    "clean_df['UASC'].value_counts()"
   ]
  },
  {
   "cell_type": "markdown",
   "id": "2de0a69e-b68f-4401-b64b-c37ccb54d513",
   "metadata": {},
   "source": [
    "condition is defined where the 'UASC' column's values are equal to 'UASC'\n",
    "\n",
    "rows meeting the condition (i.e., where 'UASC' equals 'UASC'), the 'Age' column is updated to the string 'Child'. This operation is performed in-place, directly modifying clean_df\n",
    "\n",
    " .sum() method counts how many times the condition is True, effectively counting how many rows were updated"
   ]
  },
  {
   "cell_type": "code",
   "execution_count": null,
   "id": "0dbbae01-bcab-4406-88e6-96e55f736d19",
   "metadata": {},
   "outputs": [],
   "source": [
    "condition_uasc_to_child = (clean_df['UASC'] == 'UASC')\n",
    "\n",
    "clean_df.loc[condition_uasc_to_child, 'Age'] = 'Child'\n",
    "\n",
    "updated_rows_uasc_to_child = condition_uasc_to_child.sum()\n",
    "\n",
    "print(f\"Rows updated where 'UASC' equals 'uasc' and 'Age' was set to 'Child': {updated_rows_uasc_to_child}\")\n",
    "print(clean_df.loc[condition_uasc_to_child, ['Age', 'UASC']])"
   ]
  },
  {
   "cell_type": "markdown",
   "id": "575c1202-279c-4ad7-b1ce-bd853575eea5",
   "metadata": {},
   "source": [
    "Now let's look at the distribution of age, maybe we can make some imputations"
   ]
  },
  {
   "cell_type": "code",
   "execution_count": null,
   "id": "92584930-00dc-4693-8e38-c3c4947de686",
   "metadata": {},
   "outputs": [],
   "source": [
    "age_counts = clean_df['Age'].value_counts().sort_values(ascending=False)\n",
    "\n",
    "plt.figure(figsize=(6, 4))\n",
    "sns.barplot(x=age_counts.index, y=age_counts.values)\n",
    "plt.title('Distribution of Age')\n",
    "plt.xticks(rotation=15)\n",
    "plt.show()"
   ]
  },
  {
   "cell_type": "code",
   "execution_count": null,
   "id": "b396a75c-58c0-4406-b71d-cc6de983606d",
   "metadata": {},
   "outputs": [],
   "source": []
  },
  {
   "cell_type": "code",
   "execution_count": null,
   "id": "5f762366-ad1f-4a7f-9c19-898f4148b35d",
   "metadata": {},
   "outputs": [],
   "source": [
    "aggregated_age = clean_df.groupby('Age')['Total Application and Decisions'].agg(\n",
    "    Min='min',\n",
    "    Max='max',\n",
    "    Average='mean',\n",
    "    Median='median',\n",
    "    Count='count'\n",
    ")\n",
    "\n",
    "print(aggregated_age)"
   ]
  },
  {
   "cell_type": "code",
   "execution_count": null,
   "id": "b41aa35a-6d2d-43a2-a7bc-21fb1becc865",
   "metadata": {},
   "outputs": [],
   "source": []
  },
  {
   "cell_type": "markdown",
   "id": "28ca7a38-4801-4d38-ac63-2234dea92928",
   "metadata": {},
   "source": [
    "OK we can use this information to see who are children. Overall, this script is a data cleaning step, filling in missing data based on UASC status\n",
    "\n",
    "Also we have some infomation on resettlements, and we can see that all of them would have been Issuances, in one way or another\n",
    "\n",
    "So we can use this to update the cases through defining conditions\n",
    "\n",
    "Making 2 conditions whether the case columns are blank or null\n",
    "\n",
    "Condition 1 is'UASC' or'Non-UASC' or 'Total (pre-2006)', for any of the columns 'Case outcome', 'Case type', or 'Case outcome group' that are null and missing data\n",
    "\n",
    "Condition 2 is 'UASC' = 'UASC', indicating Unaccompanied Asylum-Seeking Child, and again any of the 'Case outcome', 'Case type', or 'Case outcome group' columns are null\n",
    "\n",
    "Then we are applying the updates using .loc based on these 2 conditions"
   ]
  },
  {
   "cell_type": "code",
   "execution_count": null,
   "id": "8a7cec7f-6b8c-4ab4-8eb7-66bc696437e8",
   "metadata": {},
   "outputs": [],
   "source": [
    "condition1_uasc = ((clean_df['UASC'] == 'Non-UASC') | (clean_df['UASC'] == 'Total (pre-2006)')) & (clean_df['Case outcome'].isna() | clean_df['Case type'].isna() | clean_df['Case outcome group'].isna())\n",
    "condition2_uasc = (clean_df['UASC'] == 'UASC') & (clean_df['Case outcome'].isna() | clean_df['Case type'].isna() | clean_df['Case outcome group'].isna())\n",
    "\n",
    "matching_rows_condition1 = condition1_uasc.sum()\n",
    "matching_rows_condition2 = condition2_uasc.sum()\n",
    "\n",
    "clean_df.loc[condition1_uasc, ['Case outcome', 'Case type', 'Case outcome group']] = 'Issued'\n",
    "clean_df.loc[condition2_uasc, ['Case outcome', 'Case type', 'Case outcome group']] = ['Issued', 'Asylum Case', 'Issued']\n",
    "\n",
    "# Print the number of rows updated for each condition\n",
    "print(f\"Rows updated for condition 1 (Non-UASC or Total (pre-2006)): {matching_rows_condition1}\")\n",
    "print(f\"Rows updated for condition 2 (UASC): {matching_rows_condition2}\")\n"
   ]
  },
  {
   "cell_type": "code",
   "execution_count": null,
   "id": "2e3844fe-ddd0-4d23-b7de-ae3e8613cd1b",
   "metadata": {},
   "outputs": [],
   "source": [
    "clean_df.isna().sum()/df_combined.shape[0]*100"
   ]
  },
  {
   "cell_type": "markdown",
   "id": "14444a62-2804-4d78-bc9b-31546983f943",
   "metadata": {},
   "source": [
    "OK we definitely getting there. Let's look at Applicant type, Application type, Return destination group"
   ]
  },
  {
   "cell_type": "code",
   "execution_count": null,
   "id": "781b3a43-c8b6-494f-9330-a0944cf87f00",
   "metadata": {},
   "outputs": [],
   "source": [
    "clean_df['Applicant type'].value_counts()"
   ]
  },
  {
   "cell_type": "markdown",
   "id": "028941b2-c870-4a98-bb57-c20c5e7a39fd",
   "metadata": {},
   "source": [
    "We can see here that all these would have been issuances, and we have some specifics we can use\n",
    "\n",
    "Dependants we can set to a lower age range"
   ]
  },
  {
   "cell_type": "code",
   "execution_count": 45,
   "id": "749cceae-6658-4958-a228-514cb71b7d14",
   "metadata": {},
   "outputs": [
    {
     "data": {
      "text/plain": [
       "Application type\n",
       "Naturalisation based on residence    51275\n",
       "Naturalisation based on marriage     34862\n",
       "Registration of minor children       23387\n",
       "Registration on other grounds        15074\n",
       "Name: count, dtype: int64"
      ]
     },
     "execution_count": 45,
     "metadata": {},
     "output_type": "execute_result"
    }
   ],
   "source": [
    "clean_df['Application type'].value_counts()"
   ]
  },
  {
   "cell_type": "markdown",
   "id": "ec783efd-3a12-4468-814f-e9eaf786eb91",
   "metadata": {},
   "source": [
    "All these would have been issuances as well, and we have ~23K that we can confirm as being a younger age"
   ]
  },
  {
   "cell_type": "markdown",
   "id": "07767399-a958-40be-9018-c756f3a53f64",
   "metadata": {},
   "source": [
    "Returns are different because these are individuals that were returned to their home country or somewhere else, assumingly from a rejection in the UK"
   ]
  },
  {
   "cell_type": "code",
   "execution_count": 46,
   "id": "d64ee70b-9238-4cd6-8653-de2bd56da810",
   "metadata": {},
   "outputs": [
    {
     "data": {
      "text/plain": [
       "Return destination group\n",
       "Home country       91826\n",
       "EU Member State    64042\n",
       "Other country      50354\n",
       "Home Country       23542\n",
       "Name: count, dtype: int64"
      ]
     },
     "execution_count": 46,
     "metadata": {},
     "output_type": "execute_result"
    }
   ],
   "source": [
    "clean_df['Return destination group'].value_counts()"
   ]
  },
  {
   "cell_type": "markdown",
   "id": "b41eda01-dd05-43f3-a082-dcd6fcbe5a6a",
   "metadata": {},
   "source": [
    "OK we can assume all these were rejections, so we can improve our case data set\n",
    "\n",
    "We can also improve the return columns to be marked as \"Case issued\", instead of null"
   ]
  },
  {
   "cell_type": "code",
   "execution_count": null,
   "id": "9bc6e9b4-3acc-46e2-89c4-8f79f193cc0e",
   "metadata": {},
   "outputs": [],
   "source": [
    "condition1_applicant_type = ((clean_df['Applicant type'] == 'Main Applicant') | (clean_df['Applicant type'] == 'All') | (clean_df['Applicant type'] == 'Main applicant') | (clean_df['Applicant type'] == 'Dependant')) & (clean_df['Case outcome'].isna() | clean_df['Case type'].isna() | clean_df['Case outcome group'].isna())\n",
    "condition2_applicant_type = (clean_df['Applicant type'] == 'Resettlement - N/A') & (clean_df['Case outcome'].isna() | clean_df['Case type'].isna() | clean_df['Case outcome group'].isna())\n",
    "\n",
    "matching_rows_condition1_at = condition1_applicant_type.sum()\n",
    "matching_rows_condition2_at = condition2_applicant_type.sum()\n",
    "\n",
    "clean_df.loc[condition1_applicant_type, ['Case outcome', 'Case type', 'Case outcome group']] = 'Issued'\n",
    "clean_df.loc[condition2_applicant_type, ['Case outcome', 'Case type', 'Case outcome group']] = 'Resettlement'\n",
    "\n",
    "print(f\"Rows updated for condition 1 (Issued): {matching_rows_condition1_at}\")\n",
    "print(f\"Rows updated for condition 2 (Resettlement): {matching_rows_condition2_at}\")\n"
   ]
  },
  {
   "cell_type": "markdown",
   "id": "4a7a5fc5-c9dd-41aa-8a18-0fdd88f92673",
   "metadata": {},
   "source": [
    "Define the single condition that encompasses all the specified 'Application type' categories\n",
    "and checks for missing values in the relevant columns\n",
    "count matching rows for the condition\n"
   ]
  },
  {
   "cell_type": "code",
   "execution_count": null,
   "id": "4054e9e2-3614-4e9f-971e-a299ed437b0d",
   "metadata": {},
   "outputs": [],
   "source": [
    "condition_application_type = (\n",
    "    clean_df['Application type'].isin([\n",
    "        'Naturalisation based on residence',\n",
    "        'Naturalisation based on marriage',\n",
    "        'Registration of minor children',\n",
    "        'Registration on other grounds'\n",
    "    ]) & (\n",
    "        clean_df['Case outcome'].isna() |\n",
    "        clean_df['Case type'].isna() |\n",
    "        clean_df['Case outcome group'].isna()\n",
    "    )\n",
    ")\n",
    "\n",
    "matching_rows_application_type = condition_application_type.sum()\n",
    "clean_df.loc[condition_application_type, ['Case outcome', 'Case type', 'Case outcome group']] = 'Issued'\n",
    "print(f\"Rows updated for 'Application type' conditions to 'Issued': {matching_rows_application_type}\")"
   ]
  },
  {
   "cell_type": "code",
   "execution_count": null,
   "id": "fd980b6e-17ce-4786-b317-fa29c11b1580",
   "metadata": {},
   "outputs": [],
   "source": [
    "clean_df.isna().sum()/df_combined.shape[0]*100"
   ]
  },
  {
   "cell_type": "markdown",
   "id": "8fc7e865-5089-4205-a8ce-56a08461206a",
   "metadata": {},
   "source": [
    "Note there are two versions of Home country (C and c)"
   ]
  },
  {
   "cell_type": "code",
   "execution_count": null,
   "id": "a65f7f7b-78fb-4c71-a0ea-052037353fc0",
   "metadata": {},
   "outputs": [],
   "source": [
    "condition_return_destination = (\n",
    "    clean_df['Return destination group'].isin([\n",
    "        'Home country',\n",
    "        'EU Member State',\n",
    "        'Other country',\n",
    "        'Home Country'  y\n",
    "    ]) & (\n",
    "        clean_df['Case outcome'].isna() |\n",
    "        clean_df['Case type'].isna() |\n",
    "        clean_df['Case outcome group'].isna()\n",
    "    )\n",
    ")\n",
    "\n",
    "matching_rows_return_destination = condition_return_destination.sum()\n",
    "\n",
    "clean_df.loc[condition_return_destination, ['Case outcome', 'Case type', 'Case outcome group']] = 'Refused'\n",
    "\n",
    "print(f\"Rows updated for 'Return destination group' conditions to 'Refused': {matching_rows_return_destination}\")\n"
   ]
  },
  {
   "cell_type": "code",
   "execution_count": null,
   "id": "7361d5f7-b865-4ddb-b17b-99c48733071e",
   "metadata": {},
   "outputs": [],
   "source": []
  },
  {
   "cell_type": "code",
   "execution_count": null,
   "id": "86bfb28c-d849-4d28-89de-0521b19b5b72",
   "metadata": {},
   "outputs": [],
   "source": [
    "clean_df['Occupation'].value_counts()"
   ]
  },
  {
   "cell_type": "markdown",
   "id": "6d74b328-68f8-4d50-ba85-3f7aed02df64",
   "metadata": {},
   "source": [
    "Let's do the same for occupation and case nas"
   ]
  },
  {
   "cell_type": "code",
   "execution_count": null,
   "id": "775504a2-bec1-4899-abf2-166fe61078b4",
   "metadata": {},
   "outputs": [],
   "source": [
    "condition_occupation = (\n",
    "    clean_df['Occupation'].notna() &  # Checks for any non-NA value in 'Occupation'\n",
    "    (\n",
    "        clean_df['Case outcome'].isna() |\n",
    "        clean_df['Case type'].isna() |\n",
    "        clean_df['Case outcome group'].isna()\n",
    "    )\n",
    ")\n",
    "\n",
    "matching_rows_occupation = condition_occupation.sum()\n",
    "\n",
    "clean_df.loc[condition_occupation, ['Case outcome', 'Case type', 'Case outcome group']] = 'Sponsored Work Visa'\n",
    "\n",
    "print(f\"Rows updated with 'Occupation' to 'Sponsored Work Visa': {matching_rows_occupation}\")\n"
   ]
  },
  {
   "cell_type": "code",
   "execution_count": null,
   "id": "2da69e40-a3d6-4f1f-85ed-bf7d5c26c652",
   "metadata": {},
   "outputs": [],
   "source": [
    "clean_df.isna().sum()/df_combined.shape[0]*100"
   ]
  },
  {
   "cell_type": "markdown",
   "id": "b760cbd2-008a-4d21-a7f1-23106a3ed8ee",
   "metadata": {},
   "source": [
    "Define the condition where 'Case outcome' is not NA, but any of the occupation-related columns are NA\n",
    "List of columns to update\n",
    "using loc # Update the specified columns for rows matching the condition\n"
   ]
  },
  {
   "cell_type": "code",
   "execution_count": null,
   "id": "ae5de0c9-156e-4b82-bc33-bc2fe0810a9e",
   "metadata": {},
   "outputs": [],
   "source": [
    "condition_non_work_visa = (\n",
    "    clean_df['Case outcome'].notna() & (\n",
    "        clean_df['UASC'].isna() \n",
    "    )\n",
    ")\n",
    "\n",
    "columns_to_update = [\n",
    "    'Occupation',\n",
    "    'Industry',\n",
    "    'Occ. major group',\n",
    "    'Occ. sub-major group',\n",
    "    'Occ. minor group',\n",
    "    'Occ. unit group'\n",
    "]\n",
    "\n",
    "clean_df.loc[condition_non_work_visa, columns_to_update] = 'Non-Work Visa Related Case Outcome'\n",
    "\n",
    "updated_rows = condition_non_work_visa.sum()\n",
    "print(f\"Rows updated to 'Non-Work Visa Related Case Outcome': {updated_rows}\")"
   ]
  },
  {
   "cell_type": "markdown",
   "id": "cff594a8-dfc6-4ddd-b027-4295f11249d2",
   "metadata": {},
   "source": [
    "Define the condition where 'Case outcome' is not NA, but 'UASC' is NA\n",
    "# Update the 'UASC' column for rows matching the condition to 'Non-UASC'\n"
   ]
  },
  {
   "cell_type": "code",
   "execution_count": null,
   "id": "695a0b2e-1ae2-4108-b6e7-87c1166c4edd",
   "metadata": {},
   "outputs": [],
   "source": [
    "condition_non_uasc = clean_df['Case outcome'].notna() & clean_df['UASC'].isna()\n",
    "\n",
    "clean_df.loc[condition_non_uasc, 'UASC'] = 'Non-UASC'\n",
    "\n",
    "updated_rows_non_uasc = condition_non_uasc.sum()\n",
    "print(f\"Rows updated to 'Non-UASC': {updated_rows_non_uasc}\")"
   ]
  },
  {
   "cell_type": "markdown",
   "id": "dd409138-d5f3-4d9e-be97-12571c7aa0e4",
   "metadata": {},
   "source": [
    "Define the condition where 'Decisions' is 0 or NA\n",
    "Update 'Decisions' to be equal to 'Number of Returns' where the condition is met\n",
    "the decisions_update 2 is foro Applications and Decisions"
   ]
  },
  {
   "cell_type": "code",
   "execution_count": null,
   "id": "7add59ce-4566-44e3-904f-389477139f9b",
   "metadata": {},
   "outputs": [],
   "source": [
    "condition_decisions_update = (clean_df['Decisions'] == 0) | (clean_df['Decisions'].isna())\n",
    "\n",
    "clean_df.loc[condition_decisions_update, 'Decisions'] = clean_df.loc[condition_decisions_update, 'Number of returns']\n",
    "\n",
    "updated_rows_decisions = condition_decisions_update.sum()\n",
    "print(f\"Rows updated where 'Decisions' was set to 'Number of Returns': {updated_rows_decisions}\")"
   ]
  },
  {
   "cell_type": "code",
   "execution_count": null,
   "id": "76074ac3-a08a-473d-a405-86f06e12649a",
   "metadata": {},
   "outputs": [],
   "source": [
    "condition_decisions_update2 = (clean_df['Decisions'] == 0) | (clean_df['Decisions'].isna())\n",
    "\n",
    "clean_df.loc[condition_decisions_update2, 'Decisions'] = clean_df.loc[condition_decisions_update, 'Applications']\n",
    "\n",
    "updated_rows_decisions2 = condition_decisions_update2.sum()\n",
    "print(f\"Rows updated where 'Decisions' was set to 'Applications': {updated_rows_decisions2}\")"
   ]
  },
  {
   "cell_type": "markdown",
   "id": "9bde0433-320f-496b-9285-fd8d5b732264",
   "metadata": {},
   "source": [
    "OK now that those are done, let's check for how many 0s are in our df now"
   ]
  },
  {
   "cell_type": "code",
   "execution_count": null,
   "id": "b16f07b0-82ab-4929-940f-126166df4c5b",
   "metadata": {},
   "outputs": [],
   "source": [
    "zero_percentage_numeric2 = (clean_df == 0).sum() / clean_df.shape[0] * 100\n",
    "print(zero_percentage_numeric2)"
   ]
  },
  {
   "cell_type": "code",
   "execution_count": null,
   "id": "29dad81f-65bc-4140-b59d-bdb3a956e649",
   "metadata": {},
   "outputs": [],
   "source": []
  },
  {
   "cell_type": "markdown",
   "id": "6a18ced6-ab7c-4519-b748-97435fb82a66",
   "metadata": {},
   "source": [
    "Saving and moving to the next book. We are now onto the baseline modelling part\n",
    "\n",
    "We can continue some pre-processing and feature engineering later\n",
    "\n",
    "But it feels like we have filled out enough for a decent inital baseline model"
   ]
  },
  {
   "cell_type": "code",
   "execution_count": null,
   "id": "5636955f-c9a6-447b-814f-7aebb50256fb",
   "metadata": {},
   "outputs": [],
   "source": [
    "df_combined.to_csv('C:/Users/patri/Downloads/df_combined_EDA_2.csv', index=False)"
   ]
  },
  {
   "cell_type": "code",
   "execution_count": null,
   "id": "f6d37091-226b-464a-8910-22a4b96c665e",
   "metadata": {},
   "outputs": [],
   "source": []
  },
  {
   "cell_type": "code",
   "execution_count": null,
   "id": "910a2623-17d9-4548-afa4-8e4bded7ac2d",
   "metadata": {},
   "outputs": [],
   "source": []
  }
 ],
 "metadata": {
  "kernelspec": {
   "display_name": "Python 3 (ipykernel)",
   "language": "python",
   "name": "python3"
  },
  "language_info": {
   "codemirror_mode": {
    "name": "ipython",
    "version": 3
   },
   "file_extension": ".py",
   "mimetype": "text/x-python",
   "name": "python",
   "nbconvert_exporter": "python",
   "pygments_lexer": "ipython3",
   "version": "3.11.8"
  }
 },
 "nbformat": 4,
 "nbformat_minor": 5
}
