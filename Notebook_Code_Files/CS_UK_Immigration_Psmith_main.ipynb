{
 "cells": [
  {
   "cell_type": "markdown",
   "id": "6d233feb-0264-42b3-9727-0c45e3e80835",
   "metadata": {},
   "source": [
    "# Capstone Project: UK Immigration/Asylum Analysis (2001-2023)"
   ]
  },
  {
   "cell_type": "markdown",
   "id": "b39e81eb-baa0-47bd-994b-8ee62e3322d6",
   "metadata": {},
   "source": [
    "## Book 2: Pre-Processing, Initial Modelling"
   ]
  },
  {
   "cell_type": "markdown",
   "id": "e3dc0185-0774-4774-9964-1c81fa172fa4",
   "metadata": {},
   "source": [
    "Author: Patrick Smith\n",
    "\n",
    "Date: 24/03/2024\n",
    "\n",
    "Contact: patrick.b.smith@gmail.com"
   ]
  },
  {
   "cell_type": "markdown",
   "id": "cc7a7d47-1d68-4e80-aa40-f2ed759e6db1",
   "metadata": {},
   "source": [
    "         *                 *                  *              *\n",
    "                                                      *             *\n",
    "                        *            *                             ___\n",
    "  *               *                                          |     | |\n",
    "        *              _________##                 *        / \\    | |\n",
    "                      @\\\\\\\\\\\\\\\\\\##    *     |              |--o|===|-|\n",
    "  *                  @@@\\\\\\\\\\\\\\\\##\\       \\|/|/            |---|   |p|\n",
    "                    @@ @@\\\\\\\\\\\\\\\\\\\\\\    \\|\\\\|//|/     *   /     \\  |b|\n",
    "             *     @@@@@@@\\\\\\\\\\\\\\\\\\\\\\    \\|\\|/|/         |  U    | |s|\n",
    "                  @@@@@@@@@----------|    \\\\|//          |  K    |=| |                                                                                                                       "
   ]
  },
  {
   "cell_type": "markdown",
   "id": "bdeb8209-e536-44b9-b699-a801dda68dfc",
   "metadata": {},
   "source": [
    "## Description of Variables "
   ]
  },
  {
   "attachments": {},
   "cell_type": "markdown",
   "id": "3214aea6-18d4-4af6-a8fe-d34046f11c83",
   "metadata": {},
   "source": [
    "| Column                         | Descriptor                                                                 | Datatype |\n",
    "|--------------------------------|----------------------------------------------------------------------------|----------|\n",
    "| Year                           | The period in which the event occurred.                                    | int32    |\n",
    "| Quarter                        | Quarter of the year (Q1=1, Q2=2, Q3=3, Q4=4).                              | object   |\n",
    "| Nationality                    | Nationality of the individual.                                             | object   |\n",
    "| Region                         | World region of the country of nationality for the individual.              | object   |\n",
    "| Return type group              | Grouped type of return (enforced, voluntary, refused entry at port).         | object   |\n",
    "| Return type                    | Specific type of return (enforced, voluntary, refused entry).               | object   |\n",
    "| Age                            | Age of the individual at the time of the event.                             | object   |\n",
    "| Sex                            | Gender of the individual (male, female, other/unknown).                     | int32    |\n",
    "| Return destination group       | Grouped destination country for return (Home country, EU, Other country).   | object   |\n",
    "| Return destination             | Specific destination country for return.                                    | object   |\n",
    "| Number of returns              | Count of returns.                                                           | float64  |\n",
    "| Visa type group                | Grouped type of sponsored work visa applied for.                            | object   |\n",
    "| Visa type subgroup             | Detailed type of sponsored work visa applied for.                           | object   |\n",
    "| Applicant type                 | Type of applicant (main applicant, dependant).                             | object   |\n",
    "| Case outcome                   | Outcome of the case (granted, refused, withdrawn, resettlement).             | object   |\n",
    "| Decisions                      | Number of decisions made.                                                   | float64  |\n",
    "| Case type                      | Type of case (asylum, resettlement).                                       | object   |\n",
    "| Case outcome group             | Grouped outcome of the case (granted protection, grant of other leave, refused, withdrawn). | object   |\n",
    "| UASC                           | Indicates if the applicant is an Unaccompanied Asylum-Seeking Child.       | object   |\n",
    "| Host Country                   | Country where the individual first sought asylum for resettlement cases.    | object   |\n",
    "| Location of application        | Location where the application was submitted.                               | object   |\n",
    "| Applications                   | Number of applications made.                                               | float64  |\n",
    "| Occupation                     | Occupation of the individual.                                              | object   |\n",
    "| Industry                       | Industry sector for which the application to work was made.                 | object   |\n",
    "| SOC code                       | Standard Occupational Classification code.                                 | object   |\n",
    "| Occ. major group               | Major group classification of the occupation.                              | object   |\n",
    "| Occ. sub-major group           | Sub-major group classification of the occupation.                          | object   |\n",
    "| Occ. minor group               | Minor group classification of the occupation.                              | object   |\n",
    "| Occ. unit group                | Unit group classification of the occupation.                               | object   |\n",
    "| Category of leave group        | Grouped category of extension applied for (work, study, family, other).     | object   |\n",
    "| Category of leave              | Category of extension applied for.                                         | object   |\n",
    "| Category of leave subgroup     | Detailed category of extension applied for.                                | object   |\n",
    "| Current category of leave group| Grouped current category of leave (work, study, family, other).            | object   |\n",
    "| Current category of leave      | Current category of leave.                                                 | object   |\n",
    "| Previous category of leave group | Grouped previous category of leave (work, study, family, other).         | object   |\n",
    "| Previous category of leave     | Previous category of leave.                                                | object   |\n",
    "| Sex_Male                       | Dummy variable for male (1 if male, 0 otherwise).                          | object   |\n",
    "| Sex_Female                     | Dummy variable for female (1 if female, 0 otherwise).                      | object   |\n",
    "| Sex_Other                      | Dummy variable for other or NA (1 if other/unknown, 0 otherwise).          | object   |\n",
    "| Local authority                | The local authority in which a citizenship ceremony took place.            | object   |\n",
    "| UK Region                      | The UK region in which the citizenship ceremony took place.                | object   |"
   ]
  },
  {
   "cell_type": "markdown",
   "id": "39d6580f-ac3a-44a9-bd27-39114ddc8a56",
   "metadata": {},
   "source": [
    "## Table of Contents - Book 2\n",
    "\n",
    "[Data Loading, Objectives, and Initial Clean ](#Load) \n",
    "\n",
    "[Initial Preprocessing and Cleaning](#Initial_Preprocessing) \n",
    "\n",
    "[Initial Dataset Summary](#Dataset_summary)\n",
    "\n",
    "[Preprocessing: Applications, Decisions, and Grants](#ADG) \n",
    "\n",
    "[Preprocessing: Case Outcome](#Case_Outcome) \n",
    "\n",
    "[Preprocessing: Age](#Age) \n",
    "\n",
    "[Baseline Modelling](#B_Model)\n",
    "\n",
    "[Modelling: LogisticRegression ](#B_Modelling)\n",
    "\n",
    "[Modelling: Pipeline](#Pipeline)\n",
    "\n",
    "[Modelling: Evaluation](#Evaluation)\n"
   ]
  },
  {
   "cell_type": "markdown",
   "id": "9fc6c25e-74b3-45ba-9134-58e768cf2141",
   "metadata": {},
   "source": [
    "## Data Loading\n",
    "\n",
    "<div id='Load'></div>"
   ]
  },
  {
   "cell_type": "code",
   "execution_count": 2,
   "id": "e58964f2-9a26-470d-bb3a-a030e8b09042",
   "metadata": {},
   "outputs": [],
   "source": [
    "import pandas as pd\n",
    "import os\n",
    "import numpy as np\n",
    "import matplotlib.pyplot as plt\n",
    "from sklearn.linear_model import LogisticRegression\n",
    "from sklearn.feature_extraction.text import CountVectorizer\n",
    "import warnings"
   ]
  },
  {
   "cell_type": "markdown",
   "id": "3d2622e9-1523-4809-b061-dfd92a2091b7",
   "metadata": {},
   "source": [
    "## Next Objective\n",
    "\n",
    "\n",
    "\n",
    "1) Pre-Processing\n",
    "2) Focus on dependent variable, case outcome\n",
    "3) Other columns of importance; Age, Sex, \n",
    "4)  variables by imputation\n",
    "5)   improves the dataset's quality by reducing the number of 'unknown' entries\n",
    "6) Modelling\n",
    "7) \n",
    "8) Split the data into train and test sets\n",
    "9) transform the positive and negative review columns using a CountVectorizer\n",
    "10) Do an EDA (exploratory data analysis)\n",
    "11) Plots and univariate and bivariate distribution\n",
    "12) Insights and conclusions to shareholders\n",
    "\n",
    "After, we will move on to data preprocessing and modelling on the other notebook."
   ]
  },
  {
   "cell_type": "code",
   "execution_count": null,
   "id": "e88d83a5-1c51-41bb-8253-30582f2a8e99",
   "metadata": {},
   "outputs": [],
   "source": []
  },
  {
   "cell_type": "markdown",
   "id": "a693f1dd-16db-4204-9f49-46aacd039096",
   "metadata": {},
   "source": [
    "Displaying max columns"
   ]
  },
  {
   "cell_type": "code",
   "execution_count": 3,
   "id": "ae4fc192-2eea-4d69-b2bb-ffb8c50fa9cf",
   "metadata": {},
   "outputs": [],
   "source": [
    "pd.options.display.max_columns = None"
   ]
  },
  {
   "cell_type": "markdown",
   "id": "5e66d183-9745-4b85-bbe0-d334dac645c9",
   "metadata": {},
   "source": [
    "Reading the CSV file exported from the EDA file (book 1) and setting as df (dataframe)"
   ]
  },
  {
   "cell_type": "code",
   "execution_count": 4,
   "id": "ddfb37b4-9950-4898-a744-12347b143aeb",
   "metadata": {},
   "outputs": [],
   "source": [
    "df_combined = pd.read_csv(r'C:\\Users\\patri\\Downloads\\df_combined_EDA1.csv')"
   ]
  },
  {
   "cell_type": "markdown",
   "id": "83935426-aa0e-4dab-a201-5ceae760cf69",
   "metadata": {},
   "source": [
    "Displaying a sample to see what the columns are like"
   ]
  },
  {
   "cell_type": "code",
   "execution_count": 5,
   "id": "21243efa-ea31-4aef-989f-8e30b17e1401",
   "metadata": {},
   "outputs": [
    {
     "data": {
      "text/html": [
       "<div>\n",
       "<style scoped>\n",
       "    .dataframe tbody tr th:only-of-type {\n",
       "        vertical-align: middle;\n",
       "    }\n",
       "\n",
       "    .dataframe tbody tr th {\n",
       "        vertical-align: top;\n",
       "    }\n",
       "\n",
       "    .dataframe thead th {\n",
       "        text-align: right;\n",
       "    }\n",
       "</style>\n",
       "<table border=\"1\" class=\"dataframe\">\n",
       "  <thead>\n",
       "    <tr style=\"text-align: right;\">\n",
       "      <th></th>\n",
       "      <th>Year</th>\n",
       "      <th>Quarter</th>\n",
       "      <th>Nationality</th>\n",
       "      <th>Region</th>\n",
       "      <th>Return type group</th>\n",
       "      <th>Return type</th>\n",
       "      <th>Age</th>\n",
       "      <th>Sex</th>\n",
       "      <th>Return destination group</th>\n",
       "      <th>Number of returns</th>\n",
       "      <th>Visa type group</th>\n",
       "      <th>Applicant type</th>\n",
       "      <th>Case outcome</th>\n",
       "      <th>Decisions</th>\n",
       "      <th>Case type</th>\n",
       "      <th>Case outcome group</th>\n",
       "      <th>UASC</th>\n",
       "      <th>Application type group</th>\n",
       "      <th>Application type</th>\n",
       "      <th>Grants</th>\n",
       "      <th>Applications</th>\n",
       "      <th>Occupation</th>\n",
       "      <th>Industry</th>\n",
       "      <th>Occ. major group</th>\n",
       "      <th>Occ. sub-major group</th>\n",
       "      <th>Occ. minor group</th>\n",
       "      <th>Occ. unit group</th>\n",
       "      <th>General_Region</th>\n",
       "    </tr>\n",
       "  </thead>\n",
       "  <tbody>\n",
       "    <tr>\n",
       "      <th>898067</th>\n",
       "      <td>2022</td>\n",
       "      <td>3</td>\n",
       "      <td>India</td>\n",
       "      <td>Asia South</td>\n",
       "      <td>unknown</td>\n",
       "      <td>Unknown</td>\n",
       "      <td>Unknown</td>\n",
       "      <td>3</td>\n",
       "      <td>Unknown</td>\n",
       "      <td>0</td>\n",
       "      <td>Unknown</td>\n",
       "      <td>Unknown</td>\n",
       "      <td>Case Unknown</td>\n",
       "      <td>0.0</td>\n",
       "      <td>Unknown</td>\n",
       "      <td>Unknown</td>\n",
       "      <td>Unknown</td>\n",
       "      <td>Unknown</td>\n",
       "      <td>Unknown</td>\n",
       "      <td>0.0</td>\n",
       "      <td>6.0</td>\n",
       "      <td>2212 - psychologists</td>\n",
       "      <td>human health and social work activities</td>\n",
       "      <td>professional occupations</td>\n",
       "      <td>health professionals</td>\n",
       "      <td>health professionals</td>\n",
       "      <td>psychologists</td>\n",
       "      <td>Asia</td>\n",
       "    </tr>\n",
       "    <tr>\n",
       "      <th>195630</th>\n",
       "      <td>2009</td>\n",
       "      <td>1</td>\n",
       "      <td>South Africa</td>\n",
       "      <td>Africa Sub-Saharan</td>\n",
       "      <td>unknown</td>\n",
       "      <td>Unknown</td>\n",
       "      <td>18 to 29</td>\n",
       "      <td>1</td>\n",
       "      <td>Unknown</td>\n",
       "      <td>0</td>\n",
       "      <td>Unknown</td>\n",
       "      <td>Main Applicant</td>\n",
       "      <td>Case Unknown</td>\n",
       "      <td>0.0</td>\n",
       "      <td>Unknown</td>\n",
       "      <td>Unknown</td>\n",
       "      <td>Unknown</td>\n",
       "      <td>Unknown</td>\n",
       "      <td>Unknown</td>\n",
       "      <td>0.0</td>\n",
       "      <td>7.0</td>\n",
       "      <td>Unknown</td>\n",
       "      <td>Unknown</td>\n",
       "      <td>Unknown</td>\n",
       "      <td>Unknown</td>\n",
       "      <td>Unknown</td>\n",
       "      <td>Unknown</td>\n",
       "      <td>Africa</td>\n",
       "    </tr>\n",
       "    <tr>\n",
       "      <th>427920</th>\n",
       "      <td>2014</td>\n",
       "      <td>1</td>\n",
       "      <td>Qatar</td>\n",
       "      <td>Middle East</td>\n",
       "      <td>refused entry at port and subsequently departed</td>\n",
       "      <td>departed from uk ports</td>\n",
       "      <td>18 to 29</td>\n",
       "      <td>1</td>\n",
       "      <td>other country</td>\n",
       "      <td>3</td>\n",
       "      <td>Unknown</td>\n",
       "      <td>Unknown</td>\n",
       "      <td>Case Unknown</td>\n",
       "      <td>0.0</td>\n",
       "      <td>Unknown</td>\n",
       "      <td>Unknown</td>\n",
       "      <td>Unknown</td>\n",
       "      <td>Unknown</td>\n",
       "      <td>Unknown</td>\n",
       "      <td>0.0</td>\n",
       "      <td>0.0</td>\n",
       "      <td>Unknown</td>\n",
       "      <td>Unknown</td>\n",
       "      <td>Unknown</td>\n",
       "      <td>Unknown</td>\n",
       "      <td>Unknown</td>\n",
       "      <td>Unknown</td>\n",
       "      <td>Middle East</td>\n",
       "    </tr>\n",
       "    <tr>\n",
       "      <th>707681</th>\n",
       "      <td>2020</td>\n",
       "      <td>1</td>\n",
       "      <td>China</td>\n",
       "      <td>Asia East</td>\n",
       "      <td>enforced return</td>\n",
       "      <td>other returns from detention</td>\n",
       "      <td>30 to 49</td>\n",
       "      <td>1</td>\n",
       "      <td>eu member state</td>\n",
       "      <td>1</td>\n",
       "      <td>Unknown</td>\n",
       "      <td>Unknown</td>\n",
       "      <td>Case Unknown</td>\n",
       "      <td>0.0</td>\n",
       "      <td>Unknown</td>\n",
       "      <td>Unknown</td>\n",
       "      <td>Unknown</td>\n",
       "      <td>Unknown</td>\n",
       "      <td>Unknown</td>\n",
       "      <td>0.0</td>\n",
       "      <td>0.0</td>\n",
       "      <td>Unknown</td>\n",
       "      <td>Unknown</td>\n",
       "      <td>Unknown</td>\n",
       "      <td>Unknown</td>\n",
       "      <td>Unknown</td>\n",
       "      <td>Unknown</td>\n",
       "      <td>Asia</td>\n",
       "    </tr>\n",
       "    <tr>\n",
       "      <th>915790</th>\n",
       "      <td>2022</td>\n",
       "      <td>4</td>\n",
       "      <td>Philippines</td>\n",
       "      <td>Asia South East</td>\n",
       "      <td>unknown</td>\n",
       "      <td>Unknown</td>\n",
       "      <td>Unknown</td>\n",
       "      <td>3</td>\n",
       "      <td>Unknown</td>\n",
       "      <td>0</td>\n",
       "      <td>Unknown</td>\n",
       "      <td>Unknown</td>\n",
       "      <td>Case Unknown</td>\n",
       "      <td>0.0</td>\n",
       "      <td>Unknown</td>\n",
       "      <td>Unknown</td>\n",
       "      <td>Unknown</td>\n",
       "      <td>Unknown</td>\n",
       "      <td>Unknown</td>\n",
       "      <td>5.0</td>\n",
       "      <td>0.0</td>\n",
       "      <td>5111 - farmers</td>\n",
       "      <td>agriculture, forestry and fishing</td>\n",
       "      <td>skilled trades occupations</td>\n",
       "      <td>skilled agricultural and related trades</td>\n",
       "      <td>agricultural and related trades</td>\n",
       "      <td>farmers</td>\n",
       "      <td>Asia</td>\n",
       "    </tr>\n",
       "  </tbody>\n",
       "</table>\n",
       "</div>"
      ],
      "text/plain": [
       "        Year  Quarter   Nationality              Region  \\\n",
       "898067  2022        3         India          Asia South   \n",
       "195630  2009        1  South Africa  Africa Sub-Saharan   \n",
       "427920  2014        1         Qatar         Middle East   \n",
       "707681  2020        1         China           Asia East   \n",
       "915790  2022        4   Philippines     Asia South East   \n",
       "\n",
       "                                      Return type group  \\\n",
       "898067                                          unknown   \n",
       "195630                                          unknown   \n",
       "427920  refused entry at port and subsequently departed   \n",
       "707681                                  enforced return   \n",
       "915790                                          unknown   \n",
       "\n",
       "                         Return type       Age  Sex Return destination group  \\\n",
       "898067                       Unknown   Unknown    3                  Unknown   \n",
       "195630                       Unknown  18 to 29    1                  Unknown   \n",
       "427920        departed from uk ports  18 to 29    1            other country   \n",
       "707681  other returns from detention  30 to 49    1          eu member state   \n",
       "915790                       Unknown   Unknown    3                  Unknown   \n",
       "\n",
       "        Number of returns Visa type group  Applicant type  Case outcome  \\\n",
       "898067                  0         Unknown         Unknown  Case Unknown   \n",
       "195630                  0         Unknown  Main Applicant  Case Unknown   \n",
       "427920                  3         Unknown         Unknown  Case Unknown   \n",
       "707681                  1         Unknown         Unknown  Case Unknown   \n",
       "915790                  0         Unknown         Unknown  Case Unknown   \n",
       "\n",
       "        Decisions Case type Case outcome group     UASC  \\\n",
       "898067        0.0   Unknown            Unknown  Unknown   \n",
       "195630        0.0   Unknown            Unknown  Unknown   \n",
       "427920        0.0   Unknown            Unknown  Unknown   \n",
       "707681        0.0   Unknown            Unknown  Unknown   \n",
       "915790        0.0   Unknown            Unknown  Unknown   \n",
       "\n",
       "       Application type group Application type  Grants  Applications  \\\n",
       "898067                Unknown          Unknown     0.0           6.0   \n",
       "195630                Unknown          Unknown     0.0           7.0   \n",
       "427920                Unknown          Unknown     0.0           0.0   \n",
       "707681                Unknown          Unknown     0.0           0.0   \n",
       "915790                Unknown          Unknown     5.0           0.0   \n",
       "\n",
       "                  Occupation                                 Industry  \\\n",
       "898067  2212 - psychologists  human health and social work activities   \n",
       "195630               Unknown                                  Unknown   \n",
       "427920               Unknown                                  Unknown   \n",
       "707681               Unknown                                  Unknown   \n",
       "915790        5111 - farmers        agriculture, forestry and fishing   \n",
       "\n",
       "                  Occ. major group                     Occ. sub-major group  \\\n",
       "898067    professional occupations                     health professionals   \n",
       "195630                     Unknown                                  Unknown   \n",
       "427920                     Unknown                                  Unknown   \n",
       "707681                     Unknown                                  Unknown   \n",
       "915790  skilled trades occupations  skilled agricultural and related trades   \n",
       "\n",
       "                       Occ. minor group Occ. unit group General_Region  \n",
       "898067             health professionals   psychologists           Asia  \n",
       "195630                          Unknown         Unknown         Africa  \n",
       "427920                          Unknown         Unknown    Middle East  \n",
       "707681                          Unknown         Unknown           Asia  \n",
       "915790  agricultural and related trades         farmers           Asia  "
      ]
     },
     "execution_count": 5,
     "metadata": {},
     "output_type": "execute_result"
    }
   ],
   "source": [
    "df_combined.sample(5)"
   ]
  },
  {
   "cell_type": "markdown",
   "id": "37b1f22c-8faa-4133-a263-addd52cd553a",
   "metadata": {},
   "source": [
    "Ok we have a lot of unknowns and 0s. We need to look into this. Otherwise our models and predictions won't be accurate."
   ]
  },
  {
   "cell_type": "markdown",
   "id": "71ed79ea-880f-44f7-959e-96326d24c0b6",
   "metadata": {},
   "source": [
    "Checking if there are any nulls"
   ]
  },
  {
   "cell_type": "code",
   "execution_count": 6,
   "id": "dfae9e03-221b-4c59-b500-e939fc616b9c",
   "metadata": {},
   "outputs": [
    {
     "data": {
      "text/plain": [
       "Year                        0.0\n",
       "Quarter                     0.0\n",
       "Nationality                 0.0\n",
       "Region                      0.0\n",
       "Return type group           0.0\n",
       "Return type                 0.0\n",
       "Age                         0.0\n",
       "Sex                         0.0\n",
       "Return destination group    0.0\n",
       "Number of returns           0.0\n",
       "Visa type group             0.0\n",
       "Applicant type              0.0\n",
       "Case outcome                0.0\n",
       "Decisions                   0.0\n",
       "Case type                   0.0\n",
       "Case outcome group          0.0\n",
       "UASC                        0.0\n",
       "Application type group      0.0\n",
       "Application type            0.0\n",
       "Grants                      0.0\n",
       "Applications                0.0\n",
       "Occupation                  0.0\n",
       "Industry                    0.0\n",
       "Occ. major group            0.0\n",
       "Occ. sub-major group        0.0\n",
       "Occ. minor group            0.0\n",
       "Occ. unit group             0.0\n",
       "General_Region              0.0\n",
       "dtype: float64"
      ]
     },
     "execution_count": 6,
     "metadata": {},
     "output_type": "execute_result"
    }
   ],
   "source": [
    "df_combined.isna().sum()/df_combined.shape[0]*100"
   ]
  },
  {
   "cell_type": "markdown",
   "id": "a73230ce-0f3b-4358-9fe8-487f80b44c0b",
   "metadata": {},
   "source": [
    "No nulls but a lot of unknowns. Let's check how many 'unknowns there are, as a percentage per column"
   ]
  },
  {
   "cell_type": "code",
   "execution_count": 7,
   "id": "b42c8f26-1568-4721-8998-f08f4951ad4d",
   "metadata": {},
   "outputs": [
    {
     "name": "stdout",
     "output_type": "stream",
     "text": [
      "Year                         0.000000\n",
      "Quarter                      0.000000\n",
      "Nationality                  0.000000\n",
      "Region                       0.000000\n",
      "Return type group            0.000000\n",
      "Return type                 78.618059\n",
      "Age                         50.206615\n",
      "Sex                          0.000000\n",
      "Return destination group    76.781438\n",
      "Number of returns            0.000000\n",
      "Visa type group             69.887561\n",
      "Applicant type              52.413668\n",
      "Case outcome                 0.000000\n",
      "Decisions                    0.000000\n",
      "Case type                   89.324028\n",
      "Case outcome group          89.324028\n",
      "UASC                        98.708229\n",
      "Application type group      87.059716\n",
      "Application type            87.825105\n",
      "Grants                       0.000000\n",
      "Applications                 0.000000\n",
      "Occupation                  83.745179\n",
      "Industry                    83.745179\n",
      "Occ. major group            83.745179\n",
      "Occ. sub-major group        83.745179\n",
      "Occ. minor group            83.745179\n",
      "Occ. unit group             83.745179\n",
      "General_Region               0.000000\n",
      "dtype: float64\n"
     ]
    }
   ],
   "source": [
    "unknown_percentage = (df_combined == 'Unknown').sum() / df_combined.shape[0] * 100\n",
    "\n",
    "print(unknown_percentage)"
   ]
  },
  {
   "cell_type": "markdown",
   "id": "2a5dbbd3-c8b5-4b87-9a61-8d9526236646",
   "metadata": {},
   "source": [
    "These are all the catagorical columns, the 0s are numerical. \n",
    "\n",
    "To build a useful model, we will build a refined dataframe. \n",
    "\n",
    "Before hand, we will try to reduce the high percentages of unknowns to improve the quality of the data\n",
    "\n",
    "For categorical columns, we can:\n",
    "\n",
    "- Focus on Age, Applicant type, Case Type, and Case outcome group \n",
    "- Later priority are the occupation"
   ]
  },
  {
   "cell_type": "markdown",
   "id": "ac72535e-dd0e-4a7a-87b8-760e04d32f53",
   "metadata": {},
   "source": [
    "Now let's look at percentages of 0s"
   ]
  },
  {
   "cell_type": "code",
   "execution_count": 10,
   "id": "55a7f9ad-cd3d-4291-aa7a-ff2096752612",
   "metadata": {},
   "outputs": [
    {
     "name": "stdout",
     "output_type": "stream",
     "text": [
      "Year                         0.000000\n",
      "Quarter                      0.000000\n",
      "Nationality                  0.000000\n",
      "Region                       0.000000\n",
      "Return type group            0.000000\n",
      "Return type                  0.000000\n",
      "Age                          0.000000\n",
      "Sex                          0.000000\n",
      "Return destination group     0.000000\n",
      "Number of returns           76.781438\n",
      "Visa type group              0.000000\n",
      "Applicant type               0.000000\n",
      "Case outcome                 0.000000\n",
      "Decisions                   59.211590\n",
      "Case type                    0.000000\n",
      "Case outcome group           0.000000\n",
      "UASC                         0.000000\n",
      "Application type group       0.000000\n",
      "Application type             0.000000\n",
      "Grants                      79.069690\n",
      "Applications                84.937283\n",
      "Occupation                   0.000000\n",
      "Industry                     0.000000\n",
      "Occ. major group             0.000000\n",
      "Occ. sub-major group         0.000000\n",
      "Occ. minor group             0.000000\n",
      "Occ. unit group              0.000000\n",
      "General_Region               0.000000\n",
      "dtype: float64\n"
     ]
    }
   ],
   "source": [
    "# For numeric columns, directly compare against the numerical value 0\n",
    "zero_percentage_numeric = (df_combined == 0).sum() / df_combined.shape[0] * 100\n",
    "\n",
    "# Display the percentage of numerical 0 entries\n",
    "print(zero_percentage_numeric)\n"
   ]
  },
  {
   "cell_type": "markdown",
   "id": "ff9f8dd0-ed4f-4e63-9a68-4a6a0f2fd3bf",
   "metadata": {},
   "source": [
    "Checking for duplicates"
   ]
  },
  {
   "cell_type": "code",
   "execution_count": 11,
   "id": "9e169324-3f2f-4011-8a86-0feaf9c6c2ba",
   "metadata": {},
   "outputs": [
    {
     "data": {
      "text/plain": [
       "5585"
      ]
     },
     "execution_count": 11,
     "metadata": {},
     "output_type": "execute_result"
    }
   ],
   "source": [
    "df_combined.duplicated().sum()"
   ]
  },
  {
   "cell_type": "markdown",
   "id": "cd1a60cc-4572-4dfc-b814-379fa90f1d35",
   "metadata": {},
   "source": [
    "OK we can delete these."
   ]
  },
  {
   "cell_type": "code",
   "execution_count": 12,
   "id": "d4ac7add-4528-41b9-86e5-d02e550b580e",
   "metadata": {},
   "outputs": [],
   "source": [
    "clean_df = df_combined.drop_duplicates()"
   ]
  },
  {
   "cell_type": "code",
   "execution_count": 13,
   "id": "d71ce5da-48b6-45a2-beed-d6a8cc5e6c74",
   "metadata": {},
   "outputs": [
    {
     "name": "stdout",
     "output_type": "stream",
     "text": [
      "We have 1017816 rows and 28 columns with string, floats and integers in our clean data.\n"
     ]
    }
   ],
   "source": [
    "print(f\"We have {clean_df.shape[0]} rows and {clean_df.shape[1]} columns with string, floats and integers in our clean data.\")"
   ]
  },
  {
   "cell_type": "markdown",
   "id": "892cb770-f071-4fc4-b528-f1421714437c",
   "metadata": {},
   "source": [
    "Let's look at uniques:"
   ]
  },
  {
   "cell_type": "code",
   "execution_count": 14,
   "id": "97be1f88-2a12-4e6a-8cb0-8489e90c021e",
   "metadata": {},
   "outputs": [
    {
     "data": {
      "text/plain": [
       "Year                          23\n",
       "Quarter                        4\n",
       "Nationality                  239\n",
       "Region                        16\n",
       "Return type group              4\n",
       "Return type                   10\n",
       "Age                            6\n",
       "Sex                            3\n",
       "Return destination group       4\n",
       "Number of returns            327\n",
       "Visa type group                7\n",
       "Applicant type                 6\n",
       "Case outcome                   6\n",
       "Decisions                   4844\n",
       "Case type                      3\n",
       "Case outcome group             5\n",
       "UASC                           2\n",
       "Application type group         3\n",
       "Application type               5\n",
       "Grants                      1040\n",
       "Applications                 756\n",
       "Occupation                   325\n",
       "Industry                      23\n",
       "Occ. major group              12\n",
       "Occ. sub-major group          29\n",
       "Occ. minor group              98\n",
       "Occ. unit group              321\n",
       "General_Region                 7\n",
       "dtype: int64"
      ]
     },
     "execution_count": 14,
     "metadata": {},
     "output_type": "execute_result"
    }
   ],
   "source": [
    "clean_df.nunique()"
   ]
  },
  {
   "cell_type": "markdown",
   "id": "2c6386f9-450b-491c-a63d-6b2fa3612bc6",
   "metadata": {},
   "source": [
    "### Dataset Summary & Insights\n",
    "\n",
    "<div id='Dataset_summary'></div>\n",
    "\n",
    "With the insight of uniques, we can see that the dataset, comprising 28 columns, is categorized into several key areas, showcasing its diversity and suitability for analysis on migration, asylum, and labor trends in the UK. Below are summarized insights:\n",
    "\n",
    "Time:\n",
    "- Year covers 23 years, so its a long-term collection of data where we can figure out trends. We can use this with quarter to see if there's any seasonal trends\n",
    "\n",
    "Geographic and demographics: \n",
    "- Nationalities has a wide diversity of 239. Regions of 16 could help in geographical categorizations and could help with regional trends.  General Region (7) was created to provide a broader regional classification for high-level geographic analysis.\n",
    "- For demographics, there is also Age (6) and Sex (3) , which will be helpful in our modelling because we have a high percentage of non-unknowns\n",
    "Case characteristics :\n",
    "\n",
    "Application and decision : \n",
    "- Decisions (4844), Grants (1040), Applications (756): A wide range of outcomes - this could provide interesting insights into the UK immigration system's capacity\n",
    "- Case Case outcome (6), Case outcome group (5) and Case type (3) are our target categories.\n",
    "- We are going to refine it so Case outcome is the main category\n",
    "\n",
    "Migration specifics: \n",
    "- Visa type group (7), Application type group (3), Application type (5), and UASC (Unaccompanied Asylum-Seeking Child) (2) provide diverse lens on migration patterns\n",
    "\n",
    "Job data: \n",
    "- High uniqueness in Occupation (325) Occ. minor group (98), and Occ. unit group (321). A\n",
    "- Also there is Occ. major group (12), Occ. sub-major group (29).\n",
    "- These columns all have the same amount of missing data, they are all from the same spreadsheet. This info has a lot of unknown but it could be valuable later for labor or economic analysis\n",
    "\n",
    "\n",
    "\n"
   ]
  },
  {
   "cell_type": "markdown",
   "id": "5e14260e-afb1-4b93-aaa3-21282a6b0b90",
   "metadata": {},
   "source": [
    "Now let's move on to Applications, Decisions, and Grants (numerical columns), then look at their relationship to Case outcome and Case outcome's related categories"
   ]
  },
  {
   "cell_type": "markdown",
   "id": "9aa96f44-2954-413b-8848-7f237ab25622",
   "metadata": {},
   "source": [
    "### Preprocessing: Applications, Decisions, and Grants\n",
    "\n",
    "<div id='ADG'></div>"
   ]
  },
  {
   "cell_type": "markdown",
   "id": "9f793410-d1a7-447c-865f-9b478d03187e",
   "metadata": {},
   "source": [
    "Let's take a look at Applications and Decisions and see how it is distributed by value_counts"
   ]
  },
  {
   "cell_type": "code",
   "execution_count": 16,
   "id": "8f6bd9db-71be-4751-8f66-5ba93444a334",
   "metadata": {},
   "outputs": [
    {
     "data": {
      "text/plain": [
       "Applications\n",
       "0.0       865668\n",
       "1.0        78810\n",
       "2.0        22373\n",
       "3.0        10673\n",
       "4.0         6636\n",
       "           ...  \n",
       "1435.0         1\n",
       "605.0          1\n",
       "2319.0         1\n",
       "355.0          1\n",
       "562.0          1\n",
       "Name: count, Length: 756, dtype: int64"
      ]
     },
     "execution_count": 16,
     "metadata": {},
     "output_type": "execute_result"
    }
   ],
   "source": [
    "clean_df['Applications'].value_counts()"
   ]
  },
  {
   "cell_type": "code",
   "execution_count": 17,
   "id": "48ab27fa-e791-4253-87ad-22e1fbd54f91",
   "metadata": {},
   "outputs": [
    {
     "data": {
      "text/plain": [
       "Decisions\n",
       "0.0       603968\n",
       "1.0       125433\n",
       "2.0        54343\n",
       "3.0        32532\n",
       "4.0        22352\n",
       "           ...  \n",
       "2826.0         1\n",
       "2045.0         1\n",
       "4420.0         1\n",
       "2509.0         1\n",
       "4915.0         1\n",
       "Name: count, Length: 4844, dtype: int64"
      ]
     },
     "execution_count": 17,
     "metadata": {},
     "output_type": "execute_result"
    }
   ],
   "source": [
    "clean_df['Decisions'].value_counts()"
   ]
  },
  {
   "cell_type": "markdown",
   "id": "1ba6842c-000e-4202-98b1-20cddea3d536",
   "metadata": {},
   "source": [
    "OK we have a lot of 0s and a lot of earlier numbers which suggests a right skew. Let's add 'Applications', and 'Decisions' columns together in a new column"
   ]
  },
  {
   "cell_type": "code",
   "execution_count": 18,
   "id": "45369aa8-a023-4210-8245-bbd38c41f722",
   "metadata": {},
   "outputs": [
    {
     "name": "stderr",
     "output_type": "stream",
     "text": [
      "C:\\Users\\patri\\AppData\\Local\\Temp\\ipykernel_15128\\2247701504.py:1: SettingWithCopyWarning: \n",
      "A value is trying to be set on a copy of a slice from a DataFrame.\n",
      "Try using .loc[row_indexer,col_indexer] = value instead\n",
      "\n",
      "See the caveats in the documentation: https://pandas.pydata.org/pandas-docs/stable/user_guide/indexing.html#returning-a-view-versus-a-copy\n",
      "  clean_df['Total Application and Decisions'] = clean_df['Applications'] + clean_df['Decisions']\n"
     ]
    }
   ],
   "source": [
    "clean_df['Total Application and Decisions'] = clean_df['Applications'] + clean_df['Decisions']"
   ]
  },
  {
   "cell_type": "markdown",
   "id": "bd6c6669-9e5a-43fe-8d13-57e0875afd49",
   "metadata": {},
   "source": [
    "See how the column looks. Far right"
   ]
  },
  {
   "cell_type": "code",
   "execution_count": 19,
   "id": "010a0506-f6a2-4b7a-88c5-2d212d575298",
   "metadata": {},
   "outputs": [
    {
     "data": {
      "text/html": [
       "<div>\n",
       "<style scoped>\n",
       "    .dataframe tbody tr th:only-of-type {\n",
       "        vertical-align: middle;\n",
       "    }\n",
       "\n",
       "    .dataframe tbody tr th {\n",
       "        vertical-align: top;\n",
       "    }\n",
       "\n",
       "    .dataframe thead th {\n",
       "        text-align: right;\n",
       "    }\n",
       "</style>\n",
       "<table border=\"1\" class=\"dataframe\">\n",
       "  <thead>\n",
       "    <tr style=\"text-align: right;\">\n",
       "      <th></th>\n",
       "      <th>Year</th>\n",
       "      <th>Quarter</th>\n",
       "      <th>Nationality</th>\n",
       "      <th>Region</th>\n",
       "      <th>Return type group</th>\n",
       "      <th>Return type</th>\n",
       "      <th>Age</th>\n",
       "      <th>Sex</th>\n",
       "      <th>Return destination group</th>\n",
       "      <th>Number of returns</th>\n",
       "      <th>Visa type group</th>\n",
       "      <th>Applicant type</th>\n",
       "      <th>Case outcome</th>\n",
       "      <th>Decisions</th>\n",
       "      <th>Case type</th>\n",
       "      <th>Case outcome group</th>\n",
       "      <th>UASC</th>\n",
       "      <th>Application type group</th>\n",
       "      <th>Application type</th>\n",
       "      <th>Grants</th>\n",
       "      <th>Applications</th>\n",
       "      <th>Occupation</th>\n",
       "      <th>Industry</th>\n",
       "      <th>Occ. major group</th>\n",
       "      <th>Occ. sub-major group</th>\n",
       "      <th>Occ. minor group</th>\n",
       "      <th>Occ. unit group</th>\n",
       "      <th>General_Region</th>\n",
       "      <th>Total Application and Decisions</th>\n",
       "    </tr>\n",
       "  </thead>\n",
       "  <tbody>\n",
       "    <tr>\n",
       "      <th>0</th>\n",
       "      <td>2001</td>\n",
       "      <td>1</td>\n",
       "      <td>Afghanistan</td>\n",
       "      <td>Asia Central</td>\n",
       "      <td>unknown</td>\n",
       "      <td>Unknown</td>\n",
       "      <td>Unknown</td>\n",
       "      <td>3</td>\n",
       "      <td>Unknown</td>\n",
       "      <td>0</td>\n",
       "      <td>Unknown</td>\n",
       "      <td>Main Applicant</td>\n",
       "      <td>Case Unknown</td>\n",
       "      <td>2652.0</td>\n",
       "      <td>asylum case</td>\n",
       "      <td>Grant of Other Leave</td>\n",
       "      <td>Unknown</td>\n",
       "      <td>Unknown</td>\n",
       "      <td>Unknown</td>\n",
       "      <td>0.0</td>\n",
       "      <td>0.0</td>\n",
       "      <td>Unknown</td>\n",
       "      <td>Unknown</td>\n",
       "      <td>Unknown</td>\n",
       "      <td>Unknown</td>\n",
       "      <td>Unknown</td>\n",
       "      <td>Unknown</td>\n",
       "      <td>Asia</td>\n",
       "      <td>2652.0</td>\n",
       "    </tr>\n",
       "    <tr>\n",
       "      <th>1</th>\n",
       "      <td>2001</td>\n",
       "      <td>1</td>\n",
       "      <td>Afghanistan</td>\n",
       "      <td>Asia Central</td>\n",
       "      <td>unknown</td>\n",
       "      <td>Unknown</td>\n",
       "      <td>Unknown</td>\n",
       "      <td>3</td>\n",
       "      <td>Unknown</td>\n",
       "      <td>0</td>\n",
       "      <td>Unknown</td>\n",
       "      <td>Main Applicant</td>\n",
       "      <td>Refugee Permission</td>\n",
       "      <td>809.0</td>\n",
       "      <td>asylum case</td>\n",
       "      <td>Grant of Protection</td>\n",
       "      <td>Unknown</td>\n",
       "      <td>Unknown</td>\n",
       "      <td>Unknown</td>\n",
       "      <td>0.0</td>\n",
       "      <td>0.0</td>\n",
       "      <td>Unknown</td>\n",
       "      <td>Unknown</td>\n",
       "      <td>Unknown</td>\n",
       "      <td>Unknown</td>\n",
       "      <td>Unknown</td>\n",
       "      <td>Unknown</td>\n",
       "      <td>Asia</td>\n",
       "      <td>809.0</td>\n",
       "    </tr>\n",
       "    <tr>\n",
       "      <th>2</th>\n",
       "      <td>2001</td>\n",
       "      <td>1</td>\n",
       "      <td>Afghanistan</td>\n",
       "      <td>Asia Central</td>\n",
       "      <td>unknown</td>\n",
       "      <td>Unknown</td>\n",
       "      <td>Unknown</td>\n",
       "      <td>3</td>\n",
       "      <td>Unknown</td>\n",
       "      <td>0</td>\n",
       "      <td>Unknown</td>\n",
       "      <td>Main Applicant</td>\n",
       "      <td>Refused</td>\n",
       "      <td>15.0</td>\n",
       "      <td>asylum case</td>\n",
       "      <td>Refused</td>\n",
       "      <td>Unknown</td>\n",
       "      <td>Unknown</td>\n",
       "      <td>Unknown</td>\n",
       "      <td>0.0</td>\n",
       "      <td>0.0</td>\n",
       "      <td>Unknown</td>\n",
       "      <td>Unknown</td>\n",
       "      <td>Unknown</td>\n",
       "      <td>Unknown</td>\n",
       "      <td>Unknown</td>\n",
       "      <td>Unknown</td>\n",
       "      <td>Asia</td>\n",
       "      <td>15.0</td>\n",
       "    </tr>\n",
       "    <tr>\n",
       "      <th>3</th>\n",
       "      <td>2001</td>\n",
       "      <td>1</td>\n",
       "      <td>Afghanistan</td>\n",
       "      <td>Asia Central</td>\n",
       "      <td>unknown</td>\n",
       "      <td>Unknown</td>\n",
       "      <td>Unknown</td>\n",
       "      <td>3</td>\n",
       "      <td>Unknown</td>\n",
       "      <td>0</td>\n",
       "      <td>Unknown</td>\n",
       "      <td>Main Applicant</td>\n",
       "      <td>Refused</td>\n",
       "      <td>88.0</td>\n",
       "      <td>asylum case</td>\n",
       "      <td>Refused</td>\n",
       "      <td>Unknown</td>\n",
       "      <td>Unknown</td>\n",
       "      <td>Unknown</td>\n",
       "      <td>0.0</td>\n",
       "      <td>0.0</td>\n",
       "      <td>Unknown</td>\n",
       "      <td>Unknown</td>\n",
       "      <td>Unknown</td>\n",
       "      <td>Unknown</td>\n",
       "      <td>Unknown</td>\n",
       "      <td>Unknown</td>\n",
       "      <td>Asia</td>\n",
       "      <td>88.0</td>\n",
       "    </tr>\n",
       "    <tr>\n",
       "      <th>4</th>\n",
       "      <td>2001</td>\n",
       "      <td>1</td>\n",
       "      <td>Afghanistan</td>\n",
       "      <td>Asia Central</td>\n",
       "      <td>unknown</td>\n",
       "      <td>Unknown</td>\n",
       "      <td>Unknown</td>\n",
       "      <td>3</td>\n",
       "      <td>Unknown</td>\n",
       "      <td>0</td>\n",
       "      <td>Unknown</td>\n",
       "      <td>Main Applicant</td>\n",
       "      <td>Refused</td>\n",
       "      <td>609.0</td>\n",
       "      <td>asylum case</td>\n",
       "      <td>Refused</td>\n",
       "      <td>Unknown</td>\n",
       "      <td>Unknown</td>\n",
       "      <td>Unknown</td>\n",
       "      <td>0.0</td>\n",
       "      <td>0.0</td>\n",
       "      <td>Unknown</td>\n",
       "      <td>Unknown</td>\n",
       "      <td>Unknown</td>\n",
       "      <td>Unknown</td>\n",
       "      <td>Unknown</td>\n",
       "      <td>Unknown</td>\n",
       "      <td>Asia</td>\n",
       "      <td>609.0</td>\n",
       "    </tr>\n",
       "  </tbody>\n",
       "</table>\n",
       "</div>"
      ],
      "text/plain": [
       "   Year  Quarter  Nationality        Region Return type group Return type  \\\n",
       "0  2001        1  Afghanistan  Asia Central           unknown     Unknown   \n",
       "1  2001        1  Afghanistan  Asia Central           unknown     Unknown   \n",
       "2  2001        1  Afghanistan  Asia Central           unknown     Unknown   \n",
       "3  2001        1  Afghanistan  Asia Central           unknown     Unknown   \n",
       "4  2001        1  Afghanistan  Asia Central           unknown     Unknown   \n",
       "\n",
       "       Age  Sex Return destination group  Number of returns Visa type group  \\\n",
       "0  Unknown    3                  Unknown                  0         Unknown   \n",
       "1  Unknown    3                  Unknown                  0         Unknown   \n",
       "2  Unknown    3                  Unknown                  0         Unknown   \n",
       "3  Unknown    3                  Unknown                  0         Unknown   \n",
       "4  Unknown    3                  Unknown                  0         Unknown   \n",
       "\n",
       "   Applicant type        Case outcome  Decisions    Case type  \\\n",
       "0  Main Applicant        Case Unknown     2652.0  asylum case   \n",
       "1  Main Applicant  Refugee Permission      809.0  asylum case   \n",
       "2  Main Applicant             Refused       15.0  asylum case   \n",
       "3  Main Applicant             Refused       88.0  asylum case   \n",
       "4  Main Applicant             Refused      609.0  asylum case   \n",
       "\n",
       "     Case outcome group     UASC Application type group Application type  \\\n",
       "0  Grant of Other Leave  Unknown                Unknown          Unknown   \n",
       "1   Grant of Protection  Unknown                Unknown          Unknown   \n",
       "2               Refused  Unknown                Unknown          Unknown   \n",
       "3               Refused  Unknown                Unknown          Unknown   \n",
       "4               Refused  Unknown                Unknown          Unknown   \n",
       "\n",
       "   Grants  Applications Occupation Industry Occ. major group  \\\n",
       "0     0.0           0.0    Unknown  Unknown          Unknown   \n",
       "1     0.0           0.0    Unknown  Unknown          Unknown   \n",
       "2     0.0           0.0    Unknown  Unknown          Unknown   \n",
       "3     0.0           0.0    Unknown  Unknown          Unknown   \n",
       "4     0.0           0.0    Unknown  Unknown          Unknown   \n",
       "\n",
       "  Occ. sub-major group Occ. minor group Occ. unit group General_Region  \\\n",
       "0              Unknown          Unknown         Unknown           Asia   \n",
       "1              Unknown          Unknown         Unknown           Asia   \n",
       "2              Unknown          Unknown         Unknown           Asia   \n",
       "3              Unknown          Unknown         Unknown           Asia   \n",
       "4              Unknown          Unknown         Unknown           Asia   \n",
       "\n",
       "   Total Application and Decisions  \n",
       "0                           2652.0  \n",
       "1                            809.0  \n",
       "2                             15.0  \n",
       "3                             88.0  \n",
       "4                            609.0  "
      ]
     },
     "execution_count": 19,
     "metadata": {},
     "output_type": "execute_result"
    }
   ],
   "source": [
    "clean_df.head()"
   ]
  },
  {
   "cell_type": "markdown",
   "id": "6e79ce3a-e5c8-45ce-b05f-45963617f235",
   "metadata": {},
   "source": [
    "Now have the most populated column in terms of application counts. We can compare this against case outcome and other columns to improve the quality of the data.\n",
    "\n",
    "Let's look at Case outcome now and its related columns, such as case type"
   ]
  },
  {
   "cell_type": "markdown",
   "id": "a0f8d121-33c6-4768-af17-e9b3c4238231",
   "metadata": {},
   "source": [
    "### Preprocessing: Case Outcome & Type\n",
    "\n",
    "<div id='Case_Outcome'></div>"
   ]
  },
  {
   "cell_type": "markdown",
   "id": "e7a84abb-1d8b-4e6e-bf4f-b77c332daeb4",
   "metadata": {},
   "source": [
    "Seeing what the columns look like"
   ]
  },
  {
   "cell_type": "code",
   "execution_count": 26,
   "id": "a08a72d0-9d38-4665-8a41-067172069704",
   "metadata": {},
   "outputs": [
    {
     "data": {
      "text/plain": [
       "Case outcome\n",
       "Case Unknown          647090\n",
       "Issued                177645\n",
       "Refused               109134\n",
       "Withdrawn              58910\n",
       "Refugee Permission     21773\n",
       "Resettlements           3264\n",
       "Name: count, dtype: int64"
      ]
     },
     "execution_count": 26,
     "metadata": {},
     "output_type": "execute_result"
    }
   ],
   "source": [
    "clean_df['Case outcome'].value_counts()"
   ]
  },
  {
   "cell_type": "code",
   "execution_count": 27,
   "id": "85fad48c-7fa5-4831-89d9-7372be961a4b",
   "metadata": {},
   "outputs": [
    {
     "data": {
      "text/plain": [
       "Case type\n",
       "Unknown              910451\n",
       "asylum case          103904\n",
       "resettlement case      3461\n",
       "Name: count, dtype: int64"
      ]
     },
     "execution_count": 27,
     "metadata": {},
     "output_type": "execute_result"
    }
   ],
   "source": [
    "clean_df['Case type'].value_counts()"
   ]
  },
  {
   "cell_type": "code",
   "execution_count": 28,
   "id": "f82f80c8-8574-4862-8ded-b768c8532f59",
   "metadata": {},
   "outputs": [
    {
     "data": {
      "text/plain": [
       "Case outcome group\n",
       "Unknown                 910451\n",
       "Refused                  51439\n",
       "Grant of Protection      27957\n",
       "Withdrawn                19090\n",
       "Grant of Other Leave      8879\n",
       "Name: count, dtype: int64"
      ]
     },
     "execution_count": 28,
     "metadata": {},
     "output_type": "execute_result"
    }
   ],
   "source": [
    "clean_df['Case outcome group'].value_counts()"
   ]
  },
  {
   "cell_type": "markdown",
   "id": "79b3f90c-5137-4937-b86f-b9edea655412",
   "metadata": {},
   "source": [
    "Again, there is a high number of unknowns, so we have to search for improvements in data classifcation     \n",
    "\n",
    "- Checking for min, max, and mean for the values within 'case type'\n",
    "- The groupby groups the data in the dataframe by the values by the values in the 'Case type' column\n",
    "- After grouping, we are specifying that we want to perform aggregation (mathematical computation involving a range of values) for sum, mean, min, and median using pandas\n",
    "- We are doing the aggregations the new column we made, 'Total Application and Decisions', for each group in 'Case type'\n",
    "- For the computations, we are are using agg to compute min, max, average, and median - it's useful for group data to make several aggregations at the same time\n",
    "- The output is stored in 'agg_casetype'\n",
    "- After, we will do the same to 'Case outcome', 'Case type', and 'Case outcome group'\n",
    "\n",
    "\n",
    "\n",
    "\n",
    "REF: https://pandas.pydata.org/pandas-docs/stable/reference/api/pandas.DataFrame.agg.html"
   ]
  },
  {
   "cell_type": "code",
   "execution_count": 57,
   "id": "bc34759d-7080-4204-b4e4-63d7d4e62766",
   "metadata": {},
   "outputs": [
    {
     "name": "stdout",
     "output_type": "stream",
     "text": [
      "                   Min       Max     Average  Median\n",
      "Case type                                           \n",
      "Other              1.0  234827.0  114.560139     3.0\n",
      "Unknown            0.0       0.0    0.000000     0.0\n",
      "asylum case        1.0    2940.0    9.223687     2.0\n",
      "resettlement case  1.0    1561.0   15.548396     2.0\n"
     ]
    }
   ],
   "source": [
    "agg_casetype = clean_df.groupby('Case type')['Total Application and Decisions'].agg(\n",
    "    Min='min',\n",
    "    Max='max',\n",
    "    Average='mean',\n",
    "    Median='median'\n",
    ")\n",
    "\n",
    "print(agg_casetype)"
   ]
  },
  {
   "cell_type": "markdown",
   "id": "3531428c-7242-4162-89b5-9980f48ce72c",
   "metadata": {},
   "source": [
    "Now checking for Case outcome. We saved the last as 'agg_casetype'. This will be 'agg_caseoutcome'"
   ]
  },
  {
   "cell_type": "code",
   "execution_count": 36,
   "id": "777ee172-faeb-401a-ae37-f63ab6514641",
   "metadata": {},
   "outputs": [
    {
     "name": "stdout",
     "output_type": "stream",
     "text": [
      "                    Min       Max     Average  Median\n",
      "Case outcome                                         \n",
      "Case Unknown        0.0    6512.0    3.283140     0.0\n",
      "Issued              1.0  234827.0  244.324873     6.0\n",
      "Refugee Permission  1.0    1938.0    9.113443     2.0\n",
      "Refused             1.0   33430.0   67.599960     3.0\n",
      "Resettlements       1.0    1561.0   15.012561     2.0\n",
      "Withdrawn           1.0    9062.0    6.799542     2.0\n"
     ]
    }
   ],
   "source": [
    "agg_caseoutcome = clean_df.groupby('Case outcome')['Total Application and Decisions'].agg(\n",
    "    Min='min',\n",
    "    Max='max',\n",
    "    Average='mean',\n",
    "    Median='median'\n",
    ")\n",
    "\n",
    "print(agg_caseoutcome)"
   ]
  },
  {
   "cell_type": "markdown",
   "id": "7a65cf75-2566-4642-828b-2d32d6832515",
   "metadata": {},
   "source": [
    "This will be 'agg_caseoutcomegroup'"
   ]
  },
  {
   "cell_type": "code",
   "execution_count": 41,
   "id": "45c67561-7f72-4e15-b35e-6e6a8bbce983",
   "metadata": {},
   "outputs": [
    {
     "name": "stdout",
     "output_type": "stream",
     "text": [
      "                      Min       Max    Average  Median\n",
      "Case outcome group                                    \n",
      "Grant of Other Leave  1.0    2689.0   9.088523     1.0\n",
      "Grant of Protection   1.0    1938.0   9.358479     2.0\n",
      "Refused               1.0    2940.0  11.462742     2.0\n",
      "Unknown               0.0  234827.0  57.708576     1.0\n",
      "Withdrawn             1.0    1520.0   4.202567     1.0\n"
     ]
    }
   ],
   "source": [
    "agg_caseoutcomegroup = clean_df.groupby('Case outcome group')['Total Application and Decisions'].agg(\n",
    "    Min='min',\n",
    "    Max='max',\n",
    "    Average='mean',\n",
    "    Median='median'\n",
    ")\n",
    "\n",
    "print(agg_caseoutcomegroup)"
   ]
  },
  {
   "cell_type": "markdown",
   "id": "34d05dcc-5854-4619-ab6a-5baea4da95ac",
   "metadata": {},
   "source": [
    "OK, we can do a few things to improve the data. The goal is to merge all into one main column, case outcome, and use it as are main dependent variable in an updated df that we will use for modelling"
   ]
  },
  {
   "cell_type": "markdown",
   "id": "496e14c2-31c3-4ae9-95fe-65fc7eace20a",
   "metadata": {},
   "source": [
    "- One of the main changes we can make is replacing the values with 'Total Application and Decisions' that are more or = to 1 with Other, instead of Case Unknown or Unknown\n",
    "- These all have value, we can use a 'Other' label to extract it. We can decide to classifying it as something else later\n",
    "\n",
    "----\n",
    "- Using a condition called 'replacement' to find rows where 'Case outcome' is 'Case Unknown' and 'Total Application and Decisions' >= 1\n",
    "- Directly update 'Case outcome' to 'Other' to 'replacement' condition when this occurs\n",
    "- This way we can take out a fair number of unknowns to improve the quality of the data, it was mislabelled - as it should be included"
   ]
  },
  {
   "cell_type": "code",
   "execution_count": 38,
   "id": "c05fdb38-988b-4abd-9441-eb1f627726d1",
   "metadata": {},
   "outputs": [],
   "source": [
    "replacement = (clean_df['Case outcome'] == 'Case Unknown') & (clean_df['Total Application and Decisions'] >= 1)\n",
    "\n",
    "clean_df.loc[replacement, 'Case outcome'] = 'Other'\n",
    "\n",
    "#REF: https://stackoverflow.com/questions/48314971/pandas-how-can-replace-work-after-loc"
   ]
  },
  {
   "cell_type": "markdown",
   "id": "de2d80a0-bf07-43a9-8b45-78d848744bde",
   "metadata": {},
   "source": [
    "Checking if it worked\n"
   ]
  },
  {
   "cell_type": "code",
   "execution_count": 39,
   "id": "9bc81369-63ad-4032-8968-b0b97bdd3cdf",
   "metadata": {},
   "outputs": [
    {
     "data": {
      "text/plain": [
       "Case outcome\n",
       "Case Unknown          451820\n",
       "Other                 195270\n",
       "Issued                177645\n",
       "Refused               109134\n",
       "Withdrawn              58910\n",
       "Refugee Permission     21773\n",
       "Resettlements           3264\n",
       "Name: count, dtype: int64"
      ]
     },
     "execution_count": 39,
     "metadata": {},
     "output_type": "execute_result"
    }
   ],
   "source": [
    "clean_df['Case outcome'].value_counts()"
   ]
  },
  {
   "cell_type": "markdown",
   "id": "e80fab1b-3671-4962-ac15-eb5fff7e3ee0",
   "metadata": {},
   "source": [
    "Worked well, let's do the same for 'Case type' and 'Case outcome group'"
   ]
  },
  {
   "cell_type": "code",
   "execution_count": null,
   "id": "a68fb950-f6d0-41b9-8e1d-6c205ba87e5f",
   "metadata": {},
   "outputs": [],
   "source": []
  },
  {
   "cell_type": "code",
   "execution_count": 42,
   "id": "c3b3f6ce-f214-408d-9a7e-d2a818b6950c",
   "metadata": {},
   "outputs": [],
   "source": [
    "replacement = (clean_df['Case type'] == 'Unknown') & (clean_df['Total Application and Decisions'] >= 1)\n",
    "\n",
    "clean_df.loc[replacement, 'Case type'] = 'Other'"
   ]
  },
  {
   "cell_type": "code",
   "execution_count": 43,
   "id": "d8e980e7-e4b4-4893-91b2-c64b4ce6e676",
   "metadata": {},
   "outputs": [],
   "source": [
    "replacement = (clean_df['Case outcome group'] == 'Unknown') & (clean_df['Total Application and Decisions'] >= 1)\n",
    "\n",
    "clean_df.loc[replacement, 'Case outcome group'] = 'Other'"
   ]
  },
  {
   "cell_type": "markdown",
   "id": "d92ff269-a153-4d73-b47b-2a6fb8bc7a4d",
   "metadata": {},
   "source": [
    "OK let's checkout how it changed both 'Case type' and 'Case outcome group'"
   ]
  },
  {
   "cell_type": "code",
   "execution_count": 44,
   "id": "f431f0c6-69de-4b1e-9f71-ee3078f43f84",
   "metadata": {},
   "outputs": [
    {
     "data": {
      "text/plain": [
       "Case type\n",
       "Other                458631\n",
       "Unknown              451820\n",
       "asylum case          103904\n",
       "resettlement case      3461\n",
       "Name: count, dtype: int64"
      ]
     },
     "execution_count": 44,
     "metadata": {},
     "output_type": "execute_result"
    }
   ],
   "source": [
    "clean_df['Case type'].value_counts()"
   ]
  },
  {
   "cell_type": "code",
   "execution_count": 45,
   "id": "79a3784d-5992-4999-a1a8-1dd37e7c7146",
   "metadata": {},
   "outputs": [
    {
     "data": {
      "text/plain": [
       "Case outcome group\n",
       "Other                   458631\n",
       "Unknown                 451820\n",
       "Refused                  51439\n",
       "Grant of Protection      27957\n",
       "Withdrawn                19090\n",
       "Grant of Other Leave      8879\n",
       "Name: count, dtype: int64"
      ]
     },
     "execution_count": 45,
     "metadata": {},
     "output_type": "execute_result"
    }
   ],
   "source": [
    "clean_df['Case outcome group'].value_counts()"
   ]
  },
  {
   "cell_type": "markdown",
   "id": "d7fcc3a3-91d8-4b4c-b8e8-c40a17711147",
   "metadata": {},
   "source": [
    "Yes this seemed to make a big difference. Let's recheck and make new updated variables so we can compare"
   ]
  },
  {
   "cell_type": "code",
   "execution_count": 55,
   "id": "f7895e96-9ee6-4fdc-92b2-818eaae94b99",
   "metadata": {},
   "outputs": [
    {
     "name": "stdout",
     "output_type": "stream",
     "text": [
      "                   Min       Max     Average  Median\n",
      "Case type                                           \n",
      "Other              1.0  234827.0  114.560139     3.0\n",
      "Unknown            0.0       0.0    0.000000     0.0\n",
      "asylum case        1.0    2940.0    9.223687     2.0\n",
      "resettlement case  1.0    1561.0   15.548396     2.0\n"
     ]
    }
   ],
   "source": [
    "agg_casetype2 = clean_df.groupby('Case type')['Total Application and Decisions'].agg(\n",
    "    Min='min',\n",
    "    Max='max',\n",
    "    Average='mean',\n",
    "    Median='median'\n",
    ")\n",
    "\n",
    "print(agg_casetype2)"
   ]
  },
  {
   "cell_type": "code",
   "execution_count": 48,
   "id": "5946153c-212c-436a-9f5c-1f4ed19d972e",
   "metadata": {},
   "outputs": [
    {
     "name": "stdout",
     "output_type": "stream",
     "text": [
      "                      Min       Max     Average  Median\n",
      "Case outcome group                                     \n",
      "Grant of Other Leave  1.0    2689.0    9.088523     1.0\n",
      "Grant of Protection   1.0    1938.0    9.358479     2.0\n",
      "Other                 1.0  234827.0  114.560139     3.0\n",
      "Refused               1.0    2940.0   11.462742     2.0\n",
      "Unknown               0.0       0.0    0.000000     0.0\n",
      "Withdrawn             1.0    1520.0    4.202567     1.0\n"
     ]
    }
   ],
   "source": [
    "agg_caseoutcomegroup2 = clean_df.groupby('Case outcome group')['Total Application and Decisions'].agg(\n",
    "    Min='min',\n",
    "    Max='max',\n",
    "    Average='mean',\n",
    "    Median='median'\n",
    ")\n",
    "\n",
    "print(agg_caseoutcomegroup2)"
   ]
  },
  {
   "cell_type": "code",
   "execution_count": 62,
   "id": "89dd069e-2ce1-422e-a2f3-e45d00f1a86f",
   "metadata": {},
   "outputs": [
    {
     "name": "stdout",
     "output_type": "stream",
     "text": [
      "                    Min       Max     Average  Median\n",
      "Case outcome                                         \n",
      "Case Unknown        0.0       0.0    0.000000     0.0\n",
      "Issued              1.0  234827.0  244.324873     6.0\n",
      "Other               1.0    6512.0   10.879741     2.0\n",
      "Refugee Permission  1.0    1938.0    9.113443     2.0\n",
      "Refused             1.0   33430.0   67.599960     3.0\n",
      "Resettlements       1.0    1561.0   15.012561     2.0\n",
      "Withdrawn           1.0    9062.0    6.799542     2.0\n"
     ]
    }
   ],
   "source": [
    "agg_caseoutcome2 = clean_df.groupby('Case outcome')['Total Application and Decisions'].agg(\n",
    "    Min='min',\n",
    "    Max='max',\n",
    "    Average='mean',\n",
    "    Median='median'\n",
    ")\n",
    "\n",
    "print(agg_caseoutcome2)\n"
   ]
  },
  {
   "cell_type": "code",
   "execution_count": null,
   "id": "ab363068-7665-4120-97f3-8da4121292d3",
   "metadata": {},
   "outputs": [],
   "source": []
  },
  {
   "cell_type": "code",
   "execution_count": 58,
   "id": "8d1e558a-f23a-4f9d-bd4b-adf92fa93ee9",
   "metadata": {},
   "outputs": [
    {
     "name": "stdout",
     "output_type": "stream",
     "text": [
      "                   Min       Max     Average  Median\n",
      "Case type                                           \n",
      "Other              1.0  234827.0  114.560139     3.0\n",
      "Unknown            0.0       0.0    0.000000     0.0\n",
      "asylum case        1.0    2940.0    9.223687     2.0\n",
      "resettlement case  1.0    1561.0   15.548396     2.0                    Min       Max     Average  Median\n",
      "Case type                                           \n",
      "Other              1.0  234827.0  114.560139     3.0\n",
      "Unknown            0.0       0.0    0.000000     0.0\n",
      "asylum case        1.0    2940.0    9.223687     2.0\n",
      "resettlement case  1.0    1561.0   15.548396     2.0\n"
     ]
    }
   ],
   "source": [
    "print(agg_casetype, agg_casetype2)"
   ]
  },
  {
   "cell_type": "code",
   "execution_count": 52,
   "id": "fe8e3b3d-1c86-46b1-871a-b7a04a1f8a9d",
   "metadata": {},
   "outputs": [
    {
     "name": "stdout",
     "output_type": "stream",
     "text": [
      "                      Min       Max    Average  Median\n",
      "Case outcome group                                    \n",
      "Grant of Other Leave  1.0    2689.0   9.088523     1.0\n",
      "Grant of Protection   1.0    1938.0   9.358479     2.0\n",
      "Refused               1.0    2940.0  11.462742     2.0\n",
      "Unknown               0.0  234827.0  57.708576     1.0\n",
      "Withdrawn             1.0    1520.0   4.202567     1.0                       Min       Max     Average  Median\n",
      "Case outcome group                                     \n",
      "Grant of Other Leave  1.0    2689.0    9.088523     1.0\n",
      "Grant of Protection   1.0    1938.0    9.358479     2.0\n",
      "Other                 1.0  234827.0  114.560139     3.0\n",
      "Refused               1.0    2940.0   11.462742     2.0\n",
      "Unknown               0.0       0.0    0.000000     0.0\n",
      "Withdrawn             1.0    1520.0    4.202567     1.0\n"
     ]
    }
   ],
   "source": [
    "print(agg_caseoutcomegroup, agg_caseoutcomegroup2)"
   ]
  },
  {
   "cell_type": "code",
   "execution_count": 63,
   "id": "24732a68-8f8a-46e2-8afa-b97a1f49fbd7",
   "metadata": {},
   "outputs": [
    {
     "name": "stdout",
     "output_type": "stream",
     "text": [
      "                    Min       Max     Average  Median\n",
      "Case outcome                                         \n",
      "Case Unknown        0.0    6512.0    3.283140     0.0\n",
      "Issued              1.0  234827.0  244.324873     6.0\n",
      "Refugee Permission  1.0    1938.0    9.113443     2.0\n",
      "Refused             1.0   33430.0   67.599960     3.0\n",
      "Resettlements       1.0    1561.0   15.012561     2.0\n",
      "Withdrawn           1.0    9062.0    6.799542     2.0                     Min       Max     Average  Median\n",
      "Case outcome                                         \n",
      "Case Unknown        0.0       0.0    0.000000     0.0\n",
      "Issued              1.0  234827.0  244.324873     6.0\n",
      "Other               1.0    6512.0   10.879741     2.0\n",
      "Refugee Permission  1.0    1938.0    9.113443     2.0\n",
      "Refused             1.0   33430.0   67.599960     3.0\n",
      "Resettlements       1.0    1561.0   15.012561     2.0\n",
      "Withdrawn           1.0    9062.0    6.799542     2.0\n"
     ]
    }
   ],
   "source": [
    "print(agg_caseoutcome, agg_caseoutcome2)"
   ]
  },
  {
   "cell_type": "markdown",
   "id": "0aaff442-1722-4ce6-ba63-6dc8110496d4",
   "metadata": {},
   "source": [
    "Let's check the distribution. Looks like a right skew (median is quite lower than the average)\n",
    "\n",
    "Counting the the occurrences of each category in 'Case outcome'\n",
    "\n",
    "Bar chart"
   ]
  },
  {
   "cell_type": "code",
   "execution_count": 67,
   "id": "18fe3cc4-155e-4ba3-990d-32bcf57dd1b2",
   "metadata": {},
   "outputs": [
    {
     "data": {
      "image/png": "[encoded data removed]",
      "text/plain": [
       "<Figure size 600x400 with 1 Axes>"
      ]
     },
     "metadata": {},
     "output_type": "display_data"
    }
   ],
   "source": [
    "import matplotlib.pyplot as plt\n",
    "case_outcome_counts = clean_df['Case outcome'].value_counts()\n",
    "plt.figure(figsize=(6, 4)) \n",
    "\n",
    "case_outcome_counts.plot(kind='bar')\n",
    "plt.title(\"Distribution of Case Outcome\")\n",
    "plt.xlabel(\"Case Outcome\")\n",
    "plt.ylabel(\"Counts\")\n",
    "\n",
    "plt.xticks(rotation=15)  \n",
    "\n",
    "plt.show()\n"
   ]
  },
  {
   "cell_type": "code",
   "execution_count": 69,
   "id": "ba848df8-755d-43b2-8e8a-7b02b6b8cfc6",
   "metadata": {},
   "outputs": [
    {
     "data": {
      "image/png": "[encoded data removed]",
      "text/plain": [
       "<Figure size 600x400 with 1 Axes>"
      ]
     },
     "metadata": {},
     "output_type": "display_data"
    }
   ],
   "source": [
    "case_type_counts = clean_df['Case type'].value_counts()\n",
    "plt.figure(figsize=(6, 4)) \n",
    "\n",
    "case_outcome_counts.plot(kind='bar')\n",
    "plt.title(\"Distribution of Case Outcome\")\n",
    "plt.xlabel(\"Case type\")\n",
    "plt.ylabel(\"Counts\")\n",
    "\n",
    "plt.xticks(rotation=0)  \n",
    "\n",
    "plt.show()\n"
   ]
  },
  {
   "cell_type": "code",
   "execution_count": 71,
   "id": "3204e96e-19aa-496d-ad6f-66e906bdc841",
   "metadata": {},
   "outputs": [
    {
     "data": {
      "image/png": "[encoded data removed]",
      "text/plain": [
       "<Figure size 600x400 with 1 Axes>"
      ]
     },
     "metadata": {},
     "output_type": "display_data"
    }
   ],
   "source": [
    "case_outcome_group_counts = clean_df['Case outcome group'].value_counts()\n",
    "plt.figure(figsize=(6, 4)) \n",
    "\n",
    "case_outcome_counts.plot(kind='bar')\n",
    "plt.title(\"Distribution of Case Outcome\")\n",
    "plt.xlabel(\"Case type\")\n",
    "plt.ylabel(\"Counts\")\n",
    "\n",
    "plt.xticks(rotation=15)  \n",
    "\n",
    "plt.show()"
   ]
  },
  {
   "cell_type": "markdown",
   "id": "947a4617-089f-43df-b70e-16f4ef6bcb61",
   "metadata": {},
   "source": [
    "Checkout the shape of how many cells don't match from 'Case outcome group' and 'Case outcome'. The objective is to remove the group because it seems redundant."
   ]
  },
  {
   "cell_type": "code",
   "execution_count": 39,
   "id": "910aa997-1ba8-4c3d-b14d-0d1e22350eb1",
   "metadata": {},
   "outputs": [
    {
     "data": {
      "text/plain": [
       "(981333, 29)"
      ]
     },
     "execution_count": 39,
     "metadata": {},
     "output_type": "execute_result"
    }
   ],
   "source": [
    "clean_df[clean_df[\"Case outcome group\"] != clean_df['Case outcome']].shape\n"
   ]
  },
  {
   "cell_type": "markdown",
   "id": "e9cf84c5-29b1-40bf-ae66-93e4d3b5f2f1",
   "metadata": {},
   "source": [
    "checking rows where the values in the \"Case outcome group\" column do not match the values in the \"Case outcome\" column"
   ]
  },
  {
   "cell_type": "code",
   "execution_count": 73,
   "id": "ceb91f3c-77cc-439a-b16e-3c3e75ca9cc0",
   "metadata": {},
   "outputs": [
    {
     "data": {
      "text/plain": [
       "(829185, 29)"
      ]
     },
     "execution_count": 73,
     "metadata": {},
     "output_type": "execute_result"
    }
   ],
   "source": [
    "clean_df[clean_df[\"Case outcome group\"] != clean_df['Case outcome']].shape\n"
   ]
  },
  {
   "cell_type": "markdown",
   "id": "6ef9ece6-a5ed-46e1-8b1d-ef70c6fd8e54",
   "metadata": {},
   "source": [
    "Checking what the column looks like"
   ]
  },
  {
   "cell_type": "markdown",
   "id": "9f535b6a-6e2f-467b-aeff-4c9100d25609",
   "metadata": {},
   "source": [
    "There is a lot of unknowns still. We need to reduce that through imputations"
   ]
  },
  {
   "cell_type": "markdown",
   "id": "ad0c04a4-f973-465c-9055-c77e7cfcc62a",
   "metadata": {},
   "source": [
    "To locate rows where \"Case outcome group\" is \"unknown\", and \"Case outcome\" is not \"unknown\".\n",
    "\n",
    "We are trying to make sure they match as much as possible so we can delete group.\n",
    "\n",
    "This code updates the values in \"Case outcome group\" to match the value in \"Case outcome\""
   ]
  },
  {
   "cell_type": "markdown",
   "id": "bc00e306-82ce-4c9f-8539-1ffdb3829404",
   "metadata": {},
   "source": [
    "-  List named known_outcomes is created\n",
    "-  Iterate over each outcome:\n",
    "-  Find matches for each outcome (for specific known values (like 'Issued', 'Refused', etc.)\n",
    "-  To find rows where both the 'Case outcome' and 'Case outcome group' columns match the current outcome\n",
    "-  The length (number) of the matches dataframe, determined using len\n",
    "-  \"Case outcome\" and \"Case outcome group\" columns in clean_df to check if they match "
   ]
  },
  {
   "cell_type": "code",
   "execution_count": 74,
   "id": "5a52bca1-d461-4272-8004-6df6a53bce7c",
   "metadata": {},
   "outputs": [
    {
     "name": "stdout",
     "output_type": "stream",
     "text": [
      "Matches for Issued: 0\n",
      "Matches for Refused: 18120\n",
      "Matches for Withdrawn: 18363\n",
      "Matches for Refugee Permission: 0\n",
      "Matches for Resettlements: 0\n"
     ]
    }
   ],
   "source": [
    "known_outcomes = ['Issued', 'Refused', 'Withdrawn', 'Refugee Permission', 'Resettlements']\n",
    "\n",
    "for outcome in known_outcomes:\n",
    "    matches = clean_df[(clean_df['Case outcome'].str.lower() == outcome.lower()) & \n",
    "                       (clean_df['Case outcome group'].str.lower() == outcome.lower())]\n",
    "    print(f\"Matches for {outcome}: {len(matches)}\")\n"
   ]
  },
  {
   "cell_type": "markdown",
   "id": "ebbe6675-7640-48b7-959d-fee8fbae9411",
   "metadata": {},
   "source": [
    "- Iterate over a list of specific case outcomes \n",
    "- Calculate the number of rows where the values in both the 'Case outcome' and 'Case outcome group' columns\n",
    "- To match to the outcomes in the list"
   ]
  },
  {
   "cell_type": "code",
   "execution_count": null,
   "id": "73545f66-a353-4c34-a00c-ec7be2c3d1a1",
   "metadata": {},
   "outputs": [],
   "source": [
    "known_outcomes = ['Issued', 'Refused', 'Withdrawn', 'Refugee Permission', 'Resettlements']\n",
    "\n",
    "for outcome in known_outcomes:\n",
    "    matches = clean_df[(clean_df['Case outcome'].str.lower() == outcome.lower()) & \n",
    "                       (clean_df['Case type'].str.lower() == outcome.lower())]\n",
    "    print(f\"Matches for {outcome}: {len(matches)}\")\n"
   ]
  },
  {
   "cell_type": "code",
   "execution_count": 46,
   "id": "668a3faf-aa05-4f48-afa4-c4f35a509dc4",
   "metadata": {},
   "outputs": [
    {
     "name": "stderr",
     "output_type": "stream",
     "text": [
      "C:\\Users\\patri\\AppData\\Local\\Temp\\ipykernel_14624\\2375515491.py:2: SettingWithCopyWarning: \n",
      "A value is trying to be set on a copy of a slice from a DataFrame.\n",
      "Try using .loc[row_indexer,col_indexer] = value instead\n",
      "\n",
      "See the caveats in the documentation: https://pandas.pydata.org/pandas-docs/stable/user_guide/indexing.html#returning-a-view-versus-a-copy\n",
      "  clean_df['Case outcome lower'] = clean_df['Case outcome'].str.lower()\n",
      "C:\\Users\\patri\\AppData\\Local\\Temp\\ipykernel_14624\\2375515491.py:3: SettingWithCopyWarning: \n",
      "A value is trying to be set on a copy of a slice from a DataFrame.\n",
      "Try using .loc[row_indexer,col_indexer] = value instead\n",
      "\n",
      "See the caveats in the documentation: https://pandas.pydata.org/pandas-docs/stable/user_guide/indexing.html#returning-a-view-versus-a-copy\n",
      "  clean_df['Case outcome group lower'] = clean_df['Case outcome group'].str.lower()\n"
     ]
    },
    {
     "name": "stdout",
     "output_type": "stream",
     "text": [
      "Total matches: 946934\n",
      "Total mismatches: 70882\n"
     ]
    }
   ],
   "source": [
    "# Convert both columns to lowercase for case-insensitive comparison\n",
    "clean_df['Case outcome lower'] = clean_df['Case outcome'].str.lower()\n",
    "clean_df['Case outcome group lower'] = clean_df['Case outcome group'].str.lower()\n",
    "\n",
    "# Check matches and mismatches\n",
    "matches = clean_df[clean_df['Case outcome lower'] == clean_df['Case outcome group lower']]\n",
    "mismatches = clean_df[clean_df['Case outcome lower'] != clean_df['Case outcome group lower']]\n",
    "\n",
    "print(f\"Total matches: {len(matches)}\")\n",
    "print(f\"Total mismatches: {len(mismatches)}\")\n"
   ]
  },
  {
   "cell_type": "markdown",
   "id": "d99e73b7-7c23-425d-86d7-62d827f3ed6a",
   "metadata": {},
   "source": [
    "Review some mismatched rows to understand the discrepancy"
   ]
  },
  {
   "cell_type": "code",
   "execution_count": 72,
   "id": "e1cb3288-317d-40ae-9cee-37d65804353a",
   "metadata": {},
   "outputs": [
    {
     "ename": "NameError",
     "evalue": "name 'mismatches' is not defined",
     "output_type": "error",
     "traceback": [
      "\u001b[1;31m---------------------------------------------------------------------------\u001b[0m",
      "\u001b[1;31mNameError\u001b[0m                                 Traceback (most recent call last)",
      "Cell \u001b[1;32mIn[72], line 1\u001b[0m\n\u001b[1;32m----> 1\u001b[0m \u001b[38;5;28mprint\u001b[39m(\u001b[43mmismatches\u001b[49m[[\u001b[38;5;124m'\u001b[39m\u001b[38;5;124mCase outcome\u001b[39m\u001b[38;5;124m'\u001b[39m, \u001b[38;5;124m'\u001b[39m\u001b[38;5;124mCase outcome group\u001b[39m\u001b[38;5;124m'\u001b[39m]]\u001b[38;5;241m.\u001b[39msample(\u001b[38;5;241m25\u001b[39m))\n",
      "\u001b[1;31mNameError\u001b[0m: name 'mismatches' is not defined"
     ]
    }
   ],
   "source": [
    "print(mismatches[['Case outcome', 'Case outcome group']].sample(25))\n"
   ]
  },
  {
   "cell_type": "markdown",
   "id": "5c31b888-5abd-47db-8831-df24c6ebc2ef",
   "metadata": {},
   "source": [
    "- Locate rows where \"Case outcome\" is 'Unknown'\n",
    "- but the \"Case outcome group\" is populated with a specific outcome (not 'Unknown')\n",
    "- For these rows, the value in \"Case outcome\" is replaced with the corresponding value from \"Case outcome group\". \n",
    "- Update \"Case outcome\" to match \"Case outcome group\"."
   ]
  },
  {
   "cell_type": "code",
   "execution_count": 49,
   "id": "8ee93bfb-79de-41c3-997f-2823ac9ff2dd",
   "metadata": {},
   "outputs": [],
   "source": [
    "clean_df.loc[\n",
    "    (clean_df[\"Case outcome\"].str.lower() == 'unknown') & \n",
    "    (clean_df[\"Case outcome group\"].str.lower() != 'unknown'),\n",
    "    \"Case outcome\"\n",
    "] = clean_df.loc[\n",
    "    (clean_df[\"Case outcome\"].str.lower() == 'unknown') & \n",
    "    (clean_df[\"Case outcome group\"].str.lower() != 'unknown'),\n",
    "    \"Case outcome group\"\n",
    "]"
   ]
  },
  {
   "cell_type": "markdown",
   "id": "847d8e74-fdea-4511-994b-e335869bb82d",
   "metadata": {},
   "source": [
    "Checking again for after update "
   ]
  },
  {
   "cell_type": "code",
   "execution_count": 50,
   "id": "7f421f2c-dd08-42b4-90fa-290680f24627",
   "metadata": {},
   "outputs": [
    {
     "name": "stdout",
     "output_type": "stream",
     "text": [
      "Case outcome\n",
      "Unknown                 603968\n",
      "Issued                  177645\n",
      "Refused                 142453\n",
      "Withdrawn                59637\n",
      "Refugee Permission       21773\n",
      "Grant of Other Leave      8866\n",
      "Resettlements             3264\n",
      "Grant of Protection        210\n",
      "Name: count, dtype: int64\n",
      "After update, total matches: 990056\n",
      "After update, total mismatches: 27760\n"
     ]
    }
   ],
   "source": [
    "print(clean_df[\"Case outcome\"].value_counts())\n",
    "\n",
    "matches_after1 = clean_df[clean_df['Case outcome'].str.lower() == clean_df['Case outcome group'].str.lower()]\n",
    "mismatches_after1 = clean_df[clean_df['Case outcome'].str.lower() != clean_df['Case outcome group'].str.lower()]\n",
    "\n",
    "print(f\"After update, total matches: {len(matches_after1)}\")\n",
    "print(f\"After update, total mismatches: {len(mismatches_after1)}\")\n"
   ]
  },
  {
   "cell_type": "markdown",
   "id": "d9864162-eeb8-4067-a625-6d4948d98e76",
   "metadata": {},
   "source": [
    "if case == issued and case outcome == group then case outcome == refugee permission\n",
    "Now reviewing some mismatched rows to understand the discrepancy"
   ]
  },
  {
   "cell_type": "code",
   "execution_count": 90,
   "id": "18e4cfb5-d6b0-4075-bc93-4b3986554d1c",
   "metadata": {},
   "outputs": [
    {
     "name": "stdout",
     "output_type": "stream",
     "text": [
      "              Case outcome   Case outcome group\n",
      "129706  Refugee Permission  Grant of Protection\n",
      "468981  Refugee Permission  Grant of Protection\n",
      "31978   Refugee Permission  Grant of Protection\n",
      "937146  Refugee Permission  Grant of Protection\n",
      "851768  Refugee Permission  Grant of Protection\n",
      "596958  Refugee Permission  Grant of Protection\n",
      "762758  Refugee Permission  Grant of Protection\n",
      "410077  Refugee Permission  Grant of Protection\n",
      "573858  Refugee Permission  Grant of Protection\n",
      "782143       Resettlements  Grant of Protection\n"
     ]
    }
   ],
   "source": [
    "print(mismatches_after1[['Case outcome', 'Case outcome group']].sample(10))"
   ]
  },
  {
   "cell_type": "markdown",
   "id": "08edacef-7cf0-466f-b649-d86125d15767",
   "metadata": {},
   "source": [
    "Only grant of protection seems to be - so we can drop this "
   ]
  },
  {
   "cell_type": "code",
   "execution_count": 91,
   "id": "db93a741-e143-471a-817f-32ec1e4384bd",
   "metadata": {},
   "outputs": [],
   "source": [
    "clean_df = clean_df.drop(columns=['Case outcome group'])"
   ]
  },
  {
   "cell_type": "code",
   "execution_count": null,
   "id": "b0f79887-2ba3-48b7-938c-0c31240297c4",
   "metadata": {},
   "outputs": [],
   "source": [
    "# note this is going to be key encoding\n",
    "#so first make a data frame with all necesary data and get rid of as many unknowns as possible\n"
   ]
  },
  {
   "cell_type": "code",
   "execution_count": 94,
   "id": "12b33de3-8181-482b-b707-12fb679074fd",
   "metadata": {},
   "outputs": [
    {
     "data": {
      "text/plain": [
       "Case type\n",
       "Unknown              910451\n",
       "asylum case          103904\n",
       "resettlement case      3461\n",
       "Name: count, dtype: int64"
      ]
     },
     "execution_count": 94,
     "metadata": {},
     "output_type": "execute_result"
    }
   ],
   "source": [
    "clean_df['Case type'].value_counts()"
   ]
  },
  {
   "cell_type": "code",
   "execution_count": null,
   "id": "7096cde1-88ff-4f11-9b82-4b677a88edd0",
   "metadata": {},
   "outputs": [],
   "source": []
  },
  {
   "cell_type": "code",
   "execution_count": 46,
   "id": "bbd8c06d-cde7-4a9d-9208-762fe1b69e20",
   "metadata": {},
   "outputs": [
    {
     "name": "stdout",
     "output_type": "stream",
     "text": [
      "                   Min       Max    Average  Median\n",
      "Case type                                          \n",
      "Unknown            0.0  234827.0  57.708576     1.0\n",
      "asylum case        1.0    2940.0   9.223687     2.0\n",
      "resettlement case  1.0    1561.0  15.548396     2.0\n"
     ]
    }
   ],
   "source": [
    "import pandas as pd\n",
    "import numpy as np\n",
    "\n",
    "aggregated = clean_df.groupby('Case type')['Total Application and Decisions'].agg(\n",
    "    Min='min',\n",
    "    Max='max',\n",
    "    Average='mean',\n",
    ")\n",
    "\n",
    "print(aggregated)\n"
   ]
  },
  {
   "cell_type": "code",
   "execution_count": null,
   "id": "049d409b-b2b3-448d-a7c7-50663c45c00f",
   "metadata": {},
   "outputs": [],
   "source": []
  },
  {
   "cell_type": "code",
   "execution_count": null,
   "id": "5e62e4a1-fcf2-499c-9dc7-c0db675fbb35",
   "metadata": {},
   "outputs": [],
   "source": []
  },
  {
   "cell_type": "code",
   "execution_count": null,
   "id": "d52b6fd8-514f-4538-bbda-67feae58dbb5",
   "metadata": {},
   "outputs": [],
   "source": []
  },
  {
   "cell_type": "markdown",
   "id": "89532c71-6a20-4acf-a8e2-179de6113b58",
   "metadata": {},
   "source": [
    "LAST"
   ]
  },
  {
   "cell_type": "code",
   "execution_count": 95,
   "id": "b8a148a3-ab14-404b-b3c8-a4a7cb60e93d",
   "metadata": {},
   "outputs": [
    {
     "name": "stdout",
     "output_type": "stream",
     "text": [
      "Unique values in 'Case Outcome':\n",
      " ['Grant of Other Leave' 'Refugee Permission' 'Refused' 'Withdrawn'\n",
      " 'Unknown' 'Issued' 'Resettlements' 'Grant of Protection']\n",
      "\n",
      "Unique values in 'Case Type':\n",
      " ['asylum case' 'Unknown' 'resettlement case']\n"
     ]
    }
   ],
   "source": [
    "# Perform the update first\n",
    "clean_df.loc[\n",
    "    (clean_df[\"Case outcome\"].str.lower() == 'unknown') & \n",
    "    (clean_df[\"Case type\"].str.lower() != 'unknown'),\n",
    "    \"Case outcome\"\n",
    "] = clean_df.loc[\n",
    "    (clean_df[\"Case outcome\"].str.lower() == 'unknown') & \n",
    "    (clean_df[\"Case type\"].str.lower() != 'unknown'),\n",
    "    \"Case type\"\n",
    "]\n",
    "\n",
    "# Recalculate the \"Case outcome\" and \"Case type\" alignment for specified types\n",
    "specified_types = ['asylum case', 'resettlement case']\n",
    "\n",
    "for case_type in specified_types:\n",
    "    # Matches where \"Case outcome\" now aligns with \"Case type\"\n",
    "    matches = clean_df[(clean_df['Case outcome'].str.lower() == case_type) & \n",
    "                       (clean_df['Case type'].str.lower() == case_type)]\n",
    "    \n",
    "    # Mismatches where \"Case outcome\" does not align with \"Case type\"\n",
    "    mismatches = clean_df[(clean_df['Case outcome'].str.lower() != case_type) & \n",
    "                          (clean_df['Case type'].str.lower() == case_type)]\n",
    "    \n",
    "    print(f\"Matches for {case_type}: {len(matches)}\")\n",
    "    print(f\"Mismatches for {case_type}: {len(mismatches)}\")\n"
   ]
  },
  {
   "cell_type": "code",
   "execution_count": null,
   "id": "1f539429-ab94-4d7a-82d2-2f046138f218",
   "metadata": {},
   "outputs": [],
   "source": []
  },
  {
   "cell_type": "markdown",
   "id": "0d5e9819-a757-41ad-be8b-1fafa5198c21",
   "metadata": {},
   "source": [
    "## Age\n",
    "\n",
    "<div id='Age'></div>"
   ]
  },
  {
   "cell_type": "code",
   "execution_count": null,
   "id": "0c95d3c1-b1cb-4ff6-bce2-12ab665fdde0",
   "metadata": {},
   "outputs": [],
   "source": [
    "clean_df['Age'].value_counts()"
   ]
  },
  {
   "cell_type": "code",
   "execution_count": 14,
   "id": "a0acded2-ee58-4467-98b5-6b8c75c69f01",
   "metadata": {},
   "outputs": [
    {
     "data": {
      "text/plain": [
       "Visa type group\n",
       "Unknown                         711333\n",
       "work                             93704\n",
       "study                            59550\n",
       "other                            59218\n",
       "family                           44233\n",
       "visitor                          32570\n",
       "dep. joining or accompanying     17208\n",
       "Name: count, dtype: int64"
      ]
     },
     "execution_count": 14,
     "metadata": {},
     "output_type": "execute_result"
    }
   ],
   "source": [
    "\n",
    "clean_df['Visa type group'].value_counts()\n"
   ]
  },
  {
   "cell_type": "code",
   "execution_count": null,
   "id": "a07704b6-7fe1-4274-9228-390aacc92411",
   "metadata": {},
   "outputs": [],
   "source": []
  },
  {
   "cell_type": "code",
   "execution_count": 92,
   "id": "229fd4df-b363-4343-b146-202a7c05ee51",
   "metadata": {},
   "outputs": [
    {
     "data": {
      "text/plain": [
       "Age\n",
       "Unknown     449985\n",
       "18 to 29    217080\n",
       "30 to 49    173742\n",
       "Under 18     87094\n",
       "50 to 69     72644\n",
       "70+          17271\n",
       "Name: count, dtype: int64"
      ]
     },
     "execution_count": 92,
     "metadata": {},
     "output_type": "execute_result"
    }
   ],
   "source": [
    "\n"
   ]
  },
  {
   "cell_type": "code",
   "execution_count": null,
   "id": "6fd23105-4ab0-4fe9-9b87-03a8043b0405",
   "metadata": {},
   "outputs": [],
   "source": []
  },
  {
   "cell_type": "code",
   "execution_count": 10,
   "id": "44583d2d-118d-49ea-a014-78b04554859b",
   "metadata": {},
   "outputs": [
    {
     "name": "stdout",
     "output_type": "stream",
     "text": [
      "       Visa type group      Age\n",
      "27917            study  Unknown\n",
      "27918            study  Unknown\n",
      "27919            study  Unknown\n",
      "27920            study  Unknown\n",
      "27938            study  Unknown\n",
      "...                ...      ...\n",
      "994557           study  Unknown\n",
      "994558           study  Unknown\n",
      "994559           study  Unknown\n",
      "994560           study  Unknown\n",
      "994561           study  Unknown\n",
      "\n",
      "[59550 rows x 2 columns]\n"
     ]
    }
   ],
   "source": [
    "# Filter for rows where 'Visa type group' is 'study' and 'Age' is not 'Unknown'\n",
    "filtered_rows = clean_df[(clean_df['Visa type group'] == 'study') & (clean_df['Visa type group'] != 'Unknown')]\n",
    "\n",
    "# Select and display the 'Visa type group' and 'Age' columns from these filtered rows\n",
    "selected_columns = filtered_rows[['Visa type group', 'Age']]\n",
    "\n",
    "# Display the result\n",
    "print(selected_columns)\n"
   ]
  },
  {
   "cell_type": "code",
   "execution_count": null,
   "id": "fd2396ed-579c-4271-af55-4f456d4ef631",
   "metadata": {},
   "outputs": [],
   "source": []
  },
  {
   "cell_type": "code",
   "execution_count": 11,
   "id": "73cd9717-9919-4984-9bcc-3b4b5d31bcd0",
   "metadata": {},
   "outputs": [],
   "source": [
    "clean_df.loc[(clean_df['Age'].str.lower() == 'unknown') & (clean_df['Visa type group'] == 'study'), 'Age'] = '18 to 29'"
   ]
  },
  {
   "cell_type": "code",
   "execution_count": 13,
   "id": "986d4536-be91-43e2-b9a7-75402039fe77",
   "metadata": {},
   "outputs": [
    {
     "name": "stdout",
     "output_type": "stream",
     "text": [
      "       Visa type group       Age\n",
      "27917            study  18 to 29\n",
      "27918            study  18 to 29\n",
      "27919            study  18 to 29\n",
      "27920            study  18 to 29\n",
      "27938            study  18 to 29\n",
      "...                ...       ...\n",
      "994557           study  18 to 29\n",
      "994558           study  18 to 29\n",
      "994559           study  18 to 29\n",
      "994560           study  18 to 29\n",
      "994561           study  18 to 29\n",
      "\n",
      "[59550 rows x 2 columns]\n"
     ]
    }
   ],
   "source": [
    "# If you still need to filter and display specific rows afterwards:\n",
    "# Filter for rows where 'Visa type group' is 'study' and 'Age' is not 'Unknown'\n",
    "filtered_rows = clean_df[(clean_df['Visa type group'] == 'study') & (clean_df['Age'].str.lower() != 'unknown')]\n",
    "\n",
    "# Select and display the 'Visa type group' and 'Age' columns from these filtered rows\n",
    "selected_columns = filtered_rows[['Visa type group', 'Age']]\n",
    "\n",
    "# Display the result\n",
    "print(selected_columns)"
   ]
  },
  {
   "cell_type": "code",
   "execution_count": 3,
   "id": "52d884b5-5c8d-42f4-be13-3162e7de4415",
   "metadata": {},
   "outputs": [
    {
     "ename": "NameError",
     "evalue": "name 'clean_df' is not defined",
     "output_type": "error",
     "traceback": [
      "\u001b[1;31m---------------------------------------------------------------------------\u001b[0m",
      "\u001b[1;31mNameError\u001b[0m                                 Traceback (most recent call last)",
      "Cell \u001b[1;32mIn[3], line 1\u001b[0m\n\u001b[1;32m----> 1\u001b[0m \u001b[43mclean_df\u001b[49m\u001b[38;5;241m.\u001b[39mhead()\n",
      "\u001b[1;31mNameError\u001b[0m: name 'clean_df' is not defined"
     ]
    }
   ],
   "source": [
    "clean_df.head()"
   ]
  },
  {
   "cell_type": "code",
   "execution_count": 18,
   "id": "f5553ad7-8111-4636-917f-0972b5eb0af9",
   "metadata": {},
   "outputs": [
    {
     "data": {
      "text/plain": [
       "UASC\n",
       "Unknown    1004864\n",
       "uasc         12952\n",
       "Name: count, dtype: int64"
      ]
     },
     "execution_count": 18,
     "metadata": {},
     "output_type": "execute_result"
    }
   ],
   "source": [
    "#Unaccompanied Asylum Seeking Children (UASC) if uasc - age = children\n",
    "\n",
    "clean_df['UASC'].value_counts()"
   ]
  },
  {
   "cell_type": "code",
   "execution_count": null,
   "id": "6c6ec13e-50bd-4cd2-98f5-962e3254922a",
   "metadata": {},
   "outputs": [],
   "source": []
  },
  {
   "cell_type": "code",
   "execution_count": 25,
   "id": "3e2da184-5078-4ce9-bd4a-ec716e7b5196",
   "metadata": {},
   "outputs": [
    {
     "name": "stdout",
     "output_type": "stream",
     "text": [
      "        Year  Quarter  Nationality              Region Return type group  \\\n",
      "191736  2009        1  Afghanistan        Asia Central           unknown   \n",
      "191737  2009        1  Afghanistan        Asia Central           unknown   \n",
      "191739  2009        1  Afghanistan        Asia Central           unknown   \n",
      "191741  2009        1  Afghanistan        Asia Central           unknown   \n",
      "191745  2009        1  Afghanistan        Asia Central           unknown   \n",
      "...      ...      ...          ...                 ...               ...   \n",
      "998791  2023        3       Turkey        Europe Other           unknown   \n",
      "998805  2023        3       Uganda  Africa Sub-Saharan           unknown   \n",
      "998866  2023        3      Vietnam     Asia South East           unknown   \n",
      "998869  2023        3      Vietnam     Asia South East           unknown   \n",
      "998888  2023        3        Yemen         Middle East           unknown   \n",
      "\n",
      "       Return type       Age  Sex Return destination group  Number of returns  \\\n",
      "191736     Unknown  18 to 29    1                  Unknown                  0   \n",
      "191737     Unknown  Under 18    2                  Unknown                  0   \n",
      "191739     Unknown  Under 18    1                  Unknown                  0   \n",
      "191741     Unknown  Under 18    1                  Unknown                  0   \n",
      "191745     Unknown  18 to 29    1                  Unknown                  0   \n",
      "...            ...       ...  ...                      ...                ...   \n",
      "998791     Unknown  Under 18    1                  Unknown                  0   \n",
      "998805     Unknown  Under 18    1                  Unknown                  0   \n",
      "998866     Unknown  Under 18    2                  Unknown                  0   \n",
      "998869     Unknown  Under 18    1                  Unknown                  0   \n",
      "998888     Unknown  Under 18    1                  Unknown                  0   \n",
      "\n",
      "       Visa type group  Applicant type        Case outcome  Decisions  \\\n",
      "191736         Unknown  Main Applicant        Case Unknown        1.0   \n",
      "191737         Unknown  Main Applicant        Case Unknown        1.0   \n",
      "191739         Unknown  Main Applicant        Case Unknown      297.0   \n",
      "191741         Unknown  Main Applicant              Issued        2.0   \n",
      "191745         Unknown  Main Applicant  Refugee Permission        1.0   \n",
      "...                ...             ...                 ...        ...   \n",
      "998791         Unknown  Main Applicant        Case Unknown        0.0   \n",
      "998805         Unknown  Main Applicant        Case Unknown        0.0   \n",
      "998866         Unknown  Main Applicant        Case Unknown        0.0   \n",
      "998869         Unknown  Main Applicant        Case Unknown        0.0   \n",
      "998888         Unknown  Main Applicant        Case Unknown        0.0   \n",
      "\n",
      "          Case type    Case outcome group  UASC Application type group  \\\n",
      "191736  asylum case  Grant of Other Leave  uasc                Unknown   \n",
      "191737  asylum case  Grant of Other Leave  uasc                Unknown   \n",
      "191739  asylum case  Grant of Other Leave  uasc                Unknown   \n",
      "191741  asylum case   Grant of Protection  uasc                Unknown   \n",
      "191745  asylum case   Grant of Protection  uasc                Unknown   \n",
      "...             ...                   ...   ...                    ...   \n",
      "998791      Unknown               Unknown  uasc                Unknown   \n",
      "998805      Unknown               Unknown  uasc                Unknown   \n",
      "998866      Unknown               Unknown  uasc                Unknown   \n",
      "998869      Unknown               Unknown  uasc                Unknown   \n",
      "998888      Unknown               Unknown  uasc                Unknown   \n",
      "\n",
      "       Application type  Grants  Applications Occupation Industry  \\\n",
      "191736          Unknown     0.0           0.0    Unknown  Unknown   \n",
      "191737          Unknown     0.0           0.0    Unknown  Unknown   \n",
      "191739          Unknown     0.0           0.0    Unknown  Unknown   \n",
      "191741          Unknown     0.0           0.0    Unknown  Unknown   \n",
      "191745          Unknown     0.0           0.0    Unknown  Unknown   \n",
      "...                 ...     ...           ...        ...      ...   \n",
      "998791          Unknown     0.0          96.0    Unknown  Unknown   \n",
      "998805          Unknown     0.0           1.0    Unknown  Unknown   \n",
      "998866          Unknown     0.0          21.0    Unknown  Unknown   \n",
      "998869          Unknown     0.0          43.0    Unknown  Unknown   \n",
      "998888          Unknown     0.0           2.0    Unknown  Unknown   \n",
      "\n",
      "       Occ. major group Occ. sub-major group Occ. minor group Occ. unit group  \\\n",
      "191736          Unknown              Unknown          Unknown         Unknown   \n",
      "191737          Unknown              Unknown          Unknown         Unknown   \n",
      "191739          Unknown              Unknown          Unknown         Unknown   \n",
      "191741          Unknown              Unknown          Unknown         Unknown   \n",
      "191745          Unknown              Unknown          Unknown         Unknown   \n",
      "...                 ...                  ...              ...             ...   \n",
      "998791          Unknown              Unknown          Unknown         Unknown   \n",
      "998805          Unknown              Unknown          Unknown         Unknown   \n",
      "998866          Unknown              Unknown          Unknown         Unknown   \n",
      "998869          Unknown              Unknown          Unknown         Unknown   \n",
      "998888          Unknown              Unknown          Unknown         Unknown   \n",
      "\n",
      "       General_Region  \n",
      "191736           Asia  \n",
      "191737           Asia  \n",
      "191739           Asia  \n",
      "191741           Asia  \n",
      "191745           Asia  \n",
      "...               ...  \n",
      "998791         Europe  \n",
      "998805         Africa  \n",
      "998866           Asia  \n",
      "998869           Asia  \n",
      "998888    Middle East  \n",
      "\n",
      "[10963 rows x 28 columns]\n"
     ]
    }
   ],
   "source": [
    "# Corrected example of filtering rows based on conditions for \"UASC\" and \"Age\"\n",
    "filtered_rows2 = clean_df.loc[(clean_df[\"UASC\"].str.lower() != 'unknown') & (clean_df['Age'].str.lower() != 'unknown')]\n",
    "\n",
    "# Display the filtered DataFrame\n",
    "print(filtered_rows2)\n"
   ]
  },
  {
   "cell_type": "code",
   "execution_count": 26,
   "id": "bda0933a-126b-4267-b682-4b018083109b",
   "metadata": {},
   "outputs": [],
   "source": [
    "clean_df.loc[(clean_df['Age'].str.lower() == 'unknown') & (clean_df['UASC'] == 'uasc'), 'Age'] = 'Under 18'"
   ]
  },
  {
   "cell_type": "code",
   "execution_count": null,
   "id": "3ee7e124-4764-4580-8a56-f3e63ccc24bf",
   "metadata": {},
   "outputs": [],
   "source": []
  },
  {
   "cell_type": "code",
   "execution_count": 27,
   "id": "a27e4c53-5a2b-48a9-a1cc-8c08182378ea",
   "metadata": {},
   "outputs": [
    {
     "data": {
      "text/plain": [
       "Age\n",
       "Unknown     449985\n",
       "18 to 29    217080\n",
       "30 to 49    173742\n",
       "Under 18     87094\n",
       "50 to 69     72644\n",
       "70+          17271\n",
       "Name: count, dtype: int64"
      ]
     },
     "execution_count": 27,
     "metadata": {},
     "output_type": "execute_result"
    }
   ],
   "source": [
    "clean_df['Age'].value_counts()\n"
   ]
  },
  {
   "cell_type": "code",
   "execution_count": null,
   "id": "2e3844fe-ddd0-4d23-b7de-ae3e8613cd1b",
   "metadata": {},
   "outputs": [],
   "source": []
  },
  {
   "cell_type": "code",
   "execution_count": null,
   "id": "6ad4b5de-b9ac-4084-970e-e7b93e8a9df9",
   "metadata": {},
   "outputs": [],
   "source": []
  },
  {
   "cell_type": "code",
   "execution_count": null,
   "id": "ad59658c-a911-4b6c-b887-327a9fb5fa5b",
   "metadata": {},
   "outputs": [],
   "source": []
  },
  {
   "cell_type": "code",
   "execution_count": null,
   "id": "999ac337-7110-4c11-9ea6-40ea241674c7",
   "metadata": {},
   "outputs": [],
   "source": []
  },
  {
   "cell_type": "code",
   "execution_count": null,
   "id": "ca88d2c6-a1f0-4070-b61d-61623d284e43",
   "metadata": {},
   "outputs": [],
   "source": []
  },
  {
   "cell_type": "code",
   "execution_count": null,
   "id": "96784388-0af6-47ab-9a0c-e39e01636522",
   "metadata": {},
   "outputs": [],
   "source": []
  },
  {
   "cell_type": "code",
   "execution_count": null,
   "id": "3b2f68e7-10ec-4b17-86f6-f2f24910fac2",
   "metadata": {},
   "outputs": [],
   "source": []
  },
  {
   "cell_type": "code",
   "execution_count": null,
   "id": "b73534ed-82f3-4510-a156-d98809e11376",
   "metadata": {},
   "outputs": [],
   "source": []
  },
  {
   "cell_type": "code",
   "execution_count": null,
   "id": "2045c8e5-559d-42fe-8b20-cdcb7a62365d",
   "metadata": {},
   "outputs": [],
   "source": []
  },
  {
   "cell_type": "code",
   "execution_count": null,
   "id": "7ef5551d-c165-45d3-bfd2-3ce7be44d9dd",
   "metadata": {},
   "outputs": [],
   "source": [
    "# Define the list of known groups\n",
    "known_groups = ['Refused', 'Grant of Protection', 'Withdrawn', 'Grant of Other Leave']\n",
    "\n",
    "# Use `.where()` to keep the value if it's in known_groups, else replace with 'Unknown'\n",
    "df_combined['Case outcome group'] = df_combined['Case outcome group'].where(df_combined['Case outcome group'].isin(known_groups), other='Unknown')\n"
   ]
  },
  {
   "cell_type": "code",
   "execution_count": null,
   "id": "f564eba0-591f-40f4-8527-f8845cbfb199",
   "metadata": {},
   "outputs": [],
   "source": []
  },
  {
   "cell_type": "code",
   "execution_count": null,
   "id": "977339c0-a1a9-47ca-bdaa-575c7c9647a3",
   "metadata": {},
   "outputs": [],
   "source": []
  },
  {
   "cell_type": "code",
   "execution_count": null,
   "id": "e50caa1f-0c37-4fb1-ad83-330081c97fb1",
   "metadata": {},
   "outputs": [],
   "source": []
  },
  {
   "cell_type": "code",
   "execution_count": null,
   "id": "4a719cf3-0276-45ef-84e5-acb7eaeb8e1c",
   "metadata": {},
   "outputs": [],
   "source": []
  },
  {
   "cell_type": "code",
   "execution_count": null,
   "id": "6b393b0c-6903-4075-bb64-71906d4760a8",
   "metadata": {},
   "outputs": [],
   "source": []
  },
  {
   "cell_type": "code",
   "execution_count": null,
   "id": "667f0511-bdc4-41bf-aaba-11c6b98d8752",
   "metadata": {},
   "outputs": [],
   "source": []
  },
  {
   "cell_type": "code",
   "execution_count": 81,
   "id": "dcdb03bb-9fed-4936-81a2-c8d3107bdefd",
   "metadata": {},
   "outputs": [
    {
     "data": {
      "image/png": "[encoded data removed]",
      "text/plain": [
       "<Figure size 1500x500 with 1 Axes>"
      ]
     },
     "metadata": {},
     "output_type": "display_data"
    }
   ],
   "source": [
    "plt.figure(figsize=(15,5))\n",
    "plt.hist(clean_df['Visa type group'], bins = 100)\n",
    "plt.ylabel(\"Age\", size=13)\n",
    "plt.xlabel(\"Visa Type\", size=13)\n",
    "plt.show()"
   ]
  },
  {
   "cell_type": "code",
   "execution_count": null,
   "id": "9f865456-6036-4592-b050-66ef4d9ac9c3",
   "metadata": {},
   "outputs": [],
   "source": []
  },
  {
   "cell_type": "code",
   "execution_count": null,
   "id": "f9f72ae2-d49c-455d-ac17-8528acd26584",
   "metadata": {},
   "outputs": [],
   "source": []
  },
  {
   "cell_type": "code",
   "execution_count": null,
   "id": "92e37cd4-a333-4955-8399-de17d79cefcc",
   "metadata": {},
   "outputs": [],
   "source": []
  },
  {
   "cell_type": "code",
   "execution_count": null,
   "id": "492921e2-376f-4e4f-a326-5f90a786965b",
   "metadata": {},
   "outputs": [],
   "source": []
  },
  {
   "cell_type": "markdown",
   "id": "a7baeb31-a8bf-418e-8577-635917827e27",
   "metadata": {},
   "source": [
    "\n",
    "\n",
    "1) Select only numeric columns for scaling\n",
    "2) Initialize the StandardScaler\n",
    "3) Create a new DataFrame from the scaled data with the original numeric column names"
   ]
  },
  {
   "cell_type": "code",
   "execution_count": 43,
   "id": "ddf1b925-a7c8-49c4-9db5-1dd9bb45c9f5",
   "metadata": {},
   "outputs": [],
   "source": [
    "from sklearn.preprocessing import StandardScaler\n",
    "import pandas as pd\n",
    "import numpy as np\n",
    "import matplotlib.pyplot as plt\n",
    "\n",
    "# Assuming clean_df is already defined\n",
    "numeric_cols = clean_df.select_dtypes(include=['int64', 'float64']).columns\n",
    "\n",
    "# Initialize and fit StandardScaler on the numeric columns\n",
    "my_ss = StandardScaler()\n",
    "X = my_ss.fit_transform(clean_df[numeric_cols])\n",
    "\n",
    "# Create a DataFrame from the scaled data\n",
    "clean_df_scaled = pd.DataFrame(data=X, columns=numeric_cols)\n",
    "\n",
    "# Apply log transformation only to the numeric columns, adding 1 to avoid log(0)\n",
    "log_transformed = np.log(clean_df[numeric_cols] + 1)\n",
    "\n"
   ]
  },
  {
   "cell_type": "code",
   "execution_count": null,
   "id": "7972da38-e493-47b9-bc6e-eb9b1411c561",
   "metadata": {},
   "outputs": [],
   "source": []
  },
  {
   "cell_type": "code",
   "execution_count": 2,
   "id": "aadb076a-b965-4554-9dfd-c70ef592dfd9",
   "metadata": {},
   "outputs": [
    {
     "ename": "NameError",
     "evalue": "name 'clean_df' is not defined",
     "output_type": "error",
     "traceback": [
      "\u001b[1;31m---------------------------------------------------------------------------\u001b[0m",
      "\u001b[1;31mNameError\u001b[0m                                 Traceback (most recent call last)",
      "Cell \u001b[1;32mIn[2], line 33\u001b[0m\n\u001b[0;32m     30\u001b[0m detention_costs_df[\u001b[38;5;124m'\u001b[39m\u001b[38;5;124mQuarter\u001b[39m\u001b[38;5;124m'\u001b[39m] \u001b[38;5;241m=\u001b[39m detention_costs_df[\u001b[38;5;124m'\u001b[39m\u001b[38;5;124mYear_Quarter\u001b[39m\u001b[38;5;124m'\u001b[39m]\u001b[38;5;241m.\u001b[39mstr\u001b[38;5;241m.\u001b[39msplit()\u001b[38;5;241m.\u001b[39mstr[\u001b[38;5;241m1\u001b[39m]\u001b[38;5;241m.\u001b[39mreplace({\u001b[38;5;124m'\u001b[39m\u001b[38;5;124mQ1\u001b[39m\u001b[38;5;124m'\u001b[39m: \u001b[38;5;124m'\u001b[39m\u001b[38;5;124m1\u001b[39m\u001b[38;5;124m'\u001b[39m, \u001b[38;5;124m'\u001b[39m\u001b[38;5;124mQ2\u001b[39m\u001b[38;5;124m'\u001b[39m: \u001b[38;5;124m'\u001b[39m\u001b[38;5;124m2\u001b[39m\u001b[38;5;124m'\u001b[39m, \u001b[38;5;124m'\u001b[39m\u001b[38;5;124mQ3\u001b[39m\u001b[38;5;124m'\u001b[39m: \u001b[38;5;124m'\u001b[39m\u001b[38;5;124m3\u001b[39m\u001b[38;5;124m'\u001b[39m, \u001b[38;5;124m'\u001b[39m\u001b[38;5;124mQ4\u001b[39m\u001b[38;5;124m'\u001b[39m: \u001b[38;5;124m'\u001b[39m\u001b[38;5;124m4\u001b[39m\u001b[38;5;124m'\u001b[39m})\n\u001b[0;32m     32\u001b[0m \u001b[38;5;66;03m# Merge preparation\u001b[39;00m\n\u001b[1;32m---> 33\u001b[0m clean_df[\u001b[38;5;124m'\u001b[39m\u001b[38;5;124mQuarter\u001b[39m\u001b[38;5;124m'\u001b[39m] \u001b[38;5;241m=\u001b[39m \u001b[43mclean_df\u001b[49m[\u001b[38;5;124m'\u001b[39m\u001b[38;5;124mQuarter\u001b[39m\u001b[38;5;124m'\u001b[39m]\u001b[38;5;241m.\u001b[39mastype(\u001b[38;5;28mstr\u001b[39m)  \u001b[38;5;66;03m# Ensure Quarter is string for consistency\u001b[39;00m\n\u001b[0;32m     35\u001b[0m \u001b[38;5;66;03m# Merging\u001b[39;00m\n\u001b[0;32m     36\u001b[0m clean_df_merged \u001b[38;5;241m=\u001b[39m pd\u001b[38;5;241m.\u001b[39mmerge(clean_df, detention_costs_df, how\u001b[38;5;241m=\u001b[39m\u001b[38;5;124m'\u001b[39m\u001b[38;5;124mleft\u001b[39m\u001b[38;5;124m'\u001b[39m, on\u001b[38;5;241m=\u001b[39m[\u001b[38;5;124m'\u001b[39m\u001b[38;5;124mYear\u001b[39m\u001b[38;5;124m'\u001b[39m, \u001b[38;5;124m'\u001b[39m\u001b[38;5;124mQuarter\u001b[39m\u001b[38;5;124m'\u001b[39m])\n",
      "\u001b[1;31mNameError\u001b[0m: name 'clean_df' is not defined"
     ]
    }
   ],
   "source": [
    "import pandas as pd\n",
    "\n",
    "# Detention costs data\n",
    "data = {\n",
    "    \"Year_Quarter\": [\n",
    "        \"2013 Q1\", \"2013 Q2\", \"2013 Q3\", \"2013 Q4\",\n",
    "        \"2014 Q1\", \"2014 Q2\", \"2014 Q3\", \"2014 Q4\",\n",
    "        \"2015 Q1\", \"2015 Q2\", \"2015 Q3\", \"2015 Q4\",\n",
    "        \"2016 Q1\", \"2016 Q2\", \"2016 Q3\", \"2016 Q4\",\n",
    "        \"2017 Q1\", \"2017 Q2\", \"2017 Q3\", \"2017 Q4\",\n",
    "        \"2018 Q1\", \"2018 Q2\", \"2018 Q3\", \"2018 Q4\",\n",
    "        \"2019 Q1\", \"2019 Q2\", \"2019 Q3\", \"2019 Q4\",\n",
    "        \"2020 Q1\", \"2020 Q2\", \"2020 Q3\", \"2020 Q4\",\n",
    "        \"2021 Q1\", \"2021 Q2\", \"2021 Q3\", \"2021 Q4\",\n",
    "        \"2022 Q1\", \"2022 Q2\", \"2022 Q3\", \"2022 Q4\",\n",
    "        \"2023 Q1\", \"2023 Q2\", \"2023 Q3\"\n",
    "    ],\n",
    "    \"Cost\": [\n",
    "        102.00, 100.00, 100.00, 100.00, 98.00, 98.70, 97.10, 96.16,\n",
    "        92.67, 91.61, 90.41, 90.59, 89.93, 88.46, 87.63, 86.08,\n",
    "        85.47, 85.53, 85.92, 85.97, 86.92, 87.52, 88.29, 87.71,\n",
    "        88.68, 90.21, 91.34, 95.49, 96.86, 97.54, 99.56, 96.66,\n",
    "        101.17, 98.78, 101.42, 101.61, 107.23, 113.16, 115.32, 120.42,\n",
    "        112.85, 107.71, 104.99\n",
    "    ]\n",
    "}\n",
    "detention_costs_df = pd.DataFrame(data)\n",
    "# Split 'Year_Quarter' into 'Year' and 'Quarter'\n",
    "detention_costs_df['Year'] = detention_costs_df['Year_Quarter'].str.split().str[0].astype(int)\n",
    "detention_costs_df['Quarter'] = detention_costs_df['Year_Quarter'].str.split().str[1].replace({'Q1': '1', 'Q2': '2', 'Q3': '3', 'Q4': '4'})\n",
    "\n",
    "# Merge preparation\n",
    "clean_df['Quarter'] = clean_df['Quarter'].astype(str)  # Ensure Quarter is string for consistency\n",
    "\n",
    "# Merging\n",
    "clean_df_merged = pd.merge(clean_df, detention_costs_df, how='left', on=['Year', 'Quarter'])\n",
    "\n",
    "\n",
    "#REF: #REF: https://migrationobservatory.ox.ac.uk/resources/briefings/immigration-detention-in-the-uk/"
   ]
  },
  {
   "cell_type": "code",
   "execution_count": null,
   "id": "0e60d5ca-ff87-4661-9e6f-46dca31e92ce",
   "metadata": {},
   "outputs": [],
   "source": [
    "clean_df_merged.head()"
   ]
  },
  {
   "cell_type": "code",
   "execution_count": null,
   "id": "7387383a-4fe4-48a8-a4d0-7559299297ac",
   "metadata": {},
   "outputs": [],
   "source": [
    "DT_02: Average cost per day to hold an individual in immigration detention1,B\n",
    "Back to Contents\n",
    "\n",
    " \t \n",
    "Quarter\tCost\n",
    "2013 Q1\t£102.00\n",
    "2013 Q2\t£100.00\n",
    "2013 Q3\t£100.00\n",
    "2013 Q4\t£100.00\n",
    "2014 Q1\t£98.00\n",
    "2014 Q2\t£98.70\n",
    "2014 Q3\t£97.10\n",
    "2014 Q4\t£96.16\n",
    "2015 Q1\t£92.67\n",
    "2015 Q2\t£91.61\n",
    "2015 Q3\t£90.41\n",
    "2015 Q4\t£90.59\n",
    "2016 Q1\t£89.93\n",
    "2016 Q2\t£88.46\n",
    "2016 Q3\t£87.63\n",
    "2016 Q4\t£86.08\n",
    "2017 Q1\t£85.47\n",
    "2017 Q2\t£85.53\n",
    "2017 Q3\t£85.92\n",
    "2017 Q4\t£85.97\n",
    "2018 Q1\t£86.92\n",
    "2018 Q2\t£87.52\n",
    "2018 Q3\t£88.29\n",
    "2018 Q4\t£87.71\n",
    "2019 Q1\t£88.68\n",
    "2019 Q2\t£90.21\n",
    "2019 Q3\t£91.34\n",
    "2019 Q4\t£95.49\n",
    "2020 Q1\t£96.86\n",
    "2020 Q2\t£97.54\n",
    "2020 Q3\t£99.56\n",
    "2020 Q4\t£96.66\n",
    "2021 Q1\t£101.17\n",
    "2021 Q2\t£98.78\n",
    "2021 Q3\t£101.42\n",
    "2021 Q4\t£101.61\n",
    "2022 Q1\t£107.23\n",
    "2022 Q2\t£113.16\n",
    "2022 Q3\t£115.32\n",
    "2022 Q4\t£120.42\n",
    "2023 Q1\t£112.85\n",
    "2023 Q2\t£107.71\n",
    "2023 Q3\t£104.99\n",
    "\n",
    "\n"
   ]
  },
  {
   "cell_type": "code",
   "execution_count": null,
   "id": "72c571d2-be98-4dd4-ba1d-b14210b28550",
   "metadata": {},
   "outputs": [],
   "source": []
  },
  {
   "cell_type": "code",
   "execution_count": 95,
   "id": "316ba07a-c726-4e07-8a05-8ed7b7070156",
   "metadata": {},
   "outputs": [
    {
     "data": {
      "text/plain": [
       "UASC\n",
       "Unknown    1010181\n",
       "uasc         13220\n",
       "Name: count, dtype: int64"
      ]
     },
     "execution_count": 95,
     "metadata": {},
     "output_type": "execute_result"
    }
   ],
   "source": []
  },
  {
   "cell_type": "code",
   "execution_count": null,
   "id": "90d0a4f4-7d80-4416-ab9e-f9f5b04994d0",
   "metadata": {},
   "outputs": [],
   "source": []
  },
  {
   "cell_type": "markdown",
   "id": "65d99ac2-ab18-40e2-8077-a7499247b5d6",
   "metadata": {},
   "source": [
    "### Baseline Modelling: Logistic Regression\n",
    "\n",
    "<div id='B_Modelling'></div>"
   ]
  },
  {
   "cell_type": "code",
   "execution_count": null,
   "id": "e1a4c17c-c75e-4cb5-b83f-6c1ca55e7b1d",
   "metadata": {},
   "outputs": [],
   "source": []
  },
  {
   "cell_type": "code",
   "execution_count": null,
   "id": "820f464e-0d18-48a3-831d-7405c2ec591c",
   "metadata": {},
   "outputs": [],
   "source": [
    "# hide warnings - we will be using default parameter values\n",
    "import warnings\n",
    "warnings.filterwarnings('ignore')"
   ]
  },
  {
   "cell_type": "code",
   "execution_count": null,
   "id": "0e6f3062-cf92-4b99-b352-55076d284b4d",
   "metadata": {},
   "outputs": [],
   "source": []
  },
  {
   "cell_type": "code",
   "execution_count": null,
   "id": "873c02c9-72ae-43e5-bf12-89ec92e60c77",
   "metadata": {},
   "outputs": [],
   "source": []
  },
  {
   "cell_type": "code",
   "execution_count": null,
   "id": "c7ec5982-dbe2-4a19-b50d-5844431d9c6e",
   "metadata": {},
   "outputs": [],
   "source": []
  },
  {
   "cell_type": "code",
   "execution_count": null,
   "id": "d3b0a8c4-0ebf-4447-9c31-5899b6d15282",
   "metadata": {},
   "outputs": [],
   "source": []
  },
  {
   "cell_type": "code",
   "execution_count": null,
   "id": "9fdcee71-8739-4461-9618-000c5505cc2a",
   "metadata": {},
   "outputs": [],
   "source": []
  },
  {
   "cell_type": "code",
   "execution_count": null,
   "id": "a85e2bf2-52df-4479-97ca-181c34c1d2a8",
   "metadata": {},
   "outputs": [],
   "source": [
    "import pandas as pd\n",
    "import numpy as np\n",
    "\n",
    "str_cols = clean_df.select_dtypes(include=['object'])\n",
    "mask_str = ~(str_cols.apply(lambda x: x.str.lower()).isin(['unknown']).any(axis=1))\n",
    "\n",
    "num_cols = clean_df.select_dtypes(include=['int64', 'float64'])\n",
    "mask_num = ~(num_cols.isin([0]).any(axis=1))\n",
    "\n",
    "# Combine masks to get a mask for rows to keep\n",
    "mask_combined = mask_str & mask_num\n",
    "\n",
    "clean_df_no_unknown_or_zero = clean_df.loc[mask_combined]\n",
    "\n",
    "clean_df_no_unknown_or_zero.info()\n"
   ]
  },
  {
   "cell_type": "code",
   "execution_count": null,
   "id": "40b6c138-e216-445e-bd25-ca8be67417ff",
   "metadata": {},
   "outputs": [],
   "source": [
    "cols_with_unknown = clean_df.apply(lambda x: x.astype(str).str.lower().str.contains('unknown').any(), axis=0)\n",
    "cols_with_unknown = cols_with_unknown[cols_with_unknown].index.tolist()\n",
    "\n",
    "cols_with_zero = clean_df.select_dtypes(include=['int64', 'float64']).apply(lambda x: (x==0).any(), axis=0)\n",
    "cols_with_zero = cols_with_zero[cols_with_zero].index.tolist()\n",
    "\n",
    "# Combine the lists, ensuring uniqueness\n",
    "cols_of_interest = list(set(cols_with_unknown + cols_with_zero))\n",
    "\n",
    "clean_df_c = clean_df[cols_of_interest].copy()\n",
    "\n",
    "clean_df_c.info()"
   ]
  }
 ],
 "metadata": {
  "kernelspec": {
   "display_name": "Python 3 (ipykernel)",
   "language": "python",
   "name": "python3"
  },
  "language_info": {
   "codemirror_mode": {
    "name": "ipython",
    "version": 3
   },
   "file_extension": ".py",
   "mimetype": "text/x-python",
   "name": "python",
   "nbconvert_exporter": "python",
   "pygments_lexer": "ipython3",
   "version": "3.11.8"
  }
 },
 "nbformat": 4,
 "nbformat_minor": 5
}
