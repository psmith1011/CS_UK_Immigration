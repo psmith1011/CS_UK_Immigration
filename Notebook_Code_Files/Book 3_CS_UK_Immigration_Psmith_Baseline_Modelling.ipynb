{
 "cells": [
  {
   "cell_type": "markdown",
   "id": "5353e1b4-110a-495d-9ba7-bb3bc3f62bb6",
   "metadata": {},
   "source": [
    "# Capstone Project: UK Immigration/Asylum Analysis (2001-2023)"
   ]
  },
  {
   "cell_type": "markdown",
   "id": "b50bc35e-c016-4a70-85e3-ece4caa60901",
   "metadata": {},
   "source": [
    "## Book 3: Pre-Processing 2"
   ]
  },
  {
   "cell_type": "markdown",
   "id": "5e8c62c3-ac9d-4277-be2b-d3b9c67510b6",
   "metadata": {},
   "source": [
    "Author: Patrick Smith\n",
    "\n",
    "Date: 01/04/2024\n",
    "\n",
    "Contact: patrick.b.smith@gmail.com"
   ]
  },
  {
   "cell_type": "markdown",
   "id": "0f54046b-9336-4fca-a978-7d53321dd131",
   "metadata": {},
   "source": [
    "         *                 *                  *              *\n",
    "                                                      *             *\n",
    "                        *            *                             ___\n",
    "  *               *                                          |     | |\n",
    "        *              _________##                 *        / \\    | |\n",
    "                      @\\\\\\\\\\\\\\\\\\##    *     |              |--o|===|-|\n",
    "  *                  @@@\\\\\\\\\\\\\\\\##\\       \\|/|/            |---|   |p|\n",
    "                    @@ @@\\\\\\\\\\\\\\\\\\\\\\    \\|\\\\|//|/     *   /     \\  |b|\n",
    "             *     @@@@@@@\\\\\\\\\\\\\\\\\\\\\\    \\|\\|/|/         |  U    | |s|\n",
    "                  @@@@@@@@@----------|    \\\\|//          |  K    |=| |                                                                                                                       "
   ]
  },
  {
   "cell_type": "markdown",
   "id": "21337569-32eb-4180-a0ea-1a3b32a2897e",
   "metadata": {},
   "source": [
    "## Description of Variables "
   ]
  },
  {
   "cell_type": "markdown",
   "id": "dafebd1e-6c6d-4e1b-8809-8e731e8bb23c",
   "metadata": {},
   "source": [
    "| Column                         | Descriptor                                                                 | Datatype |\n",
    "|--------------------------------|----------------------------------------------------------------------------|----------|\n",
    "| Year                           | The period in which the event occurred.                                    | int32    |\n",
    "| Quarter                        | Quarter of the year (Q1=1, Q2=2, Q3=3, Q4=4).                              | object   |\n",
    "| Nationality                    | Nationality of the individual.                                             | object   |\n",
    "| Region                         | World region of the country of nationality for the individual.              | object   |\n",
    "| Return type group              | Grouped type of return (enforced, voluntary, refused entry at port).         | object   |\n",
    "| Return type                    | Specific type of return (enforced, voluntary, refused entry).               | object   |\n",
    "| Age                            | Age of the individual at the time of the event.                             | object   |\n",
    "| Sex                            | Gender of the individual (male, female, other/unknown).                     | int32    |\n",
    "| Return destination group       | Grouped destination country for return (Home country, EU, Other country).   | object   |\n",
    "| Return destination             | Specific destination country for return.                                    | object   |\n",
    "| Number of returns              | Count of returns.                                                           | float64  |\n",
    "| Visa type group                | Grouped type of sponsored work visa applied for.                            | object   |\n",
    "| Visa type subgroup             | Detailed type of sponsored work visa applied for.                           | object   |\n",
    "| Applicant type                 | Type of applicant (main applicant, dependant).                             | object   |\n",
    "| Case outcome                   | Outcome of the case (granted, refused, withdrawn, resettlement).             | object   |\n",
    "| Decisions                      | Number of decisions made.                                                   | float64  |\n",
    "| Case type                      | Type of case (asylum, resettlement).                                       | object   |\n",
    "| Case outcome group             | Grouped outcome of the case (granted protection, grant of other leave, refused, withdrawn). | object   |\n",
    "| UASC                           | Indicates if the applicant is an Unaccompanied Asylum-Seeking Child.       | object   |\n",
    "| Host Country                   | Country where the individual first sought asylum for resettlement cases.    | object   |\n",
    "| Location of application        | Location where the application was submitted.                               | object   |\n",
    "| Applications                   | Number of applications made.                                               | float64  |\n",
    "| Occupation                     | Occupation of the individual.                                              | object   |\n",
    "| Industry                       | Industry sector for which the application to work was made.                 | object   |\n",
    "| SOC code                       | Standard Occupational Classification code.                                 | object   |\n",
    "| Occ. major group               | Major group classification of the occupation.                              | object   |\n",
    "| Occ. sub-major group           | Sub-major group classification of the occupation.                          | object   |\n",
    "| Occ. minor group               | Minor group classification of the occupation.                              | object   |\n",
    "| Occ. unit group                | Unit group classification of the occupation.                               | object   |\n",
    "| Category of leave group        | Grouped category of extension applied for (work, study, family, other).     | object   |\n",
    "| Category of leave              | Category of extension applied for.                                         | object   |\n",
    "| Category of leave subgroup     | Detailed category of extension applied for.                                | object   |\n",
    "| Current category of leave group| Grouped current category of leave (work, study, family, other).            | object   |\n",
    "| Current category of leave      | Current category of leave.                                                 | object   |\n",
    "| Previous category of leave group | Grouped previous category of leave (work, study, family, other).         | object   |\n",
    "| Previous category of leave     | Previous category of leave.                                                | object   |\n",
    "| Sex_Male                       | Dummy variable for male (1 if male, 0 otherwise).                          | object   |\n",
    "| Sex_Female                     | Dummy variable for female (1 if female, 0 otherwise).                      | object   |\n",
    "| Sex_Other                      | Dummy variable for other or NA (1 if other/unknown, 0 otherwise).          | object   |\n",
    "| UK Region                      | The UK region in which the citizenship ceremony took place.                | object   |"
   ]
  },
  {
   "cell_type": "markdown",
   "id": "343c6c1c-2b91-4f6f-96b5-ccfc317f2589",
   "metadata": {},
   "source": [
    "## Table of Contents - Book 3\n",
    "\n",
    "[Preprocessing: Case Outcome](#Case_Outcome) \n",
    "\n",
    "[Preprocessing: Visa Outcome](#Visa_Outcomes) \n",
    "\n",
    "[Preprocessing: Age](#Age) \n",
    "\n",
    "[Baseline Modelling](#B_Model)\n"
   ]
  },
  {
   "cell_type": "markdown",
   "id": "6747ef79-7365-4eb8-9286-2201e77b8bfd",
   "metadata": {},
   "source": [
    "## Data Loading\n",
    "\n",
    "<div id='Load'></div>"
   ]
  },
  {
   "cell_type": "code",
   "execution_count": 1,
   "id": "9f5a7815-6e0e-4634-8b7a-c83b9b10ed27",
   "metadata": {},
   "outputs": [],
   "source": [
    "import pandas as pd\n",
    "import os\n",
    "import numpy as np\n",
    "import matplotlib.pyplot as plt\n",
    "from sklearn.linear_model import LogisticRegression\n",
    "from sklearn.feature_extraction.text import CountVectorizer\n",
    "import warnings\n",
    "import seaborn as sns\n",
    "warnings.filterwarnings('ignore')"
   ]
  },
  {
   "cell_type": "markdown",
   "id": "72879e57-5623-4eec-a55d-b29af2836318",
   "metadata": {},
   "source": [
    "## Next Objective\n",
    "\n",
    "1) Pre-Processing\n",
    "2) Focus on dependent variable, case outcome\n",
    "3) Further improve data quality by imputation\n",
    "4) Begin baseline modelling\n",
    "5) Split the data into train and test sets\n",
    "6) Try several different simplier models to get started\n",
    "7) Plots and univariate and bivariate distribution\n",
    "8) Initial insights and conclusions to shareholders"
   ]
  },
  {
   "cell_type": "markdown",
   "id": "85be7cb6-23a2-4bd4-9766-726d46c7964d",
   "metadata": {},
   "source": [
    "Now the dataset is mostly cleanand has limited null values, we're going to focus focusing on the relevance of each feature 'Case outcome' without worrying about completeness until later\n",
    "\n",
    "Our strategy for baseline modelling will be to use a simple model like logistic regression using both numerical and categorical variables\n",
    "\n",
    "For categorical we can one-hot encode them later so we can use them in the machine model"
   ]
  },
  {
   "cell_type": "code",
   "execution_count": 2,
   "id": "af241dfe-7963-4f5b-be20-bdf4522a6468",
   "metadata": {},
   "outputs": [],
   "source": [
    "#see max columns\n",
    "pd.options.display.max_columns = None"
   ]
  },
  {
   "cell_type": "markdown",
   "id": "811fdbfb-5cdc-45c7-8863-eac86b456182",
   "metadata": {},
   "source": [
    "Reading the data from book 2 and displaying a sample"
   ]
  },
  {
   "cell_type": "code",
   "execution_count": 3,
   "id": "66594681-c16e-4ab4-ae5c-e1c506c731e5",
   "metadata": {},
   "outputs": [],
   "source": [
    "import pandas as pd\n",
    "\n",
    "file_path = r'C:\\Users\\kamik\\Downloads\\df_combined_EDA2.csv'\n",
    "\n",
    "df_combined = pd.read_csv(file_path, low_memory=False)\n"
   ]
  },
  {
   "cell_type": "code",
   "execution_count": 4,
   "id": "3a0a2bfc-879b-4165-a4fc-cd71d6f8f8c0",
   "metadata": {},
   "outputs": [
    {
     "data": {
      "text/html": [
       "<div>\n",
       "<style scoped>\n",
       "    .dataframe tbody tr th:only-of-type {\n",
       "        vertical-align: middle;\n",
       "    }\n",
       "\n",
       "    .dataframe tbody tr th {\n",
       "        vertical-align: top;\n",
       "    }\n",
       "\n",
       "    .dataframe thead th {\n",
       "        text-align: right;\n",
       "    }\n",
       "</style>\n",
       "<table border=\"1\" class=\"dataframe\">\n",
       "  <thead>\n",
       "    <tr style=\"text-align: right;\">\n",
       "      <th></th>\n",
       "      <th>Year</th>\n",
       "      <th>Quarter</th>\n",
       "      <th>Nationality</th>\n",
       "      <th>Region</th>\n",
       "      <th>Return type group</th>\n",
       "      <th>Return type</th>\n",
       "      <th>Age</th>\n",
       "      <th>Sex</th>\n",
       "      <th>Return destination group</th>\n",
       "      <th>Number of returns</th>\n",
       "      <th>Visa type group</th>\n",
       "      <th>Visa type</th>\n",
       "      <th>Visa type subgroup</th>\n",
       "      <th>Applicant type</th>\n",
       "      <th>Applications</th>\n",
       "      <th>Case outcome</th>\n",
       "      <th>Decisions</th>\n",
       "      <th>Case type</th>\n",
       "      <th>Case outcome group</th>\n",
       "      <th>UASC</th>\n",
       "      <th>Application type</th>\n",
       "      <th>Grants</th>\n",
       "      <th>Occupation</th>\n",
       "      <th>Industry</th>\n",
       "      <th>SOC code</th>\n",
       "      <th>Occ. major group</th>\n",
       "      <th>Occ. sub-major group</th>\n",
       "      <th>Occ. minor group</th>\n",
       "      <th>Occ. unit group</th>\n",
       "      <th>Category of leave group</th>\n",
       "      <th>Category of leave</th>\n",
       "      <th>Category of leave subgroup</th>\n",
       "      <th>Current category of leave group</th>\n",
       "      <th>Current category of leave</th>\n",
       "      <th>Previous category of leave group</th>\n",
       "      <th>Previous category of leave</th>\n",
       "      <th>Outcome</th>\n",
       "      <th>Appeals determined</th>\n",
       "      <th>Date</th>\n",
       "      <th>Application stage</th>\n",
       "      <th>Duration</th>\n",
       "      <th>Type of application</th>\n",
       "      <th>Geographical region</th>\n",
       "      <th>Location</th>\n",
       "      <th>Number of passengers refused entry at the border</th>\n",
       "      <th>General_Region</th>\n",
       "      <th>Total Application and Decisions</th>\n",
       "    </tr>\n",
       "  </thead>\n",
       "  <tbody>\n",
       "    <tr>\n",
       "      <th>648905</th>\n",
       "      <td>2015</td>\n",
       "      <td>4</td>\n",
       "      <td>British overseas citizens</td>\n",
       "      <td>Other</td>\n",
       "      <td>NaN</td>\n",
       "      <td>NaN</td>\n",
       "      <td>Unknown</td>\n",
       "      <td>3</td>\n",
       "      <td>NaN</td>\n",
       "      <td>NaN</td>\n",
       "      <td>Work</td>\n",
       "      <td>Other work visas and exemptions</td>\n",
       "      <td>UK Ancestry</td>\n",
       "      <td>Main Applicant</td>\n",
       "      <td>0.0</td>\n",
       "      <td>Issued</td>\n",
       "      <td>1.0</td>\n",
       "      <td>Issued</td>\n",
       "      <td>Issued</td>\n",
       "      <td>Non-UASC</td>\n",
       "      <td>NaN</td>\n",
       "      <td>0.0</td>\n",
       "      <td>Non-Work Visa Related Case Outcome</td>\n",
       "      <td>Non-Work Visa Related Case Outcome</td>\n",
       "      <td>NaN</td>\n",
       "      <td>Non-Work Visa Related Case Outcome</td>\n",
       "      <td>Non-Work Visa Related Case Outcome</td>\n",
       "      <td>Non-Work Visa Related Case Outcome</td>\n",
       "      <td>Non-Work Visa Related Case Outcome</td>\n",
       "      <td>NaN</td>\n",
       "      <td>NaN</td>\n",
       "      <td>NaN</td>\n",
       "      <td>NaN</td>\n",
       "      <td>NaN</td>\n",
       "      <td>NaN</td>\n",
       "      <td>NaN</td>\n",
       "      <td>NaN</td>\n",
       "      <td>NaN</td>\n",
       "      <td>NaN</td>\n",
       "      <td>NaN</td>\n",
       "      <td>NaN</td>\n",
       "      <td>NaN</td>\n",
       "      <td>NaN</td>\n",
       "      <td>NaN</td>\n",
       "      <td>NaN</td>\n",
       "      <td>Other</td>\n",
       "      <td>1.0</td>\n",
       "    </tr>\n",
       "    <tr>\n",
       "      <th>699764</th>\n",
       "      <td>2016</td>\n",
       "      <td>3</td>\n",
       "      <td>Zambia</td>\n",
       "      <td>Africa Sub-Saharan</td>\n",
       "      <td>NaN</td>\n",
       "      <td>NaN</td>\n",
       "      <td>Under 18</td>\n",
       "      <td>1</td>\n",
       "      <td>NaN</td>\n",
       "      <td>NaN</td>\n",
       "      <td>NaN</td>\n",
       "      <td>NaN</td>\n",
       "      <td>NaN</td>\n",
       "      <td>Main Applicant</td>\n",
       "      <td>0.0</td>\n",
       "      <td>Other Grants</td>\n",
       "      <td>1.0</td>\n",
       "      <td>Asylum Case</td>\n",
       "      <td>Grant of Other Leave</td>\n",
       "      <td>Non-UASC</td>\n",
       "      <td>NaN</td>\n",
       "      <td>0.0</td>\n",
       "      <td>Non-Work Visa Related Case Outcome</td>\n",
       "      <td>Non-Work Visa Related Case Outcome</td>\n",
       "      <td>NaN</td>\n",
       "      <td>Non-Work Visa Related Case Outcome</td>\n",
       "      <td>Non-Work Visa Related Case Outcome</td>\n",
       "      <td>Non-Work Visa Related Case Outcome</td>\n",
       "      <td>Non-Work Visa Related Case Outcome</td>\n",
       "      <td>NaN</td>\n",
       "      <td>NaN</td>\n",
       "      <td>NaN</td>\n",
       "      <td>NaN</td>\n",
       "      <td>NaN</td>\n",
       "      <td>NaN</td>\n",
       "      <td>NaN</td>\n",
       "      <td>NaN</td>\n",
       "      <td>NaN</td>\n",
       "      <td>NaN</td>\n",
       "      <td>NaN</td>\n",
       "      <td>NaN</td>\n",
       "      <td>NaN</td>\n",
       "      <td>NaN</td>\n",
       "      <td>NaN</td>\n",
       "      <td>NaN</td>\n",
       "      <td>Africa</td>\n",
       "      <td>1.0</td>\n",
       "    </tr>\n",
       "    <tr>\n",
       "      <th>842351</th>\n",
       "      <td>2019</td>\n",
       "      <td>1</td>\n",
       "      <td>Ivory Coast</td>\n",
       "      <td>Africa Sub-Saharan</td>\n",
       "      <td>NaN</td>\n",
       "      <td>NaN</td>\n",
       "      <td>Unknown</td>\n",
       "      <td>3</td>\n",
       "      <td>NaN</td>\n",
       "      <td>NaN</td>\n",
       "      <td>Family</td>\n",
       "      <td>Family</td>\n",
       "      <td>Family: Child (for immediate settlement)</td>\n",
       "      <td>All</td>\n",
       "      <td>5.0</td>\n",
       "      <td>Issued</td>\n",
       "      <td>5.0</td>\n",
       "      <td>Issued</td>\n",
       "      <td>Issued</td>\n",
       "      <td>Non-UASC</td>\n",
       "      <td>NaN</td>\n",
       "      <td>0.0</td>\n",
       "      <td>Non-Work Visa Related Case Outcome</td>\n",
       "      <td>Non-Work Visa Related Case Outcome</td>\n",
       "      <td>NaN</td>\n",
       "      <td>Non-Work Visa Related Case Outcome</td>\n",
       "      <td>Non-Work Visa Related Case Outcome</td>\n",
       "      <td>Non-Work Visa Related Case Outcome</td>\n",
       "      <td>Non-Work Visa Related Case Outcome</td>\n",
       "      <td>NaN</td>\n",
       "      <td>NaN</td>\n",
       "      <td>NaN</td>\n",
       "      <td>NaN</td>\n",
       "      <td>NaN</td>\n",
       "      <td>NaN</td>\n",
       "      <td>NaN</td>\n",
       "      <td>NaN</td>\n",
       "      <td>NaN</td>\n",
       "      <td>NaN</td>\n",
       "      <td>NaN</td>\n",
       "      <td>NaN</td>\n",
       "      <td>NaN</td>\n",
       "      <td>NaN</td>\n",
       "      <td>NaN</td>\n",
       "      <td>NaN</td>\n",
       "      <td>Africa</td>\n",
       "      <td>5.0</td>\n",
       "    </tr>\n",
       "    <tr>\n",
       "      <th>389584</th>\n",
       "      <td>2011</td>\n",
       "      <td>3</td>\n",
       "      <td>Occupied Palestinian Territories</td>\n",
       "      <td>Middle East</td>\n",
       "      <td>NaN</td>\n",
       "      <td>NaN</td>\n",
       "      <td>18 to 29</td>\n",
       "      <td>3</td>\n",
       "      <td>NaN</td>\n",
       "      <td>NaN</td>\n",
       "      <td>Study</td>\n",
       "      <td>Other study</td>\n",
       "      <td>Short-term study (previously Student Visitor)</td>\n",
       "      <td>Main Applicant</td>\n",
       "      <td>0.0</td>\n",
       "      <td>Issued</td>\n",
       "      <td>34.0</td>\n",
       "      <td>Issued</td>\n",
       "      <td>Issued</td>\n",
       "      <td>Non-UASC</td>\n",
       "      <td>NaN</td>\n",
       "      <td>0.0</td>\n",
       "      <td>Non-Work Visa Related Case Outcome</td>\n",
       "      <td>Non-Work Visa Related Case Outcome</td>\n",
       "      <td>NaN</td>\n",
       "      <td>Non-Work Visa Related Case Outcome</td>\n",
       "      <td>Non-Work Visa Related Case Outcome</td>\n",
       "      <td>Non-Work Visa Related Case Outcome</td>\n",
       "      <td>Non-Work Visa Related Case Outcome</td>\n",
       "      <td>NaN</td>\n",
       "      <td>NaN</td>\n",
       "      <td>NaN</td>\n",
       "      <td>NaN</td>\n",
       "      <td>NaN</td>\n",
       "      <td>NaN</td>\n",
       "      <td>NaN</td>\n",
       "      <td>NaN</td>\n",
       "      <td>NaN</td>\n",
       "      <td>NaN</td>\n",
       "      <td>NaN</td>\n",
       "      <td>NaN</td>\n",
       "      <td>NaN</td>\n",
       "      <td>NaN</td>\n",
       "      <td>NaN</td>\n",
       "      <td>NaN</td>\n",
       "      <td>Middle East</td>\n",
       "      <td>34.0</td>\n",
       "    </tr>\n",
       "    <tr>\n",
       "      <th>1214173</th>\n",
       "      <td>2023</td>\n",
       "      <td>2</td>\n",
       "      <td>Trinidad and Tobago</td>\n",
       "      <td>America Central and South</td>\n",
       "      <td>Refused entry at port and subsequently departed</td>\n",
       "      <td>Other Returns</td>\n",
       "      <td>30 to 49</td>\n",
       "      <td>1</td>\n",
       "      <td>Home country</td>\n",
       "      <td>1.0</td>\n",
       "      <td>NaN</td>\n",
       "      <td>NaN</td>\n",
       "      <td>NaN</td>\n",
       "      <td>NaN</td>\n",
       "      <td>0.0</td>\n",
       "      <td>Refused</td>\n",
       "      <td>1.0</td>\n",
       "      <td>Refused</td>\n",
       "      <td>Refused</td>\n",
       "      <td>Non-UASC</td>\n",
       "      <td>NaN</td>\n",
       "      <td>0.0</td>\n",
       "      <td>Non-Work Visa Related Case Outcome</td>\n",
       "      <td>Non-Work Visa Related Case Outcome</td>\n",
       "      <td>NaN</td>\n",
       "      <td>Non-Work Visa Related Case Outcome</td>\n",
       "      <td>Non-Work Visa Related Case Outcome</td>\n",
       "      <td>Non-Work Visa Related Case Outcome</td>\n",
       "      <td>Non-Work Visa Related Case Outcome</td>\n",
       "      <td>NaN</td>\n",
       "      <td>NaN</td>\n",
       "      <td>NaN</td>\n",
       "      <td>NaN</td>\n",
       "      <td>NaN</td>\n",
       "      <td>NaN</td>\n",
       "      <td>NaN</td>\n",
       "      <td>NaN</td>\n",
       "      <td>NaN</td>\n",
       "      <td>NaN</td>\n",
       "      <td>NaN</td>\n",
       "      <td>NaN</td>\n",
       "      <td>NaN</td>\n",
       "      <td>NaN</td>\n",
       "      <td>NaN</td>\n",
       "      <td>NaN</td>\n",
       "      <td>America</td>\n",
       "      <td>0.0</td>\n",
       "    </tr>\n",
       "  </tbody>\n",
       "</table>\n",
       "</div>"
      ],
      "text/plain": [
       "         Year  Quarter                       Nationality  \\\n",
       "648905   2015        4         British overseas citizens   \n",
       "699764   2016        3                            Zambia   \n",
       "842351   2019        1                       Ivory Coast   \n",
       "389584   2011        3  Occupied Palestinian Territories   \n",
       "1214173  2023        2               Trinidad and Tobago   \n",
       "\n",
       "                            Region  \\\n",
       "648905                       Other   \n",
       "699764          Africa Sub-Saharan   \n",
       "842351          Africa Sub-Saharan   \n",
       "389584                 Middle East   \n",
       "1214173  America Central and South   \n",
       "\n",
       "                                       Return type group    Return type  \\\n",
       "648905                                               NaN            NaN   \n",
       "699764                                               NaN            NaN   \n",
       "842351                                               NaN            NaN   \n",
       "389584                                               NaN            NaN   \n",
       "1214173  Refused entry at port and subsequently departed  Other Returns   \n",
       "\n",
       "              Age  Sex Return destination group  Number of returns  \\\n",
       "648905    Unknown    3                      NaN                NaN   \n",
       "699764   Under 18    1                      NaN                NaN   \n",
       "842351    Unknown    3                      NaN                NaN   \n",
       "389584   18 to 29    3                      NaN                NaN   \n",
       "1214173  30 to 49    1             Home country                1.0   \n",
       "\n",
       "        Visa type group                        Visa type  \\\n",
       "648905             Work  Other work visas and exemptions   \n",
       "699764              NaN                              NaN   \n",
       "842351           Family                           Family   \n",
       "389584            Study                      Other study   \n",
       "1214173             NaN                              NaN   \n",
       "\n",
       "                                    Visa type subgroup  Applicant type  \\\n",
       "648905                                     UK Ancestry  Main Applicant   \n",
       "699764                                             NaN  Main Applicant   \n",
       "842351        Family: Child (for immediate settlement)             All   \n",
       "389584   Short-term study (previously Student Visitor)  Main Applicant   \n",
       "1214173                                            NaN             NaN   \n",
       "\n",
       "         Applications  Case outcome  Decisions    Case type  \\\n",
       "648905            0.0        Issued        1.0       Issued   \n",
       "699764            0.0  Other Grants        1.0  Asylum Case   \n",
       "842351            5.0        Issued        5.0       Issued   \n",
       "389584            0.0        Issued       34.0       Issued   \n",
       "1214173           0.0       Refused        1.0      Refused   \n",
       "\n",
       "           Case outcome group      UASC Application type  Grants  \\\n",
       "648905                 Issued  Non-UASC              NaN     0.0   \n",
       "699764   Grant of Other Leave  Non-UASC              NaN     0.0   \n",
       "842351                 Issued  Non-UASC              NaN     0.0   \n",
       "389584                 Issued  Non-UASC              NaN     0.0   \n",
       "1214173               Refused  Non-UASC              NaN     0.0   \n",
       "\n",
       "                                 Occupation  \\\n",
       "648905   Non-Work Visa Related Case Outcome   \n",
       "699764   Non-Work Visa Related Case Outcome   \n",
       "842351   Non-Work Visa Related Case Outcome   \n",
       "389584   Non-Work Visa Related Case Outcome   \n",
       "1214173  Non-Work Visa Related Case Outcome   \n",
       "\n",
       "                                   Industry  SOC code  \\\n",
       "648905   Non-Work Visa Related Case Outcome       NaN   \n",
       "699764   Non-Work Visa Related Case Outcome       NaN   \n",
       "842351   Non-Work Visa Related Case Outcome       NaN   \n",
       "389584   Non-Work Visa Related Case Outcome       NaN   \n",
       "1214173  Non-Work Visa Related Case Outcome       NaN   \n",
       "\n",
       "                           Occ. major group  \\\n",
       "648905   Non-Work Visa Related Case Outcome   \n",
       "699764   Non-Work Visa Related Case Outcome   \n",
       "842351   Non-Work Visa Related Case Outcome   \n",
       "389584   Non-Work Visa Related Case Outcome   \n",
       "1214173  Non-Work Visa Related Case Outcome   \n",
       "\n",
       "                       Occ. sub-major group  \\\n",
       "648905   Non-Work Visa Related Case Outcome   \n",
       "699764   Non-Work Visa Related Case Outcome   \n",
       "842351   Non-Work Visa Related Case Outcome   \n",
       "389584   Non-Work Visa Related Case Outcome   \n",
       "1214173  Non-Work Visa Related Case Outcome   \n",
       "\n",
       "                           Occ. minor group  \\\n",
       "648905   Non-Work Visa Related Case Outcome   \n",
       "699764   Non-Work Visa Related Case Outcome   \n",
       "842351   Non-Work Visa Related Case Outcome   \n",
       "389584   Non-Work Visa Related Case Outcome   \n",
       "1214173  Non-Work Visa Related Case Outcome   \n",
       "\n",
       "                            Occ. unit group  Category of leave group  \\\n",
       "648905   Non-Work Visa Related Case Outcome                      NaN   \n",
       "699764   Non-Work Visa Related Case Outcome                      NaN   \n",
       "842351   Non-Work Visa Related Case Outcome                      NaN   \n",
       "389584   Non-Work Visa Related Case Outcome                      NaN   \n",
       "1214173  Non-Work Visa Related Case Outcome                      NaN   \n",
       "\n",
       "        Category of leave  Category of leave subgroup  \\\n",
       "648905                NaN                         NaN   \n",
       "699764                NaN                         NaN   \n",
       "842351                NaN                         NaN   \n",
       "389584                NaN                         NaN   \n",
       "1214173               NaN                         NaN   \n",
       "\n",
       "         Current category of leave group  Current category of leave  \\\n",
       "648905                               NaN                        NaN   \n",
       "699764                               NaN                        NaN   \n",
       "842351                               NaN                        NaN   \n",
       "389584                               NaN                        NaN   \n",
       "1214173                              NaN                        NaN   \n",
       "\n",
       "         Previous category of leave group  Previous category of leave Outcome  \\\n",
       "648905                                NaN                         NaN     NaN   \n",
       "699764                                NaN                         NaN     NaN   \n",
       "842351                                NaN                         NaN     NaN   \n",
       "389584                                NaN                         NaN     NaN   \n",
       "1214173                               NaN                         NaN     NaN   \n",
       "\n",
       "         Appeals determined  Date  Application stage  Duration  \\\n",
       "648905                  NaN   NaN                NaN       NaN   \n",
       "699764                  NaN   NaN                NaN       NaN   \n",
       "842351                  NaN   NaN                NaN       NaN   \n",
       "389584                  NaN   NaN                NaN       NaN   \n",
       "1214173                 NaN   NaN                NaN       NaN   \n",
       "\n",
       "        Type of application Geographical region Location  \\\n",
       "648905                  NaN                 NaN      NaN   \n",
       "699764                  NaN                 NaN      NaN   \n",
       "842351                  NaN                 NaN      NaN   \n",
       "389584                  NaN                 NaN      NaN   \n",
       "1214173                 NaN                 NaN      NaN   \n",
       "\n",
       "         Number of passengers refused entry at the border General_Region  \\\n",
       "648905                                                NaN          Other   \n",
       "699764                                                NaN         Africa   \n",
       "842351                                                NaN         Africa   \n",
       "389584                                                NaN    Middle East   \n",
       "1214173                                               NaN        America   \n",
       "\n",
       "         Total Application and Decisions  \n",
       "648905                               1.0  \n",
       "699764                               1.0  \n",
       "842351                               5.0  \n",
       "389584                              34.0  \n",
       "1214173                              0.0  "
      ]
     },
     "execution_count": 4,
     "metadata": {},
     "output_type": "execute_result"
    }
   ],
   "source": [
    "df_combined.sample(5)"
   ]
  },
  {
   "cell_type": "markdown",
   "id": "2cc2f8d2-2c1e-48fe-ac83-21f1ee733b15",
   "metadata": {},
   "source": [
    "Checking for duplicates again, we made a lot of imputations"
   ]
  },
  {
   "cell_type": "code",
   "execution_count": 5,
   "id": "4546f464-f7e2-4eb6-ba0c-32a9ae8bfe1b",
   "metadata": {},
   "outputs": [
    {
     "data": {
      "text/plain": [
       "16790"
      ]
     },
     "execution_count": 5,
     "metadata": {},
     "output_type": "execute_result"
    }
   ],
   "source": [
    "df_combined.duplicated().sum()"
   ]
  },
  {
   "cell_type": "markdown",
   "id": "34695d16-e7d8-4c13-bd2e-499c227686a5",
   "metadata": {},
   "source": [
    "Ok great we can get rid of another 40K duplicates"
   ]
  },
  {
   "cell_type": "code",
   "execution_count": 6,
   "id": "6eb36781-83ba-48e9-8439-8988bc7aa7d6",
   "metadata": {},
   "outputs": [
    {
     "name": "stdout",
     "output_type": "stream",
     "text": [
      "We have 1301379 rows and 47 columns with string, floats and integers in our clean data.\n"
     ]
    }
   ],
   "source": [
    "clean_df = df_combined.drop_duplicates()\n",
    "\n",
    "print(f\"We have {clean_df.shape[0]} rows and {clean_df.shape[1]} columns with string, floats and integers in our clean data.\")"
   ]
  },
  {
   "cell_type": "markdown",
   "id": "73dd7470-bdca-4a38-b3e6-75ce80743508",
   "metadata": {},
   "source": [
    "Moving the data to clean_df again"
   ]
  },
  {
   "cell_type": "markdown",
   "id": "b3c99dbc-55a0-427c-8be3-ded8ab6e8918",
   "metadata": {},
   "source": [
    "Checking for nas"
   ]
  },
  {
   "cell_type": "code",
   "execution_count": 7,
   "id": "78f5698a-0b74-4847-b569-94a15c28fd77",
   "metadata": {},
   "outputs": [
    {
     "data": {
      "text/plain": [
       "Year                                                 0.000000\n",
       "Quarter                                              0.000000\n",
       "Nationality                                          0.274851\n",
       "Region                                               2.090779\n",
       "Return type group                                   81.114334\n",
       "Return type                                         81.114334\n",
       "Age                                                  0.000000\n",
       "Sex                                                  0.000000\n",
       "Return destination group                            81.114334\n",
       "Number of returns                                   81.114334\n",
       "Visa type group                                     56.361286\n",
       "Visa type                                           42.042864\n",
       "Visa type subgroup                                  42.042864\n",
       "Applicant type                                      48.380064\n",
       "Applications                                         0.000000\n",
       "Case outcome                                         6.997358\n",
       "Decisions                                            0.000000\n",
       "Case type                                            6.997358\n",
       "Case outcome group                                   6.997358\n",
       "UASC                                                 6.997358\n",
       "Application type                                    89.273909\n",
       "Grants                                               0.000000\n",
       "Occupation                                           0.000000\n",
       "Industry                                             0.000000\n",
       "SOC code                                            84.407841\n",
       "Occ. major group                                     0.000000\n",
       "Occ. sub-major group                                 0.000000\n",
       "Occ. minor group                                     0.000000\n",
       "Occ. unit group                                      0.000000\n",
       "Category of leave group                             98.726263\n",
       "Category of leave                                   96.635485\n",
       "Category of leave subgroup                          98.726263\n",
       "Current category of leave group                     98.726263\n",
       "Current category of leave                           98.726263\n",
       "Previous category of leave group                    98.726263\n",
       "Previous category of leave                          98.726263\n",
       "Outcome                                             97.707729\n",
       "Appeals determined                                  97.707729\n",
       "Date                                                98.726263\n",
       "Application stage                                   98.726263\n",
       "Duration                                            98.726263\n",
       "Type of application                                 96.635485\n",
       "Geographical region                                 96.910335\n",
       "Location                                            97.622763\n",
       "Number of passengers refused entry at the border    97.622763\n",
       "General_Region                                       2.090855\n",
       "Total Application and Decisions                      0.000000\n",
       "dtype: float64"
      ]
     },
     "execution_count": 7,
     "metadata": {},
     "output_type": "execute_result"
    }
   ],
   "source": [
    "clean_df.isna().sum()/df_combined.shape[0]*100"
   ]
  },
  {
   "cell_type": "markdown",
   "id": "9a7cc714-1602-42e6-bec6-5c5158f93f34",
   "metadata": {},
   "source": [
    "OK we can work on some of these now, then do the rest later:\n",
    "Return type group                  73.352786\n",
    "Return type                        73.352786\n",
    "Return destination group           73.352786\n",
    "Number of returns                  73.352786\n",
    "Visa type group                    69.209805\n",
    "Applicant type                     52.167666"
   ]
  },
  {
   "cell_type": "code",
   "execution_count": 8,
   "id": "eb7b5db4-9dd1-46ea-b945-d369cbc88452",
   "metadata": {},
   "outputs": [
    {
     "name": "stdout",
     "output_type": "stream",
     "text": [
      "Year                                                 0.000000\n",
      "Quarter                                              0.000000\n",
      "Nationality                                          0.000000\n",
      "Region                                               0.000000\n",
      "Return type group                                    0.000000\n",
      "Return type                                          0.000000\n",
      "Age                                                  0.000000\n",
      "Sex                                                  0.000000\n",
      "Return destination group                             0.000000\n",
      "Number of returns                                    0.000000\n",
      "Visa type group                                      0.000000\n",
      "Visa type                                            0.000000\n",
      "Visa type subgroup                                   0.000000\n",
      "Applicant type                                       0.000000\n",
      "Applications                                        71.582606\n",
      "Case outcome                                         0.000000\n",
      "Decisions                                           19.486099\n",
      "Case type                                            0.000000\n",
      "Case outcome group                                   0.000000\n",
      "UASC                                                 0.000000\n",
      "Application type                                     0.000000\n",
      "Grants                                              82.663313\n",
      "Occupation                                           0.000000\n",
      "Industry                                             0.000000\n",
      "SOC code                                             0.000000\n",
      "Occ. major group                                     0.000000\n",
      "Occ. sub-major group                                 0.000000\n",
      "Occ. minor group                                     0.000000\n",
      "Occ. unit group                                      0.000000\n",
      "Category of leave group                              0.000000\n",
      "Category of leave                                    0.000000\n",
      "Category of leave subgroup                           0.000000\n",
      "Current category of leave group                      0.000000\n",
      "Current category of leave                            0.000000\n",
      "Previous category of leave group                     0.000000\n",
      "Previous category of leave                           0.000000\n",
      "Outcome                                              0.000000\n",
      "Appeals determined                                   0.000000\n",
      "Date                                                 0.000000\n",
      "Application stage                                    0.000000\n",
      "Duration                                             0.000000\n",
      "Type of application                                  0.000000\n",
      "Geographical region                                  0.000000\n",
      "Location                                             0.000000\n",
      "Number of passengers refused entry at the border     0.000000\n",
      "General_Region                                       0.000000\n",
      "Total Application and Decisions                     37.325253\n",
      "dtype: float64\n"
     ]
    }
   ],
   "source": [
    "zero_percentage_numeric2 = (clean_df == 0).sum() / clean_df.shape[0] * 100\n",
    "print(zero_percentage_numeric2)"
   ]
  },
  {
   "cell_type": "markdown",
   "id": "31710d0d-1bad-4530-bf1d-3f59630c5575",
   "metadata": {},
   "source": [
    "Let's look at 'Grants' and 'Applications' now"
   ]
  },
  {
   "cell_type": "code",
   "execution_count": 9,
   "id": "fb318589-9e28-442b-9061-78c368903df4",
   "metadata": {},
   "outputs": [
    {
     "data": {
      "text/plain": [
       "Grants\n",
       "0.0       1075763\n",
       "1.0         98217\n",
       "2.0         29992\n",
       "3.0         15835\n",
       "4.0         10301\n",
       "           ...   \n",
       "1114.0          1\n",
       "794.0           1\n",
       "855.0           1\n",
       "1288.0          1\n",
       "2203.0          1\n",
       "Name: count, Length: 1064, dtype: int64"
      ]
     },
     "execution_count": 9,
     "metadata": {},
     "output_type": "execute_result"
    }
   ],
   "source": [
    "clean_df['Grants'].value_counts()"
   ]
  },
  {
   "cell_type": "code",
   "execution_count": 10,
   "id": "2b25b22e-b596-41c3-93ea-3980354238fb",
   "metadata": {},
   "outputs": [
    {
     "data": {
      "text/plain": [
       "Applications\n",
       "0.0        931561\n",
       "1.0        121043\n",
       "2.0         43614\n",
       "3.0         24838\n",
       "4.0         16831\n",
       "            ...  \n",
       "2383.0          1\n",
       "13638.0         1\n",
       "2396.0          1\n",
       "18275.0         1\n",
       "2758.0          1\n",
       "Name: count, Length: 5278, dtype: int64"
      ]
     },
     "execution_count": 10,
     "metadata": {},
     "output_type": "execute_result"
    }
   ],
   "source": [
    "clean_df['Applications'].value_counts()"
   ]
  },
  {
   "cell_type": "markdown",
   "id": "07f193b7-325e-47db-821f-b197cabb120f",
   "metadata": {},
   "source": [
    "We still have a lot of 0s in Grants and Applications"
   ]
  },
  {
   "cell_type": "markdown",
   "id": "5f799830-f671-48bc-b8b9-d54892349ba3",
   "metadata": {},
   "source": [
    "Now are going to combine conditions for Age, so we can update for grants and total applications and decisions\n",
    "\n",
    "We check NA values or values equal to 0 in each column\n",
    "Apply the update, then calculate the number of rows updated"
   ]
  },
  {
   "cell_type": "code",
   "execution_count": 11,
   "id": "b3afc1d4-37d8-490b-8072-840bfd1d263c",
   "metadata": {},
   "outputs": [
    {
     "name": "stdout",
     "output_type": "stream",
     "text": [
      "Rows updated where 'Total Application and Decisions' was NA or 0: 113047\n",
      "Rows updated where 'Applications' was NA or 0: 201233\n"
     ]
    }
   ],
   "source": [
    "import numpy as np\n",
    "\n",
    "condition_age_specific = (clean_df['Age'] == '18 to 29') | (clean_df['Age'] == 'Child')\n",
    "\n",
    "#condition_grants_na_or_zero = clean_df['Grants'].isna() | (clean_df['Grants'] == 0)\n",
    "condition_total_app_dec_na_or_zero = clean_df['Total Application and Decisions'].isna() | (clean_df['Total Application and Decisions'] == 0)\n",
    "condition_applications_na_or_zero = clean_df['Applications'].isna() | (clean_df['Applications'] == 0)\n",
    "\n",
    "#clean_df.loc[condition_age_specific & condition_grants_na_or_zero, 'Grants'] = clean_df.loc[condition_age_specific, 'Decisions']\n",
    "clean_df.loc[condition_age_specific & condition_total_app_dec_na_or_zero, 'Total Application and Decisions'] = clean_df.loc[condition_age_specific, 'Decisions']\n",
    "clean_df.loc[condition_age_specific & condition_applications_na_or_zero, 'Applications'] = clean_df.loc[condition_age_specific, 'Decisions']\n",
    "\n",
    "#matching_rows_grants_updated = (condition_age_specific & condition_grants_na_or_zero).sum()\n",
    "matching_rows_total_app_dec_updated = (condition_age_specific & condition_total_app_dec_na_or_zero).sum()\n",
    "matching_rows_applications_updated = (condition_age_specific & condition_applications_na_or_zero).sum()\n",
    "\n",
    "#print(f\"Rows updated where 'Grants' was NA or 0: {matching_rows_grants_updated}\")\n",
    "print(f\"Rows updated where 'Total Application and Decisions' was NA or 0: {matching_rows_total_app_dec_updated}\")\n",
    "print(f\"Rows updated where 'Applications' was NA or 0: {matching_rows_applications_updated}\")\n"
   ]
  },
  {
   "cell_type": "markdown",
   "id": "f87a0d3a-df8c-46d5-b5fc-05f0da32ba99",
   "metadata": {},
   "source": [
    "Worked well - let's see how many 0s are in the df now"
   ]
  },
  {
   "cell_type": "code",
   "execution_count": 12,
   "id": "f88bfc3c-4c5e-460e-855a-af4310f4b927",
   "metadata": {},
   "outputs": [
    {
     "name": "stdout",
     "output_type": "stream",
     "text": [
      "Year                                                 0.000000\n",
      "Quarter                                              0.000000\n",
      "Nationality                                          0.000000\n",
      "Region                                               0.000000\n",
      "Return type group                                    0.000000\n",
      "Return type                                          0.000000\n",
      "Age                                                  0.000000\n",
      "Sex                                                  0.000000\n",
      "Return destination group                             0.000000\n",
      "Number of returns                                    0.000000\n",
      "Visa type group                                      0.000000\n",
      "Visa type                                            0.000000\n",
      "Visa type subgroup                                   0.000000\n",
      "Applicant type                                       0.000000\n",
      "Applications                                        58.678755\n",
      "Case outcome                                         0.000000\n",
      "Decisions                                           19.486099\n",
      "Case type                                            0.000000\n",
      "Case outcome group                                   0.000000\n",
      "UASC                                                 0.000000\n",
      "Application type                                     0.000000\n",
      "Grants                                              82.663313\n",
      "Occupation                                           0.000000\n",
      "Industry                                             0.000000\n",
      "SOC code                                             0.000000\n",
      "Occ. major group                                     0.000000\n",
      "Occ. sub-major group                                 0.000000\n",
      "Occ. minor group                                     0.000000\n",
      "Occ. unit group                                      0.000000\n",
      "Category of leave group                              0.000000\n",
      "Category of leave                                    0.000000\n",
      "Category of leave subgroup                           0.000000\n",
      "Current category of leave group                      0.000000\n",
      "Current category of leave                            0.000000\n",
      "Previous category of leave group                     0.000000\n",
      "Previous category of leave                           0.000000\n",
      "Outcome                                              0.000000\n",
      "Appeals determined                                   0.000000\n",
      "Date                                                 0.000000\n",
      "Application stage                                    0.000000\n",
      "Duration                                             0.000000\n",
      "Type of application                                  0.000000\n",
      "Geographical region                                  0.000000\n",
      "Location                                             0.000000\n",
      "Number of passengers refused entry at the border     0.000000\n",
      "General_Region                                       0.000000\n",
      "Total Application and Decisions                     31.197753\n",
      "dtype: float64\n"
     ]
    }
   ],
   "source": [
    "zero_percentage_numeric2 = (clean_df == 0).sum() / clean_df.shape[0] * 100\n",
    "print(zero_percentage_numeric2)"
   ]
  },
  {
   "cell_type": "markdown",
   "id": "1299208e-a3b2-4839-930a-19d54c463cdf",
   "metadata": {},
   "source": [
    "This made a meaningful difference"
   ]
  },
  {
   "cell_type": "markdown",
   "id": "ec088b29-794b-40bc-86c3-a9d697f7e412",
   "metadata": {},
   "source": [
    "Let's look at Decisions now, one of our main numerical columns"
   ]
  },
  {
   "cell_type": "code",
   "execution_count": 13,
   "id": "3c82fd5d-a8f0-4fc7-a377-503019cab267",
   "metadata": {},
   "outputs": [
    {
     "data": {
      "text/plain": [
       "Decisions\n",
       "1.0        382623\n",
       "0.0        253588\n",
       "2.0        142759\n",
       "3.0         79509\n",
       "4.0         52234\n",
       "            ...  \n",
       "2982.0          1\n",
       "7171.0          1\n",
       "2694.0          1\n",
       "5129.0          1\n",
       "20599.0         1\n",
       "Name: count, Length: 7334, dtype: int64"
      ]
     },
     "execution_count": 13,
     "metadata": {},
     "output_type": "execute_result"
    }
   ],
   "source": [
    "clean_df['Decisions'].value_counts()"
   ]
  },
  {
   "cell_type": "markdown",
   "id": "804d0796-b8e0-4d3a-9884-704ef490e5c6",
   "metadata": {},
   "source": [
    "And 'Case outcome', our dependent feature column"
   ]
  },
  {
   "cell_type": "code",
   "execution_count": 14,
   "id": "7ec54cbe-d753-422e-b73c-8da8c2e2481f",
   "metadata": {},
   "outputs": [
    {
     "data": {
      "text/plain": [
       "Case outcome\n",
       "Issued                  799898\n",
       "Refused                 189795\n",
       "Sponsored Work Visa     188741\n",
       "Temporary Protection     15187\n",
       "Withdrawn                10522\n",
       "Resettlements             2738\n",
       "Other Grants              2261\n",
       "Name: count, dtype: int64"
      ]
     },
     "execution_count": 14,
     "metadata": {},
     "output_type": "execute_result"
    }
   ],
   "source": [
    "clean_df['Case outcome'].value_counts()"
   ]
  },
  {
   "cell_type": "markdown",
   "id": "e0f595a1-08b9-403e-b8e6-3498edaef479",
   "metadata": {},
   "source": [
    "Now we're going to look at outcomes from the 'Case outcome' column\n",
    "\n",
    "Then update 'Grants' to match 'Decisions' for specific outcomes, 'Sponsored Work Visa', 'Temporary Protection', 'Resettlements', 'Other Grants'\n",
    "\n",
    "For the others, Grants and Total Application and Decisions, we will match it with the other condition, from 'Decisions'"
   ]
  },
  {
   "cell_type": "code",
   "execution_count": 15,
   "id": "a8ff25d7-8741-449c-8643-c613dfef1e66",
   "metadata": {},
   "outputs": [
    {
     "name": "stdout",
     "output_type": "stream",
     "text": [
      "Rows updated for specific outcomes ('Sponsored Work Visa', 'Temporary Protection', 'Resettlements', 'Other Grants') to match 'Decisions': 208927\n",
      "Rows updated for other outcomes to match 'Decisions': 1092452\n"
     ]
    }
   ],
   "source": [
    "specific_outcomes = ['Sponsored Work Visa', 'Temporary Protection', 'Resettlements', 'Other Grants']\n",
    "\n",
    "for outcome in specific_outcomes:\n",
    "    condition = clean_df['Case outcome'] == outcome\n",
    "    clean_df.loc[condition, 'Grants'] = clean_df.loc[condition, 'Decisions']\n",
    "\n",
    "other_conditions = ~clean_df['Case outcome'].isin(specific_outcomes)\n",
    "clean_df.loc[other_conditions, ['Grants', 'Total Application and Decisions', 'Applications']] = clean_df.loc[other_conditions, 'Decisions']\n",
    "\n",
    "updated_rows_specific_outcomes = clean_df[clean_df['Case outcome'].isin(specific_outcomes)]['Grants'].count()\n",
    "updated_rows_other_outcomes = clean_df[other_conditions]['Grants'].count()\n",
    "\n",
    "print(f\"Rows updated for specific outcomes ('Sponsored Work Visa', 'Temporary Protection', 'Resettlements', 'Other Grants') to match 'Decisions': {updated_rows_specific_outcomes}\")\n",
    "print(f\"Rows updated for other outcomes to match 'Decisions': {updated_rows_other_outcomes}\")\n",
    "\n",
    "#REF: Chatgpt"
   ]
  },
  {
   "cell_type": "code",
   "execution_count": null,
   "id": "78c4116e-8066-4a8a-868c-a8f322802fef",
   "metadata": {},
   "outputs": [],
   "source": []
  },
  {
   "cell_type": "code",
   "execution_count": 16,
   "id": "2fae936a-19b1-40e5-af81-1ffbcda8bf00",
   "metadata": {},
   "outputs": [
    {
     "name": "stdout",
     "output_type": "stream",
     "text": [
      "Rows updated where conditions matched: 14546\n"
     ]
    }
   ],
   "source": [
    "\n",
    "# Condition where 'Number of passengers refused entry at the border' is not NA\n",
    "condition_not_na = ~clean_df['Number of passengers refused entry at the border'].isna()\n",
    "\n",
    "# Condition where 'Case outcome' is NA or 0\n",
    "condition_case_outcome_na_or_zero = clean_df['Case outcome'].isna() | (clean_df['Case outcome'] == 0)\n",
    "\n",
    "# Apply the conditions and update 'Decisions', 'Applications', and 'Case outcome'\n",
    "clean_df.loc[condition_not_na & condition_case_outcome_na_or_zero, ['Decisions', 'Applications']] = clean_df.loc[condition_not_na & condition_case_outcome_na_or_zero, 'Number of passengers refused entry at the border']\n",
    "clean_df.loc[condition_not_na & condition_case_outcome_na_or_zero, 'Case outcome'] = \"Refused\"\n",
    "\n",
    "# Calculate the number of rows updated (for verification or reporting purposes)\n",
    "matching_rows_updated = (condition_not_na & condition_case_outcome_na_or_zero).sum()\n",
    "\n",
    "print(f\"Rows updated where conditions matched: {matching_rows_updated}\")\n"
   ]
  },
  {
   "cell_type": "code",
   "execution_count": 17,
   "id": "4b236d6f-dcf1-4cee-bb14-b8b5ea619a3f",
   "metadata": {},
   "outputs": [
    {
     "data": {
      "text/plain": [
       "Case outcome\n",
       "Issued                  799898\n",
       "Refused                 204341\n",
       "Sponsored Work Visa     188741\n",
       "Temporary Protection     15187\n",
       "Withdrawn                10522\n",
       "Resettlements             2738\n",
       "Other Grants              2261\n",
       "Name: count, dtype: int64"
      ]
     },
     "execution_count": 17,
     "metadata": {},
     "output_type": "execute_result"
    }
   ],
   "source": [
    "clean_df['Case outcome'].value_counts()"
   ]
  },
  {
   "cell_type": "code",
   "execution_count": null,
   "id": "72d744bb-67b5-4d1a-a55e-f9f6c1de442c",
   "metadata": {},
   "outputs": [],
   "source": []
  },
  {
   "cell_type": "code",
   "execution_count": 18,
   "id": "42d2c55e-eb89-4345-94e8-8f18184ea74d",
   "metadata": {},
   "outputs": [
    {
     "data": {
      "text/plain": [
       "Category of leave\n",
       "Worker (Previously Tier 2)              15901\n",
       "Temporary Worker (Previously Tier 5)    11659\n",
       "Name: count, dtype: int64"
      ]
     },
     "execution_count": 18,
     "metadata": {},
     "output_type": "execute_result"
    }
   ],
   "source": [
    "clean_df['Category of leave'].value_counts()"
   ]
  },
  {
   "cell_type": "code",
   "execution_count": 19,
   "id": "7c3bf68c-d0ee-44b0-92ac-29d3e1ce0bb1",
   "metadata": {},
   "outputs": [
    {
     "name": "stdout",
     "output_type": "stream",
     "text": [
      "Rows updated where conditions matched: 27560\n"
     ]
    }
   ],
   "source": [
    "# Define the conditions for Worker or Temporary Worker\n",
    "condition_worker = clean_df['Category of leave'] == 'Worker (Previously Tier 2)'\n",
    "condition_temp_worker = clean_df['Category of leave'] == 'Temporary Worker (Previously Tier 5)'\n",
    "\n",
    "# Combine conditions for either Worker or Temporary Worker\n",
    "combined_condition = condition_worker | condition_temp_worker\n",
    "\n",
    "# Update 'Case outcome' to \"Sponsored Work Visa\" for these conditions\n",
    "clean_df.loc[combined_condition, 'Case outcome'] = \"Sponsored Work Visa\"\n",
    "\n",
    "# Assuming 'Decisions' and 'Applications' should be updated in a specific manner (demonstration purpose)\n",
    "# Here, you would place your logic for updating 'Decisions' and 'Applications'\n",
    "\n",
    "# Calculate the number of rows updated for this specific condition\n",
    "matching_rows_updated = combined_condition.sum()\n",
    "\n",
    "print(f\"Rows updated where conditions matched: {matching_rows_updated}\")\n"
   ]
  },
  {
   "cell_type": "code",
   "execution_count": 20,
   "id": "a1138227-a16e-4586-a169-8b0fa3d7c6ae",
   "metadata": {},
   "outputs": [],
   "source": [
    "#drop Category of leave group & Category of leave subgroup, Current category of leave group, Current category of leave,"
   ]
  },
  {
   "cell_type": "code",
   "execution_count": 21,
   "id": "7b8c04a3-7a4a-4ca3-8eaa-68e6093e2eb2",
   "metadata": {},
   "outputs": [
    {
     "data": {
      "text/plain": [
       "Visa type group\n",
       "Work                            210440\n",
       "Other                           100837\n",
       "Study                            95543\n",
       "Family                           76934\n",
       "Visitor                          44772\n",
       "Dep. joining or accompanying     29916\n",
       "Name: count, dtype: int64"
      ]
     },
     "execution_count": 21,
     "metadata": {},
     "output_type": "execute_result"
    }
   ],
   "source": [
    "clean_df['Visa type group'].value_counts()"
   ]
  },
  {
   "cell_type": "code",
   "execution_count": 22,
   "id": "d74db2bf-4fa5-4c49-b9cf-3202deadfa6e",
   "metadata": {},
   "outputs": [
    {
     "data": {
      "text/plain": [
       "Visa type\n",
       "Worker                                       220986\n",
       "Temporary Worker                              83900\n",
       "Family                                        76934\n",
       "Other work visas and exemptions               57272\n",
       "Sponsored study                               52060\n",
       "Other temporary visas                         45047\n",
       "Visitor                                       44772\n",
       "Other study                                   43483\n",
       "Investor, business development and talent     37023\n",
       "Dep. joining or accompanying                  29916\n",
       "EEA Family Permit                             25267\n",
       "Other settlement visas                        18789\n",
       "EU Settlement Scheme permits                   8555\n",
       "Ukraine Visa Schemes                           2090\n",
       "BN(O) route                                    1089\n",
       "Name: count, dtype: int64"
      ]
     },
     "execution_count": 22,
     "metadata": {},
     "output_type": "execute_result"
    }
   ],
   "source": [
    "clean_df['Visa type'].value_counts()"
   ]
  },
  {
   "cell_type": "code",
   "execution_count": 23,
   "id": "218b257f-dd25-4a98-a2c5-470f011502cc",
   "metadata": {},
   "outputs": [
    {
     "data": {
      "text/plain": [
       "Visa type subgroup\n",
       "Skilled Worker                                  0.163234\n",
       "Visitor                                         0.059921\n",
       "Tier 4 - General Student                        0.041307\n",
       "Family: Partner                                 0.039300\n",
       "Other temporary visas                           0.035487\n",
       "                                                  ...   \n",
       "ECAA Businessperson                             0.000634\n",
       "Secondment Worker (Global Business Mobility)    0.000207\n",
       "Scale-up Worker                                 0.000201\n",
       "Service Supplier (Global Business Mobility)     0.000123\n",
       "Tier 1 - Other                                  0.000095\n",
       "Name: proportion, Length: 76, dtype: float64"
      ]
     },
     "execution_count": 23,
     "metadata": {},
     "output_type": "execute_result"
    }
   ],
   "source": [
    "clean_df['Visa type subgroup'].value_counts(10)"
   ]
  },
  {
   "cell_type": "code",
   "execution_count": 24,
   "id": "2d80f3b8-e6dc-4d56-a869-f859c248b942",
   "metadata": {},
   "outputs": [
    {
     "name": "stdout",
     "output_type": "stream",
     "text": [
      "Rows updated for 'Visa type group' to 'Work': 304886\n"
     ]
    }
   ],
   "source": [
    "# Conditions for identifying rows with 'Visa type' as \"Worker\" or \"Temporary Worker\"\n",
    "condition_worker_visa_type = clean_df['Visa type'] == 'Worker'\n",
    "condition_temp_worker_visa_type = clean_df['Visa type'] == 'Temporary Worker'\n",
    "\n",
    "# Update 'Visa type group' to \"Work\" for these conditions\n",
    "clean_df.loc[condition_worker_visa_type | condition_temp_worker_visa_type, 'Visa type group'] = 'Work'\n",
    "\n",
    "# Calculate the number of rows updated\n",
    "matching_rows_visa_type_group_updated = (condition_worker_visa_type | condition_temp_worker_visa_type).sum()\n",
    "\n",
    "print(f\"Rows updated for 'Visa type group' to 'Work': {matching_rows_visa_type_group_updated}\")\n"
   ]
  },
  {
   "cell_type": "code",
   "execution_count": 25,
   "id": "3692c3e0-c3b5-4fa5-9421-af9028370d76",
   "metadata": {},
   "outputs": [],
   "source": [
    "clean_df.loc[condition_worker_visa_type | condition_temp_worker_visa_type, 'Visa type'] = 'Worker'"
   ]
  },
  {
   "cell_type": "code",
   "execution_count": 26,
   "id": "5605d36f-8021-43b2-954e-6ac913934ccb",
   "metadata": {},
   "outputs": [
    {
     "data": {
      "text/plain": [
       "Outcome\n",
       "Dismissed    6104\n",
       "Allowed      4755\n",
       "Withdrawn    2567\n",
       "Name: count, dtype: int64"
      ]
     },
     "execution_count": 26,
     "metadata": {},
     "output_type": "execute_result"
    }
   ],
   "source": [
    "clean_df['Outcome'].value_counts()"
   ]
  },
  {
   "cell_type": "code",
   "execution_count": 27,
   "id": "6e0cba6d-0b63-44bc-8936-09de56832701",
   "metadata": {},
   "outputs": [
    {
     "data": {
      "text/plain": [
       "Case outcome\n",
       "Issued                  799898\n",
       "Sponsored Work Visa     216301\n",
       "Refused                 204341\n",
       "Temporary Protection     15187\n",
       "Withdrawn                10522\n",
       "Resettlements             2738\n",
       "Other Grants              2261\n",
       "Name: count, dtype: int64"
      ]
     },
     "execution_count": 27,
     "metadata": {},
     "output_type": "execute_result"
    }
   ],
   "source": [
    "clean_df['Case outcome'].value_counts()"
   ]
  },
  {
   "cell_type": "code",
   "execution_count": 28,
   "id": "e82a35bb-702a-4490-acc8-905206d2ab47",
   "metadata": {},
   "outputs": [
    {
     "name": "stdout",
     "output_type": "stream",
     "text": [
      "Rows updated for specific outcomes ('Sponsored Work Visa', 'Temporary Protection', 'Resettlements', 'Other Grants') to match 'Decisions': 247009\n",
      "Rows updated for other outcomes to match 'Decisions': 1054370\n"
     ]
    }
   ],
   "source": [
    "specific_outcomes = ['Sponsored Work Visa', 'Temporary Protection', 'Resettlements', 'Other Grants', 'Withdrawn']\n",
    "\n",
    "for outcome in specific_outcomes:\n",
    "    condition = clean_df['Case outcome'] == outcome\n",
    "    clean_df.loc[condition, 'Grants'] = clean_df.loc[condition, 'Decisions']\n",
    "\n",
    "other_conditions = ~clean_df['Case outcome'].isin(specific_outcomes)\n",
    "clean_df.loc[other_conditions, ['Grants', 'Total Application and Decisions', 'Applications']] = clean_df.loc[other_conditions, 'Decisions']\n",
    "\n",
    "updated_rows_specific_outcomes = clean_df[clean_df['Case outcome'].isin(specific_outcomes)]['Grants'].count()\n",
    "updated_rows_other_outcomes = clean_df[other_conditions]['Grants'].count()\n",
    "\n",
    "print(f\"Rows updated for specific outcomes ('Sponsored Work Visa', 'Temporary Protection', 'Resettlements', 'Other Grants') to match 'Decisions': {updated_rows_specific_outcomes}\")\n",
    "print(f\"Rows updated for other outcomes to match 'Decisions': {updated_rows_other_outcomes}\")\n",
    "\n",
    "#REF: Chatgpt"
   ]
  },
  {
   "cell_type": "code",
   "execution_count": null,
   "id": "05f41b1a-654f-4428-a428-7b588c88ad6d",
   "metadata": {},
   "outputs": [],
   "source": []
  },
  {
   "cell_type": "code",
   "execution_count": 29,
   "id": "9872f786-619e-40f4-8b32-82d4b6689154",
   "metadata": {},
   "outputs": [
    {
     "name": "stdout",
     "output_type": "stream",
     "text": [
      "Rows updated for specific outcomes ('Sponsored Work Visa', 'Temporary Protection', 'Resettlements', 'Other Grants', 'Withdrawn') to match 'Decisions': 254331\n",
      "Rows updated for other outcomes to match 'Decisions': 1047048\n"
     ]
    }
   ],
   "source": [
    "# Update 'Case outcome' based on 'Outcome' conditions\n",
    "clean_df.loc[clean_df['Outcome'] == 'Dismissed', 'Case outcome'] = 'Refused'\n",
    "clean_df.loc[clean_df['Outcome'] == 'Allowed', 'Case outcome'] = 'Grant'\n",
    "clean_df.loc[clean_df['Outcome'] == 'Withdrawn', 'Case outcome'] = 'Withdrawn'\n",
    "\n",
    "# For entries where 'Outcome' is 'Allowed', update 'Grants' to equal 'Applications'\n",
    "# and set 'Case outcome' to 'Other Grants'\n",
    "clean_df.loc[clean_df['Outcome'] == 'Allowed', 'Grants'] = clean_df.loc[clean_df['Outcome'] == 'Allowed', 'Applications']\n",
    "clean_df.loc[clean_df['Outcome'] == 'Allowed', 'Case outcome'] = 'Other Grants'\n",
    "\n",
    "# Assuming the rest of the logic remains similar, focusing on updating 'Grants' for specific outcomes\n",
    "specific_outcomes = ['Sponsored Work Visa', 'Temporary Protection', 'Resettlements', 'Other Grants', 'Withdrawn']\n",
    "\n",
    "for outcome in specific_outcomes:\n",
    "    condition = clean_df['Case outcome'] == outcome\n",
    "    clean_df.loc[condition, 'Grants'] = clean_df.loc[condition, 'Decisions']\n",
    "\n",
    "other_conditions = ~clean_df['Case outcome'].isin(specific_outcomes)\n",
    "clean_df.loc[other_conditions, ['Grants', 'Total Application and Decisions', 'Applications']] = clean_df.loc[other_conditions, 'Decisions']\n",
    "\n",
    "# Calculate updated rows for verification\n",
    "updated_rows_specific_outcomes = clean_df[clean_df['Case outcome'].isin(specific_outcomes)]['Grants'].count()\n",
    "updated_rows_other_outcomes = clean_df[other_conditions]['Grants'].count()\n",
    "\n",
    "print(f\"Rows updated for specific outcomes ('Sponsored Work Visa', 'Temporary Protection', 'Resettlements', 'Other Grants', 'Withdrawn') to match 'Decisions': {updated_rows_specific_outcomes}\")\n",
    "print(f\"Rows updated for other outcomes to match 'Decisions': {updated_rows_other_outcomes}\")\n"
   ]
  },
  {
   "cell_type": "code",
   "execution_count": 30,
   "id": "277afcfc-9a91-4e80-a782-c81669b0ea48",
   "metadata": {},
   "outputs": [
    {
     "data": {
      "text/plain": [
       "Case outcome\n",
       "Issued                  799898\n",
       "Sponsored Work Visa     216301\n",
       "Refused                 210445\n",
       "Temporary Protection     15187\n",
       "Withdrawn                13089\n",
       "Other Grants              7016\n",
       "Resettlements             2738\n",
       "Name: count, dtype: int64"
      ]
     },
     "execution_count": 30,
     "metadata": {},
     "output_type": "execute_result"
    }
   ],
   "source": [
    "clean_df['Case outcome'].value_counts()"
   ]
  },
  {
   "cell_type": "code",
   "execution_count": 31,
   "id": "17ea3bab-f99e-4a2a-bd3f-9ee236a91d2c",
   "metadata": {},
   "outputs": [],
   "source": [
    "#drop Previous category of leave group, Date, Application stage, Duration, SOC code"
   ]
  },
  {
   "cell_type": "code",
   "execution_count": null,
   "id": "6f4f011e-977b-4d35-b46c-eda43a13570e",
   "metadata": {},
   "outputs": [],
   "source": []
  },
  {
   "cell_type": "code",
   "execution_count": 32,
   "id": "ffa12045-e3b6-4157-8130-cee7ec4eb6b8",
   "metadata": {},
   "outputs": [],
   "source": [
    "# Column names to be dropped\n",
    "columns_to_drop = [\n",
    "    'Previous category of leave group', 'Date', 'Application stage', \n",
    "    'Duration', 'SOC code', 'Category of leave group', \n",
    "    'Category of leave subgroup', 'Current category of leave group', \n",
    "    'Current category of leave'\n",
    "]\n",
    "\n",
    "# Dropping the specified columns from clean_df\n",
    "clean_df.drop(columns=columns_to_drop, axis=1, inplace=True)\n"
   ]
  },
  {
   "cell_type": "code",
   "execution_count": 33,
   "id": "311d4964-ec42-4ae8-a7a9-07b004cbb8de",
   "metadata": {},
   "outputs": [
    {
     "data": {
      "text/html": [
       "<div>\n",
       "<style scoped>\n",
       "    .dataframe tbody tr th:only-of-type {\n",
       "        vertical-align: middle;\n",
       "    }\n",
       "\n",
       "    .dataframe tbody tr th {\n",
       "        vertical-align: top;\n",
       "    }\n",
       "\n",
       "    .dataframe thead th {\n",
       "        text-align: right;\n",
       "    }\n",
       "</style>\n",
       "<table border=\"1\" class=\"dataframe\">\n",
       "  <thead>\n",
       "    <tr style=\"text-align: right;\">\n",
       "      <th></th>\n",
       "      <th>Year</th>\n",
       "      <th>Quarter</th>\n",
       "      <th>Nationality</th>\n",
       "      <th>Region</th>\n",
       "      <th>Return type group</th>\n",
       "      <th>Return type</th>\n",
       "      <th>Age</th>\n",
       "      <th>Sex</th>\n",
       "      <th>Return destination group</th>\n",
       "      <th>Number of returns</th>\n",
       "      <th>Visa type group</th>\n",
       "      <th>Visa type</th>\n",
       "      <th>Visa type subgroup</th>\n",
       "      <th>Applicant type</th>\n",
       "      <th>Applications</th>\n",
       "      <th>Case outcome</th>\n",
       "      <th>Decisions</th>\n",
       "      <th>Case type</th>\n",
       "      <th>Case outcome group</th>\n",
       "      <th>UASC</th>\n",
       "      <th>Application type</th>\n",
       "      <th>Grants</th>\n",
       "      <th>Occupation</th>\n",
       "      <th>Industry</th>\n",
       "      <th>Occ. major group</th>\n",
       "      <th>Occ. sub-major group</th>\n",
       "      <th>Occ. minor group</th>\n",
       "      <th>Occ. unit group</th>\n",
       "      <th>Category of leave</th>\n",
       "      <th>Previous category of leave</th>\n",
       "      <th>Outcome</th>\n",
       "      <th>Appeals determined</th>\n",
       "      <th>Type of application</th>\n",
       "      <th>Geographical region</th>\n",
       "      <th>Location</th>\n",
       "      <th>Number of passengers refused entry at the border</th>\n",
       "      <th>General_Region</th>\n",
       "      <th>Total Application and Decisions</th>\n",
       "    </tr>\n",
       "  </thead>\n",
       "  <tbody>\n",
       "    <tr>\n",
       "      <th>0</th>\n",
       "      <td>2001</td>\n",
       "      <td>1</td>\n",
       "      <td>Afghanistan</td>\n",
       "      <td>Asia Central</td>\n",
       "      <td>NaN</td>\n",
       "      <td>NaN</td>\n",
       "      <td>Unknown</td>\n",
       "      <td>3</td>\n",
       "      <td>NaN</td>\n",
       "      <td>NaN</td>\n",
       "      <td>NaN</td>\n",
       "      <td>NaN</td>\n",
       "      <td>NaN</td>\n",
       "      <td>Main Applicant</td>\n",
       "      <td>2652.0</td>\n",
       "      <td>Issued</td>\n",
       "      <td>2652.0</td>\n",
       "      <td>Asylum Case</td>\n",
       "      <td>Grant of Other Leave</td>\n",
       "      <td>Total (pre-2006)</td>\n",
       "      <td>NaN</td>\n",
       "      <td>2652.0</td>\n",
       "      <td>Non-Work Visa Related Case Outcome</td>\n",
       "      <td>Non-Work Visa Related Case Outcome</td>\n",
       "      <td>Non-Work Visa Related Case Outcome</td>\n",
       "      <td>Non-Work Visa Related Case Outcome</td>\n",
       "      <td>Non-Work Visa Related Case Outcome</td>\n",
       "      <td>Non-Work Visa Related Case Outcome</td>\n",
       "      <td>NaN</td>\n",
       "      <td>NaN</td>\n",
       "      <td>NaN</td>\n",
       "      <td>NaN</td>\n",
       "      <td>NaN</td>\n",
       "      <td>NaN</td>\n",
       "      <td>NaN</td>\n",
       "      <td>NaN</td>\n",
       "      <td>Asia</td>\n",
       "      <td>2652.0</td>\n",
       "    </tr>\n",
       "    <tr>\n",
       "      <th>1</th>\n",
       "      <td>2001</td>\n",
       "      <td>1</td>\n",
       "      <td>Afghanistan</td>\n",
       "      <td>Asia Central</td>\n",
       "      <td>NaN</td>\n",
       "      <td>NaN</td>\n",
       "      <td>Unknown</td>\n",
       "      <td>3</td>\n",
       "      <td>NaN</td>\n",
       "      <td>NaN</td>\n",
       "      <td>NaN</td>\n",
       "      <td>NaN</td>\n",
       "      <td>NaN</td>\n",
       "      <td>Main Applicant</td>\n",
       "      <td>0.0</td>\n",
       "      <td>Temporary Protection</td>\n",
       "      <td>809.0</td>\n",
       "      <td>Asylum Case</td>\n",
       "      <td>Grant of Protection</td>\n",
       "      <td>Total (pre-2006)</td>\n",
       "      <td>NaN</td>\n",
       "      <td>809.0</td>\n",
       "      <td>Non-Work Visa Related Case Outcome</td>\n",
       "      <td>Non-Work Visa Related Case Outcome</td>\n",
       "      <td>Non-Work Visa Related Case Outcome</td>\n",
       "      <td>Non-Work Visa Related Case Outcome</td>\n",
       "      <td>Non-Work Visa Related Case Outcome</td>\n",
       "      <td>Non-Work Visa Related Case Outcome</td>\n",
       "      <td>NaN</td>\n",
       "      <td>NaN</td>\n",
       "      <td>NaN</td>\n",
       "      <td>NaN</td>\n",
       "      <td>NaN</td>\n",
       "      <td>NaN</td>\n",
       "      <td>NaN</td>\n",
       "      <td>NaN</td>\n",
       "      <td>Asia</td>\n",
       "      <td>809.0</td>\n",
       "    </tr>\n",
       "    <tr>\n",
       "      <th>2</th>\n",
       "      <td>2001</td>\n",
       "      <td>1</td>\n",
       "      <td>Afghanistan</td>\n",
       "      <td>Asia Central</td>\n",
       "      <td>NaN</td>\n",
       "      <td>NaN</td>\n",
       "      <td>Unknown</td>\n",
       "      <td>3</td>\n",
       "      <td>NaN</td>\n",
       "      <td>NaN</td>\n",
       "      <td>NaN</td>\n",
       "      <td>NaN</td>\n",
       "      <td>NaN</td>\n",
       "      <td>Main Applicant</td>\n",
       "      <td>15.0</td>\n",
       "      <td>Refused</td>\n",
       "      <td>15.0</td>\n",
       "      <td>Asylum Case</td>\n",
       "      <td>Refused</td>\n",
       "      <td>Total (pre-2006)</td>\n",
       "      <td>NaN</td>\n",
       "      <td>15.0</td>\n",
       "      <td>Non-Work Visa Related Case Outcome</td>\n",
       "      <td>Non-Work Visa Related Case Outcome</td>\n",
       "      <td>Non-Work Visa Related Case Outcome</td>\n",
       "      <td>Non-Work Visa Related Case Outcome</td>\n",
       "      <td>Non-Work Visa Related Case Outcome</td>\n",
       "      <td>Non-Work Visa Related Case Outcome</td>\n",
       "      <td>NaN</td>\n",
       "      <td>NaN</td>\n",
       "      <td>NaN</td>\n",
       "      <td>NaN</td>\n",
       "      <td>NaN</td>\n",
       "      <td>NaN</td>\n",
       "      <td>NaN</td>\n",
       "      <td>NaN</td>\n",
       "      <td>Asia</td>\n",
       "      <td>15.0</td>\n",
       "    </tr>\n",
       "    <tr>\n",
       "      <th>3</th>\n",
       "      <td>2001</td>\n",
       "      <td>1</td>\n",
       "      <td>Afghanistan</td>\n",
       "      <td>Asia Central</td>\n",
       "      <td>NaN</td>\n",
       "      <td>NaN</td>\n",
       "      <td>Unknown</td>\n",
       "      <td>3</td>\n",
       "      <td>NaN</td>\n",
       "      <td>NaN</td>\n",
       "      <td>NaN</td>\n",
       "      <td>NaN</td>\n",
       "      <td>NaN</td>\n",
       "      <td>Main Applicant</td>\n",
       "      <td>88.0</td>\n",
       "      <td>Refused</td>\n",
       "      <td>88.0</td>\n",
       "      <td>Asylum Case</td>\n",
       "      <td>Refused</td>\n",
       "      <td>Total (pre-2006)</td>\n",
       "      <td>NaN</td>\n",
       "      <td>88.0</td>\n",
       "      <td>Non-Work Visa Related Case Outcome</td>\n",
       "      <td>Non-Work Visa Related Case Outcome</td>\n",
       "      <td>Non-Work Visa Related Case Outcome</td>\n",
       "      <td>Non-Work Visa Related Case Outcome</td>\n",
       "      <td>Non-Work Visa Related Case Outcome</td>\n",
       "      <td>Non-Work Visa Related Case Outcome</td>\n",
       "      <td>NaN</td>\n",
       "      <td>NaN</td>\n",
       "      <td>NaN</td>\n",
       "      <td>NaN</td>\n",
       "      <td>NaN</td>\n",
       "      <td>NaN</td>\n",
       "      <td>NaN</td>\n",
       "      <td>NaN</td>\n",
       "      <td>Asia</td>\n",
       "      <td>88.0</td>\n",
       "    </tr>\n",
       "    <tr>\n",
       "      <th>4</th>\n",
       "      <td>2001</td>\n",
       "      <td>1</td>\n",
       "      <td>Afghanistan</td>\n",
       "      <td>Asia Central</td>\n",
       "      <td>NaN</td>\n",
       "      <td>NaN</td>\n",
       "      <td>Unknown</td>\n",
       "      <td>3</td>\n",
       "      <td>NaN</td>\n",
       "      <td>NaN</td>\n",
       "      <td>NaN</td>\n",
       "      <td>NaN</td>\n",
       "      <td>NaN</td>\n",
       "      <td>Main Applicant</td>\n",
       "      <td>609.0</td>\n",
       "      <td>Refused</td>\n",
       "      <td>609.0</td>\n",
       "      <td>Asylum Case</td>\n",
       "      <td>Refused</td>\n",
       "      <td>Total (pre-2006)</td>\n",
       "      <td>NaN</td>\n",
       "      <td>609.0</td>\n",
       "      <td>Non-Work Visa Related Case Outcome</td>\n",
       "      <td>Non-Work Visa Related Case Outcome</td>\n",
       "      <td>Non-Work Visa Related Case Outcome</td>\n",
       "      <td>Non-Work Visa Related Case Outcome</td>\n",
       "      <td>Non-Work Visa Related Case Outcome</td>\n",
       "      <td>Non-Work Visa Related Case Outcome</td>\n",
       "      <td>NaN</td>\n",
       "      <td>NaN</td>\n",
       "      <td>NaN</td>\n",
       "      <td>NaN</td>\n",
       "      <td>NaN</td>\n",
       "      <td>NaN</td>\n",
       "      <td>NaN</td>\n",
       "      <td>NaN</td>\n",
       "      <td>Asia</td>\n",
       "      <td>609.0</td>\n",
       "    </tr>\n",
       "  </tbody>\n",
       "</table>\n",
       "</div>"
      ],
      "text/plain": [
       "   Year  Quarter  Nationality        Region Return type group Return type  \\\n",
       "0  2001        1  Afghanistan  Asia Central               NaN         NaN   \n",
       "1  2001        1  Afghanistan  Asia Central               NaN         NaN   \n",
       "2  2001        1  Afghanistan  Asia Central               NaN         NaN   \n",
       "3  2001        1  Afghanistan  Asia Central               NaN         NaN   \n",
       "4  2001        1  Afghanistan  Asia Central               NaN         NaN   \n",
       "\n",
       "       Age  Sex Return destination group  Number of returns Visa type group  \\\n",
       "0  Unknown    3                      NaN                NaN             NaN   \n",
       "1  Unknown    3                      NaN                NaN             NaN   \n",
       "2  Unknown    3                      NaN                NaN             NaN   \n",
       "3  Unknown    3                      NaN                NaN             NaN   \n",
       "4  Unknown    3                      NaN                NaN             NaN   \n",
       "\n",
       "  Visa type Visa type subgroup  Applicant type  Applications  \\\n",
       "0       NaN                NaN  Main Applicant        2652.0   \n",
       "1       NaN                NaN  Main Applicant           0.0   \n",
       "2       NaN                NaN  Main Applicant          15.0   \n",
       "3       NaN                NaN  Main Applicant          88.0   \n",
       "4       NaN                NaN  Main Applicant         609.0   \n",
       "\n",
       "           Case outcome  Decisions    Case type    Case outcome group  \\\n",
       "0                Issued     2652.0  Asylum Case  Grant of Other Leave   \n",
       "1  Temporary Protection      809.0  Asylum Case   Grant of Protection   \n",
       "2               Refused       15.0  Asylum Case               Refused   \n",
       "3               Refused       88.0  Asylum Case               Refused   \n",
       "4               Refused      609.0  Asylum Case               Refused   \n",
       "\n",
       "               UASC Application type  Grants  \\\n",
       "0  Total (pre-2006)              NaN  2652.0   \n",
       "1  Total (pre-2006)              NaN   809.0   \n",
       "2  Total (pre-2006)              NaN    15.0   \n",
       "3  Total (pre-2006)              NaN    88.0   \n",
       "4  Total (pre-2006)              NaN   609.0   \n",
       "\n",
       "                           Occupation                            Industry  \\\n",
       "0  Non-Work Visa Related Case Outcome  Non-Work Visa Related Case Outcome   \n",
       "1  Non-Work Visa Related Case Outcome  Non-Work Visa Related Case Outcome   \n",
       "2  Non-Work Visa Related Case Outcome  Non-Work Visa Related Case Outcome   \n",
       "3  Non-Work Visa Related Case Outcome  Non-Work Visa Related Case Outcome   \n",
       "4  Non-Work Visa Related Case Outcome  Non-Work Visa Related Case Outcome   \n",
       "\n",
       "                     Occ. major group                Occ. sub-major group  \\\n",
       "0  Non-Work Visa Related Case Outcome  Non-Work Visa Related Case Outcome   \n",
       "1  Non-Work Visa Related Case Outcome  Non-Work Visa Related Case Outcome   \n",
       "2  Non-Work Visa Related Case Outcome  Non-Work Visa Related Case Outcome   \n",
       "3  Non-Work Visa Related Case Outcome  Non-Work Visa Related Case Outcome   \n",
       "4  Non-Work Visa Related Case Outcome  Non-Work Visa Related Case Outcome   \n",
       "\n",
       "                     Occ. minor group                     Occ. unit group  \\\n",
       "0  Non-Work Visa Related Case Outcome  Non-Work Visa Related Case Outcome   \n",
       "1  Non-Work Visa Related Case Outcome  Non-Work Visa Related Case Outcome   \n",
       "2  Non-Work Visa Related Case Outcome  Non-Work Visa Related Case Outcome   \n",
       "3  Non-Work Visa Related Case Outcome  Non-Work Visa Related Case Outcome   \n",
       "4  Non-Work Visa Related Case Outcome  Non-Work Visa Related Case Outcome   \n",
       "\n",
       "  Category of leave  Previous category of leave Outcome  Appeals determined  \\\n",
       "0               NaN                         NaN     NaN                 NaN   \n",
       "1               NaN                         NaN     NaN                 NaN   \n",
       "2               NaN                         NaN     NaN                 NaN   \n",
       "3               NaN                         NaN     NaN                 NaN   \n",
       "4               NaN                         NaN     NaN                 NaN   \n",
       "\n",
       "  Type of application Geographical region Location  \\\n",
       "0                 NaN                 NaN      NaN   \n",
       "1                 NaN                 NaN      NaN   \n",
       "2                 NaN                 NaN      NaN   \n",
       "3                 NaN                 NaN      NaN   \n",
       "4                 NaN                 NaN      NaN   \n",
       "\n",
       "   Number of passengers refused entry at the border General_Region  \\\n",
       "0                                               NaN           Asia   \n",
       "1                                               NaN           Asia   \n",
       "2                                               NaN           Asia   \n",
       "3                                               NaN           Asia   \n",
       "4                                               NaN           Asia   \n",
       "\n",
       "   Total Application and Decisions  \n",
       "0                           2652.0  \n",
       "1                            809.0  \n",
       "2                             15.0  \n",
       "3                             88.0  \n",
       "4                            609.0  "
      ]
     },
     "execution_count": 33,
     "metadata": {},
     "output_type": "execute_result"
    }
   ],
   "source": [
    "clean_df.head()"
   ]
  },
  {
   "cell_type": "code",
   "execution_count": null,
   "id": "8446fb1b-fa03-4517-a5ef-0dd904b33399",
   "metadata": {},
   "outputs": [],
   "source": []
  },
  {
   "cell_type": "code",
   "execution_count": 34,
   "id": "5e7d56f5-50b4-4e6d-a087-fddb03a6587f",
   "metadata": {},
   "outputs": [
    {
     "data": {
      "text/plain": [
       "Case type\n",
       "Issued                 790284\n",
       "Sponsored Work Visa    188741\n",
       "Refused                152413\n",
       "Asylum Case             74966\n",
       "Resettlement Case        2738\n",
       "Name: count, dtype: int64"
      ]
     },
     "execution_count": 34,
     "metadata": {},
     "output_type": "execute_result"
    }
   ],
   "source": [
    "clean_df['Case type'].value_counts()"
   ]
  },
  {
   "cell_type": "code",
   "execution_count": 35,
   "id": "63390d53-2830-4d11-941f-613cf4889f65",
   "metadata": {},
   "outputs": [
    {
     "data": {
      "text/plain": [
       "Visa type group\n",
       "Work                            399181\n",
       "Other                           100837\n",
       "Study                            95543\n",
       "Family                           76934\n",
       "Visitor                          44772\n",
       "Dep. joining or accompanying     29916\n",
       "Name: count, dtype: int64"
      ]
     },
     "execution_count": 35,
     "metadata": {},
     "output_type": "execute_result"
    }
   ],
   "source": [
    "clean_df['Visa type group'].value_counts()"
   ]
  },
  {
   "cell_type": "code",
   "execution_count": 36,
   "id": "10a577c7-fb1a-406d-aca9-a59d62a2770a",
   "metadata": {},
   "outputs": [
    {
     "name": "stdout",
     "output_type": "stream",
     "text": [
      "Rows updated where 'Case type' is 'Asylum Case': 74966\n"
     ]
    }
   ],
   "source": [
    "# Condition where 'Case type' is 'Asylum Case'\n",
    "condition_asylum_case = clean_df['Case type'] == 'Asylum Case'\n",
    "\n",
    "# Update 'Visa type group', 'Visa type', 'Visa type subgroup', and 'Outcome' for this condition\n",
    "clean_df.loc[condition_asylum_case, ['Visa type group', 'Visa type', 'Visa type subgroup', 'Outcome']] = 'Asylum Case'\n",
    "\n",
    "# You might want to verify the updates or check how many rows were affected\n",
    "updated_rows = condition_asylum_case.sum()\n",
    "print(f\"Rows updated where 'Case type' is 'Asylum Case': {updated_rows}\")\n"
   ]
  },
  {
   "cell_type": "code",
   "execution_count": 37,
   "id": "bbd95a99-9d75-4d05-936a-3f921064fdb8",
   "metadata": {},
   "outputs": [
    {
     "name": "stdout",
     "output_type": "stream",
     "text": [
      "Rows updated where 'Type of application' is 'Visa' or 'Extensions of stay': 25867\n",
      "Rows updated where 'Type of application' is 'Unknown': 1693\n"
     ]
    }
   ],
   "source": [
    "# For 'Type of application' = \"Visa\" or \"Extensions of stay\", set 'Case outcome' to \"Other grant\"\n",
    "condition_visa_or_extension = clean_df['Type of application'].isin(['Visa', 'Extensions of stay'])\n",
    "clean_df.loc[condition_visa_or_extension, 'Case outcome'] = 'Other grant'\n",
    "\n",
    "# For 'Type of application' = \"Unknown\", set 'Case outcome' to \"Issued\", 'Case type' to \"Issued\", \n",
    "# and 'Visa type group' to \"Other\"\n",
    "condition_unknown = clean_df['Type of application'] == 'Unknown'\n",
    "clean_df.loc[condition_unknown, ['Case outcome', 'Case type', 'Visa type group']] = ['Issued', 'Issued', 'Other']\n",
    "\n",
    "# Verify the updates or check how many rows were affected for each condition\n",
    "updated_visa_or_extension = condition_visa_or_extension.sum()\n",
    "updated_unknown = condition_unknown.sum()\n",
    "\n",
    "print(f\"Rows updated where 'Type of application' is 'Visa' or 'Extensions of stay': {updated_visa_or_extension}\")\n",
    "print(f\"Rows updated where 'Type of application' is 'Unknown': {updated_unknown}\")\n"
   ]
  },
  {
   "cell_type": "code",
   "execution_count": 38,
   "id": "bd0e8391-6230-4a20-88db-2257682908d9",
   "metadata": {},
   "outputs": [
    {
     "data": {
      "text/plain": [
       "Appeals determined\n",
       "1.0      5081\n",
       "2.0      2116\n",
       "3.0      1258\n",
       "4.0       814\n",
       "5.0       549\n",
       "         ... \n",
       "289.0       1\n",
       "123.0       1\n",
       "322.0       1\n",
       "207.0       1\n",
       "111.0       1\n",
       "Name: count, Length: 210, dtype: int64"
      ]
     },
     "execution_count": 38,
     "metadata": {},
     "output_type": "execute_result"
    }
   ],
   "source": [
    "clean_df['Appeals determined'].value_counts()"
   ]
  },
  {
   "cell_type": "code",
   "execution_count": 39,
   "id": "0756d35c-0b12-4153-a4eb-39921cbf9780",
   "metadata": {},
   "outputs": [
    {
     "name": "stdout",
     "output_type": "stream",
     "text": [
      "Rows updated where 'Grants' was 0 and 'Appeals determined' was not NA: 13426\n"
     ]
    }
   ],
   "source": [
    "# Condition where 'Grants' is 0\n",
    "condition_grants_zero = clean_df['Grants'] == 0\n",
    "\n",
    "# Condition where 'Appeals determined' is not NA\n",
    "condition_appeals_not_na = ~clean_df['Appeals determined'].isna()\n",
    "\n",
    "# Combined condition: 'Grants' is 0 AND 'Appeals determined' is not NA\n",
    "combined_condition = condition_grants_zero & condition_appeals_not_na\n",
    "\n",
    "# Update 'Grants' where the combined condition is True\n",
    "clean_df.loc[combined_condition, 'Grants'] = clean_df.loc[combined_condition, 'Appeals determined']\n",
    "\n",
    "# Verify the updates or check how many rows were affected\n",
    "updated_rows = combined_condition.sum()\n",
    "print(f\"Rows updated where 'Grants' was 0 and 'Appeals determined' was not NA: {updated_rows}\")\n"
   ]
  },
  {
   "cell_type": "code",
   "execution_count": 40,
   "id": "5c55d38e-a464-4978-9803-2780b3cc3eaf",
   "metadata": {},
   "outputs": [
    {
     "name": "stdout",
     "output_type": "stream",
     "text": [
      "Year                                                 0.000000\n",
      "Quarter                                              0.000000\n",
      "Nationality                                          0.000000\n",
      "Region                                               0.000000\n",
      "Return type group                                    0.000000\n",
      "Return type                                          0.000000\n",
      "Age                                                  0.000000\n",
      "Sex                                                  0.000000\n",
      "Return destination group                             0.000000\n",
      "Number of returns                                    0.000000\n",
      "Visa type group                                      0.000000\n",
      "Visa type                                            0.000000\n",
      "Visa type subgroup                                   0.000000\n",
      "Applicant type                                       0.000000\n",
      "Applications                                        19.919485\n",
      "Case outcome                                         0.000000\n",
      "Decisions                                           18.368362\n",
      "Case type                                            0.000000\n",
      "Case outcome group                                   0.000000\n",
      "UASC                                                 0.000000\n",
      "Application type                                     0.000000\n",
      "Grants                                              17.336687\n",
      "Occupation                                           0.000000\n",
      "Industry                                             0.000000\n",
      "Occ. major group                                     0.000000\n",
      "Occ. sub-major group                                 0.000000\n",
      "Occ. minor group                                     0.000000\n",
      "Occ. unit group                                      0.000000\n",
      "Category of leave                                    0.000000\n",
      "Previous category of leave                           0.000000\n",
      "Outcome                                              0.000000\n",
      "Appeals determined                                   0.000000\n",
      "Type of application                                  0.000000\n",
      "Geographical region                                  0.000000\n",
      "Location                                             0.000000\n",
      "Number of passengers refused entry at the border     0.000000\n",
      "General_Region                                       0.000000\n",
      "Total Application and Decisions                     18.368362\n",
      "dtype: float64\n"
     ]
    }
   ],
   "source": [
    "zero_percentage_numeric2 = (clean_df == 0).sum() / clean_df.shape[0] * 100\n",
    "print(zero_percentage_numeric2)"
   ]
  },
  {
   "cell_type": "code",
   "execution_count": 41,
   "id": "b62d45e2-0a18-4d39-96b2-8a9defeaa9cd",
   "metadata": {},
   "outputs": [
    {
     "data": {
      "text/plain": [
       "Type of application\n",
       "Visa                  14950\n",
       "Extensions of stay    10917\n",
       "Unknown                1693\n",
       "Name: count, dtype: int64"
      ]
     },
     "execution_count": 41,
     "metadata": {},
     "output_type": "execute_result"
    }
   ],
   "source": [
    "clean_df['Type of application'].value_counts()"
   ]
  },
  {
   "cell_type": "code",
   "execution_count": 42,
   "id": "e5946548-e73d-4f70-a073-f6443565ac8b",
   "metadata": {},
   "outputs": [
    {
     "data": {
      "text/plain": [
       "Geographical region\n",
       "Africa Sub-Saharan           4980\n",
       "America Central and South    4528\n",
       "Europe Other                 2662\n",
       "Middle East                  2365\n",
       "Asia South East              1659\n",
       "Asia East                    1377\n",
       "Asia South                   1187\n",
       "Africa North                 1173\n",
       "Oceania                       876\n",
       "Asia Central                  819\n",
       "EU 14                         709\n",
       "America North                 479\n",
       "Other                         414\n",
       "EU 8                          368\n",
       "EU Other                      237\n",
       "EU 2                          104\n",
       "Name: count, dtype: int64"
      ]
     },
     "execution_count": 42,
     "metadata": {},
     "output_type": "execute_result"
    }
   ],
   "source": [
    "clean_df['Geographical region'].value_counts()"
   ]
  },
  {
   "cell_type": "code",
   "execution_count": 43,
   "id": "a5883ad2-ac1e-4f76-9ad1-6f911523bbdc",
   "metadata": {},
   "outputs": [
    {
     "name": "stdout",
     "output_type": "stream",
     "text": [
      "Rows in 'Region' after update: 1297756\n"
     ]
    }
   ],
   "source": [
    "# Update 'Region' with values from 'Geographical region' wherever 'Region' is NA\n",
    "clean_df['Region'] = clean_df['Region'].fillna(clean_df['Geographical region'])\n",
    "\n",
    "# Verify the update or check how many rows were affected\n",
    "# This can be done by checking how many values in 'Region' are no longer NA\n",
    "updated_rows = clean_df['Region'].notna().sum()\n",
    "print(f\"Rows in 'Region' after update: {updated_rows}\")\n"
   ]
  },
  {
   "cell_type": "code",
   "execution_count": 44,
   "id": "96413acb-2b12-4ca8-bd48-f152057e9101",
   "metadata": {},
   "outputs": [
    {
     "data": {
      "text/plain": [
       "Region\n",
       "Africa Sub-Saharan           282030\n",
       "America Central and South    156369\n",
       "Europe Other                 131706\n",
       "Asia South                   120176\n",
       "Middle East                  115509\n",
       "Asia South East               84563\n",
       "EU 14                         80153\n",
       "Asia East                     75114\n",
       "Africa North                  63762\n",
       "America North                 45228\n",
       "Asia Central                  36878\n",
       "Oceania                       34800\n",
       "EU 8                          27911\n",
       "Other                         20818\n",
       "EU 2                          13663\n",
       "EU Other                       9075\n",
       "Other and unknown                 1\n",
       "Name: count, dtype: int64"
      ]
     },
     "execution_count": 44,
     "metadata": {},
     "output_type": "execute_result"
    }
   ],
   "source": [
    "clean_df['Region'].value_counts()"
   ]
  },
  {
   "cell_type": "markdown",
   "id": "e92a31da-6965-4d1d-b8b5-fe69ee1bfe4f",
   "metadata": {},
   "source": [
    "look at application type too\n",
    "\n",
    "Nationality                                          0.274851\n",
    "Region                                               2.090779\n"
   ]
  },
  {
   "cell_type": "code",
   "execution_count": 45,
   "id": "5d83e593-a390-4ce3-bcc4-5ed49bd9c7df",
   "metadata": {},
   "outputs": [
    {
     "data": {
      "text/plain": [
       "Nationality\n",
       "India                                                  40112\n",
       "Pakistan                                               29280\n",
       "United States                                          28705\n",
       "Nigeria                                                25657\n",
       "China                                                  24687\n",
       "                                                       ...  \n",
       "Wallis and Futuna (French)                                 1\n",
       "St Martin (French Part)                                    1\n",
       "St. Helena (British)                                       1\n",
       "St Pierre and Miquelon (French)                            1\n",
       "St Helena, Ascension and Tristan da Cunha (British)        1\n",
       "Name: count, Length: 256, dtype: int64"
      ]
     },
     "execution_count": 45,
     "metadata": {},
     "output_type": "execute_result"
    }
   ],
   "source": [
    "clean_df['Nationality'].value_counts()"
   ]
  },
  {
   "cell_type": "code",
   "execution_count": 46,
   "id": "49a79e68-9d1d-40f6-b5cb-976fdf52bc95",
   "metadata": {},
   "outputs": [
    {
     "name": "stdout",
     "output_type": "stream",
     "text": [
      "<class 'pandas.core.frame.DataFrame'>\n",
      "Index: 1301379 entries, 0 to 1318168\n",
      "Data columns (total 38 columns):\n",
      " #   Column                                            Non-Null Count    Dtype  \n",
      "---  ------                                            --------------    -----  \n",
      " 0   Year                                              1301379 non-null  int64  \n",
      " 1   Quarter                                           1301379 non-null  int64  \n",
      " 2   Nationality                                       1297756 non-null  object \n",
      " 3   Region                                            1297756 non-null  object \n",
      " 4   Return type group                                 232155 non-null   object \n",
      " 5   Return type                                       232155 non-null   object \n",
      " 6   Age                                               1301379 non-null  object \n",
      " 7   Sex                                               1301379 non-null  int64  \n",
      " 8   Return destination group                          232155 non-null   object \n",
      " 9   Number of returns                                 232155 non-null   float64\n",
      " 10  Visa type group                                   823842 non-null   object \n",
      " 11  Visa type                                         822149 non-null   object \n",
      " 12  Visa type subgroup                                822149 non-null   object \n",
      " 13  Applicant type                                    663648 non-null   object \n",
      " 14  Applications                                      1301379 non-null  float64\n",
      " 15  Case outcome                                      1264674 non-null  object \n",
      " 16  Decisions                                         1301379 non-null  float64\n",
      " 17  Case type                                         1210835 non-null  object \n",
      " 18  Case outcome group                                1209142 non-null  object \n",
      " 19  UASC                                              1209142 non-null  object \n",
      " 20  Application type                                  124598 non-null   object \n",
      " 21  Grants                                            1301379 non-null  float64\n",
      " 22  Occupation                                        1301379 non-null  object \n",
      " 23  Industry                                          1301379 non-null  object \n",
      " 24  Occ. major group                                  1301379 non-null  object \n",
      " 25  Occ. sub-major group                              1301379 non-null  object \n",
      " 26  Occ. minor group                                  1301379 non-null  object \n",
      " 27  Occ. unit group                                   1301379 non-null  object \n",
      " 28  Category of leave                                 27560 non-null    object \n",
      " 29  Previous category of leave                        0 non-null        float64\n",
      " 30  Outcome                                           88392 non-null    object \n",
      " 31  Appeals determined                                13426 non-null    float64\n",
      " 32  Type of application                               27560 non-null    object \n",
      " 33  Geographical region                               23937 non-null    object \n",
      " 34  Location                                          14546 non-null    object \n",
      " 35  Number of passengers refused entry at the border  14546 non-null    float64\n",
      " 36  General_Region                                    1273818 non-null  object \n",
      " 37  Total Application and Decisions                   1301379 non-null  float64\n",
      "dtypes: float64(8), int64(3), object(27)\n",
      "memory usage: 387.2+ MB\n"
     ]
    }
   ],
   "source": [
    "clean_df.info()"
   ]
  },
  {
   "cell_type": "code",
   "execution_count": 47,
   "id": "047a98b6-968d-437f-b0ae-411530f8b57a",
   "metadata": {},
   "outputs": [
    {
     "data": {
      "text/plain": [
       "Case outcome\n",
       "Issued                  801591\n",
       "Refused                 210445\n",
       "Sponsored Work Visa     188741\n",
       "Other grant              25867\n",
       "Temporary Protection     15187\n",
       "Withdrawn                13089\n",
       "Other Grants              7016\n",
       "Resettlements             2738\n",
       "Name: count, dtype: int64"
      ]
     },
     "execution_count": 47,
     "metadata": {},
     "output_type": "execute_result"
    }
   ],
   "source": [
    "clean_df['Case outcome'].value_counts()"
   ]
  },
  {
   "cell_type": "code",
   "execution_count": null,
   "id": "92cddb8e-ec5b-429e-acc1-cf0ee45ea006",
   "metadata": {},
   "outputs": [],
   "source": []
  },
  {
   "cell_type": "code",
   "execution_count": 48,
   "id": "2be70afa-65e7-4f2c-9aff-bd0901775f36",
   "metadata": {},
   "outputs": [
    {
     "data": {
      "text/plain": [
       "Year                                                 0.000000\n",
       "Quarter                                              0.000000\n",
       "Nationality                                          0.274851\n",
       "Region                                               0.274851\n",
       "Return type group                                   81.114334\n",
       "Return type                                         81.114334\n",
       "Age                                                  0.000000\n",
       "Sex                                                  0.000000\n",
       "Return destination group                            81.114334\n",
       "Number of returns                                   81.114334\n",
       "Visa type group                                     36.227297\n",
       "Visa type                                           36.355733\n",
       "Visa type subgroup                                  36.355733\n",
       "Applicant type                                      48.380064\n",
       "Applications                                         0.000000\n",
       "Case outcome                                         2.784544\n",
       "Decisions                                            0.000000\n",
       "Case type                                            6.868922\n",
       "Case outcome group                                   6.997358\n",
       "UASC                                                 6.997358\n",
       "Application type                                    89.273909\n",
       "Grants                                               0.000000\n",
       "Occupation                                           0.000000\n",
       "Industry                                             0.000000\n",
       "Occ. major group                                     0.000000\n",
       "Occ. sub-major group                                 0.000000\n",
       "Occ. minor group                                     0.000000\n",
       "Occ. unit group                                      0.000000\n",
       "Category of leave                                   96.635485\n",
       "Previous category of leave                          98.726263\n",
       "Outcome                                             92.020598\n",
       "Appeals determined                                  97.707729\n",
       "Type of application                                 96.635485\n",
       "Geographical region                                 96.910335\n",
       "Location                                            97.622763\n",
       "Number of passengers refused entry at the border    97.622763\n",
       "General_Region                                       2.090855\n",
       "Total Application and Decisions                      0.000000\n",
       "dtype: float64"
      ]
     },
     "execution_count": 48,
     "metadata": {},
     "output_type": "execute_result"
    }
   ],
   "source": [
    "clean_df.isna().sum()/df_combined.shape[0]*100"
   ]
  },
  {
   "cell_type": "code",
   "execution_count": 49,
   "id": "193c54be-703a-4fc5-840e-301761ba4b92",
   "metadata": {},
   "outputs": [
    {
     "data": {
      "text/plain": [
       "Outcome\n",
       "Asylum Case    74966\n",
       "Dismissed       6104\n",
       "Allowed         4755\n",
       "Withdrawn       2567\n",
       "Name: count, dtype: int64"
      ]
     },
     "execution_count": 49,
     "metadata": {},
     "output_type": "execute_result"
    }
   ],
   "source": [
    "clean_df['Outcome'].value_counts()"
   ]
  },
  {
   "cell_type": "code",
   "execution_count": 50,
   "id": "f5eb4c12-6967-47ab-a639-52366a82d50a",
   "metadata": {},
   "outputs": [
    {
     "data": {
      "text/plain": [
       "Case outcome\n",
       "Issued                  801591\n",
       "Refused                 210445\n",
       "Sponsored Work Visa     188741\n",
       "Other grant              25867\n",
       "Temporary Protection     15187\n",
       "Withdrawn                13089\n",
       "Other Grants              7016\n",
       "Resettlements             2738\n",
       "Name: count, dtype: int64"
      ]
     },
     "execution_count": 50,
     "metadata": {},
     "output_type": "execute_result"
    }
   ],
   "source": [
    "clean_df['Case outcome'].value_counts()"
   ]
  },
  {
   "cell_type": "code",
   "execution_count": 51,
   "id": "0a0af378-8076-47d7-9dd7-fbb67a8e8453",
   "metadata": {},
   "outputs": [
    {
     "data": {
      "text/plain": [
       "Case outcome group\n",
       "Issued                  790284\n",
       "Refused                 189795\n",
       "Sponsored Work Visa     188741\n",
       "Grant of Protection      19821\n",
       "Withdrawn                13970\n",
       "Grant of Other Leave      6531\n",
       "Name: count, dtype: int64"
      ]
     },
     "execution_count": 51,
     "metadata": {},
     "output_type": "execute_result"
    }
   ],
   "source": [
    "clean_df['Case outcome group'].value_counts()"
   ]
  },
  {
   "cell_type": "code",
   "execution_count": 52,
   "id": "32f1f55e-1632-4b8d-b645-9767e70effb5",
   "metadata": {},
   "outputs": [
    {
     "data": {
      "text/plain": [
       "Case type\n",
       "Issued                 791977\n",
       "Sponsored Work Visa    188741\n",
       "Refused                152413\n",
       "Asylum Case             74966\n",
       "Resettlement Case        2738\n",
       "Name: count, dtype: int64"
      ]
     },
     "execution_count": 52,
     "metadata": {},
     "output_type": "execute_result"
    }
   ],
   "source": [
    "clean_df['Case type'].value_counts()"
   ]
  },
  {
   "cell_type": "code",
   "execution_count": null,
   "id": "d6fa66fc-d30b-4af9-aee5-97dea89b4c91",
   "metadata": {},
   "outputs": [],
   "source": []
  },
  {
   "cell_type": "code",
   "execution_count": 53,
   "id": "8e7f8d77-1a09-4749-bee3-3bd4183046c0",
   "metadata": {},
   "outputs": [
    {
     "name": "stdout",
     "output_type": "stream",
     "text": [
      "Number of rows where 'Case outcome' does not equal 'Case type' after update: 90544\n",
      "Number of 'Case outcome' updated to 'Asylum Case': 74966\n"
     ]
    }
   ],
   "source": [
    "# Fill 'Case outcome' with 'Case type' where they do not match\n",
    "clean_df.loc[clean_df['Case outcome'] != clean_df['Case type'], 'Case outcome'] = clean_df['Case type']\n",
    "\n",
    "# Specifically update 'Case outcome' for rows where 'Case type' is 'Asylum Case'\n",
    "clean_df.loc[clean_df['Case type'] == 'Asylum Case', 'Case outcome'] = 'Asylum Case'\n",
    "\n",
    "# Verification step (optional)\n",
    "# Check if there are any rows where 'Case outcome' does not equal 'Case type' after the update\n",
    "mismatch_after_update = clean_df[clean_df['Case outcome'] != clean_df['Case type']]\n",
    "print(f\"Number of rows where 'Case outcome' does not equal 'Case type' after update: {len(mismatch_after_update)}\")\n",
    "\n",
    "# Count how many 'Case outcome' are now 'Asylum Case'\n",
    "asylum_case_count = (clean_df['Case outcome'] == 'Asylum Case').sum()\n",
    "print(f\"Number of 'Case outcome' updated to 'Asylum Case': {asylum_case_count}\")\n"
   ]
  },
  {
   "cell_type": "markdown",
   "id": "937cd35b-eba0-46bf-b555-1ad8ab94a2d4",
   "metadata": {},
   "source": [
    "We can drop Case type now"
   ]
  },
  {
   "cell_type": "code",
   "execution_count": 54,
   "id": "0172fa7c-883d-47d7-8d58-c76e0a43ecfc",
   "metadata": {},
   "outputs": [],
   "source": [
    "clean_df.drop('Case type', axis=1, inplace=True)"
   ]
  },
  {
   "cell_type": "code",
   "execution_count": null,
   "id": "cc66d8cc-06b5-4794-ba54-b38897e8ac10",
   "metadata": {},
   "outputs": [],
   "source": []
  },
  {
   "cell_type": "code",
   "execution_count": 55,
   "id": "612becb9-7caa-45cb-9cea-8928cdc63b16",
   "metadata": {},
   "outputs": [
    {
     "name": "stdout",
     "output_type": "stream",
     "text": [
      "Number of NA values in 'Case outcome' after update: 90544\n"
     ]
    }
   ],
   "source": [
    "# Fill NA values in 'Case outcome' with values from 'Case outcome group'\n",
    "clean_df['Case outcome'] = clean_df['Case outcome'].fillna(clean_df['Case outcome group'])\n",
    "\n",
    "# Optionally, verify the update by checking the count of NA values in 'Case outcome' after the operation\n",
    "na_count_after_update = clean_df['Case outcome'].isna().sum()\n",
    "print(f\"Number of NA values in 'Case outcome' after update: {na_count_after_update}\")\n"
   ]
  },
  {
   "cell_type": "markdown",
   "id": "752e3ea1-0588-4ff7-ba30-74e928921041",
   "metadata": {},
   "source": [
    "Now we drop Case outcome group"
   ]
  },
  {
   "cell_type": "code",
   "execution_count": 56,
   "id": "762679a0-0803-4c1a-88f6-9bf6bc3fc0e8",
   "metadata": {},
   "outputs": [],
   "source": [
    "clean_df.drop('Case outcome group', axis=1, inplace=True)"
   ]
  },
  {
   "cell_type": "code",
   "execution_count": 57,
   "id": "5f4700a8-15f2-4f84-9623-99365758ed33",
   "metadata": {},
   "outputs": [
    {
     "data": {
      "text/plain": [
       "Year                                                 0.000000\n",
       "Quarter                                              0.000000\n",
       "Nationality                                          0.274851\n",
       "Region                                               0.274851\n",
       "Return type group                                   81.114334\n",
       "Return type                                         81.114334\n",
       "Age                                                  0.000000\n",
       "Sex                                                  0.000000\n",
       "Return destination group                            81.114334\n",
       "Number of returns                                   81.114334\n",
       "Visa type group                                     36.227297\n",
       "Visa type                                           36.355733\n",
       "Visa type subgroup                                  36.355733\n",
       "Applicant type                                      48.380064\n",
       "Applications                                         0.000000\n",
       "Case outcome                                         6.868922\n",
       "Decisions                                            0.000000\n",
       "UASC                                                 6.997358\n",
       "Application type                                    89.273909\n",
       "Grants                                               0.000000\n",
       "Occupation                                           0.000000\n",
       "Industry                                             0.000000\n",
       "Occ. major group                                     0.000000\n",
       "Occ. sub-major group                                 0.000000\n",
       "Occ. minor group                                     0.000000\n",
       "Occ. unit group                                      0.000000\n",
       "Category of leave                                   96.635485\n",
       "Previous category of leave                          98.726263\n",
       "Outcome                                             92.020598\n",
       "Appeals determined                                  97.707729\n",
       "Type of application                                 96.635485\n",
       "Geographical region                                 96.910335\n",
       "Location                                            97.622763\n",
       "Number of passengers refused entry at the border    97.622763\n",
       "General_Region                                       2.090855\n",
       "Total Application and Decisions                      0.000000\n",
       "dtype: float64"
      ]
     },
     "execution_count": 57,
     "metadata": {},
     "output_type": "execute_result"
    }
   ],
   "source": [
    "clean_df.isna().sum()/df_combined.shape[0]*100"
   ]
  },
  {
   "cell_type": "code",
   "execution_count": 58,
   "id": "5b57cfec-7e8c-4b1a-ae36-e0e4fceb4134",
   "metadata": {},
   "outputs": [
    {
     "data": {
      "text/plain": [
       "General_Region\n",
       "Africa         339639\n",
       "Asia           311689\n",
       "Europe         258428\n",
       "America        196590\n",
       "Middle East    113144\n",
       "Oceania         33924\n",
       "Other           20404\n",
       "Name: count, dtype: int64"
      ]
     },
     "execution_count": 58,
     "metadata": {},
     "output_type": "execute_result"
    }
   ],
   "source": [
    "clean_df['General_Region'].value_counts()"
   ]
  },
  {
   "cell_type": "code",
   "execution_count": 59,
   "id": "6e875010-a8b1-4dd3-8d20-01a9cd8a9e6e",
   "metadata": {},
   "outputs": [
    {
     "data": {
      "text/plain": [
       "Region\n",
       "Africa Sub-Saharan           282030\n",
       "America Central and South    156369\n",
       "Europe Other                 131706\n",
       "Asia South                   120176\n",
       "Middle East                  115509\n",
       "Asia South East               84563\n",
       "EU 14                         80153\n",
       "Asia East                     75114\n",
       "Africa North                  63762\n",
       "America North                 45228\n",
       "Asia Central                  36878\n",
       "Oceania                       34800\n",
       "EU 8                          27911\n",
       "Other                         20818\n",
       "EU 2                          13663\n",
       "EU Other                       9075\n",
       "Other and unknown                 1\n",
       "Name: count, dtype: int64"
      ]
     },
     "execution_count": 59,
     "metadata": {},
     "output_type": "execute_result"
    }
   ],
   "source": [
    "clean_df['Region'].value_counts()"
   ]
  },
  {
   "cell_type": "code",
   "execution_count": 60,
   "id": "c0dca923-c894-466d-90bf-565e2e1b4ae2",
   "metadata": {},
   "outputs": [],
   "source": [
    "# Adjusted mapping with \"Other and unknown\"\n",
    "region_mapping = {\n",
    "    'Africa Sub-Saharan': 'Africa',\n",
    "    'America Central and South': 'America',\n",
    "    'Europe Other': 'Europe',\n",
    "    'Asia South': 'Asia',\n",
    "    'Middle East': 'Middle East',\n",
    "    'EU 14': 'Europe',\n",
    "    'Asia South East': 'Asia',\n",
    "    'Asia East': 'Asia',\n",
    "    'Africa North': 'Africa',\n",
    "    'America North': 'North America',\n",
    "    'Asia Central': 'Asia',\n",
    "    'Oceania': 'Oceania',\n",
    "    'EU 8': 'Europe',\n",
    "    'Other': 'Other',\n",
    "    'EU 2': 'Europe',\n",
    "    'EU Other': 'Europe',\n",
    "    'Other and unknown': 'Other'  # Ensuring coverage for this category\n",
    "}\n",
    "\n",
    "clean_df['General_Region'] = clean_df['Region'].map(region_mapping)\n"
   ]
  },
  {
   "cell_type": "code",
   "execution_count": 61,
   "id": "cb4b07c3-525c-47a6-a3a4-c517702c8228",
   "metadata": {},
   "outputs": [
    {
     "data": {
      "text/plain": [
       "General_Region\n",
       "Africa           345792\n",
       "Asia             316731\n",
       "Europe           262508\n",
       "America          156369\n",
       "Middle East      115509\n",
       "North America     45228\n",
       "Oceania           34800\n",
       "Other             20819\n",
       "Name: count, dtype: int64"
      ]
     },
     "execution_count": 61,
     "metadata": {},
     "output_type": "execute_result"
    }
   ],
   "source": [
    "clean_df['General_Region'].value_counts()"
   ]
  },
  {
   "cell_type": "code",
   "execution_count": null,
   "id": "efcb9bcf-f8a2-4a68-8ecd-34cd74e85f1e",
   "metadata": {},
   "outputs": [],
   "source": []
  },
  {
   "cell_type": "code",
   "execution_count": 62,
   "id": "63c1b2bd-d825-4a6c-a5e7-095811d67918",
   "metadata": {},
   "outputs": [
    {
     "data": {
      "text/plain": [
       "Year                                                 0.000000\n",
       "Quarter                                              0.000000\n",
       "Nationality                                          0.274851\n",
       "Region                                               0.274851\n",
       "Return type group                                   81.114334\n",
       "Return type                                         81.114334\n",
       "Age                                                  0.000000\n",
       "Sex                                                  0.000000\n",
       "Return destination group                            81.114334\n",
       "Number of returns                                   81.114334\n",
       "Visa type group                                     36.227297\n",
       "Visa type                                           36.355733\n",
       "Visa type subgroup                                  36.355733\n",
       "Applicant type                                      48.380064\n",
       "Applications                                         0.000000\n",
       "Case outcome                                         6.868922\n",
       "Decisions                                            0.000000\n",
       "UASC                                                 6.997358\n",
       "Application type                                    89.273909\n",
       "Grants                                               0.000000\n",
       "Occupation                                           0.000000\n",
       "Industry                                             0.000000\n",
       "Occ. major group                                     0.000000\n",
       "Occ. sub-major group                                 0.000000\n",
       "Occ. minor group                                     0.000000\n",
       "Occ. unit group                                      0.000000\n",
       "Category of leave                                   96.635485\n",
       "Previous category of leave                          98.726263\n",
       "Outcome                                             92.020598\n",
       "Appeals determined                                  97.707729\n",
       "Type of application                                 96.635485\n",
       "Geographical region                                 96.910335\n",
       "Location                                            97.622763\n",
       "Number of passengers refused entry at the border    97.622763\n",
       "General_Region                                       0.274851\n",
       "Total Application and Decisions                      0.000000\n",
       "dtype: float64"
      ]
     },
     "execution_count": 62,
     "metadata": {},
     "output_type": "execute_result"
    }
   ],
   "source": [
    "clean_df.isna().sum()/df_combined.shape[0]*100"
   ]
  },
  {
   "cell_type": "code",
   "execution_count": null,
   "id": "8ece9ac9-0040-49c0-9a5b-70ea7e486c49",
   "metadata": {},
   "outputs": [],
   "source": []
  },
  {
   "cell_type": "code",
   "execution_count": 63,
   "id": "d5268749-8f19-441c-84da-ba9573665c7d",
   "metadata": {},
   "outputs": [],
   "source": [
    "# List of columns to be dropped\n",
    "columns_to_drop = [\n",
    "    'Category of leave',\n",
    "    'Previous category of leave',\n",
    "    'Outcome',\n",
    "    'Appeals determined',\n",
    "    'Type of application',\n",
    "    'Geographical region',\n",
    "    'Location',\n",
    "    'Number of passengers refused entry at the border',\n",
    "    'Application type'\n",
    "]\n",
    "\n",
    "# Dropping the specified columns from the DataFrame\n",
    "clean_df.drop(columns=columns_to_drop, axis=1, inplace=True)\n"
   ]
  },
  {
   "cell_type": "code",
   "execution_count": null,
   "id": "8e145b03-d7f0-48f5-8a38-fe2eb162f46a",
   "metadata": {},
   "outputs": [],
   "source": []
  },
  {
   "cell_type": "code",
   "execution_count": 64,
   "id": "eff8e3d4-94b6-42ea-a063-8cabbaca8deb",
   "metadata": {},
   "outputs": [
    {
     "data": {
      "text/plain": [
       "Year                                0.000000\n",
       "Quarter                             0.000000\n",
       "Nationality                         0.274851\n",
       "Region                              0.274851\n",
       "Return type group                  81.114334\n",
       "Return type                        81.114334\n",
       "Age                                 0.000000\n",
       "Sex                                 0.000000\n",
       "Return destination group           81.114334\n",
       "Number of returns                  81.114334\n",
       "Visa type group                    36.227297\n",
       "Visa type                          36.355733\n",
       "Visa type subgroup                 36.355733\n",
       "Applicant type                     48.380064\n",
       "Applications                        0.000000\n",
       "Case outcome                        6.868922\n",
       "Decisions                           0.000000\n",
       "UASC                                6.997358\n",
       "Grants                              0.000000\n",
       "Occupation                          0.000000\n",
       "Industry                            0.000000\n",
       "Occ. major group                    0.000000\n",
       "Occ. sub-major group                0.000000\n",
       "Occ. minor group                    0.000000\n",
       "Occ. unit group                     0.000000\n",
       "General_Region                      0.274851\n",
       "Total Application and Decisions     0.000000\n",
       "dtype: float64"
      ]
     },
     "execution_count": 64,
     "metadata": {},
     "output_type": "execute_result"
    }
   ],
   "source": [
    "clean_df.isna().sum()/df_combined.shape[0]*100"
   ]
  },
  {
   "cell_type": "code",
   "execution_count": null,
   "id": "8e5a584e-485b-4286-9371-53ea324b3ed0",
   "metadata": {},
   "outputs": [],
   "source": []
  },
  {
   "cell_type": "code",
   "execution_count": 65,
   "id": "b0f88287-55f2-4330-b497-ad8601e85482",
   "metadata": {},
   "outputs": [
    {
     "data": {
      "text/plain": [
       "Case outcome\n",
       "Issued                 791977\n",
       "Sponsored Work Visa    188741\n",
       "Refused                152413\n",
       "Asylum Case             74966\n",
       "Resettlement Case        2738\n",
       "Name: count, dtype: int64"
      ]
     },
     "execution_count": 65,
     "metadata": {},
     "output_type": "execute_result"
    }
   ],
   "source": [
    "clean_df['Case outcome'].value_counts()"
   ]
  },
  {
   "cell_type": "markdown",
   "id": "d21d7d9e-883c-4ee0-8ea3-0864ada190fe",
   "metadata": {},
   "source": [
    "Look at percentage of 0s again"
   ]
  },
  {
   "cell_type": "code",
   "execution_count": null,
   "id": "449e690e-fa97-4032-8eee-feb50386ef68",
   "metadata": {},
   "outputs": [],
   "source": []
  },
  {
   "cell_type": "code",
   "execution_count": 66,
   "id": "62128c36-abb6-4e53-8aad-a48de8a3f9f3",
   "metadata": {},
   "outputs": [
    {
     "data": {
      "text/html": [
       "<div>\n",
       "<style scoped>\n",
       "    .dataframe tbody tr th:only-of-type {\n",
       "        vertical-align: middle;\n",
       "    }\n",
       "\n",
       "    .dataframe tbody tr th {\n",
       "        vertical-align: top;\n",
       "    }\n",
       "\n",
       "    .dataframe thead th {\n",
       "        text-align: right;\n",
       "    }\n",
       "</style>\n",
       "<table border=\"1\" class=\"dataframe\">\n",
       "  <thead>\n",
       "    <tr style=\"text-align: right;\">\n",
       "      <th></th>\n",
       "      <th>Year</th>\n",
       "      <th>Quarter</th>\n",
       "      <th>Nationality</th>\n",
       "      <th>Region</th>\n",
       "      <th>Return type group</th>\n",
       "      <th>Return type</th>\n",
       "      <th>Age</th>\n",
       "      <th>Sex</th>\n",
       "      <th>Return destination group</th>\n",
       "      <th>Number of returns</th>\n",
       "      <th>Visa type group</th>\n",
       "      <th>Visa type</th>\n",
       "      <th>Visa type subgroup</th>\n",
       "      <th>Applicant type</th>\n",
       "      <th>Applications</th>\n",
       "      <th>Case outcome</th>\n",
       "      <th>Decisions</th>\n",
       "      <th>UASC</th>\n",
       "      <th>Grants</th>\n",
       "      <th>Occupation</th>\n",
       "      <th>Industry</th>\n",
       "      <th>Occ. major group</th>\n",
       "      <th>Occ. sub-major group</th>\n",
       "      <th>Occ. minor group</th>\n",
       "      <th>Occ. unit group</th>\n",
       "      <th>General_Region</th>\n",
       "      <th>Total Application and Decisions</th>\n",
       "    </tr>\n",
       "  </thead>\n",
       "  <tbody>\n",
       "    <tr>\n",
       "      <th>11178</th>\n",
       "      <td>2004</td>\n",
       "      <td>1</td>\n",
       "      <td>Algeria</td>\n",
       "      <td>Africa North</td>\n",
       "      <td>NaN</td>\n",
       "      <td>NaN</td>\n",
       "      <td>Unknown</td>\n",
       "      <td>3</td>\n",
       "      <td>NaN</td>\n",
       "      <td>NaN</td>\n",
       "      <td>NaN</td>\n",
       "      <td>NaN</td>\n",
       "      <td>NaN</td>\n",
       "      <td>NaN</td>\n",
       "      <td>248.0</td>\n",
       "      <td>NaN</td>\n",
       "      <td>248.0</td>\n",
       "      <td>NaN</td>\n",
       "      <td>248.0</td>\n",
       "      <td>Non-Work Visa Related Case Outcome</td>\n",
       "      <td>Non-Work Visa Related Case Outcome</td>\n",
       "      <td>Non-Work Visa Related Case Outcome</td>\n",
       "      <td>Non-Work Visa Related Case Outcome</td>\n",
       "      <td>Non-Work Visa Related Case Outcome</td>\n",
       "      <td>Non-Work Visa Related Case Outcome</td>\n",
       "      <td>Africa</td>\n",
       "      <td>248.0</td>\n",
       "    </tr>\n",
       "    <tr>\n",
       "      <th>11179</th>\n",
       "      <td>2004</td>\n",
       "      <td>1</td>\n",
       "      <td>Egypt</td>\n",
       "      <td>Africa North</td>\n",
       "      <td>NaN</td>\n",
       "      <td>NaN</td>\n",
       "      <td>Unknown</td>\n",
       "      <td>3</td>\n",
       "      <td>NaN</td>\n",
       "      <td>NaN</td>\n",
       "      <td>NaN</td>\n",
       "      <td>NaN</td>\n",
       "      <td>NaN</td>\n",
       "      <td>NaN</td>\n",
       "      <td>125.0</td>\n",
       "      <td>NaN</td>\n",
       "      <td>125.0</td>\n",
       "      <td>NaN</td>\n",
       "      <td>125.0</td>\n",
       "      <td>Non-Work Visa Related Case Outcome</td>\n",
       "      <td>Non-Work Visa Related Case Outcome</td>\n",
       "      <td>Non-Work Visa Related Case Outcome</td>\n",
       "      <td>Non-Work Visa Related Case Outcome</td>\n",
       "      <td>Non-Work Visa Related Case Outcome</td>\n",
       "      <td>Non-Work Visa Related Case Outcome</td>\n",
       "      <td>Africa</td>\n",
       "      <td>125.0</td>\n",
       "    </tr>\n",
       "    <tr>\n",
       "      <th>11180</th>\n",
       "      <td>2004</td>\n",
       "      <td>1</td>\n",
       "      <td>Libya</td>\n",
       "      <td>Africa North</td>\n",
       "      <td>NaN</td>\n",
       "      <td>NaN</td>\n",
       "      <td>Unknown</td>\n",
       "      <td>3</td>\n",
       "      <td>NaN</td>\n",
       "      <td>NaN</td>\n",
       "      <td>NaN</td>\n",
       "      <td>NaN</td>\n",
       "      <td>NaN</td>\n",
       "      <td>NaN</td>\n",
       "      <td>104.0</td>\n",
       "      <td>NaN</td>\n",
       "      <td>104.0</td>\n",
       "      <td>NaN</td>\n",
       "      <td>104.0</td>\n",
       "      <td>Non-Work Visa Related Case Outcome</td>\n",
       "      <td>Non-Work Visa Related Case Outcome</td>\n",
       "      <td>Non-Work Visa Related Case Outcome</td>\n",
       "      <td>Non-Work Visa Related Case Outcome</td>\n",
       "      <td>Non-Work Visa Related Case Outcome</td>\n",
       "      <td>Non-Work Visa Related Case Outcome</td>\n",
       "      <td>Africa</td>\n",
       "      <td>104.0</td>\n",
       "    </tr>\n",
       "    <tr>\n",
       "      <th>11181</th>\n",
       "      <td>2004</td>\n",
       "      <td>1</td>\n",
       "      <td>Mauritania</td>\n",
       "      <td>Africa North</td>\n",
       "      <td>NaN</td>\n",
       "      <td>NaN</td>\n",
       "      <td>Unknown</td>\n",
       "      <td>3</td>\n",
       "      <td>NaN</td>\n",
       "      <td>NaN</td>\n",
       "      <td>NaN</td>\n",
       "      <td>NaN</td>\n",
       "      <td>NaN</td>\n",
       "      <td>NaN</td>\n",
       "      <td>8.0</td>\n",
       "      <td>NaN</td>\n",
       "      <td>8.0</td>\n",
       "      <td>NaN</td>\n",
       "      <td>8.0</td>\n",
       "      <td>Non-Work Visa Related Case Outcome</td>\n",
       "      <td>Non-Work Visa Related Case Outcome</td>\n",
       "      <td>Non-Work Visa Related Case Outcome</td>\n",
       "      <td>Non-Work Visa Related Case Outcome</td>\n",
       "      <td>Non-Work Visa Related Case Outcome</td>\n",
       "      <td>Non-Work Visa Related Case Outcome</td>\n",
       "      <td>Africa</td>\n",
       "      <td>8.0</td>\n",
       "    </tr>\n",
       "    <tr>\n",
       "      <th>11182</th>\n",
       "      <td>2004</td>\n",
       "      <td>1</td>\n",
       "      <td>Morocco</td>\n",
       "      <td>Africa North</td>\n",
       "      <td>NaN</td>\n",
       "      <td>NaN</td>\n",
       "      <td>Unknown</td>\n",
       "      <td>3</td>\n",
       "      <td>NaN</td>\n",
       "      <td>NaN</td>\n",
       "      <td>NaN</td>\n",
       "      <td>NaN</td>\n",
       "      <td>NaN</td>\n",
       "      <td>NaN</td>\n",
       "      <td>199.0</td>\n",
       "      <td>NaN</td>\n",
       "      <td>199.0</td>\n",
       "      <td>NaN</td>\n",
       "      <td>199.0</td>\n",
       "      <td>Non-Work Visa Related Case Outcome</td>\n",
       "      <td>Non-Work Visa Related Case Outcome</td>\n",
       "      <td>Non-Work Visa Related Case Outcome</td>\n",
       "      <td>Non-Work Visa Related Case Outcome</td>\n",
       "      <td>Non-Work Visa Related Case Outcome</td>\n",
       "      <td>Non-Work Visa Related Case Outcome</td>\n",
       "      <td>Africa</td>\n",
       "      <td>199.0</td>\n",
       "    </tr>\n",
       "    <tr>\n",
       "      <th>...</th>\n",
       "      <td>...</td>\n",
       "      <td>...</td>\n",
       "      <td>...</td>\n",
       "      <td>...</td>\n",
       "      <td>...</td>\n",
       "      <td>...</td>\n",
       "      <td>...</td>\n",
       "      <td>...</td>\n",
       "      <td>...</td>\n",
       "      <td>...</td>\n",
       "      <td>...</td>\n",
       "      <td>...</td>\n",
       "      <td>...</td>\n",
       "      <td>...</td>\n",
       "      <td>...</td>\n",
       "      <td>...</td>\n",
       "      <td>...</td>\n",
       "      <td>...</td>\n",
       "      <td>...</td>\n",
       "      <td>...</td>\n",
       "      <td>...</td>\n",
       "      <td>...</td>\n",
       "      <td>...</td>\n",
       "      <td>...</td>\n",
       "      <td>...</td>\n",
       "      <td>...</td>\n",
       "      <td>...</td>\n",
       "    </tr>\n",
       "    <tr>\n",
       "      <th>1318164</th>\n",
       "      <td>2023</td>\n",
       "      <td>4</td>\n",
       "      <td>Vietnam</td>\n",
       "      <td>Asia South East</td>\n",
       "      <td>NaN</td>\n",
       "      <td>NaN</td>\n",
       "      <td>Unknown</td>\n",
       "      <td>3</td>\n",
       "      <td>NaN</td>\n",
       "      <td>NaN</td>\n",
       "      <td>NaN</td>\n",
       "      <td>NaN</td>\n",
       "      <td>NaN</td>\n",
       "      <td>NaN</td>\n",
       "      <td>30.0</td>\n",
       "      <td>NaN</td>\n",
       "      <td>30.0</td>\n",
       "      <td>NaN</td>\n",
       "      <td>30.0</td>\n",
       "      <td>Non-Work Visa Related Case Outcome</td>\n",
       "      <td>Non-Work Visa Related Case Outcome</td>\n",
       "      <td>Non-Work Visa Related Case Outcome</td>\n",
       "      <td>Non-Work Visa Related Case Outcome</td>\n",
       "      <td>Non-Work Visa Related Case Outcome</td>\n",
       "      <td>Non-Work Visa Related Case Outcome</td>\n",
       "      <td>Asia</td>\n",
       "      <td>30.0</td>\n",
       "    </tr>\n",
       "    <tr>\n",
       "      <th>1318165</th>\n",
       "      <td>2023</td>\n",
       "      <td>4</td>\n",
       "      <td>Vietnam</td>\n",
       "      <td>Asia South East</td>\n",
       "      <td>NaN</td>\n",
       "      <td>NaN</td>\n",
       "      <td>Unknown</td>\n",
       "      <td>3</td>\n",
       "      <td>NaN</td>\n",
       "      <td>NaN</td>\n",
       "      <td>NaN</td>\n",
       "      <td>NaN</td>\n",
       "      <td>NaN</td>\n",
       "      <td>NaN</td>\n",
       "      <td>7.0</td>\n",
       "      <td>NaN</td>\n",
       "      <td>7.0</td>\n",
       "      <td>NaN</td>\n",
       "      <td>7.0</td>\n",
       "      <td>Non-Work Visa Related Case Outcome</td>\n",
       "      <td>Non-Work Visa Related Case Outcome</td>\n",
       "      <td>Non-Work Visa Related Case Outcome</td>\n",
       "      <td>Non-Work Visa Related Case Outcome</td>\n",
       "      <td>Non-Work Visa Related Case Outcome</td>\n",
       "      <td>Non-Work Visa Related Case Outcome</td>\n",
       "      <td>Asia</td>\n",
       "      <td>7.0</td>\n",
       "    </tr>\n",
       "    <tr>\n",
       "      <th>1318166</th>\n",
       "      <td>2023</td>\n",
       "      <td>4</td>\n",
       "      <td>Zambia</td>\n",
       "      <td>Africa Sub-Saharan</td>\n",
       "      <td>NaN</td>\n",
       "      <td>NaN</td>\n",
       "      <td>Unknown</td>\n",
       "      <td>3</td>\n",
       "      <td>NaN</td>\n",
       "      <td>NaN</td>\n",
       "      <td>NaN</td>\n",
       "      <td>NaN</td>\n",
       "      <td>NaN</td>\n",
       "      <td>NaN</td>\n",
       "      <td>4.0</td>\n",
       "      <td>NaN</td>\n",
       "      <td>4.0</td>\n",
       "      <td>NaN</td>\n",
       "      <td>4.0</td>\n",
       "      <td>Non-Work Visa Related Case Outcome</td>\n",
       "      <td>Non-Work Visa Related Case Outcome</td>\n",
       "      <td>Non-Work Visa Related Case Outcome</td>\n",
       "      <td>Non-Work Visa Related Case Outcome</td>\n",
       "      <td>Non-Work Visa Related Case Outcome</td>\n",
       "      <td>Non-Work Visa Related Case Outcome</td>\n",
       "      <td>Africa</td>\n",
       "      <td>4.0</td>\n",
       "    </tr>\n",
       "    <tr>\n",
       "      <th>1318167</th>\n",
       "      <td>2023</td>\n",
       "      <td>4</td>\n",
       "      <td>Zimbabwe</td>\n",
       "      <td>Africa Sub-Saharan</td>\n",
       "      <td>NaN</td>\n",
       "      <td>NaN</td>\n",
       "      <td>Unknown</td>\n",
       "      <td>3</td>\n",
       "      <td>NaN</td>\n",
       "      <td>NaN</td>\n",
       "      <td>NaN</td>\n",
       "      <td>NaN</td>\n",
       "      <td>NaN</td>\n",
       "      <td>NaN</td>\n",
       "      <td>1.0</td>\n",
       "      <td>NaN</td>\n",
       "      <td>1.0</td>\n",
       "      <td>NaN</td>\n",
       "      <td>1.0</td>\n",
       "      <td>Non-Work Visa Related Case Outcome</td>\n",
       "      <td>Non-Work Visa Related Case Outcome</td>\n",
       "      <td>Non-Work Visa Related Case Outcome</td>\n",
       "      <td>Non-Work Visa Related Case Outcome</td>\n",
       "      <td>Non-Work Visa Related Case Outcome</td>\n",
       "      <td>Non-Work Visa Related Case Outcome</td>\n",
       "      <td>Africa</td>\n",
       "      <td>1.0</td>\n",
       "    </tr>\n",
       "    <tr>\n",
       "      <th>1318168</th>\n",
       "      <td>2023</td>\n",
       "      <td>4</td>\n",
       "      <td>Zimbabwe</td>\n",
       "      <td>Africa Sub-Saharan</td>\n",
       "      <td>NaN</td>\n",
       "      <td>NaN</td>\n",
       "      <td>Unknown</td>\n",
       "      <td>3</td>\n",
       "      <td>NaN</td>\n",
       "      <td>NaN</td>\n",
       "      <td>NaN</td>\n",
       "      <td>NaN</td>\n",
       "      <td>NaN</td>\n",
       "      <td>NaN</td>\n",
       "      <td>9.0</td>\n",
       "      <td>NaN</td>\n",
       "      <td>9.0</td>\n",
       "      <td>NaN</td>\n",
       "      <td>9.0</td>\n",
       "      <td>Non-Work Visa Related Case Outcome</td>\n",
       "      <td>Non-Work Visa Related Case Outcome</td>\n",
       "      <td>Non-Work Visa Related Case Outcome</td>\n",
       "      <td>Non-Work Visa Related Case Outcome</td>\n",
       "      <td>Non-Work Visa Related Case Outcome</td>\n",
       "      <td>Non-Work Visa Related Case Outcome</td>\n",
       "      <td>Africa</td>\n",
       "      <td>9.0</td>\n",
       "    </tr>\n",
       "  </tbody>\n",
       "</table>\n",
       "<p>92237 rows × 27 columns</p>\n",
       "</div>"
      ],
      "text/plain": [
       "         Year  Quarter Nationality              Region Return type group  \\\n",
       "11178    2004        1     Algeria        Africa North               NaN   \n",
       "11179    2004        1       Egypt        Africa North               NaN   \n",
       "11180    2004        1       Libya        Africa North               NaN   \n",
       "11181    2004        1  Mauritania        Africa North               NaN   \n",
       "11182    2004        1     Morocco        Africa North               NaN   \n",
       "...       ...      ...         ...                 ...               ...   \n",
       "1318164  2023        4     Vietnam     Asia South East               NaN   \n",
       "1318165  2023        4     Vietnam     Asia South East               NaN   \n",
       "1318166  2023        4      Zambia  Africa Sub-Saharan               NaN   \n",
       "1318167  2023        4    Zimbabwe  Africa Sub-Saharan               NaN   \n",
       "1318168  2023        4    Zimbabwe  Africa Sub-Saharan               NaN   \n",
       "\n",
       "        Return type      Age  Sex Return destination group  Number of returns  \\\n",
       "11178           NaN  Unknown    3                      NaN                NaN   \n",
       "11179           NaN  Unknown    3                      NaN                NaN   \n",
       "11180           NaN  Unknown    3                      NaN                NaN   \n",
       "11181           NaN  Unknown    3                      NaN                NaN   \n",
       "11182           NaN  Unknown    3                      NaN                NaN   \n",
       "...             ...      ...  ...                      ...                ...   \n",
       "1318164         NaN  Unknown    3                      NaN                NaN   \n",
       "1318165         NaN  Unknown    3                      NaN                NaN   \n",
       "1318166         NaN  Unknown    3                      NaN                NaN   \n",
       "1318167         NaN  Unknown    3                      NaN                NaN   \n",
       "1318168         NaN  Unknown    3                      NaN                NaN   \n",
       "\n",
       "        Visa type group Visa type Visa type subgroup Applicant type  \\\n",
       "11178               NaN       NaN                NaN            NaN   \n",
       "11179               NaN       NaN                NaN            NaN   \n",
       "11180               NaN       NaN                NaN            NaN   \n",
       "11181               NaN       NaN                NaN            NaN   \n",
       "11182               NaN       NaN                NaN            NaN   \n",
       "...                 ...       ...                ...            ...   \n",
       "1318164             NaN       NaN                NaN            NaN   \n",
       "1318165             NaN       NaN                NaN            NaN   \n",
       "1318166             NaN       NaN                NaN            NaN   \n",
       "1318167             NaN       NaN                NaN            NaN   \n",
       "1318168             NaN       NaN                NaN            NaN   \n",
       "\n",
       "         Applications Case outcome  Decisions UASC  Grants  \\\n",
       "11178           248.0          NaN      248.0  NaN   248.0   \n",
       "11179           125.0          NaN      125.0  NaN   125.0   \n",
       "11180           104.0          NaN      104.0  NaN   104.0   \n",
       "11181             8.0          NaN        8.0  NaN     8.0   \n",
       "11182           199.0          NaN      199.0  NaN   199.0   \n",
       "...               ...          ...        ...  ...     ...   \n",
       "1318164          30.0          NaN       30.0  NaN    30.0   \n",
       "1318165           7.0          NaN        7.0  NaN     7.0   \n",
       "1318166           4.0          NaN        4.0  NaN     4.0   \n",
       "1318167           1.0          NaN        1.0  NaN     1.0   \n",
       "1318168           9.0          NaN        9.0  NaN     9.0   \n",
       "\n",
       "                                 Occupation  \\\n",
       "11178    Non-Work Visa Related Case Outcome   \n",
       "11179    Non-Work Visa Related Case Outcome   \n",
       "11180    Non-Work Visa Related Case Outcome   \n",
       "11181    Non-Work Visa Related Case Outcome   \n",
       "11182    Non-Work Visa Related Case Outcome   \n",
       "...                                     ...   \n",
       "1318164  Non-Work Visa Related Case Outcome   \n",
       "1318165  Non-Work Visa Related Case Outcome   \n",
       "1318166  Non-Work Visa Related Case Outcome   \n",
       "1318167  Non-Work Visa Related Case Outcome   \n",
       "1318168  Non-Work Visa Related Case Outcome   \n",
       "\n",
       "                                   Industry  \\\n",
       "11178    Non-Work Visa Related Case Outcome   \n",
       "11179    Non-Work Visa Related Case Outcome   \n",
       "11180    Non-Work Visa Related Case Outcome   \n",
       "11181    Non-Work Visa Related Case Outcome   \n",
       "11182    Non-Work Visa Related Case Outcome   \n",
       "...                                     ...   \n",
       "1318164  Non-Work Visa Related Case Outcome   \n",
       "1318165  Non-Work Visa Related Case Outcome   \n",
       "1318166  Non-Work Visa Related Case Outcome   \n",
       "1318167  Non-Work Visa Related Case Outcome   \n",
       "1318168  Non-Work Visa Related Case Outcome   \n",
       "\n",
       "                           Occ. major group  \\\n",
       "11178    Non-Work Visa Related Case Outcome   \n",
       "11179    Non-Work Visa Related Case Outcome   \n",
       "11180    Non-Work Visa Related Case Outcome   \n",
       "11181    Non-Work Visa Related Case Outcome   \n",
       "11182    Non-Work Visa Related Case Outcome   \n",
       "...                                     ...   \n",
       "1318164  Non-Work Visa Related Case Outcome   \n",
       "1318165  Non-Work Visa Related Case Outcome   \n",
       "1318166  Non-Work Visa Related Case Outcome   \n",
       "1318167  Non-Work Visa Related Case Outcome   \n",
       "1318168  Non-Work Visa Related Case Outcome   \n",
       "\n",
       "                       Occ. sub-major group  \\\n",
       "11178    Non-Work Visa Related Case Outcome   \n",
       "11179    Non-Work Visa Related Case Outcome   \n",
       "11180    Non-Work Visa Related Case Outcome   \n",
       "11181    Non-Work Visa Related Case Outcome   \n",
       "11182    Non-Work Visa Related Case Outcome   \n",
       "...                                     ...   \n",
       "1318164  Non-Work Visa Related Case Outcome   \n",
       "1318165  Non-Work Visa Related Case Outcome   \n",
       "1318166  Non-Work Visa Related Case Outcome   \n",
       "1318167  Non-Work Visa Related Case Outcome   \n",
       "1318168  Non-Work Visa Related Case Outcome   \n",
       "\n",
       "                           Occ. minor group  \\\n",
       "11178    Non-Work Visa Related Case Outcome   \n",
       "11179    Non-Work Visa Related Case Outcome   \n",
       "11180    Non-Work Visa Related Case Outcome   \n",
       "11181    Non-Work Visa Related Case Outcome   \n",
       "11182    Non-Work Visa Related Case Outcome   \n",
       "...                                     ...   \n",
       "1318164  Non-Work Visa Related Case Outcome   \n",
       "1318165  Non-Work Visa Related Case Outcome   \n",
       "1318166  Non-Work Visa Related Case Outcome   \n",
       "1318167  Non-Work Visa Related Case Outcome   \n",
       "1318168  Non-Work Visa Related Case Outcome   \n",
       "\n",
       "                            Occ. unit group General_Region  \\\n",
       "11178    Non-Work Visa Related Case Outcome         Africa   \n",
       "11179    Non-Work Visa Related Case Outcome         Africa   \n",
       "11180    Non-Work Visa Related Case Outcome         Africa   \n",
       "11181    Non-Work Visa Related Case Outcome         Africa   \n",
       "11182    Non-Work Visa Related Case Outcome         Africa   \n",
       "...                                     ...            ...   \n",
       "1318164  Non-Work Visa Related Case Outcome           Asia   \n",
       "1318165  Non-Work Visa Related Case Outcome           Asia   \n",
       "1318166  Non-Work Visa Related Case Outcome         Africa   \n",
       "1318167  Non-Work Visa Related Case Outcome         Africa   \n",
       "1318168  Non-Work Visa Related Case Outcome         Africa   \n",
       "\n",
       "         Total Application and Decisions  \n",
       "11178                              248.0  \n",
       "11179                              125.0  \n",
       "11180                              104.0  \n",
       "11181                                8.0  \n",
       "11182                              199.0  \n",
       "...                                  ...  \n",
       "1318164                             30.0  \n",
       "1318165                              7.0  \n",
       "1318166                              4.0  \n",
       "1318167                              1.0  \n",
       "1318168                              9.0  \n",
       "\n",
       "[92237 rows x 27 columns]"
      ]
     },
     "execution_count": 66,
     "metadata": {},
     "output_type": "execute_result"
    }
   ],
   "source": [
    "clean_df[df_combined['Case outcome'].isna()]"
   ]
  },
  {
   "cell_type": "code",
   "execution_count": null,
   "id": "0e2f83ea-79f7-4caa-a877-dc739fee3a98",
   "metadata": {},
   "outputs": [],
   "source": []
  },
  {
   "cell_type": "code",
   "execution_count": null,
   "id": "8f78375f-4bd5-4a3b-a681-2972e3751269",
   "metadata": {},
   "outputs": [],
   "source": []
  },
  {
   "cell_type": "code",
   "execution_count": null,
   "id": "ee468c86-ffc4-42ca-bc8b-92a9beaf42b6",
   "metadata": {},
   "outputs": [],
   "source": []
  },
  {
   "cell_type": "code",
   "execution_count": 67,
   "id": "d7c0a82d-c953-4fa0-8279-ac5dec580741",
   "metadata": {},
   "outputs": [
    {
     "data": {
      "text/html": [
       "<div>\n",
       "<style scoped>\n",
       "    .dataframe tbody tr th:only-of-type {\n",
       "        vertical-align: middle;\n",
       "    }\n",
       "\n",
       "    .dataframe tbody tr th {\n",
       "        vertical-align: top;\n",
       "    }\n",
       "\n",
       "    .dataframe thead th {\n",
       "        text-align: right;\n",
       "    }\n",
       "</style>\n",
       "<table border=\"1\" class=\"dataframe\">\n",
       "  <thead>\n",
       "    <tr style=\"text-align: right;\">\n",
       "      <th></th>\n",
       "      <th>Year</th>\n",
       "      <th>Quarter</th>\n",
       "      <th>Nationality</th>\n",
       "      <th>Region</th>\n",
       "      <th>Return type group</th>\n",
       "      <th>Return type</th>\n",
       "      <th>Age</th>\n",
       "      <th>Sex</th>\n",
       "      <th>Return destination group</th>\n",
       "      <th>Number of returns</th>\n",
       "      <th>Visa type group</th>\n",
       "      <th>Visa type</th>\n",
       "      <th>Visa type subgroup</th>\n",
       "      <th>Applicant type</th>\n",
       "      <th>Applications</th>\n",
       "      <th>Case outcome</th>\n",
       "      <th>Decisions</th>\n",
       "      <th>Case type</th>\n",
       "      <th>Case outcome group</th>\n",
       "      <th>UASC</th>\n",
       "      <th>Application type</th>\n",
       "      <th>Grants</th>\n",
       "      <th>Occupation</th>\n",
       "      <th>Industry</th>\n",
       "      <th>SOC code</th>\n",
       "      <th>Occ. major group</th>\n",
       "      <th>Occ. sub-major group</th>\n",
       "      <th>Occ. minor group</th>\n",
       "      <th>Occ. unit group</th>\n",
       "      <th>Category of leave group</th>\n",
       "      <th>Category of leave</th>\n",
       "      <th>Category of leave subgroup</th>\n",
       "      <th>Current category of leave group</th>\n",
       "      <th>Current category of leave</th>\n",
       "      <th>Previous category of leave group</th>\n",
       "      <th>Previous category of leave</th>\n",
       "      <th>Outcome</th>\n",
       "      <th>Appeals determined</th>\n",
       "      <th>Date</th>\n",
       "      <th>Application stage</th>\n",
       "      <th>Duration</th>\n",
       "      <th>Type of application</th>\n",
       "      <th>Geographical region</th>\n",
       "      <th>Location</th>\n",
       "      <th>Number of passengers refused entry at the border</th>\n",
       "      <th>General_Region</th>\n",
       "      <th>Total Application and Decisions</th>\n",
       "    </tr>\n",
       "  </thead>\n",
       "  <tbody>\n",
       "    <tr>\n",
       "      <th>986268</th>\n",
       "      <td>2021</td>\n",
       "      <td>2</td>\n",
       "      <td>NaN</td>\n",
       "      <td>NaN</td>\n",
       "      <td>NaN</td>\n",
       "      <td>NaN</td>\n",
       "      <td>Unknown</td>\n",
       "      <td>3</td>\n",
       "      <td>NaN</td>\n",
       "      <td>NaN</td>\n",
       "      <td>NaN</td>\n",
       "      <td>NaN</td>\n",
       "      <td>NaN</td>\n",
       "      <td>NaN</td>\n",
       "      <td>10.0</td>\n",
       "      <td>NaN</td>\n",
       "      <td>10.0</td>\n",
       "      <td>NaN</td>\n",
       "      <td>NaN</td>\n",
       "      <td>NaN</td>\n",
       "      <td>NaN</td>\n",
       "      <td>0.0</td>\n",
       "      <td>Non-Work Visa Related Case Outcome</td>\n",
       "      <td>Non-Work Visa Related Case Outcome</td>\n",
       "      <td>NaN</td>\n",
       "      <td>Non-Work Visa Related Case Outcome</td>\n",
       "      <td>Non-Work Visa Related Case Outcome</td>\n",
       "      <td>Non-Work Visa Related Case Outcome</td>\n",
       "      <td>Non-Work Visa Related Case Outcome</td>\n",
       "      <td>NaN</td>\n",
       "      <td>Worker (Previously Tier 2)</td>\n",
       "      <td>NaN</td>\n",
       "      <td>NaN</td>\n",
       "      <td>NaN</td>\n",
       "      <td>NaN</td>\n",
       "      <td>NaN</td>\n",
       "      <td>NaN</td>\n",
       "      <td>NaN</td>\n",
       "      <td>NaN</td>\n",
       "      <td>NaN</td>\n",
       "      <td>NaN</td>\n",
       "      <td>Extensions of stay</td>\n",
       "      <td>NaN</td>\n",
       "      <td>NaN</td>\n",
       "      <td>NaN</td>\n",
       "      <td>NaN</td>\n",
       "      <td>10.0</td>\n",
       "    </tr>\n",
       "    <tr>\n",
       "      <th>1176956</th>\n",
       "      <td>2022</td>\n",
       "      <td>4</td>\n",
       "      <td>NaN</td>\n",
       "      <td>NaN</td>\n",
       "      <td>NaN</td>\n",
       "      <td>NaN</td>\n",
       "      <td>Unknown</td>\n",
       "      <td>3</td>\n",
       "      <td>NaN</td>\n",
       "      <td>NaN</td>\n",
       "      <td>NaN</td>\n",
       "      <td>NaN</td>\n",
       "      <td>NaN</td>\n",
       "      <td>NaN</td>\n",
       "      <td>6.0</td>\n",
       "      <td>NaN</td>\n",
       "      <td>6.0</td>\n",
       "      <td>NaN</td>\n",
       "      <td>NaN</td>\n",
       "      <td>NaN</td>\n",
       "      <td>NaN</td>\n",
       "      <td>0.0</td>\n",
       "      <td>Non-Work Visa Related Case Outcome</td>\n",
       "      <td>Non-Work Visa Related Case Outcome</td>\n",
       "      <td>NaN</td>\n",
       "      <td>Non-Work Visa Related Case Outcome</td>\n",
       "      <td>Non-Work Visa Related Case Outcome</td>\n",
       "      <td>Non-Work Visa Related Case Outcome</td>\n",
       "      <td>Non-Work Visa Related Case Outcome</td>\n",
       "      <td>NaN</td>\n",
       "      <td>Temporary Worker (Previously Tier 5)</td>\n",
       "      <td>NaN</td>\n",
       "      <td>NaN</td>\n",
       "      <td>NaN</td>\n",
       "      <td>NaN</td>\n",
       "      <td>NaN</td>\n",
       "      <td>NaN</td>\n",
       "      <td>NaN</td>\n",
       "      <td>NaN</td>\n",
       "      <td>NaN</td>\n",
       "      <td>NaN</td>\n",
       "      <td>Visa</td>\n",
       "      <td>NaN</td>\n",
       "      <td>NaN</td>\n",
       "      <td>NaN</td>\n",
       "      <td>NaN</td>\n",
       "      <td>6.0</td>\n",
       "    </tr>\n",
       "    <tr>\n",
       "      <th>852402</th>\n",
       "      <td>2019</td>\n",
       "      <td>1</td>\n",
       "      <td>NaN</td>\n",
       "      <td>NaN</td>\n",
       "      <td>NaN</td>\n",
       "      <td>NaN</td>\n",
       "      <td>Unknown</td>\n",
       "      <td>3</td>\n",
       "      <td>NaN</td>\n",
       "      <td>NaN</td>\n",
       "      <td>NaN</td>\n",
       "      <td>NaN</td>\n",
       "      <td>NaN</td>\n",
       "      <td>NaN</td>\n",
       "      <td>16.0</td>\n",
       "      <td>NaN</td>\n",
       "      <td>16.0</td>\n",
       "      <td>NaN</td>\n",
       "      <td>NaN</td>\n",
       "      <td>NaN</td>\n",
       "      <td>NaN</td>\n",
       "      <td>0.0</td>\n",
       "      <td>Non-Work Visa Related Case Outcome</td>\n",
       "      <td>Non-Work Visa Related Case Outcome</td>\n",
       "      <td>NaN</td>\n",
       "      <td>Non-Work Visa Related Case Outcome</td>\n",
       "      <td>Non-Work Visa Related Case Outcome</td>\n",
       "      <td>Non-Work Visa Related Case Outcome</td>\n",
       "      <td>Non-Work Visa Related Case Outcome</td>\n",
       "      <td>NaN</td>\n",
       "      <td>Temporary Worker (Previously Tier 5)</td>\n",
       "      <td>NaN</td>\n",
       "      <td>NaN</td>\n",
       "      <td>NaN</td>\n",
       "      <td>NaN</td>\n",
       "      <td>NaN</td>\n",
       "      <td>NaN</td>\n",
       "      <td>NaN</td>\n",
       "      <td>NaN</td>\n",
       "      <td>NaN</td>\n",
       "      <td>NaN</td>\n",
       "      <td>Extensions of stay</td>\n",
       "      <td>NaN</td>\n",
       "      <td>NaN</td>\n",
       "      <td>NaN</td>\n",
       "      <td>NaN</td>\n",
       "      <td>16.0</td>\n",
       "    </tr>\n",
       "    <tr>\n",
       "      <th>852385</th>\n",
       "      <td>2019</td>\n",
       "      <td>1</td>\n",
       "      <td>NaN</td>\n",
       "      <td>NaN</td>\n",
       "      <td>NaN</td>\n",
       "      <td>NaN</td>\n",
       "      <td>Unknown</td>\n",
       "      <td>3</td>\n",
       "      <td>NaN</td>\n",
       "      <td>NaN</td>\n",
       "      <td>NaN</td>\n",
       "      <td>NaN</td>\n",
       "      <td>NaN</td>\n",
       "      <td>NaN</td>\n",
       "      <td>2549.0</td>\n",
       "      <td>NaN</td>\n",
       "      <td>2549.0</td>\n",
       "      <td>NaN</td>\n",
       "      <td>NaN</td>\n",
       "      <td>NaN</td>\n",
       "      <td>NaN</td>\n",
       "      <td>0.0</td>\n",
       "      <td>Non-Work Visa Related Case Outcome</td>\n",
       "      <td>Non-Work Visa Related Case Outcome</td>\n",
       "      <td>NaN</td>\n",
       "      <td>Non-Work Visa Related Case Outcome</td>\n",
       "      <td>Non-Work Visa Related Case Outcome</td>\n",
       "      <td>Non-Work Visa Related Case Outcome</td>\n",
       "      <td>Non-Work Visa Related Case Outcome</td>\n",
       "      <td>NaN</td>\n",
       "      <td>Worker (Previously Tier 2)</td>\n",
       "      <td>NaN</td>\n",
       "      <td>NaN</td>\n",
       "      <td>NaN</td>\n",
       "      <td>NaN</td>\n",
       "      <td>NaN</td>\n",
       "      <td>NaN</td>\n",
       "      <td>NaN</td>\n",
       "      <td>NaN</td>\n",
       "      <td>NaN</td>\n",
       "      <td>NaN</td>\n",
       "      <td>Extensions of stay</td>\n",
       "      <td>NaN</td>\n",
       "      <td>NaN</td>\n",
       "      <td>NaN</td>\n",
       "      <td>NaN</td>\n",
       "      <td>2549.0</td>\n",
       "    </tr>\n",
       "    <tr>\n",
       "      <th>488340</th>\n",
       "      <td>2013</td>\n",
       "      <td>1</td>\n",
       "      <td>NaN</td>\n",
       "      <td>NaN</td>\n",
       "      <td>NaN</td>\n",
       "      <td>NaN</td>\n",
       "      <td>Unknown</td>\n",
       "      <td>3</td>\n",
       "      <td>NaN</td>\n",
       "      <td>NaN</td>\n",
       "      <td>NaN</td>\n",
       "      <td>NaN</td>\n",
       "      <td>NaN</td>\n",
       "      <td>NaN</td>\n",
       "      <td>8.0</td>\n",
       "      <td>NaN</td>\n",
       "      <td>8.0</td>\n",
       "      <td>NaN</td>\n",
       "      <td>NaN</td>\n",
       "      <td>NaN</td>\n",
       "      <td>NaN</td>\n",
       "      <td>0.0</td>\n",
       "      <td>Non-Work Visa Related Case Outcome</td>\n",
       "      <td>Non-Work Visa Related Case Outcome</td>\n",
       "      <td>NaN</td>\n",
       "      <td>Non-Work Visa Related Case Outcome</td>\n",
       "      <td>Non-Work Visa Related Case Outcome</td>\n",
       "      <td>Non-Work Visa Related Case Outcome</td>\n",
       "      <td>Non-Work Visa Related Case Outcome</td>\n",
       "      <td>NaN</td>\n",
       "      <td>Temporary Worker (Previously Tier 5)</td>\n",
       "      <td>NaN</td>\n",
       "      <td>NaN</td>\n",
       "      <td>NaN</td>\n",
       "      <td>NaN</td>\n",
       "      <td>NaN</td>\n",
       "      <td>NaN</td>\n",
       "      <td>NaN</td>\n",
       "      <td>NaN</td>\n",
       "      <td>NaN</td>\n",
       "      <td>NaN</td>\n",
       "      <td>Extensions of stay</td>\n",
       "      <td>NaN</td>\n",
       "      <td>NaN</td>\n",
       "      <td>NaN</td>\n",
       "      <td>NaN</td>\n",
       "      <td>8.0</td>\n",
       "    </tr>\n",
       "  </tbody>\n",
       "</table>\n",
       "</div>"
      ],
      "text/plain": [
       "         Year  Quarter Nationality Region Return type group Return type  \\\n",
       "986268   2021        2         NaN    NaN               NaN         NaN   \n",
       "1176956  2022        4         NaN    NaN               NaN         NaN   \n",
       "852402   2019        1         NaN    NaN               NaN         NaN   \n",
       "852385   2019        1         NaN    NaN               NaN         NaN   \n",
       "488340   2013        1         NaN    NaN               NaN         NaN   \n",
       "\n",
       "             Age  Sex Return destination group  Number of returns  \\\n",
       "986268   Unknown    3                      NaN                NaN   \n",
       "1176956  Unknown    3                      NaN                NaN   \n",
       "852402   Unknown    3                      NaN                NaN   \n",
       "852385   Unknown    3                      NaN                NaN   \n",
       "488340   Unknown    3                      NaN                NaN   \n",
       "\n",
       "        Visa type group Visa type Visa type subgroup Applicant type  \\\n",
       "986268              NaN       NaN                NaN            NaN   \n",
       "1176956             NaN       NaN                NaN            NaN   \n",
       "852402              NaN       NaN                NaN            NaN   \n",
       "852385              NaN       NaN                NaN            NaN   \n",
       "488340              NaN       NaN                NaN            NaN   \n",
       "\n",
       "         Applications Case outcome  Decisions Case type Case outcome group  \\\n",
       "986268           10.0          NaN       10.0       NaN                NaN   \n",
       "1176956           6.0          NaN        6.0       NaN                NaN   \n",
       "852402           16.0          NaN       16.0       NaN                NaN   \n",
       "852385         2549.0          NaN     2549.0       NaN                NaN   \n",
       "488340            8.0          NaN        8.0       NaN                NaN   \n",
       "\n",
       "        UASC Application type  Grants                          Occupation  \\\n",
       "986268   NaN              NaN     0.0  Non-Work Visa Related Case Outcome   \n",
       "1176956  NaN              NaN     0.0  Non-Work Visa Related Case Outcome   \n",
       "852402   NaN              NaN     0.0  Non-Work Visa Related Case Outcome   \n",
       "852385   NaN              NaN     0.0  Non-Work Visa Related Case Outcome   \n",
       "488340   NaN              NaN     0.0  Non-Work Visa Related Case Outcome   \n",
       "\n",
       "                                   Industry  SOC code  \\\n",
       "986268   Non-Work Visa Related Case Outcome       NaN   \n",
       "1176956  Non-Work Visa Related Case Outcome       NaN   \n",
       "852402   Non-Work Visa Related Case Outcome       NaN   \n",
       "852385   Non-Work Visa Related Case Outcome       NaN   \n",
       "488340   Non-Work Visa Related Case Outcome       NaN   \n",
       "\n",
       "                           Occ. major group  \\\n",
       "986268   Non-Work Visa Related Case Outcome   \n",
       "1176956  Non-Work Visa Related Case Outcome   \n",
       "852402   Non-Work Visa Related Case Outcome   \n",
       "852385   Non-Work Visa Related Case Outcome   \n",
       "488340   Non-Work Visa Related Case Outcome   \n",
       "\n",
       "                       Occ. sub-major group  \\\n",
       "986268   Non-Work Visa Related Case Outcome   \n",
       "1176956  Non-Work Visa Related Case Outcome   \n",
       "852402   Non-Work Visa Related Case Outcome   \n",
       "852385   Non-Work Visa Related Case Outcome   \n",
       "488340   Non-Work Visa Related Case Outcome   \n",
       "\n",
       "                           Occ. minor group  \\\n",
       "986268   Non-Work Visa Related Case Outcome   \n",
       "1176956  Non-Work Visa Related Case Outcome   \n",
       "852402   Non-Work Visa Related Case Outcome   \n",
       "852385   Non-Work Visa Related Case Outcome   \n",
       "488340   Non-Work Visa Related Case Outcome   \n",
       "\n",
       "                            Occ. unit group  Category of leave group  \\\n",
       "986268   Non-Work Visa Related Case Outcome                      NaN   \n",
       "1176956  Non-Work Visa Related Case Outcome                      NaN   \n",
       "852402   Non-Work Visa Related Case Outcome                      NaN   \n",
       "852385   Non-Work Visa Related Case Outcome                      NaN   \n",
       "488340   Non-Work Visa Related Case Outcome                      NaN   \n",
       "\n",
       "                            Category of leave  Category of leave subgroup  \\\n",
       "986268             Worker (Previously Tier 2)                         NaN   \n",
       "1176956  Temporary Worker (Previously Tier 5)                         NaN   \n",
       "852402   Temporary Worker (Previously Tier 5)                         NaN   \n",
       "852385             Worker (Previously Tier 2)                         NaN   \n",
       "488340   Temporary Worker (Previously Tier 5)                         NaN   \n",
       "\n",
       "         Current category of leave group  Current category of leave  \\\n",
       "986268                               NaN                        NaN   \n",
       "1176956                              NaN                        NaN   \n",
       "852402                               NaN                        NaN   \n",
       "852385                               NaN                        NaN   \n",
       "488340                               NaN                        NaN   \n",
       "\n",
       "         Previous category of leave group  Previous category of leave Outcome  \\\n",
       "986268                                NaN                         NaN     NaN   \n",
       "1176956                               NaN                         NaN     NaN   \n",
       "852402                                NaN                         NaN     NaN   \n",
       "852385                                NaN                         NaN     NaN   \n",
       "488340                                NaN                         NaN     NaN   \n",
       "\n",
       "         Appeals determined  Date  Application stage  Duration  \\\n",
       "986268                  NaN   NaN                NaN       NaN   \n",
       "1176956                 NaN   NaN                NaN       NaN   \n",
       "852402                  NaN   NaN                NaN       NaN   \n",
       "852385                  NaN   NaN                NaN       NaN   \n",
       "488340                  NaN   NaN                NaN       NaN   \n",
       "\n",
       "        Type of application Geographical region Location  \\\n",
       "986268   Extensions of stay                 NaN      NaN   \n",
       "1176956                Visa                 NaN      NaN   \n",
       "852402   Extensions of stay                 NaN      NaN   \n",
       "852385   Extensions of stay                 NaN      NaN   \n",
       "488340   Extensions of stay                 NaN      NaN   \n",
       "\n",
       "         Number of passengers refused entry at the border General_Region  \\\n",
       "986268                                                NaN            NaN   \n",
       "1176956                                               NaN            NaN   \n",
       "852402                                                NaN            NaN   \n",
       "852385                                                NaN            NaN   \n",
       "488340                                                NaN            NaN   \n",
       "\n",
       "         Total Application and Decisions  \n",
       "986268                              10.0  \n",
       "1176956                              6.0  \n",
       "852402                              16.0  \n",
       "852385                            2549.0  \n",
       "488340                               8.0  "
      ]
     },
     "execution_count": 67,
     "metadata": {},
     "output_type": "execute_result"
    }
   ],
   "source": [
    "# Filter the DataFrame for rows where both 'Nationality' and 'Region' are NA\n",
    "na_nationality_region_df = df_combined[df_combined['Nationality'].isna() & df_combined['Region'].isna()]\n",
    "\n",
    "na_nationality_region_df.sample(5)\n"
   ]
  },
  {
   "cell_type": "code",
   "execution_count": null,
   "id": "424fa304-5529-448c-8cce-c6fef7868645",
   "metadata": {},
   "outputs": [],
   "source": []
  },
  {
   "cell_type": "code",
   "execution_count": 68,
   "id": "c55728f2-eb40-40fc-976e-af3d49a7f58b",
   "metadata": {},
   "outputs": [
    {
     "name": "stdout",
     "output_type": "stream",
     "text": [
      "Number of 'Case outcome' rows updated to 'Issued': 203776\n"
     ]
    }
   ],
   "source": [
    "# Condition where 'Nationality' is not NA\n",
    "condition_nationality_not_na = clean_df['Nationality'].notna()\n",
    "\n",
    "# Condition where 'Total Application and Decisions' is greater than 1\n",
    "condition_total_app_dec_gt_1 = clean_df['Total Application and Decisions'] > 1\n",
    "\n",
    "# Combined condition for both criteria being true\n",
    "combined_condition = condition_nationality_not_na & condition_total_app_dec_gt_1\n",
    "\n",
    "# Capture the count of 'Case outcome' as \"Issued\" before the update for accuracy\n",
    "before_update_count = (clean_df['Case outcome'] == \"Issued\").sum()\n",
    "\n",
    "# Update 'Case outcome' to \"Issued\" where the combined condition is met\n",
    "clean_df.loc[combined_condition, 'Case outcome'] = \"Issued\"\n",
    "\n",
    "# Capture the count of 'Case outcome' as \"Issued\" after the update\n",
    "after_update_count = (clean_df['Case outcome'] == \"Issued\").sum()\n",
    "\n",
    "# Calculate the number of rows updated\n",
    "updated_rows = after_update_count - before_update_count\n",
    "\n",
    "print(f\"Number of 'Case outcome' rows updated to 'Issued': {updated_rows}\")\n"
   ]
  },
  {
   "cell_type": "code",
   "execution_count": null,
   "id": "1ad900f0-15a1-42bd-b0bf-44ff47378f58",
   "metadata": {},
   "outputs": [],
   "source": []
  },
  {
   "cell_type": "code",
   "execution_count": null,
   "id": "54a9b3b6-3cda-45be-aa05-51a9a7f87592",
   "metadata": {},
   "outputs": [],
   "source": []
  },
  {
   "cell_type": "code",
   "execution_count": null,
   "id": "c2784c80-6911-4cbb-bb23-c0529021857a",
   "metadata": {},
   "outputs": [],
   "source": []
  },
  {
   "cell_type": "code",
   "execution_count": 84,
   "id": "0c239f65-61ac-4f5b-834f-dd38637d9f2f",
   "metadata": {},
   "outputs": [
    {
     "data": {
      "text/plain": [
       "Year                                0.000000\n",
       "Quarter                             0.000000\n",
       "Nationality                         0.274851\n",
       "Region                              0.274851\n",
       "Return type group                  81.114334\n",
       "Return type                        81.114334\n",
       "Age                                 0.000000\n",
       "Sex                                 0.000000\n",
       "Return destination group           81.114334\n",
       "Number of returns                  81.114334\n",
       "Visa type group                     0.000000\n",
       "Visa type                          36.355733\n",
       "Visa type subgroup                  0.000000\n",
       "Applicant type                     48.380064\n",
       "Applications                        0.000000\n",
       "Case outcome                        2.648750\n",
       "Decisions                           0.000000\n",
       "UASC                                6.997358\n",
       "Grants                              0.000000\n",
       "Occupation                          0.000000\n",
       "Industry                            0.000000\n",
       "Occ. major group                    0.000000\n",
       "Occ. sub-major group                0.000000\n",
       "Occ. minor group                    0.000000\n",
       "Occ. unit group                     0.000000\n",
       "General_Region                      0.274851\n",
       "Total Application and Decisions     0.000000\n",
       "dtype: float64"
      ]
     },
     "execution_count": 84,
     "metadata": {},
     "output_type": "execute_result"
    }
   ],
   "source": [
    "clean_df.isna().sum()/df_combined.shape[0]*100"
   ]
  },
  {
   "cell_type": "code",
   "execution_count": null,
   "id": "31f296d3-e307-4e0f-bc2f-3a677da19c55",
   "metadata": {},
   "outputs": [],
   "source": []
  },
  {
   "cell_type": "code",
   "execution_count": 72,
   "id": "94a33e4f-bab2-4c6a-904f-ec173441f007",
   "metadata": {},
   "outputs": [
    {
     "data": {
      "text/plain": [
       "Visa type\n",
       "Worker                                       304886\n",
       "Family                                        76934\n",
       "Asylum Case                                   74966\n",
       "Other work visas and exemptions               57272\n",
       "Sponsored study                               52060\n",
       "Other temporary visas                         45047\n",
       "Visitor                                       44772\n",
       "Other study                                   43483\n",
       "Investor, business development and talent     37023\n",
       "Dep. joining or accompanying                  29916\n",
       "EEA Family Permit                             25267\n",
       "Other settlement visas                        18789\n",
       "EU Settlement Scheme permits                   8555\n",
       "Ukraine Visa Schemes                           2090\n",
       "BN(O) route                                    1089\n",
       "Name: count, dtype: int64"
      ]
     },
     "execution_count": 72,
     "metadata": {},
     "output_type": "execute_result"
    }
   ],
   "source": [
    "clean_df['Visa type'].value_counts()"
   ]
  },
  {
   "cell_type": "code",
   "execution_count": 73,
   "id": "7fb35b0c-bec2-45ba-86e4-70002fa38ccc",
   "metadata": {},
   "outputs": [
    {
     "data": {
      "text/plain": [
       "Case outcome\n",
       "Issued                 995753\n",
       "Sponsored Work Visa    154795\n",
       "Refused                 81727\n",
       "Asylum Case             33205\n",
       "Resettlement Case         984\n",
       "Name: count, dtype: int64"
      ]
     },
     "execution_count": 73,
     "metadata": {},
     "output_type": "execute_result"
    }
   ],
   "source": [
    "clean_df['Case outcome'].value_counts()"
   ]
  },
  {
   "cell_type": "code",
   "execution_count": 74,
   "id": "7a9a0423-685b-4fca-9cc9-4a8fde3b87af",
   "metadata": {},
   "outputs": [
    {
     "data": {
      "text/plain": [
       "Visa type\n",
       "Worker                                       304886\n",
       "Family                                        76934\n",
       "Asylum Case                                   74966\n",
       "Other work visas and exemptions               57272\n",
       "Sponsored study                               52060\n",
       "Other temporary visas                         45047\n",
       "Visitor                                       44772\n",
       "Other study                                   43483\n",
       "Investor, business development and talent     37023\n",
       "Dep. joining or accompanying                  29916\n",
       "EEA Family Permit                             25267\n",
       "Other settlement visas                        18789\n",
       "EU Settlement Scheme permits                   8555\n",
       "Ukraine Visa Schemes                           2090\n",
       "BN(O) route                                    1089\n",
       "Name: count, dtype: int64"
      ]
     },
     "execution_count": 74,
     "metadata": {},
     "output_type": "execute_result"
    }
   ],
   "source": [
    "clean_df['Visa type'].value_counts()"
   ]
  },
  {
   "cell_type": "code",
   "execution_count": 75,
   "id": "33f22213-635b-4838-9438-a3738e06bb3c",
   "metadata": {},
   "outputs": [
    {
     "data": {
      "text/plain": [
       "Visa type subgroup\n",
       "Skilled Worker                                  121966\n",
       "Asylum Case                                      74966\n",
       "Visitor                                          44772\n",
       "Tier 4 - General Student                         30864\n",
       "Family: Partner                                  29364\n",
       "                                                 ...  \n",
       "ECAA Businessperson                                474\n",
       "Secondment Worker (Global Business Mobility)       155\n",
       "Scale-up Worker                                    150\n",
       "Service Supplier (Global Business Mobility)         92\n",
       "Tier 1 - Other                                      71\n",
       "Name: count, Length: 77, dtype: int64"
      ]
     },
     "execution_count": 75,
     "metadata": {},
     "output_type": "execute_result"
    }
   ],
   "source": [
    "clean_df['Visa type subgroup'].value_counts()"
   ]
  },
  {
   "cell_type": "code",
   "execution_count": 76,
   "id": "f99486f3-5a3a-4c30-ac9f-8677135ba366",
   "metadata": {},
   "outputs": [
    {
     "data": {
      "text/plain": [
       "Occ. major group\n",
       "Non-Work Visa Related Case Outcome                  1112638\n",
       "professional occupations                              93598\n",
       "associate professional and technical occupations      47471\n",
       "managers, directors and senior officials              24219\n",
       "skilled trades occupations                             9756\n",
       "caring, leisure and other service occupations          6657\n",
       "administrative and secretarial occupations             3696\n",
       "elementary occupations                                 1582\n",
       "sales and customer service occupations                 1303\n",
       "process, plant and machine operatives                   443\n",
       "personal service occupations                             10\n",
       "managers and senior officials                             6\n",
       "Name: count, dtype: int64"
      ]
     },
     "execution_count": 76,
     "metadata": {},
     "output_type": "execute_result"
    }
   ],
   "source": [
    "clean_df['Occ. major group'].value_counts()"
   ]
  },
  {
   "cell_type": "code",
   "execution_count": 77,
   "id": "d95c2e8b-57ce-4934-a1aa-332ed7b2a97b",
   "metadata": {},
   "outputs": [
    {
     "data": {
      "text/plain": [
       "Occ. sub-major group\n",
       "Non-Work Visa Related Case Outcome                             1112638\n",
       "science, research, engineering and technology professionals      45497\n",
       "business, media and public service professionals                 32776\n",
       "business and public service associate professionals              28447\n",
       "corporate managers and directors                                 21435\n",
       "culture, media and sports occupations                            12095\n",
       "health professionals                                             11615\n",
       "caring personal service occupations                               5874\n",
       "textiles, printing and other skilled trades                       4216\n",
       "science, engineering and technology associate professionals       3829\n",
       "teaching and educational professionals                            3702\n",
       "health and social care associate professionals                    2954\n",
       "other managers and proprietors                                    2784\n",
       "administrative occupations                                        2755\n",
       "skilled metal, electrical and electronic trades                   2732\n",
       "skilled construction and building trades                          1480\n",
       "skilled agricultural and related trades                           1328\n",
       "secretarial and related occupations                                941\n",
       "elementary administration and service occupations                  927\n",
       "customer service occupations                                       897\n",
       "leisure, travel and related personal service occupations           793\n",
       "elementary trades and related occupations                          655\n",
       "sales occupations                                                  406\n",
       "transport and mobile machine drivers and operatives                295\n",
       "process, plant and machine operatives                              148\n",
       "protective service occupations                                     144\n",
       "business and public service professionals                            8\n",
       "corporate managers                                                   6\n",
       "health and social welfare associate professionals                    2\n",
       "Name: count, dtype: int64"
      ]
     },
     "execution_count": 77,
     "metadata": {},
     "output_type": "execute_result"
    }
   ],
   "source": [
    "clean_df['Occ. sub-major group'].value_counts()"
   ]
  },
  {
   "cell_type": "code",
   "execution_count": 78,
   "id": "33c51cce-ab9b-4d8b-b301-2d8e711e9c4f",
   "metadata": {},
   "outputs": [
    {
     "data": {
      "text/plain": [
       "Occ. minor group\n",
       "Non-Work Visa Related Case Outcome                             1112638\n",
       "information technology and telecommunications professionals      20019\n",
       "business, research and administrative professionals              17506\n",
       "engineering professionals                                        15321\n",
       "sales, marketing and related associate professionals             13229\n",
       "                                                                ...   \n",
       "conservation associate professionals                                 2\n",
       "therapists                                                           2\n",
       "protective service officers                                          2\n",
       "business and statistical professionals                               2\n",
       "elementary sales occupations                                         1\n",
       "Name: count, Length: 98, dtype: int64"
      ]
     },
     "execution_count": 78,
     "metadata": {},
     "output_type": "execute_result"
    }
   ],
   "source": [
    "clean_df['Occ. minor group'].value_counts()"
   ]
  },
  {
   "cell_type": "code",
   "execution_count": null,
   "id": "b9d5fed8-9f7a-4f6d-8720-eda980c91a14",
   "metadata": {},
   "outputs": [],
   "source": []
  },
  {
   "cell_type": "code",
   "execution_count": 79,
   "id": "30706a94-b712-4e4c-914c-71b6f0d8ccf0",
   "metadata": {},
   "outputs": [
    {
     "data": {
      "text/plain": [
       "Occ. unit group\n",
       "Non-Work Visa Related Case Outcome                    1112638\n",
       "programmers and software development professionals       8416\n",
       "management consultants and business analysts             7535\n",
       "sales accounts and business development managers         6202\n",
       "finance and investment analysts and advisers             4837\n",
       "                                                       ...   \n",
       "sports and fitness occupations n.e.c.                       2\n",
       "conservation and environmental protection officers          2\n",
       "rail travel assistants                                      2\n",
       "window cleaners                                             1\n",
       "elementary sales occupations n.e.c.                         1\n",
       "Name: count, Length: 321, dtype: int64"
      ]
     },
     "execution_count": 79,
     "metadata": {},
     "output_type": "execute_result"
    }
   ],
   "source": [
    "clean_df['Occ. unit group'].value_counts()"
   ]
  },
  {
   "cell_type": "code",
   "execution_count": null,
   "id": "53692c0a-1b63-47dd-85f8-0e8a42a82403",
   "metadata": {},
   "outputs": [],
   "source": []
  },
  {
   "cell_type": "code",
   "execution_count": 80,
   "id": "219d9514-f1e7-4c35-a423-f63ca898d8f8",
   "metadata": {},
   "outputs": [
    {
     "name": "stdout",
     "output_type": "stream",
     "text": [
      "Rows with a non-NA 'Visa type subgroup' after update: 1301379\n"
     ]
    }
   ],
   "source": [
    "# Condition where 'Visa type subgroup' is NA\n",
    "condition_visa_type_subgroup_na = clean_df['Visa type subgroup'].isna()\n",
    "\n",
    "# Assuming \"Occ.\" refers to either \"Occ. minor group\" or \"Occ. major group\", \n",
    "# and you want to fill in with \"Occ. minor group\" as an example:\n",
    "# Update 'Visa type subgroup' with values from 'Occ. minor group' where 'Visa type subgroup' is NA\n",
    "clean_df.loc[condition_visa_type_subgroup_na, 'Visa type subgroup'] = clean_df.loc[condition_visa_type_subgroup_na, 'Occ. minor group']\n",
    "\n",
    "# To verify the update, check how many rows now have a non-NA 'Visa type subgroup'\n",
    "updated_rows_count = clean_df['Visa type subgroup'].notna().sum()\n",
    "print(f\"Rows with a NA 'Visa type subgroup' after update: {updated_rows_count}\")\n"
   ]
  },
  {
   "cell_type": "code",
   "execution_count": null,
   "id": "4cf69343-20fd-46d2-a67c-09251881858c",
   "metadata": {},
   "outputs": [],
   "source": []
  },
  {
   "cell_type": "code",
   "execution_count": 81,
   "id": "aa9da7f9-afff-4640-ad42-e4b1eb10da34",
   "metadata": {},
   "outputs": [
    {
     "data": {
      "text/plain": [
       "Visa type subgroup\n",
       "Non-Work Visa Related Case Outcome              479230\n",
       "Skilled Worker                                  121966\n",
       "Asylum Case                                      74966\n",
       "Visitor                                          44772\n",
       "Tier 4 - General Student                         30864\n",
       "                                                 ...  \n",
       "ECAA Businessperson                                474\n",
       "Secondment Worker (Global Business Mobility)       155\n",
       "Scale-up Worker                                    150\n",
       "Service Supplier (Global Business Mobility)         92\n",
       "Tier 1 - Other                                      71\n",
       "Name: count, Length: 78, dtype: int64"
      ]
     },
     "execution_count": 81,
     "metadata": {},
     "output_type": "execute_result"
    }
   ],
   "source": [
    "clean_df['Visa type subgroup'].value_counts()"
   ]
  },
  {
   "cell_type": "code",
   "execution_count": null,
   "id": "73ea1071-0b7a-4154-99d2-bb39db061295",
   "metadata": {},
   "outputs": [],
   "source": []
  },
  {
   "cell_type": "code",
   "execution_count": 82,
   "id": "fda27dc8-d0f6-47aa-bd7a-1edcd2335c7c",
   "metadata": {},
   "outputs": [
    {
     "name": "stdout",
     "output_type": "stream",
     "text": [
      "Rows with a non-NA 'Visa type group' after update: 1301379\n"
     ]
    }
   ],
   "source": [
    "# Condition where 'Visa type group' is NA\n",
    "condition_visa_type_group_na = clean_df['Visa type group'].isna()\n",
    "\n",
    "# Assuming we're updating 'Visa type group' with 'Occ. major group' values\n",
    "# Update 'Visa type group' with values from 'Occ. major group' where 'Visa type group' is NA\n",
    "clean_df.loc[condition_visa_type_group_na, 'Visa type group'] = clean_df.loc[condition_visa_type_group_na, 'Occ. major group']\n",
    "\n",
    "# To verify the update, let's check how many rows now have a non-NA 'Visa type group'\n",
    "updated_rows_count = clean_df['Visa type group'].notna().sum()\n",
    "print(f\"Rows with a NA 'Visa type group' after update: {updated_rows_count}\")\n"
   ]
  },
  {
   "cell_type": "code",
   "execution_count": null,
   "id": "f2492100-33ac-48df-a2e2-53938bd3627c",
   "metadata": {},
   "outputs": [],
   "source": []
  },
  {
   "cell_type": "code",
   "execution_count": 83,
   "id": "626f1055-5b68-429d-9c20-8d3e97ace123",
   "metadata": {},
   "outputs": [
    {
     "data": {
      "text/plain": [
       "Visa type group\n",
       "Non-Work Visa Related Case Outcome    477537\n",
       "Work                                  399181\n",
       "Other                                 102530\n",
       "Study                                  95543\n",
       "Family                                 76934\n",
       "Asylum Case                            74966\n",
       "Visitor                                44772\n",
       "Dep. joining or accompanying           29916\n",
       "Name: count, dtype: int64"
      ]
     },
     "execution_count": 83,
     "metadata": {},
     "output_type": "execute_result"
    }
   ],
   "source": [
    "clean_df['Visa type group'].value_counts()"
   ]
  },
  {
   "cell_type": "code",
   "execution_count": null,
   "id": "9adff468-e57f-4269-8cfa-5f1697d50047",
   "metadata": {},
   "outputs": [],
   "source": []
  },
  {
   "cell_type": "code",
   "execution_count": 85,
   "id": "da4421f4-5c48-4406-8810-f872e5962572",
   "metadata": {},
   "outputs": [
    {
     "name": "stdout",
     "output_type": "stream",
     "text": [
      "Rows with a non-NA 'Visa type' after update: 1301379\n"
     ]
    }
   ],
   "source": [
    "# Condition where 'Visa type' is NA\n",
    "condition_visa_type_na = clean_df['Visa type'].isna()\n",
    "\n",
    "# Update 'Visa type' with values from 'Occ. major group' where 'Visa type' is NA\n",
    "clean_df.loc[condition_visa_type_na, 'Visa type'] = clean_df.loc[condition_visa_type_na, 'Occ. major group']\n",
    "\n",
    "# To verify the update, let's check how many rows now have a non-NA 'Visa type'\n",
    "updated_rows_count = clean_df['Visa type'].notna().sum()\n",
    "print(f\"Rows with a non-NA 'Visa type' after update: {updated_rows_count}\")\n"
   ]
  },
  {
   "cell_type": "code",
   "execution_count": 86,
   "id": "84125fb9-dc20-47b9-8546-d6ac61574adb",
   "metadata": {},
   "outputs": [
    {
     "data": {
      "text/plain": [
       "Year                                0.000000\n",
       "Quarter                             0.000000\n",
       "Nationality                         0.274851\n",
       "Region                              0.274851\n",
       "Return type group                  81.114334\n",
       "Return type                        81.114334\n",
       "Age                                 0.000000\n",
       "Sex                                 0.000000\n",
       "Return destination group           81.114334\n",
       "Number of returns                  81.114334\n",
       "Visa type group                     0.000000\n",
       "Visa type                           0.000000\n",
       "Visa type subgroup                  0.000000\n",
       "Applicant type                     48.380064\n",
       "Applications                        0.000000\n",
       "Case outcome                        2.648750\n",
       "Decisions                           0.000000\n",
       "UASC                                6.997358\n",
       "Grants                              0.000000\n",
       "Occupation                          0.000000\n",
       "Industry                            0.000000\n",
       "Occ. major group                    0.000000\n",
       "Occ. sub-major group                0.000000\n",
       "Occ. minor group                    0.000000\n",
       "Occ. unit group                     0.000000\n",
       "General_Region                      0.274851\n",
       "Total Application and Decisions     0.000000\n",
       "dtype: float64"
      ]
     },
     "execution_count": 86,
     "metadata": {},
     "output_type": "execute_result"
    }
   ],
   "source": [
    "clean_df.isna().sum()/df_combined.shape[0]*100"
   ]
  },
  {
   "cell_type": "code",
   "execution_count": 90,
   "id": "33907b13-0d45-4eec-8522-323fb92234cc",
   "metadata": {},
   "outputs": [],
   "source": [
    "# List of columns to be dropped\n",
    "columns_to_drop = [\n",
    "    'Return type group',\n",
    "    'Return type',\n",
    "    'Return destination group',\n",
    "    'Number of returns',\n",
    "    'Applicant type',\n",
    "    'UASC',\n",
    "    'Occ. major group',\n",
    "    'Occ. sub-major group',\n",
    "    'Occ. minor group',\n",
    "    'Occ. unit group'\n",
    "]\n",
    "\n",
    "# Dropping the extended list of specified columns from the DataFrame\n",
    "clean_df.drop(columns=columns_to_drop, axis=1, inplace=True)"
   ]
  },
  {
   "cell_type": "code",
   "execution_count": null,
   "id": "cfbf36bd-b0fb-477b-8a37-6d67a69138f7",
   "metadata": {},
   "outputs": [],
   "source": []
  },
  {
   "cell_type": "code",
   "execution_count": 91,
   "id": "5335a437-7d1f-40fa-8a17-7903cb6fb497",
   "metadata": {},
   "outputs": [
    {
     "data": {
      "text/plain": [
       "Year                               0.000000\n",
       "Quarter                            0.000000\n",
       "Nationality                        0.274851\n",
       "Region                             0.274851\n",
       "Age                                0.000000\n",
       "Sex                                0.000000\n",
       "Visa type group                    0.000000\n",
       "Visa type                          0.000000\n",
       "Visa type subgroup                 0.000000\n",
       "Applications                       0.000000\n",
       "Case outcome                       2.648750\n",
       "Decisions                          0.000000\n",
       "Grants                             0.000000\n",
       "Occupation                         0.000000\n",
       "Industry                           0.000000\n",
       "General_Region                     0.274851\n",
       "Total Application and Decisions    0.000000\n",
       "dtype: float64"
      ]
     },
     "execution_count": 91,
     "metadata": {},
     "output_type": "execute_result"
    }
   ],
   "source": [
    "clean_df.isna().sum()/df_combined.shape[0]*100"
   ]
  },
  {
   "cell_type": "code",
   "execution_count": null,
   "id": "f6821ab9-7fa2-4cb3-83d3-08a826689fde",
   "metadata": {},
   "outputs": [],
   "source": []
  },
  {
   "cell_type": "code",
   "execution_count": 92,
   "id": "2a9df70c-0f5f-4eeb-80e7-cfa659a8fff6",
   "metadata": {},
   "outputs": [
    {
     "name": "stdout",
     "output_type": "stream",
     "text": [
      "Year                                0.000000\n",
      "Quarter                             0.000000\n",
      "Nationality                         0.000000\n",
      "Region                              0.000000\n",
      "Age                                 0.000000\n",
      "Sex                                 0.000000\n",
      "Visa type group                     0.000000\n",
      "Visa type                           0.000000\n",
      "Visa type subgroup                  0.000000\n",
      "Applications                       19.919485\n",
      "Case outcome                        0.000000\n",
      "Decisions                          18.368362\n",
      "Grants                             17.336687\n",
      "Occupation                          0.000000\n",
      "Industry                            0.000000\n",
      "General_Region                      0.000000\n",
      "Total Application and Decisions    18.368362\n",
      "dtype: float64\n"
     ]
    }
   ],
   "source": [
    "zero_percentage_numeric2 = (clean_df == 0).sum() / clean_df.shape[0] * 100\n",
    "print(zero_percentage_numeric2)"
   ]
  },
  {
   "cell_type": "markdown",
   "id": "8d57fe48-16d2-4069-85ad-485c0d570e15",
   "metadata": {},
   "source": [
    "Checking uniques"
   ]
  },
  {
   "cell_type": "code",
   "execution_count": 93,
   "id": "183f7779-08dd-4bf1-ab6b-9431afe64ef2",
   "metadata": {},
   "outputs": [
    {
     "data": {
      "text/plain": [
       "Year                                 23\n",
       "Quarter                               4\n",
       "Nationality                         256\n",
       "Region                               17\n",
       "Age                                   7\n",
       "Sex                                   3\n",
       "Visa type group                       8\n",
       "Visa type                            16\n",
       "Visa type subgroup                   78\n",
       "Applications                       7334\n",
       "Case outcome                          5\n",
       "Decisions                          7334\n",
       "Grants                             7334\n",
       "Occupation                          325\n",
       "Industry                             23\n",
       "General_Region                        8\n",
       "Total Application and Decisions    7334\n",
       "dtype: int64"
      ]
     },
     "execution_count": 93,
     "metadata": {},
     "output_type": "execute_result"
    }
   ],
   "source": [
    "clean_df.nunique()"
   ]
  },
  {
   "cell_type": "markdown",
   "id": "982b2e5d-0161-4771-a1cc-29cb70a20e9e",
   "metadata": {},
   "source": [
    "We can see that grants and applications have the same unique numbers, occupation has a lot of uniques well\n",
    "\n",
    "In future iterations we can reduce the number of nationality by setting minimums\n",
    "\n",
    "We can also look at dropping more columns, such as Grants or Applications"
   ]
  },
  {
   "cell_type": "markdown",
   "id": "08d7fc24-870b-488d-a606-ecb26da5f56d",
   "metadata": {},
   "source": [
    "Other columns we can improve through further imputations are: Return destination group, Number of returns, Application type, and Return Type"
   ]
  },
  {
   "cell_type": "markdown",
   "id": "19953f11-8d26-4be2-9816-8be16d07655f",
   "metadata": {},
   "source": [
    "OK let's move on to baseline modelling"
   ]
  },
  {
   "cell_type": "code",
   "execution_count": 94,
   "id": "c4741750-5aab-49a2-8c6a-3431e8ca5ddc",
   "metadata": {},
   "outputs": [],
   "source": [
    "clean_df.to_csv('C:/Users/kamik/Downloads/clean_df_model.csv', index=False)"
   ]
  },
  {
   "cell_type": "markdown",
   "id": "c2e0cf0a-37c8-4bb6-a98f-25050b711bd0",
   "metadata": {},
   "source": [
    "### Baseline Modelling: Logistic Regression\n",
    "\n",
    "<div id='B_Modelling'></div>"
   ]
  },
  {
   "cell_type": "markdown",
   "id": "1986133f-6698-4b7f-8698-89a6035002b3",
   "metadata": {},
   "source": [
    "First we will select columns with low to no missing values for the baseline model\n",
    "\n",
    "We will create a new DataFrame, called model_df, with selected columns, we can add and remove them later if neccesary"
   ]
  },
  {
   "cell_type": "code",
   "execution_count": null,
   "id": "1df10c1f-638c-40c6-95de-59bac64974bc",
   "metadata": {},
   "outputs": [],
   "source": [
    "\n",
    "columns_for_model = [\n",
    "    'Year', 'Quarter', 'Nationality', 'Region', 'Age', 'Sex',\n",
    "    'Decisions', 'Grants', 'Applications', 'Total Application and Decisions', \n",
    "    'General_Region', 'Occ. major group', 'Occ. sub-major group',\n",
    "    'Case outcome', 'Case outcome group', 'Case type'\n",
    "]\n",
    "\n",
    "model_df = clean_df[columns_for_model].copy()\n",
    "\n",
    "model_df.head()\n"
   ]
  },
  {
   "cell_type": "markdown",
   "id": "95de0618-647f-426c-86b6-c6eba398f5ca",
   "metadata": {},
   "source": [
    "Let's take a look at what the df looks like, per sample"
   ]
  },
  {
   "cell_type": "code",
   "execution_count": null,
   "id": "37487ba9-8386-4f1a-9cfc-f1e4c0ab69d2",
   "metadata": {},
   "outputs": [],
   "source": [
    "model_df.sample(5)"
   ]
  },
  {
   "cell_type": "code",
   "execution_count": null,
   "id": "87b37f1a-967c-48aa-b4c2-a085e60edb9e",
   "metadata": {},
   "outputs": [],
   "source": [
    "model_df.info()"
   ]
  },
  {
   "cell_type": "markdown",
   "id": "6b558f74-3eed-44d5-a4bf-3f07f2bbbfaf",
   "metadata": {},
   "source": [
    "Let's also make a numeric_df to extract all the integers and floats\n",
    "\n",
    "This is because many other rows are categorical and objects"
   ]
  },
  {
   "cell_type": "code",
   "execution_count": null,
   "id": "8c501353-38a4-4e18-a854-dbf9c2f3c06b",
   "metadata": {},
   "outputs": [],
   "source": [
    "numeric_df = model_df.select_dtypes(include=['int64', 'float64'])\n",
    "corr_matrix = numeric_df.corr()"
   ]
  },
  {
   "cell_type": "code",
   "execution_count": null,
   "id": "f362bc94-6807-4765-b625-c304e470c66a",
   "metadata": {},
   "outputs": [],
   "source": [
    "#see the data summarized\n",
    "numeric_df.describe()"
   ]
  },
  {
   "cell_type": "markdown",
   "id": "69cb47c9-3892-4454-af4e-1e4103f9bfe0",
   "metadata": {},
   "source": [
    "OK this is good for now, we can probably drop Grants later\n",
    "\n",
    "Maybe we can combined year and quarter again later as well\n",
    "\n",
    "Let's look at correlation to \"Decisions\""
   ]
  },
  {
   "cell_type": "code",
   "execution_count": null,
   "id": "1ddc4730-c084-43b9-bf3a-0d2dad5f79a7",
   "metadata": {},
   "outputs": [],
   "source": [
    "corr_with_grants = corr_matrix[\"Decisions\"].sort_values(ascending=False)\n",
    "\n",
    "print(corr_with_grants)\n"
   ]
  },
  {
   "cell_type": "markdown",
   "id": "f97586a8-9d9e-47f9-9000-e01da9a4e552",
   "metadata": {},
   "source": [
    "Looks like none of these have much correlation at all. Let's figure out something else - we need more data from the categorical columns"
   ]
  },
  {
   "cell_type": "markdown",
   "id": "b77337b5-e53c-4ed2-b012-127fb5008ab7",
   "metadata": {},
   "source": [
    "Although it's not exactly that useful in this situion, we can plot all these using scatter_matrix\n",
    "\n",
    "We can try this again later when we get the df working with the categorical columns"
   ]
  },
  {
   "cell_type": "code",
   "execution_count": null,
   "id": "61f54624-ade0-438c-91c1-c27143b20e31",
   "metadata": {},
   "outputs": [],
   "source": [
    "from pandas.plotting import scatter_matrix\n",
    "\n",
    "attributes = [\"Year\", \"Total Application and Decisions\", \"Sex\", \"Decisions\", \"Grants\", \"Applications\"]\n",
    "scatter_matrix(model_df[attributes], figsize=(12, 8))\n",
    "plt.show()\n",
    "\n",
    "#REF: O'Reily - Aurelien Geron book"
   ]
  },
  {
   "cell_type": "markdown",
   "id": "6ba41c38-4ff4-4903-87d1-390cc435aa5f",
   "metadata": {},
   "source": [
    "Now we will make an encoded df using pd with the get_dummies function\n",
    "\n",
    "This encodes all the categorical columns using boolean, True or False\n",
    "\n",
    "Downside is this make a ton of columns, but its ok for now\n",
    "\n",
    "We can change the scope of the dataset later"
   ]
  },
  {
   "cell_type": "code",
   "execution_count": null,
   "id": "6b0efc63-09af-4ad1-bf12-78b7f0627a3b",
   "metadata": {},
   "outputs": [],
   "source": [
    "encoded_df = pd.get_dummies(model_df)\n",
    "\n",
    "corr_matrix_encoded = encoded_df.corr()"
   ]
  },
  {
   "cell_type": "code",
   "execution_count": null,
   "id": "ac26d979-f704-47dc-8c5e-239f27389170",
   "metadata": {},
   "outputs": [],
   "source": [
    "encoded_df.head()"
   ]
  },
  {
   "cell_type": "markdown",
   "id": "ff8d5a76-a560-41e3-89f5-004f10db8d90",
   "metadata": {},
   "source": [
    "Exporting our model_df csv so we can use it for Tableau\n",
    "\n",
    "We can easily update it later when we fix the df"
   ]
  },
  {
   "cell_type": "code",
   "execution_count": null,
   "id": "7eb4b87f-f420-4943-b8f6-11f04d7ab64d",
   "metadata": {},
   "outputs": [],
   "source": [
    "model_df.to_csv('C:/Users/kamik/Downloads/model_df.csv', index=False)"
   ]
  },
  {
   "cell_type": "code",
   "execution_count": null,
   "id": "7d49c75c-e867-474a-8a6b-075d89530025",
   "metadata": {},
   "outputs": [],
   "source": [
    "#checkout key stats for the encoded_df\n",
    "encoded_df.describe()"
   ]
  },
  {
   "cell_type": "markdown",
   "id": "3d8b32a7-2693-46aa-87ce-cae840862767",
   "metadata": {},
   "source": [
    "Now that we have the encoded df, we can look at some other variables and see what influence they have on our potential model\n",
    "\n",
    "Let's look at Case type_Refused"
   ]
  },
  {
   "cell_type": "code",
   "execution_count": null,
   "id": "25bdde4a-d238-4d75-938a-370d135d05fc",
   "metadata": {},
   "outputs": [],
   "source": [
    "corr_with_AD = corr_matrix_encoded[\"Case type_Refused\"].sort_values(ascending=False)\n",
    "\n",
    "print(corr_with_AD)"
   ]
  },
  {
   "cell_type": "markdown",
   "id": "c8967b79-3926-4174-a665-000f163e7e90",
   "metadata": {},
   "source": [
    "Looks like we have more variability so there are many columns that are either positively or negatively influenced by Case type_Refused\n",
    "\n",
    "Let's use this as one of our main variables for our baseline model\n",
    "\n",
    "First let's plot a couple box plots of the distribution by Case outcome"
   ]
  },
  {
   "cell_type": "code",
   "execution_count": null,
   "id": "3bf1b02f-0109-466f-b550-42abd7d492b8",
   "metadata": {},
   "outputs": [],
   "source": [
    "import seaborn as sns\n",
    "import matplotlib.pyplot as plt\n",
    "\n",
    "attributes = [\"Year\", \"Decisions\"]\n",
    "\n",
    "for attribute in attributes:\n",
    "    plt.figure(figsize=(6, 4))\n",
    "    sns.boxplot(x=\"Case outcome\", y=attribute, data=model_df)\n",
    "    plt.title(f\"Distribution of {attribute} by Case outcome\")\n",
    "    plt.xticks(rotation=45)  \n",
    "    plt.show()\n"
   ]
  },
  {
   "cell_type": "markdown",
   "id": "5f23a694-614f-4af2-8c64-84cc94b2c957",
   "metadata": {},
   "source": [
    "We should try to filter issued to the other categories for future iterations of the model\n",
    "\n",
    "Moving on to correlation matrix for further analysis"
   ]
  },
  {
   "cell_type": "markdown",
   "id": "5738fa92-6ee3-42c5-b993-1c4c517f522f",
   "metadata": {},
   "source": [
    "We will create a mask to only show the lower triangle of the matrix (it's symetric)\n",
    "\n",
    "This matrix will show the correlation of 'Case outcome_Issued', 'Case outcome_Rejected' to every column in the encoded df, it will be very large"
   ]
  },
  {
   "cell_type": "code",
   "execution_count": null,
   "id": "92cc0c3e-f2e6-4f62-8899-3e6ac1c79c7f",
   "metadata": {},
   "outputs": [],
   "source": [
    "target_variables = ['Case outcome_Issued', 'Case outcome_Rejected']  \n",
    "X_encoded = encoded_df.drop(columns=target_variables, errors='ignore')\n",
    "\n",
    "corr_df = X_encoded.corr()\n",
    "\n",
    "mask = np.triu(np.ones_like(corr_df, dtype=bool))\n",
    "\n",
    "plt.figure(figsize=(20, 20))\n",
    "sns.heatmap(corr_df.round(2), annot=True, vmax=1, vmin=-1, cmap='coolwarm', mask=mask)\n",
    "plt.title(\"Correlation Matrix of Independent Variables in encoded_df\")\n",
    "plt.show()"
   ]
  },
  {
   "cell_type": "markdown",
   "id": "39496ef5-4419-48d5-986a-396770b478b1",
   "metadata": {},
   "source": [
    "OK it is slightly useful to see but in later versions we can remove most of the nationalities to make it more readable\n",
    "\n",
    "You can see that work related visas are positively correlated with ages 30-49, so that makes sense"
   ]
  },
  {
   "cell_type": "markdown",
   "id": "b4d6f238-02fc-4b83-9fab-f687772c9c0c",
   "metadata": {},
   "source": [
    "## Baseline Modelling"
   ]
  },
  {
   "cell_type": "markdown",
   "id": "657adbfe-697f-4c96-91bd-56ebcecd70f6",
   "metadata": {},
   "source": [
    "Now we're going to look at training a a logistic regression model using Python's sklearn library\n",
    "\n",
    "We're focused on a binary outcome for \"Case outcome_Rejected\"\n",
    "\n",
    "We will:\n",
    "\n",
    "1) Prepare the data\n",
    "2) Spilt the data to training and testing sets\n",
    "3) Initialize the model with L1 regularization \n",
    "4) Fit the model\n",
    "5) Evaluate"
   ]
  },
  {
   "cell_type": "code",
   "execution_count": null,
   "id": "4039ee01-7f4f-4cb2-8044-45055a770f3e",
   "metadata": {},
   "outputs": [],
   "source": [
    "import matplotlib.pyplot as plt\n",
    "%matplotlib inline\n",
    "\n",
    "import statsmodels.api as sm"
   ]
  },
  {
   "cell_type": "markdown",
   "id": "eed1cd5b-9e5a-4251-b1bc-0cfd698b68be",
   "metadata": {},
   "source": [
    "This is for clean_df only, the original df, not encoded"
   ]
  },
  {
   "cell_type": "code",
   "execution_count": null,
   "id": "bd41c1db-d79b-4a24-a0ac-deb11943a997",
   "metadata": {},
   "outputs": [],
   "source": [
    "from sklearn.linear_model import LogisticRegression\n",
    "from sklearn.model_selection import train_test_split\n",
    "\n",
    "X = clean_df_scaled.drop(['Case outcome group_Refused'], axis=1) \n",
    "y = clean_df_scaled['Case outcome group_Refused']\n",
    "\n",
    "X_train, X_test, y_train, y_test = train_test_split(X, y, test_size=0.2, random_state=42)\n",
    "\n",
    "model = LogisticRegression(penalty='l1', solver='liblinear', max_iter=100)\n",
    "\n",
    "model.fit(X_train, y_train)\n",
    "\n",
    "print(\"Training Accuracy:\", model.score(X_train, y_train))\n",
    "print(\"Testing Accuracy:\", model.score(X_test, y_test))\n",
    "\n",
    "#REF: https://scikit-learn.org/stable/modules/linear_model.html, https://medium.com/coinmonks/regularization-of-linear-models-with-sklearn-f88633a93a2"
   ]
  },
  {
   "cell_type": "markdown",
   "id": "4a57e396-e4f9-4a86-8e52-08643e7d1515",
   "metadata": {},
   "source": [
    "Accuracy is the proportion of correctly predicted outcomes in predictions made\n",
    "\n",
    "Looks like a pretty good training accuracy, so the model has learned well from the training data\n",
    "\n",
    "Might be overfitting though, let's look into this after sprint 2"
   ]
  },
  {
   "cell_type": "markdown",
   "id": "176b6086-b732-4123-8d9e-7a87ceb9a5bc",
   "metadata": {},
   "source": [
    "Let's build a confusion matrix"
   ]
  },
  {
   "cell_type": "code",
   "execution_count": null,
   "id": "69101655-0175-4166-bf95-e3d270d26def",
   "metadata": {},
   "outputs": [],
   "source": [
    "from sklearn.metrics import confusion_matrix, classification_report\n",
    "\n",
    "y_pred = model.predict(X_test)\n",
    "\n",
    "print(\"Confusion Matrix:\")\n",
    "print(confusion_matrix(y_test, y_pred))\n",
    "print(classification_report(y_test, y_pred))\n"
   ]
  },
  {
   "cell_type": "markdown",
   "id": "533ab282-d1d6-46fb-85fa-6cf6dc88241b",
   "metadata": {},
   "source": [
    "The model predicted:\n",
    "\n",
    "True Negative (TN) = 154,767: Correctly predicted 154,767 times when positive\n",
    "False Positive (FP) = 2,345: Incorrectly predicted 2,345 times when negative\n",
    "False Negative (FN) = 6,685: Incorrectly predicted 2,345 times negative when actually positive\n",
    "True Positive (TP) = 30,729: Correctly predicted the positive class 30,729 times\n",
    "\n",
    "\n",
    "Support is the number of count for each class:\n",
    "\n",
    "For class 0: 157,112\n",
    "\n",
    "For class 1: 37,414\n",
    "\n",
    "We got 95% weighted average accuracy, so we predict both Refused and not Refused 95% of the time"
   ]
  },
  {
   "cell_type": "markdown",
   "id": "b65843f4-a44d-4674-9d72-13252d7026ac",
   "metadata": {},
   "source": [
    "Using heatmap to visualize"
   ]
  },
  {
   "cell_type": "code",
   "execution_count": null,
   "id": "f578f5fb-8981-4ea6-9fca-be08bf045ca0",
   "metadata": {},
   "outputs": [],
   "source": [
    "import seaborn as sns\n",
    "import matplotlib.pyplot as plt\n",
    "from sklearn.metrics import confusion_matrix\n",
    "import numpy as np\n",
    "\n",
    "cm = confusion_matrix(y_test, y_pred)\n",
    "\n",
    "plt.figure(figsize=(8, 6))\n",
    "sns.heatmap(cm, annot=True, fmt=\"d\", cmap='Blues', annot_kws={\"size\": 16})\n",
    "plt.title('Confusion Matrix')\n",
    "plt.xlabel('Predicted Label')\n",
    "plt.ylabel('True Label')\n",
    "plt.xticks(ticks=np.arange(2) + 0.5, labels=['Not Refused', 'Refused'])\n",
    "plt.yticks(ticks=np.arange(2) + 0.5, labels=['Not Refused', 'Refused'], rotation=0)\n",
    "plt.show()\n"
   ]
  },
  {
   "cell_type": "markdown",
   "id": "61a6585f-6c17-4f0e-9bf6-c1967649765d",
   "metadata": {},
   "source": [
    "Next we will clean the data set more and add more data to the refused column \n",
    "\n",
    "We can also improve age and some of the other columns \n",
    "\n",
    "We will also experiment with feature engineering\n",
    "\n",
    "And look at more complex models (Random Forests, SVM, KNN)\n",
    "\n",
    "We can also include more data, would be useful to include some cost features "
   ]
  },
  {
   "cell_type": "code",
   "execution_count": null,
   "id": "ce9d7b69-2883-4d09-88fd-befa50b956e0",
   "metadata": {},
   "outputs": [],
   "source": []
  },
  {
   "cell_type": "code",
   "execution_count": null,
   "id": "345fec3a-384b-45c8-9d39-4c3f35903e04",
   "metadata": {},
   "outputs": [],
   "source": [
    "#Decision trees - finding question points towards impurities\n",
    "#metrics eval - check agianst other models\n",
    "#random forest after decision trees - ensamble learning\n"
   ]
  }
 ],
 "metadata": {
  "kernelspec": {
   "display_name": "Python 3 (ipykernel)",
   "language": "python",
   "name": "python3"
  },
  "language_info": {
   "codemirror_mode": {
    "name": "ipython",
    "version": 3
   },
   "file_extension": ".py",
   "mimetype": "text/x-python",
   "name": "python",
   "nbconvert_exporter": "python",
   "pygments_lexer": "ipython3",
   "version": "3.11.8"
  }
 },
 "nbformat": 4,
 "nbformat_minor": 5
}
